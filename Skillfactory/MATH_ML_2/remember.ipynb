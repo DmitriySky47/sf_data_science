{
 "cells": [
  {
   "cell_type": "markdown",
   "id": "270f6739",
   "metadata": {},
   "source": [
    "#### Повторение"
   ]
  },
  {
   "cell_type": "code",
   "execution_count": null,
   "id": "48331295",
   "metadata": {},
   "outputs": [],
   "source": [
    "import numpy as np"
   ]
  },
  {
   "cell_type": "code",
   "execution_count": null,
   "id": "0d4d1847",
   "metadata": {},
   "outputs": [],
   "source": [
    "v1 = np.array([-1, 2, -7, 9]).T\n",
    "v2 = np.array([2, 8, 2, -1]).T"
   ]
  },
  {
   "cell_type": "code",
   "execution_count": null,
   "id": "1a69acb6",
   "metadata": {},
   "outputs": [],
   "source": [
    "np.dot(v1, v2)"
   ]
  },
  {
   "cell_type": "code",
   "execution_count": null,
   "id": "f974402f",
   "metadata": {},
   "outputs": [],
   "source": [
    "A = np.array([[1, 1], [1, 2]])\n",
    "A_G = A.T @ A\n",
    "A_G"
   ]
  },
  {
   "cell_type": "code",
   "execution_count": null,
   "id": "fc90f231",
   "metadata": {},
   "outputs": [],
   "source": [
    "B = np.array([[1, 2], [3, 7]])\n",
    "B_inv = np.linalg.inv(B)\n",
    "B_inv"
   ]
  },
  {
   "cell_type": "code",
   "execution_count": null,
   "id": "6791fad7",
   "metadata": {},
   "outputs": [],
   "source": [
    "n1 = np.array([2, 10, -2])\n",
    "n2 = np.array([3, 2, -2])\n",
    "n3 = np.array([8, 14, -6])\n",
    "C = np.array([n1, n2, n3]).T\n",
    "print(np.linalg.matrix_rank(C))\n"
   ]
  }
 ],
 "metadata": {
  "kernelspec": {
   "display_name": "Python 3",
   "language": "python",
   "name": "python3"
  },
  "language_info": {
   "codemirror_mode": {
    "name": "ipython",
    "version": 3
   },
   "file_extension": ".py",
   "mimetype": "text/x-python",
   "name": "python",
   "nbconvert_exporter": "python",
   "pygments_lexer": "ipython3",
   "version": "3.9.7"
  }
 },
 "nbformat": 4,
 "nbformat_minor": 5
}
