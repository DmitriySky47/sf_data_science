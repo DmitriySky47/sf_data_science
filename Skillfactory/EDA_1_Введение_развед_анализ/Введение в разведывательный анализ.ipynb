{
 "cells": [
  {
   "cell_type": "markdown",
   "metadata": {},
   "source": [
    "# Введение в разведывательный анализ"
   ]
  },
  {
   "cell_type": "markdown",
   "metadata": {},
   "source": [
    "## Алгоритмы и методы"
   ]
  },
  {
   "cell_type": "markdown",
   "metadata": {},
   "source": [
    "### Знакомство с данными"
   ]
  },
  {
   "cell_type": "code",
   "execution_count": null,
   "metadata": {},
   "outputs": [],
   "source": [
    "import pandas as pd\n",
    "countries_data = pd.read_csv('data/countries.csv', sep=';') # Загружаем данные из файла в переменную, создавая объект DataFrame\n",
    "countries_data.to_csv('data/countries.txt', index=False, sep=' ') # Выгружаем данные из DataFrame в CSV-файл и сохраняем файл в папке data"
   ]
  },
  {
   "cell_type": "markdown",
   "metadata": {},
   "source": [
    "Задание 4.1\n",
    "<br>Сколько всего дегустаторов приняло участие в винных обзорах?"
   ]
  },
  {
   "cell_type": "code",
   "execution_count": null,
   "metadata": {},
   "outputs": [],
   "source": [
    "import pandas as pd\n",
    "wine_data = pd.read_csv('data/wine.csv') # Загружаем данные из файла в переменную, создавая объект DataFrame\n",
    "wine_data.info()\n",
    "#wine_data['taster_name'].value_counts()\n",
    "wine_data['taster_name'].nunique() #количество уникальных дегустаторов в наборе данных\n"
   ]
  },
  {
   "cell_type": "markdown",
   "metadata": {},
   "source": [
    "Задание 4.2\n",
    "<br>Какова максимальная цена за бутылку в этом наборе данных?\n",
    "<br>Введите целое число."
   ]
  },
  {
   "cell_type": "code",
   "execution_count": null,
   "metadata": {},
   "outputs": [],
   "source": [
    "import pandas as pd\n",
    "wine_data = pd.read_csv('data/wine.csv') # Загружаем данные из файла в переменную, создавая объект DataFrame\n",
    "wine_data.info()\n",
    "round(wine_data['price'].max()) #максимальная цена за бутылку в этом наборе данных"
   ]
  },
  {
   "cell_type": "markdown",
   "metadata": {},
   "source": [
    "Задание 5.3\n",
    "<br>\n",
    "Проанализируйте датасет на наличие дублирующихся винных обзоров. Если дублирующиеся записи есть, удалите их."
   ]
  },
  {
   "cell_type": "code",
   "execution_count": null,
   "metadata": {},
   "outputs": [],
   "source": [
    "import pandas as pd\n",
    "wine_data = pd.read_csv('data/wine.csv') # Загружаем данные из файла в переменную, создавая объект DataFrame\n",
    "\n",
    "mask = wine_data.duplicated(subset=wine_data.columns) # маска для фильтрации\n",
    "data_duplicates = wine_data[mask] # фильтруем наш датасет\n",
    "print(f'Число найденных дубликатов: {data_duplicates.shape[0]}')"
   ]
  },
  {
   "cell_type": "markdown",
   "metadata": {},
   "source": [
    "Задание 5.5\n",
    "Обработайте пропущенные значения в наборе данных любым известным вам способом, который вы изучили в модуле PYTHON-14. Очистка данных.\n",
    "<br><br>Воспользуйтесь правилами:\n",
    "<br><br>Если какой-то из признаков имеет более 30-40 % пропусков, лучше избавьтесь от него: его заполнение может привести к сильному искажению общего распределения, а удаление записей — к большой утрате данных.\n",
    "<br><br>Заполняйте данные с умом! Если перед вами количественный признак, то использование нецелого числа в качестве константы является как минимум нелогичным.\n",
    "<br><br>Вы можете оставить пропуски как есть, просто заменив их на какой-то специальный символ. Например, для числовых неотрицательных признаков можно использовать число -1, а для категориальных — строку 'unknown'."
   ]
  },
  {
   "cell_type": "code",
   "execution_count": null,
   "metadata": {},
   "outputs": [],
   "source": [
    "import pandas as pd\n",
    "wine_data = pd.read_csv('data/wine.csv') # Загружаем данные из файла в переменную, создавая объект DataFrame\n",
    "\n",
    "cols_null_percent = wine_data.isnull().mean() * 100 #Вычисляем процент пропусков по каждому признаку\n",
    "cols_null_percent = cols_null_percent[cols_null_percent > 0].sort_values(ascending=False) #Производим сортировку по убыванию\n",
    "display(cols_null_percent)\n",
    "\n",
    "'''drop_data = wine_data.copy()\n",
    "thresh = drop_data.shape[0] * 0.7\n",
    "drop_data = drop_data.dropna(how='any', thresh=thresh, axis=1)\n",
    "drop_data.isnull().mean'''"
   ]
  },
  {
   "cell_type": "code",
   "execution_count": null,
   "metadata": {},
   "outputs": [],
   "source": [
    "#Удаляем признак с количеством пропусков более 30%\n",
    "drop_data = wine_data.copy()\n",
    "thresh = drop_data.shape[0] * 0.7\n",
    "drop_data = drop_data.dropna(how='any', thresh=thresh, axis=1)\n",
    "drop_data.isnull().mean().sort_values(ascending=False)\n",
    "#display(drop_data.info())\n",
    "\n",
    "#Добавление признаков - индикаторов True False\n",
    "#indicator_data = wine_data.copy()\n",
    "#в цикле пробегаемся по названиям столбцов с пропусками\n",
    "#for col in cols_null_percent.index:\n",
    "    #создаем новый признак-индикатор как col_was_null\n",
    "#    indicator_data[col + '_was_null'] = indicator_data[col].isnull()\n",
    "#indicator_data.head()\n",
    "\n"
   ]
  },
  {
   "cell_type": "code",
   "execution_count": null,
   "metadata": {},
   "outputs": [],
   "source": [
    "# Заменяем пропуски для чисел на -1 и для объектов на unknown\n",
    "fill_wine_data = drop_data.copy()\n",
    "# Создаем словарь для заполнения (имя столбца : число/признак на который надо заменить пропуск)\n",
    "values = {\n",
    "    'designation': 'unknown',\n",
    "    'taster_twitter_handle': 'unknown',\n",
    "    'taster_name': 'unknown',\n",
    "    'region_1': 'unknown',\n",
    "    'price': -1,\n",
    "    'country': 'unknown',\n",
    "    'province': 'unknown',\n",
    "    'variety': 'unknown'\n",
    "}\n",
    "# заполняем пропуски в соответствии со словарем\n",
    "fill_wine_data = fill_wine_data.fillna(values)\n",
    "\n",
    "# проверяем долю пропусков\n",
    "fill_wine_data.isnull().mean()"
   ]
  },
  {
   "cell_type": "code",
   "execution_count": null,
   "metadata": {},
   "outputs": [],
   "source": [
    "fill_wine_data.info()"
   ]
  },
  {
   "cell_type": "code",
   "execution_count": null,
   "metadata": {},
   "outputs": [],
   "source": [
    "fill_wine_data.describe(include='all')"
   ]
  },
  {
   "cell_type": "markdown",
   "metadata": {},
   "source": [
    "EDA одной строкой Pandas-Profiling"
   ]
  },
  {
   "cell_type": "code",
   "execution_count": null,
   "metadata": {},
   "outputs": [],
   "source": [
    "# Импортируем библиотеки\n",
    "import pandas as pd\n",
    "from pandas_profiling import ProfileReport\n",
    "\n",
    "# Загружаем файл\n",
    "wine_data = pd.read_csv('data/wine.csv')\n",
    "\n",
    "# Выводим Profiling отчет и задаем ему имя в кавычках\n",
    "profile = ProfileReport(wine_data, title = \"Wine Pandas Profiling Report\")\n",
    "profile"
   ]
  },
  {
   "cell_type": "markdown",
   "metadata": {},
   "source": [
    "EDA одной строкой Sweetviz"
   ]
  },
  {
   "cell_type": "code",
   "execution_count": null,
   "metadata": {},
   "outputs": [],
   "source": [
    "# Импортируем библиотеки\n",
    "import pandas as pd\n",
    "import sweetviz as sv\n",
    "\n",
    "# Загружаем файл\n",
    "wine_data = pd.read_csv('data/wine.csv')\n",
    "\n",
    "# Выводим анализ\n",
    "report = sv.analyze(wine_data)\n",
    "report.show_html()"
   ]
  },
  {
   "cell_type": "markdown",
   "metadata": {},
   "source": [
    "EDA одной строкой D-Tale"
   ]
  },
  {
   "cell_type": "code",
   "execution_count": null,
   "metadata": {},
   "outputs": [
    {
     "name": "stdout",
     "output_type": "stream",
     "text": [
      "Executing shutdown due to inactivity...\n"
     ]
    },
    {
     "name": "stderr",
     "output_type": "stream",
     "text": [
      "2022-06-15 00:20:42,038 - INFO     - Executing shutdown due to inactivity...\n"
     ]
    },
    {
     "name": "stdout",
     "output_type": "stream",
     "text": [
      "Executing shutdown...\n"
     ]
    },
    {
     "name": "stderr",
     "output_type": "stream",
     "text": [
      "2022-06-15 00:20:49,350 - INFO     - Executing shutdown...\n"
     ]
    },
    {
     "name": "stdout",
     "output_type": "stream",
     "text": [
      "Exception on /shutdown [GET]\n",
      "Traceback (most recent call last):\n",
      "  File \"c:\\Users\\dmitr\\AppData\\Local\\Programs\\Python\\Python39\\lib\\site-packages\\flask\\app.py\", line 2077, in wsgi_app\n",
      "    response = self.full_dispatch_request()\n",
      "  File \"c:\\Users\\dmitr\\AppData\\Local\\Programs\\Python\\Python39\\lib\\site-packages\\flask\\app.py\", line 1525, in full_dispatch_request\n",
      "    rv = self.handle_user_exception(e)\n",
      "  File \"c:\\Users\\dmitr\\AppData\\Local\\Programs\\Python\\Python39\\lib\\site-packages\\flask\\app.py\", line 1523, in full_dispatch_request\n",
      "    rv = self.dispatch_request()\n",
      "  File \"c:\\Users\\dmitr\\AppData\\Local\\Programs\\Python\\Python39\\lib\\site-packages\\flask\\app.py\", line 1509, in dispatch_request\n",
      "    return self.ensure_sync(self.view_functions[rule.endpoint])(**req.view_args)\n",
      "  File \"c:\\Users\\dmitr\\AppData\\Local\\Programs\\Python\\Python39\\lib\\site-packages\\dtale\\app.py\", line 410, in shutdown\n",
      "    shutdown_server()\n",
      "  File \"c:\\Users\\dmitr\\AppData\\Local\\Programs\\Python\\Python39\\lib\\site-packages\\dtale\\app.py\", line 396, in shutdown_server\n",
      "    raise RuntimeError(\"Not running with the Werkzeug Server\")\n",
      "RuntimeError: Not running with the Werkzeug Server\n"
     ]
    },
    {
     "name": "stderr",
     "output_type": "stream",
     "text": [
      "2022-06-15 00:20:49,355 - ERROR    - Exception on /shutdown [GET]\n",
      "Traceback (most recent call last):\n",
      "  File \"c:\\Users\\dmitr\\AppData\\Local\\Programs\\Python\\Python39\\lib\\site-packages\\flask\\app.py\", line 2077, in wsgi_app\n",
      "    response = self.full_dispatch_request()\n",
      "  File \"c:\\Users\\dmitr\\AppData\\Local\\Programs\\Python\\Python39\\lib\\site-packages\\flask\\app.py\", line 1525, in full_dispatch_request\n",
      "    rv = self.handle_user_exception(e)\n",
      "  File \"c:\\Users\\dmitr\\AppData\\Local\\Programs\\Python\\Python39\\lib\\site-packages\\flask\\app.py\", line 1523, in full_dispatch_request\n",
      "    rv = self.dispatch_request()\n",
      "  File \"c:\\Users\\dmitr\\AppData\\Local\\Programs\\Python\\Python39\\lib\\site-packages\\flask\\app.py\", line 1509, in dispatch_request\n",
      "    return self.ensure_sync(self.view_functions[rule.endpoint])(**req.view_args)\n",
      "  File \"c:\\Users\\dmitr\\AppData\\Local\\Programs\\Python\\Python39\\lib\\site-packages\\dtale\\app.py\", line 410, in shutdown\n",
      "    shutdown_server()\n",
      "  File \"c:\\Users\\dmitr\\AppData\\Local\\Programs\\Python\\Python39\\lib\\site-packages\\dtale\\app.py\", line 396, in shutdown_server\n",
      "    raise RuntimeError(\"Not running with the Werkzeug Server\")\n",
      "RuntimeError: Not running with the Werkzeug Server\n"
     ]
    }
   ],
   "source": [
    "# Импортируем библиотеки\n",
    "import pandas as pd\n",
    "import dtale\n",
    "\n",
    "# Загружаем файл\n",
    "wine_data = pd.read_csv('data/wine.csv')\n",
    "\n",
    "# Выводим анализ\n",
    "\n",
    "report = dtale.show(wine_data)\n",
    "report"
   ]
  }
 ],
 "metadata": {
  "interpreter": {
   "hash": "45a595cf5c94e2781375fdf6a45161a83e0998aa8e430991abe7be8276c0a0c4"
  },
  "kernelspec": {
   "display_name": "Python 3.9.7 64-bit",
   "language": "python",
   "name": "python3"
  },
  "language_info": {
   "codemirror_mode": {
    "name": "ipython",
    "version": 3
   },
   "file_extension": ".py",
   "mimetype": "text/x-python",
   "name": "python",
   "nbconvert_exporter": "python",
   "pygments_lexer": "ipython3",
   "version": "3.9.7"
  },
  "orig_nbformat": 4
 },
 "nbformat": 4,
 "nbformat_minor": 2
}
