{
 "cells": [
  {
   "cell_type": "markdown",
   "id": "c8a6af25-08d3-487a-bd90-001772ac9161",
   "metadata": {},
   "source": [
    "## <center> **Анализ результатов A/B-тестирования**"
   ]
  },
  {
   "cell_type": "markdown",
   "id": "d7d45571-6545-4904-a86b-9b3b6b8163d3",
   "metadata": {},
   "source": [
    "Компания планирует запустить новую акцию, чтобы продать как можно больше туров. Команда разработала два варианта посадочной страницы официального сайта компании и провела A/B-тестирование. Собранные в результате проведения эксперимента данные вы можете найти здесь.\n",
    "\n",
    "Вам предстоит решить настоящую бизнес-задачу: проанализировать эффективность обоих вариантов посадочной страницы сразу по двум критериям: конверсии покупки и среднему чеку. На основе проведенного анализа вам будет необходимо сделать выводы и принять решение: какой из вариантов дизайна более предпочтительный.\n",
    "\n",
    "Итак, наша фирма предлагает следующие варианты туров и их соответствующие стоимости:\n",
    "* Таиланд — 100000 рублей;\n",
    "* Турция — 60000 рублей;\n",
    "* Мальдивы — 200000 рублей;\n",
    "* Санкт-Петербург — 10000 рублей;\n",
    "* Камчатка — 150000 рублей."
   ]
  },
  {
   "cell_type": "code",
   "execution_count": 1,
   "id": "a974b482-e192-4014-8520-8a5c0c946da6",
   "metadata": {},
   "outputs": [],
   "source": [
    "import pandas as pd\n",
    "import matplotlib.pyplot as plt\n",
    "import seaborn as sns\n",
    "from scipy.stats import norm\n",
    "from scipy.stats import t\n",
    "from scipy.stats import ttest_ind, shapiro, f_oneway, mannwhitneyu\n",
    "from statsmodels.stats.proportion import proportions_ztest"
   ]
  },
  {
   "cell_type": "markdown",
   "id": "55c84550-4162-4325-acc2-7d3c0aafe6f0",
   "metadata": {},
   "source": [
    "Прочитаем наши данные и посмотрим на столбцы таблицы:"
   ]
  },
  {
   "cell_type": "code",
   "execution_count": 2,
   "id": "b0d18245-b9da-44bd-8aea-d272ea74b63a",
   "metadata": {},
   "outputs": [
    {
     "data": {
      "text/html": [
       "<div>\n",
       "<style scoped>\n",
       "    .dataframe tbody tr th:only-of-type {\n",
       "        vertical-align: middle;\n",
       "    }\n",
       "\n",
       "    .dataframe tbody tr th {\n",
       "        vertical-align: top;\n",
       "    }\n",
       "\n",
       "    .dataframe thead th {\n",
       "        text-align: right;\n",
       "    }\n",
       "</style>\n",
       "<table border=\"1\" class=\"dataframe\">\n",
       "  <thead>\n",
       "    <tr style=\"text-align: right;\">\n",
       "      <th></th>\n",
       "      <th>user_id</th>\n",
       "      <th>date</th>\n",
       "      <th>group</th>\n",
       "      <th>purchase</th>\n",
       "      <th>price</th>\n",
       "    </tr>\n",
       "  </thead>\n",
       "  <tbody>\n",
       "    <tr>\n",
       "      <th>0</th>\n",
       "      <td>851104</td>\n",
       "      <td>2021-01-21</td>\n",
       "      <td>A</td>\n",
       "      <td>0</td>\n",
       "      <td>0</td>\n",
       "    </tr>\n",
       "    <tr>\n",
       "      <th>1</th>\n",
       "      <td>804228</td>\n",
       "      <td>2021-01-12</td>\n",
       "      <td>A</td>\n",
       "      <td>0</td>\n",
       "      <td>0</td>\n",
       "    </tr>\n",
       "    <tr>\n",
       "      <th>2</th>\n",
       "      <td>661590</td>\n",
       "      <td>2021-01-11</td>\n",
       "      <td>B</td>\n",
       "      <td>0</td>\n",
       "      <td>0</td>\n",
       "    </tr>\n",
       "    <tr>\n",
       "      <th>3</th>\n",
       "      <td>853541</td>\n",
       "      <td>2021-01-08</td>\n",
       "      <td>B</td>\n",
       "      <td>0</td>\n",
       "      <td>0</td>\n",
       "    </tr>\n",
       "    <tr>\n",
       "      <th>4</th>\n",
       "      <td>864975</td>\n",
       "      <td>2021-01-21</td>\n",
       "      <td>A</td>\n",
       "      <td>1</td>\n",
       "      <td>150000</td>\n",
       "    </tr>\n",
       "  </tbody>\n",
       "</table>\n",
       "</div>"
      ],
      "text/plain": [
       "   user_id        date group  purchase   price\n",
       "0   851104  2021-01-21     A         0       0\n",
       "1   804228  2021-01-12     A         0       0\n",
       "2   661590  2021-01-11     B         0       0\n",
       "3   853541  2021-01-08     B         0       0\n",
       "4   864975  2021-01-21     A         1  150000"
      ]
     },
     "execution_count": 2,
     "metadata": {},
     "output_type": "execute_result"
    }
   ],
   "source": [
    "data = pd.read_csv('data/ab_data_tourist.csv')\n",
    "data.head()"
   ]
  },
  {
   "cell_type": "markdown",
   "id": "2fc48225-26ac-49c4-b99d-8b2a03dd74a1",
   "metadata": {
    "tags": []
   },
   "source": [
    "## **Задание 7.1.**\n",
    "\n",
    "Начнем с исследования структуры наших данных. С помощью метода info() выведите информацию о типах данных и количестве непустых значений. Какой тип данных имеет столбец date?"
   ]
  },
  {
   "cell_type": "code",
   "execution_count": 3,
   "id": "23496521-4878-46e2-ab02-1a98be14884a",
   "metadata": {},
   "outputs": [
    {
     "name": "stdout",
     "output_type": "stream",
     "text": [
      "<class 'pandas.core.frame.DataFrame'>\n",
      "RangeIndex: 294478 entries, 0 to 294477\n",
      "Data columns (total 5 columns):\n",
      " #   Column    Non-Null Count   Dtype \n",
      "---  ------    --------------   ----- \n",
      " 0   user_id   294478 non-null  int64 \n",
      " 1   date      294478 non-null  object\n",
      " 2   group     294478 non-null  object\n",
      " 3   purchase  294478 non-null  int64 \n",
      " 4   price     294478 non-null  int64 \n",
      "dtypes: int64(3), object(2)\n",
      "memory usage: 11.2+ MB\n"
     ]
    }
   ],
   "source": [
    "# ваш код здесь\n",
    "data.info()"
   ]
  },
  {
   "cell_type": "markdown",
   "id": "946d017d-b4fe-4a17-b91d-0ce369d1ab2e",
   "metadata": {
    "tags": []
   },
   "source": [
    "## **Задание 7.2.**\n",
    "\n",
    "Приведите столбец date к типу данных datetime. Убедитесь в равной длительности проведения тестирования для каждой из группы. Для этого сгруппируйте данные по признаку группы и определите первую и последнюю дату наблюдения для каждой из групп. \n",
    "\n",
    "В какой промежуток времени проводился A/B-тест?\n"
   ]
  },
  {
   "cell_type": "code",
   "execution_count": 4,
   "id": "604c619d-6338-45c8-8248-ac098a2366bb",
   "metadata": {},
   "outputs": [
    {
     "data": {
      "text/html": [
       "<div>\n",
       "<style scoped>\n",
       "    .dataframe tbody tr th:only-of-type {\n",
       "        vertical-align: middle;\n",
       "    }\n",
       "\n",
       "    .dataframe tbody tr th {\n",
       "        vertical-align: top;\n",
       "    }\n",
       "\n",
       "    .dataframe thead th {\n",
       "        text-align: right;\n",
       "    }\n",
       "</style>\n",
       "<table border=\"1\" class=\"dataframe\">\n",
       "  <thead>\n",
       "    <tr style=\"text-align: right;\">\n",
       "      <th></th>\n",
       "      <th>min</th>\n",
       "      <th>max</th>\n",
       "    </tr>\n",
       "    <tr>\n",
       "      <th>group</th>\n",
       "      <th></th>\n",
       "      <th></th>\n",
       "    </tr>\n",
       "  </thead>\n",
       "  <tbody>\n",
       "    <tr>\n",
       "      <th>A</th>\n",
       "      <td>2021-01-02</td>\n",
       "      <td>2021-01-24</td>\n",
       "    </tr>\n",
       "    <tr>\n",
       "      <th>B</th>\n",
       "      <td>2021-01-02</td>\n",
       "      <td>2021-01-24</td>\n",
       "    </tr>\n",
       "  </tbody>\n",
       "</table>\n",
       "</div>"
      ],
      "text/plain": [
       "             min        max\n",
       "group                      \n",
       "A     2021-01-02 2021-01-24\n",
       "B     2021-01-02 2021-01-24"
      ]
     },
     "execution_count": 4,
     "metadata": {},
     "output_type": "execute_result"
    }
   ],
   "source": [
    "# преобразуем признак год из объекта в дату\n",
    "data['date'] = pd.to_datetime(data['date'])\n",
    "\n",
    "# группируем данные по группам\n",
    "data.groupby('group')['date'].agg(['min', 'max'])"
   ]
  },
  {
   "cell_type": "markdown",
   "id": "e04eb341-52ae-48b3-9dc2-0578ca91641a",
   "metadata": {},
   "source": [
    "## **Задание 7.3.**\n",
    "\n",
    "* Чему равно количество посещений сайта в группах А и B?\n",
    "\n",
    "* Чему равно суммарное количество покупок в группах А и B?\n",
    "\n",
    "* Чему равна сумма всех покупок в группах А и B? Ответ приведите в миллионах рублей. Например, 185.52 млн. руб."
   ]
  },
  {
   "cell_type": "code",
   "execution_count": 5,
   "id": "02bf0148-488e-4f34-95bf-37794b2fa98b",
   "metadata": {},
   "outputs": [
    {
     "name": "stdout",
     "output_type": "stream",
     "text": [
      "Количество посещений сайта в группах А и B: \n",
      " group\n",
      "A    147202\n",
      "B    147276\n",
      "Name: user_id, dtype: int64\n",
      "\n",
      " Суммарное количество покупок в группах А и B: \n",
      " group\n",
      "A    17723\n",
      "B    17514\n",
      "Name: purchase, dtype: int64\n",
      "\n",
      " Суммарное количество покупок в группах А и B: \n",
      " group\n",
      "A    1436.26\n",
      "B    1554.10\n",
      "Name: price, dtype: float64\n"
     ]
    }
   ],
   "source": [
    "print('Количество посещений сайта в группах А и B: \\n {}'.format(data.groupby('group')['user_id'].agg('count')))\n",
    "\n",
    "print('\\n Суммарное количество покупок в группах А и B: \\n {}'.format(data.groupby('group')['purchase'].agg('sum')))\n",
    "\n",
    "print('\\n Суммарное количество покупок в группах А и B: \\n {}'.format(data.groupby('group')['price'].agg('sum') / 1e6))"
   ]
  },
  {
   "cell_type": "markdown",
   "id": "2434db1b-17e6-4977-8e54-1df875c6f221",
   "metadata": {
    "tags": []
   },
   "source": [
    "## **Задание 7.4.**\n",
    "\n",
    "Проверьте, есть ли пользователи, которые в процессе A/B-теста попали в обе тестовые группы? Если да, то сколько таких уникальных пользователей, если нет - введите в поле для ответа 0?\n",
    "\n",
    "**Подсказка:**\n",
    "\n",
    "*Создайте множество пользователей группы А и множество пользователей группы B. Пересеките два этих множества (операция intersection) и вычислите количество элементов в полученном множестве.*\n"
   ]
  },
  {
   "cell_type": "code",
   "execution_count": 6,
   "id": "57a2d711-057d-4f8b-9f56-df0f772d41c8",
   "metadata": {},
   "outputs": [
    {
     "name": "stdout",
     "output_type": "stream",
     "text": [
      "Пересечений: 1895\n"
     ]
    }
   ],
   "source": [
    "# Множество группы \"А\"\n",
    "a_data = data[data['group'] == 'A']\n",
    "\n",
    "# Множество группы \"Б\"\n",
    "b_data = data[data['group'] == 'B']\n",
    "\n",
    "# Находим пересечения множеств (intersection)\n",
    "ab_intersection = set(a_data['user_id']).intersection(set(b_data['user_id']))\n",
    "print('Пересечений:', len(ab_intersection))"
   ]
  },
  {
   "cell_type": "markdown",
   "id": "118b1904-7d7a-4935-825e-535da45c611b",
   "metadata": {
    "tags": []
   },
   "source": [
    "## **Исключите пользователей, оказавшихся в обеих группах**\n",
    "\n",
    "Так как мы не можем определить, какая из версий сайта повлияла на принятие решения, исключим этих пользователей. Далее мы будем работать только с очищенными от пересечений данными.\n",
    "\n",
    "Возможный вариант исключения пользователей:"
   ]
  },
  {
   "cell_type": "code",
   "execution_count": 7,
   "id": "f618b34b-35a3-4bf1-8d6d-38b3401930b7",
   "metadata": {},
   "outputs": [],
   "source": [
    "updated_data = data[data['user_id'].apply(lambda x: x not in ab_intersection)]"
   ]
  },
  {
   "cell_type": "markdown",
   "id": "2bce6c9a-6580-4250-b280-204d40d20da2",
   "metadata": {},
   "source": [
    "Где user_intersection - множество пересечений пользователей групп А и B."
   ]
  },
  {
   "attachments": {
    "95f235d2-6323-4799-bf69-697fc57f727b.png": {
     "image/png": "[encoded data removed]"
    }
   },
   "cell_type": "markdown",
   "id": "2ddf6b2c-7987-41f3-82b1-8992630ae97b",
   "metadata": {
    "tags": []
   },
   "source": [
    "## **Задание 7.5.**\n",
    "\n",
    "Для первичного анализа результатов A/B-тестирования нам понадобится таблица следующего вида:\n",
    "\n",
    "![image.png](attachment:95f235d2-6323-4799-bf69-697fc57f727b.png)\n",
    " \n",
    " \n",
    "Для того, чтобы получить такую таблицу, сгруппируйте данные по признаку группы. В каждой группе рассчитайте следующие показатели:\n",
    "* количество посещений (количество пользователей)\n",
    "* количество совершенных покупок\n",
    "* сумма всех покупок в группе\n",
    "\n",
    "В полученной сгруппированной таблице переименуйте столбцы на **count_visits, count_purchases и sum_price**.\n",
    "\n",
    "**Подсказка:**\n",
    "\n",
    "*Для переименования столбцов можно использовать метод rename() с параметром columns, в который передается словарь. Ключи этого словаря - старые имена столбцов, а значения - новые.*\n",
    "\n",
    "Чему на этот раз равно количество посещений сайта в группах А и B?\n"
   ]
  },
  {
   "cell_type": "code",
   "execution_count": 8,
   "id": "5c0c018e-a250-48e9-b72a-e3c7be586ebd",
   "metadata": {},
   "outputs": [
    {
     "data": {
      "text/html": [
       "<div>\n",
       "<style scoped>\n",
       "    .dataframe tbody tr th:only-of-type {\n",
       "        vertical-align: middle;\n",
       "    }\n",
       "\n",
       "    .dataframe tbody tr th {\n",
       "        vertical-align: top;\n",
       "    }\n",
       "\n",
       "    .dataframe thead th {\n",
       "        text-align: right;\n",
       "    }\n",
       "</style>\n",
       "<table border=\"1\" class=\"dataframe\">\n",
       "  <thead>\n",
       "    <tr style=\"text-align: right;\">\n",
       "      <th></th>\n",
       "      <th>count_visits</th>\n",
       "      <th>count_purchases</th>\n",
       "      <th>sum_price</th>\n",
       "    </tr>\n",
       "    <tr>\n",
       "      <th>group</th>\n",
       "      <th></th>\n",
       "      <th></th>\n",
       "      <th></th>\n",
       "    </tr>\n",
       "  </thead>\n",
       "  <tbody>\n",
       "    <tr>\n",
       "      <th>A</th>\n",
       "      <td>145307</td>\n",
       "      <td>17487</td>\n",
       "      <td>1417780000</td>\n",
       "    </tr>\n",
       "    <tr>\n",
       "      <th>B</th>\n",
       "      <td>145381</td>\n",
       "      <td>17290</td>\n",
       "      <td>1533010000</td>\n",
       "    </tr>\n",
       "  </tbody>\n",
       "</table>\n",
       "</div>"
      ],
      "text/plain": [
       "       count_visits  count_purchases   sum_price\n",
       "group                                           \n",
       "A            145307            17487  1417780000\n",
       "B            145381            17290  1533010000"
      ]
     },
     "execution_count": 8,
     "metadata": {},
     "output_type": "execute_result"
    }
   ],
   "source": [
    "data_grouped = updated_data.groupby('group').agg({\n",
    "    'user_id': 'count',\n",
    "    'purchase': 'sum',\n",
    "    'price': 'sum'\n",
    "})\n",
    "\n",
    "data_grouped =data_grouped.rename(columns={\n",
    "    'user_id':'count_visits',\n",
    "    'purchase':'count_purchases',\n",
    "    'price':'sum_price'\n",
    "})\n",
    "\n",
    "data_grouped\n",
    "\n"
   ]
  },
  {
   "cell_type": "markdown",
   "id": "b71e1390-9846-4a8e-b357-f82b847d1952",
   "metadata": {},
   "source": [
    "Приведите промежуточные выводы по построенной таблице. Сопоставимо ли количество посещений обоих вариантов посадочной странице, можно ли говорить о сбалансированности выборок?"
   ]
  },
  {
   "cell_type": "markdown",
   "id": "36da25ef",
   "metadata": {},
   "source": [
    "Вывод: разница в выборке посещений имеет разницу в 74 единицы, что составляет 0,05%. Можно сказать данная выборка сбалансирована."
   ]
  },
  {
   "cell_type": "markdown",
   "id": "afb2ee0a-31d1-45a5-be42-a2bf168b9448",
   "metadata": {
    "tags": []
   },
   "source": [
    "## **Задание 7.6.**\n",
    "\n",
    "Добавьте в сгруппированную таблицу столбцы conversion - конверсия покупки (отношение количества покупок к количеству посещений сайта в каждой группе, выраженное в процентах) и mean_check - средний чек (отношение суммы покупок к количеству покупок в каждой группе).\n",
    "\n",
    "* Чему равна конверсия в группах? Ответ приведите в процентах и округлите до сотых. Например, 75.12 %\n",
    "* Чему равен средний чек в группах? Ответ приведите в рублях и округлите до целых. Например, 120519 рублей."
   ]
  },
  {
   "cell_type": "code",
   "execution_count": 10,
   "id": "bd9c3b3e-5956-41a8-bae0-43693f6de1f2",
   "metadata": {},
   "outputs": [
    {
     "name": "stdout",
     "output_type": "stream",
     "text": [
      "Конверсия: \n",
      " group\n",
      "A    12.03\n",
      "B    11.89\n",
      "Name: conversion, dtype: float64\n",
      "\n",
      "Средний чек: \n",
      " group\n",
      "A    81076.0\n",
      "B    88665.0\n",
      "Name: mean_check, dtype: float64\n"
     ]
    }
   ],
   "source": [
    "# Вычисляем конверсию (%)\n",
    "data_grouped['conversion'] = data_grouped['count_purchases'] / data_grouped['count_visits'] * 100\n",
    "\n",
    "# Вычисляем средний чек\n",
    "data_grouped['mean_check'] = round(data_grouped['sum_price'] / data_grouped['count_purchases'])\n",
    "\n",
    "print('Конверсия: \\n {}'.format((data_grouped['conversion']).round(2)))\n",
    "print('\\nСредний чек: \\n {}'.format((data_grouped['mean_check']).round()))"
   ]
  },
  {
   "cell_type": "markdown",
   "id": "1eb6e140-c702-43e0-b301-9914a7f49448",
   "metadata": {},
   "source": [
    "Приведите промежуточные выводы по таблице. По какому(им) показателю(ям) вариант А эффективнее варианта B и наоборот?"
   ]
  },
  {
   "cell_type": "markdown",
   "id": "9e88c883-84f9-44ec-accd-04d5d459b261",
   "metadata": {},
   "source": [
    "Вывод:<br>\n",
    "Вариант А эффективнее вартанта В по конверсии на 0.14%.\n",
    "<br>Но также вариант А уступает по эффективности варанту В по среднему чеку на 7589 руб."
   ]
  },
  {
   "cell_type": "markdown",
   "id": "7f9f1ae0-f12f-49b3-8b57-1c299c208c49",
   "metadata": {
    "tags": []
   },
   "source": [
    "## **Задание 7.7.**\n",
    "\n",
    "Теперь давайте сравним варианты по покупательской способности туров. Для этого постройте сводную таблицу, которая покажет зависимость количества продаж от группы и цены тура. "
   ]
  },
  {
   "cell_type": "code",
   "execution_count": 11,
   "id": "78d46a02-cc30-4783-9b18-9fc9c6a08012",
   "metadata": {},
   "outputs": [],
   "source": [
    "pivot = updated_data[updated_data['price']>0].pivot_table(\n",
    "    index='group',\n",
    "    columns='price',\n",
    "    values='purchase',\n",
    "    aggfunc='sum'\n",
    ")"
   ]
  },
  {
   "cell_type": "code",
   "execution_count": 12,
   "id": "ef1fa30d",
   "metadata": {},
   "outputs": [
    {
     "data": {
      "text/html": [
       "<div>\n",
       "<style scoped>\n",
       "    .dataframe tbody tr th:only-of-type {\n",
       "        vertical-align: middle;\n",
       "    }\n",
       "\n",
       "    .dataframe tbody tr th {\n",
       "        vertical-align: top;\n",
       "    }\n",
       "\n",
       "    .dataframe thead th {\n",
       "        text-align: right;\n",
       "    }\n",
       "</style>\n",
       "<table border=\"1\" class=\"dataframe\">\n",
       "  <thead>\n",
       "    <tr style=\"text-align: right;\">\n",
       "      <th>price</th>\n",
       "      <th>10000</th>\n",
       "      <th>60000</th>\n",
       "      <th>100000</th>\n",
       "      <th>150000</th>\n",
       "      <th>200000</th>\n",
       "    </tr>\n",
       "    <tr>\n",
       "      <th>group</th>\n",
       "      <th></th>\n",
       "      <th></th>\n",
       "      <th></th>\n",
       "      <th></th>\n",
       "      <th></th>\n",
       "    </tr>\n",
       "  </thead>\n",
       "  <tbody>\n",
       "    <tr>\n",
       "      <th>A</th>\n",
       "      <td>5182</td>\n",
       "      <td>5271</td>\n",
       "      <td>1832</td>\n",
       "      <td>3478</td>\n",
       "      <td>1724</td>\n",
       "    </tr>\n",
       "    <tr>\n",
       "      <th>B</th>\n",
       "      <td>5201</td>\n",
       "      <td>1730</td>\n",
       "      <td>5227</td>\n",
       "      <td>3438</td>\n",
       "      <td>1694</td>\n",
       "    </tr>\n",
       "  </tbody>\n",
       "</table>\n",
       "</div>"
      ],
      "text/plain": [
       "price  10000   60000   100000  150000  200000\n",
       "group                                        \n",
       "A        5182    5271    1832    3478    1724\n",
       "B        5201    1730    5227    3438    1694"
      ]
     },
     "execution_count": 12,
     "metadata": {},
     "output_type": "execute_result"
    }
   ],
   "source": [
    "pivot"
   ]
  },
  {
   "cell_type": "markdown",
   "id": "977423ed-8f8d-475c-b773-621edd95338d",
   "metadata": {},
   "source": [
    "Визуализируйте полученную сводную таблицу с помощью тепловой карты с аннотацией. \n",
    "Чему равно количество проданных туров за 60000 рублей в группах?"
   ]
  },
  {
   "cell_type": "code",
   "execution_count": 13,
   "id": "f634fa8d-585c-42e3-b7d5-78e8d9eaa8c5",
   "metadata": {},
   "outputs": [
    {
     "data": {
      "text/plain": [
       "Text(0.5, 1.0, 'Тепловая карта покупательской способности в группах')"
      ]
     },
     "execution_count": 13,
     "metadata": {},
     "output_type": "execute_result"
    },
    {
     "data": {
      "image/png": "[encoded data removed]",
      "text/plain": [
       "<Figure size 1080x360 with 2 Axes>"
      ]
     },
     "metadata": {
      "needs_background": "light"
     },
     "output_type": "display_data"
    }
   ],
   "source": [
    "fig = plt.figure(figsize=(15, 5))\n",
    "ax = sns.heatmap(pivot, fmt='.0f', annot=True, cmap='YlGnBu')\n",
    "ax.set_title('Тепловая карта покупательской способности в группах')"
   ]
  },
  {
   "cell_type": "markdown",
   "id": "9caa92ca-e261-4b8f-a16c-2abc322c9ffb",
   "metadata": {},
   "source": [
    "Сделайте выводы по построенной таблице. По каким турам покупательская способность участников группы А выше, чем участников группы B и наоборот?"
   ]
  },
  {
   "cell_type": "markdown",
   "id": "6d13fd45-e3df-468f-9d32-1fc45d38b10c",
   "metadata": {},
   "source": [
    "Вывод: на тепловой карте явно выделена высокая покупательская способность в группа А, чем в группе В на туры за 60 000 руб. Но в группе В высокая покупательская способность туров по 100 000 руб. По остальным турам разница покупательской способности отличается незначительно."
   ]
  },
  {
   "cell_type": "markdown",
   "id": "8f021fb4-d0f6-4e43-b518-1a96c07a4531",
   "metadata": {
    "tags": []
   },
   "source": [
    "## **Задание 7.8.**\n",
    "\n",
    "Настало время поговорить о стабилизации кумулятивных метрик во времени. Но прежде, чем перейти к кумулятивным метрикам, нам необходимо построить таблицу с ежедневными данными результатов проведения A/B-тестирования.\n",
    "\n",
    "Сгруппируйте данные по дате и группе тестирования. В каждой группе вычислите количество посещений страницы, количество покупок и сумму покупок. \n",
    "\n",
    "Добавьте в таблицу информацию о ежедневной конверсии (ежедневное количество покупок / ежедневное количество посещений) в группе и ежедневном среднем чеке (ежедневная сумма покупок / ежедневное количество покупок)\n",
    "* Чему равна конверсия 3 января 2021 года? Ответ приведите в процентах и округлите до сотых.\n",
    "\n",
    "* Чему равен средний чек 3 января 2021 года? Ответ приведите в рублях и округлите до целого."
   ]
  },
  {
   "cell_type": "code",
   "execution_count": 14,
   "id": "4503b528-412e-433a-bc03-da7da52fa1a3",
   "metadata": {},
   "outputs": [
    {
     "name": "stdout",
     "output_type": "stream",
     "text": [
      "Конверсия 3 января 2021 года равна\n",
      "   group  conversion\n",
      "2     A       11.34\n",
      "3     B       11.39\n",
      "\n",
      "Средний чек 3 января 2021 года равен\n",
      "   group  mean_check\n",
      "2     A     82888.0\n",
      "3     B     87480.0\n"
     ]
    }
   ],
   "source": [
    "# Группируем по дате и по группе\n",
    "daily_data = updated_data.groupby(['date', 'group']).agg({\n",
    "    'user_id':'count',\n",
    "    'purchase':'sum',\n",
    "    'price':'sum'\n",
    "}).reset_index()\n",
    "\n",
    "# Переименовываем столбцы\n",
    "daily_data = daily_data.rename(columns={\n",
    "    'user_id':'count_visits',\n",
    "    'purchase':'count_purchases',\n",
    "    'price':'sum_price'\n",
    "})\n",
    "\n",
    "# Добавляем ежедневную конверсию\n",
    "daily_data['conversion'] = daily_data['count_purchases'] / daily_data['count_visits'] * 100\n",
    "\n",
    "# Добавляем ежедневный средний чек\n",
    "daily_data['mean_check'] = daily_data['sum_price'] / daily_data['count_purchases']\n",
    "\n",
    "# конверсия 3 января 2021 года\n",
    "day_conv = daily_data[daily_data['date'] == '2021-01-03'][['group', 'conversion']].round(2)\n",
    "\n",
    "# средний чек 3 января 2021 года\n",
    "day_mean_check = daily_data[daily_data['date'] == '2021-01-03'][['group', 'mean_check']].round()\n",
    "\n",
    "print('Конверсия 3 января 2021 года равна\\n', day_conv)\n",
    "print('\\nСредний чек 3 января 2021 года равен\\n', day_mean_check)"
   ]
  },
  {
   "cell_type": "markdown",
   "id": "bc8e241b-1ef1-4f67-ab90-77251889b7f2",
   "metadata": {},
   "source": [
    "## **Задание 7.9.** \n",
    "\n",
    "Добавьте в таблицу с ежедневными показателями кумулятивные признаки:\n",
    "* кумулятивное количество посещений страницы\n",
    "* кумулятивное количество покупок\n",
    "* кумулятивную сумму покупок\n",
    "\n",
    "Не забудьте при расчете кумулятивной суммы сгруппировать данные по группам. \n",
    "\n",
    "Вычислите кумулятивную конверсию и кумулятивный средний чек на основе полученных кумулятивных показателей. \n",
    "\n",
    "* Какая **кумулятивная** конверсия была в группе B на 20 января 2021? Ответ приведите в процентах, округлив до сотых.\n",
    "* Какой **кумулятивный** средний чек был в группе А на 12 января 2021 года? Ответ приведите в рублях, округлив до целых."
   ]
  },
  {
   "cell_type": "code",
   "execution_count": 15,
   "id": "afe59f9a-8d39-45c1-a14f-9f62091d81a1",
   "metadata": {},
   "outputs": [],
   "source": [
    "# кумулятивное количество посещений страницы\n",
    "daily_data['cum_count_visits'] = daily_data.groupby('group')['count_visits'].cumsum()\n",
    "\n",
    "# кумулятивное количество покупок\n",
    "daily_data['cum_count_purchases'] = daily_data.groupby('group')['count_purchases'].cumsum()\n",
    "\n",
    "# кумулятивную сумму покупок\n",
    "daily_data['cum_sum_price'] = daily_data.groupby('group')['sum_price'].cumsum()\n",
    "\n",
    "# кумулятивная конверсия\n",
    "daily_data['cum_conversion'] = daily_data['cum_count_purchases'] / daily_data['cum_count_visits'] * 100\n",
    "\n",
    "# кумулятивный средний чек\n",
    "daily_data['cum_mean_check'] = daily_data['cum_sum_price'] / daily_data['cum_count_purchases']"
   ]
  },
  {
   "cell_type": "code",
   "execution_count": 16,
   "metadata": {},
   "outputs": [
    {
     "name": "stdout",
     "output_type": "stream",
     "text": [
      "Кумулятивная конверсия 20 января 2021 года равна:\n",
      "    group  cum_conversion\n",
      "37     B            11.9\n",
      "\n",
      "Кумулятивный средний чек 12 января 2021 года равен:\n",
      "    group  cum_mean_check\n",
      "20     A         81492.0\n"
     ]
    }
   ],
   "source": [
    "# кумулятивная конверсия в группе B на 20 января 2021\n",
    "cum_conv = daily_data[daily_data['date'] == '2021-01-20'][['group', 'cum_conversion']].round(2)\n",
    "cum_conv = cum_conv[cum_conv['group'] == 'B']\n",
    "\n",
    "# кумулятивный средний чек в группе А на 12 января 2021\n",
    "cum_check = daily_data[daily_data['date'] == '2021-01-12'][['group', 'cum_mean_check']].round()\n",
    "cum_check = cum_check[cum_check['group'] == 'A']\n",
    "\n",
    "print('Кумулятивная конверсия 20 января 2021 года равна:\\n', cum_conv)\n",
    "print('\\nКумулятивный средний чек 12 января 2021 года равен:\\n', cum_check)"
   ]
  },
  {
   "cell_type": "markdown",
   "id": "c252b8ba-371b-4795-8fc3-a62317e9ba39",
   "metadata": {},
   "source": [
    "Постройте кумулятивные графики конверсии и среднего чека в каждой группе по дням. Сделайте выводы. Можно ли назвать A/B-тест завершенным - стабилизировались ли значения метрик во времени? Как соотносятся кумулятивные показатели в каждой группе?"
   ]
  },
  {
   "cell_type": "code",
   "execution_count": 17,
   "id": "27e23d20-7ed6-4a26-973d-6d0320b81adb",
   "metadata": {},
   "outputs": [
    {
     "data": {
      "image/png": "[encoded data removed]",
      "text/plain": [
       "<Figure size 1440x288 with 2 Axes>"
      ]
     },
     "metadata": {
      "needs_background": "light"
     },
     "output_type": "display_data"
    }
   ],
   "source": [
    "# задаем размер и количество графиков в строке\n",
    "fig, axes=plt.subplots(1, 2, figsize=(20, 4))\n",
    "\n",
    "# строим линейный график кумулятивной конверсии по группам\n",
    "sns.lineplot(x='date', y='cum_conversion', data=daily_data, hue='group', ax=axes[0])\n",
    "\n",
    "# строим линейный график кумулятивного среднего чека по группам\n",
    "sns.lineplot(x='date', y='cum_mean_check', data=daily_data, hue='group', ax=axes[1])\n",
    "\n",
    "# наименования графиков\n",
    "axes[0].set_title('График кумулятивной конверсии по датам')\n",
    "axes[1].set_title('График кумулятивного среднего чека по датам')\n",
    "\n",
    "# поворот надписей на оси \"Х\"\n",
    "axes[0].xaxis.set_tick_params(rotation = 45)\n",
    "axes[1].xaxis.set_tick_params(rotation = 45)\n",
    "\n",
    "# отрисовываем сетку на графиках\n",
    "axes[0].grid(True);\n",
    "axes[1].grid(True);"
   ]
  },
  {
   "cell_type": "markdown",
   "id": "f645f8e5-ad16-4b3b-8228-fbdeeb286833",
   "metadata": {},
   "source": [
    "Вывод:<br>\n",
    "График кумулятивной конверсии стабилизировался во второй половине примерно с 14.01.2021. Конверсия в группе А выше, чем в группе В примерно на 0,15%, разница несущественная.<br>\n",
    "График кумулятивного среднего чека стабилизировался во второй половине примерно с 15.01.2021. Значение кумулятивного среднего чека в группе В выше, чем в группе А примерно на 7 600 руб.<br>\n",
    "А/В тестирование еще не завершено т.к. мы не провели статистические тесты и не сформулировали выводы для принятия решения."
   ]
  },
  {
   "cell_type": "markdown",
   "id": "2ecaa382-56e2-47f4-b086-24b4742570a3",
   "metadata": {
    "tags": []
   },
   "source": [
    "## **Задание 7.10.**\n",
    "\n",
    "Настало время переходить к проверке статистической значимости разницы между метриками в группах. Начнем с конверсии.\n",
    "\n",
    "Какой тест вы примените для проверки гипотезы о равенстве конверсий в группах?\n",
    "\n",
    "Проведите тестирование при следующих нулевой и альтернативной гипотезе:\n",
    "* $H_0$: Конверсии в группах А и B равны; \n",
    "* $H_1$: Конверсия в группе А больше чем конверсия в группе B;\n",
    "\n",
    "Вычислите p-value вашего теста для конверсий в группах А и B. Сравните полученное значение p-value с уровнем значимости $\\alpha$=0.05. "
   ]
  },
  {
   "cell_type": "code",
   "execution_count": 24,
   "id": "9dd1f6fd-2fa0-4a2f-8181-dbed4c302bce",
   "metadata": {},
   "outputs": [
    {
     "name": "stdout",
     "output_type": "stream",
     "text": [
      "p-value:  0.11\n",
      "Принимаем нулевую гипотезу. Конверсии в группах А и B равны\n"
     ]
    }
   ],
   "source": [
    "# применим z-тестирование для пропорций\n",
    "# считаем сколько раз было совершено целевое действие (покупка тура) и количество наблюдений (посещений сайта)\n",
    "converted_piv = data.groupby('group')['purchase'].agg(['sum', 'count'])\n",
    "\n",
    "# выдвигаем гипотезы\n",
    "H0 = 'Конверсии в группах А и B равны'\n",
    "H1 = 'Конверсия в группе А больше чем конверсия в группе B'\n",
    "alpha = 0.05 # уровень значимости\n",
    "# считаем значение p-value для z-теста для пропорций\n",
    "_, p_value = proportions_ztest(\n",
    "    count=converted_piv['sum'], # число покупок\n",
    "    nobs=converted_piv['count'], # общее число наблюдений (посещений сайта)\n",
    "    alternative='larger'\n",
    ")\n",
    "# вывод p-value\n",
    "print('p-value: ', round(p_value, 2))\n",
    "\n",
    "#проверяем гопотезы\n",
    "if (p_value < alpha): \n",
    "    print(\"Отвергаем нулевую гипотезу. {}\".format(H0))\n",
    "    print(\"Альтернативная гипотеза. H1: {}\".format(H1))\n",
    "else:\n",
    "    print(\"Принимаем нулевую гипотезу. {}\".format(H0))"
   ]
  },
  {
   "cell_type": "code",
   "execution_count": 19,
   "id": "809da287",
   "metadata": {},
   "outputs": [
    {
     "data": {
      "text/html": [
       "<div>\n",
       "<style scoped>\n",
       "    .dataframe tbody tr th:only-of-type {\n",
       "        vertical-align: middle;\n",
       "    }\n",
       "\n",
       "    .dataframe tbody tr th {\n",
       "        vertical-align: top;\n",
       "    }\n",
       "\n",
       "    .dataframe thead th {\n",
       "        text-align: right;\n",
       "    }\n",
       "</style>\n",
       "<table border=\"1\" class=\"dataframe\">\n",
       "  <thead>\n",
       "    <tr style=\"text-align: right;\">\n",
       "      <th></th>\n",
       "      <th>sum</th>\n",
       "      <th>count</th>\n",
       "    </tr>\n",
       "    <tr>\n",
       "      <th>group</th>\n",
       "      <th></th>\n",
       "      <th></th>\n",
       "    </tr>\n",
       "  </thead>\n",
       "  <tbody>\n",
       "    <tr>\n",
       "      <th>A</th>\n",
       "      <td>17723</td>\n",
       "      <td>147202</td>\n",
       "    </tr>\n",
       "    <tr>\n",
       "      <th>B</th>\n",
       "      <td>17514</td>\n",
       "      <td>147276</td>\n",
       "    </tr>\n",
       "  </tbody>\n",
       "</table>\n",
       "</div>"
      ],
      "text/plain": [
       "         sum   count\n",
       "group               \n",
       "A      17723  147202\n",
       "B      17514  147276"
      ]
     },
     "metadata": {},
     "output_type": "display_data"
    }
   ],
   "source": [
    "display(converted_piv)"
   ]
  },
  {
   "cell_type": "markdown",
   "id": "da794b48-80e3-47af-aceb-084a1862c86b",
   "metadata": {},
   "source": [
    "Приведите свои выводы по результатам проведенного статистического теста. Есть ли статистическая разница между конверсиями в группах А и B?"
   ]
  },
  {
   "cell_type": "markdown",
   "id": "75dddb06-389d-4d65-92c7-425efa28e51a",
   "metadata": {},
   "source": [
    "Вывод:\n",
    "Z-тестирование показало, что значение p-value больше,чем значение \"альфа\", соответственно принимается нулевая гипотеза, где конверсиями в группах А и B равна.\n",
    "Нулевая гипотеза подтверждается также при альфа равной 1% и 10%."
   ]
  },
  {
   "cell_type": "markdown",
   "id": "32c5a1af-8cb2-4f3c-a126-410b70fb3ff3",
   "metadata": {
    "tags": []
   },
   "source": [
    "## **Задание 7.11.**\n",
    "Убедитесь в своих рассуждениях, построив 95%-ый доверительный интервал для конверсий и разницы между ними. Используйте $z_{крит}$ в своих расчетах\n",
    "\n",
    "Укажите нижнюю и верхнюю границы доверительных интервалов. Границы приведите в процентах и округлите до 2 знака после запятой. Например: нижняя граница 89.24%, верхняя граница 91.25%."
   ]
  },
  {
   "cell_type": "code",
   "execution_count": 33,
   "id": "e9decb7d-ff5e-40a6-8b71-63627c4ef64a",
   "metadata": {},
   "outputs": [
    {
     "data": {
      "text/plain": [
       "'Доверительный интервал для конверсии группы А: (11.87, 12.2)'"
      ]
     },
     "metadata": {},
     "output_type": "display_data"
    },
    {
     "data": {
      "text/plain": [
       "'Доверительный интервал для конверсии группы B: (11.73, 12.06)'"
      ]
     },
     "metadata": {},
     "output_type": "display_data"
    }
   ],
   "source": [
    "def conversion_conf_interval(n, x_p, gamma=0.95):\n",
    "\n",
    "    alpha = 1 - gamma # уровень значимости\n",
    "    z_crit = -norm.ppf(alpha/2) # z-критическое\n",
    "    eps = z_crit * (x_p * (1 - x_p) / n) ** 0.5 # погрешность\n",
    "    lower_bound = x_p - eps # левая (нижняя) граница\n",
    "    upper_bound = x_p + eps # правая (верхняя) граница\n",
    "\n",
    "    # возвращаем кортеж из округленных границ интервала\n",
    "    return round(lower_bound * 100, 2), round(upper_bound * 100, 2)\n",
    "\n",
    "# фильтруем группу А\n",
    "a_data = updated_data[updated_data['group'] == 'A']\n",
    "# фильтруем группу В\n",
    "b_data = updated_data[updated_data['group'] == 'B']\n",
    "\n",
    "conf_interval_a = conversion_conf_interval(\n",
    "a_data['user_id'].count(), # размер выборки\n",
    "a_data['purchase'].mean() # выборочная пропорция\n",
    ")\n",
    "\n",
    "conf_interval_b = conversion_conf_interval(\n",
    "b_data['user_id'].count(), # размер выборки\n",
    "b_data['purchase'].mean() # выборочная пропорция\n",
    ")\n",
    "\n",
    "display('Доверительный интервал для конверсии группы А: {}'.format(conf_interval_a))\n",
    "display('Доверительный интервал для конверсии группы B: {}'.format(conf_interval_b))"
   ]
  },
  {
   "cell_type": "markdown",
   "id": "9332372d-66b2-45e9-a74c-f5d8b1d44afb",
   "metadata": {},
   "source": [
    "Проинтерпретируйте построенные доверительные интервалы для конверсий в группах. Есть ли перекрытие между доверительными интервалами для групп? Есть ли статистическая разница между конверсиями в группах А и B?"
   ]
  },
  {
   "cell_type": "markdown",
   "id": "b0d40bae",
   "metadata": {},
   "source": [
    "Вывод: Из расчета видно, что интервалы пересекаются, значит есть вероятность совпадения истинного значенич конверсии в двух группах"
   ]
  },
  {
   "cell_type": "code",
   "execution_count": 34,
   "id": "5af19c6c",
   "metadata": {},
   "outputs": [
    {
     "data": {
      "text/plain": [
       "'Доверительный интервал для разности конверсий: (-0.38, 0.09)'"
      ]
     },
     "metadata": {},
     "output_type": "display_data"
    }
   ],
   "source": [
    "# строим доверительный интервал для разницы конверсий\n",
    "\n",
    "def diff_conversion_conf_interval(n, xp, gamma=0.95):\n",
    "    alpha = 1 - gamma # уровень значимости\n",
    "    diff = xp[1] - xp[0] # выборочная разница конверсий групп B и A\n",
    "    z_crit = -norm.ppf(alpha/2) #z критическое\n",
    "    eps = z_crit * (xp[0] * (1 - xp[0])/n[0] + xp[1] * (1 - xp[1])/n[1]) ** 0.5 # погрешность\n",
    "    lower_bound = diff - eps # левая (нижняя) граница\n",
    "    upper_bound = diff + eps # правая (верхняя) граница\n",
    "    # возвращаем кортеж - границы интервала\n",
    "    return round(lower_bound *100, 2), round(upper_bound * 100, 2)\n",
    "\n",
    "# размеры выборок в группах А и B\n",
    "n = [a_data['user_id'].count(), b_data['user_id'].count()]\n",
    "\n",
    "# выборочная пропорция в группах A и B\n",
    "xp = [a_data['purchase'].mean(), b_data['purchase'].mean()]\n",
    "\n",
    "# строим доверительный интервал для разности конверсий\n",
    "diff_inverval = diff_conversion_conf_interval(n, xp)\n",
    "\n",
    "display('Доверительный интервал для разности конверсий: {}'.format(diff_inverval)) "
   ]
  },
  {
   "cell_type": "markdown",
   "id": "863bdc89",
   "metadata": {},
   "source": [
    "Вывод: Расчет доверительного интервала для разности конверсий показывает, что нижняя граница отрицательная, а верхняя граница положительная. Т-дельта = Р(В) - Р(А) может быть положительной либо отрицательной, следовательно варианты А и В равнозначны.\n",
    "Расчеты были проверены с альфой равной 1% и 10% - результат не изменился, А и В равнозначны"
   ]
  },
  {
   "cell_type": "markdown",
   "id": "73c54883-b919-4889-bbf2-e1bdeb0b7055",
   "metadata": {},
   "source": [
    "## **Задание 7.12.**\n",
    "\n",
    "Ранее мы построили таблицу с ежедневными показателями. Теперь она нам снова понадобится, так как нас интересует ежедневный средний чек.\n",
    "\n",
    "Проверьте гипотезу о нормальности распределения ежедневного среднего чека в каждой из групп тестирования. \n",
    "\n",
    "* Какой тест вы примените  для проверки гипотезы о нормальности распределения ежедневного среднего чека?\n",
    "* Как будут звучать нулевая и альтернативная гипотезы?\n",
    "* Каковы результаты статистического теста с уровнем значимости $\\alpha$ =0.05?"
   ]
  },
  {
   "cell_type": "code",
   "execution_count": 38,
   "id": "898041ae-de7e-4b74-975e-111d494fbb82",
   "metadata": {},
   "outputs": [
    {
     "data": {
      "text/plain": [
       "'p-value группы А'"
      ]
     },
     "metadata": {},
     "output_type": "display_data"
    },
    {
     "data": {
      "text/plain": [
       "0.25"
      ]
     },
     "metadata": {},
     "output_type": "display_data"
    },
    {
     "data": {
      "text/plain": [
       "'p-value группы B'"
      ]
     },
     "metadata": {},
     "output_type": "display_data"
    },
    {
     "data": {
      "text/plain": [
       "0.09"
      ]
     },
     "metadata": {},
     "output_type": "display_data"
    },
    {
     "data": {
      "text/plain": [
       "'Принимаем нулевую гипотезу. Распределения в обеих группах нормальные'"
      ]
     },
     "metadata": {},
     "output_type": "display_data"
    }
   ],
   "source": [
    "# выдвигаем гипотезы\n",
    "H0 = 'Распределения в обеих группах нормальные'\n",
    "H1 = 'Распределение в одной или обеих группах отлично от нормального'\n",
    "alpha = 0.05 # альфа - уровень значимости\n",
    "\n",
    "# фильтруем группа А \n",
    "daily_data_a = daily_data[daily_data['group'] == 'A']\n",
    "# фильтруем группу В\n",
    "daily_data_b = daily_data[daily_data['group'] == 'B']\n",
    " \n",
    "# тест Шапиро-Уилка для выборок\n",
    "shapiro_result_a = shapiro(daily_data_a['mean_check'])\n",
    "display('p-value группы А', round(shapiro_result_a.pvalue, 2))\n",
    "\n",
    "shapiro_result_b = shapiro(daily_data_b['mean_check'])\n",
    "display('p-value группы B', round(shapiro_result_b.pvalue, 2))\n",
    "\n",
    "# сравниваем полученное p-value с уровнем значимости\n",
    "if shapiro_result_a.pvalue < alpha or shapiro_result_b.pvalue < alpha:\n",
    "    display(\"Отвергаем нулевую гипотезу. {}\".format(H0))\n",
    "    display(\"Альтернативная гипотеза. H1: {}\".format(H1))\n",
    "else:\n",
    "    display(\"Принимаем нулевую гипотезу. {}\".format(H0))"
   ]
  },
  {
   "cell_type": "markdown",
   "id": "cbddecf9-4d15-4ff1-84e9-46c4d98fc1e0",
   "metadata": {
    "tags": []
   },
   "source": [
    "## **Задание 7.13.**\n",
    "Настало время сравнить варианты дизайна страницы по метрике среднего чека. \n",
    "\n",
    "Какой тест вы примените для проверки гипотезы о равенстве средних чеков по дням в группах?\n",
    "\n",
    "Проведите тестирование при следующих нулевой и альтернативной гипотезе:\n",
    "* $H_0$: Ежедневные средние чеки в группах А и B равны; \n",
    "* $H_1$: Ежедневный средний чек в группе А меньше чем в группе B;\n",
    "\n",
    "Вычислите p-value вашего теста для ежедневного среднего чека в группах А и B. Сравните полученное значение p-value с уровнем значимости $\\alpha$ =0.05. "
   ]
  },
  {
   "cell_type": "code",
   "execution_count": 41,
   "id": "05d43f23-2c2d-4795-bb96-1ffbfe81c391",
   "metadata": {},
   "outputs": [
    {
     "data": {
      "text/plain": [
       "'p-value:'"
      ]
     },
     "metadata": {},
     "output_type": "display_data"
    },
    {
     "data": {
      "text/plain": [
       "0.0"
      ]
     },
     "metadata": {},
     "output_type": "display_data"
    },
    {
     "data": {
      "text/plain": [
       "'Отвергаем нулевую гипотезу. Ежедневные средние чеки в группах А и B равны'"
      ]
     },
     "metadata": {},
     "output_type": "display_data"
    },
    {
     "data": {
      "text/plain": [
       "'Альтернативная гипотеза. H1: Ежедневный средний чек в группе А меньше чем в группе B'"
      ]
     },
     "metadata": {},
     "output_type": "display_data"
    }
   ],
   "source": [
    "# выдвигаем гипотезы\n",
    "H0 = 'Ежедневные средние чеки в группах А и B равны'\n",
    "H1 = 'Ежедневный средний чек в группе А меньше чем в группе B'\n",
    "alpha = 0.05 # альфа - уровень значимости\n",
    "\n",
    "# фильтруем группу А \n",
    "daily_data_a = daily_data[daily_data['group'] == 'A']\n",
    "\n",
    "# фильтруем группу В\n",
    "daily_data_b = daily_data[daily_data['group'] == 'B']\n",
    " \n",
    "# используем T-тест для выборки\n",
    "results = ttest_ind(\n",
    "    daily_data_a['mean_check'],\n",
    "    daily_data_b['mean_check'],\n",
    "    alternative='less' # меньше\n",
    ")\n",
    "display('p-value:', round(results.pvalue, 2))\n",
    " \n",
    "if results.pvalue < alpha:\n",
    "    display(\"Отвергаем нулевую гипотезу. {}\".format(H0))\n",
    "    display(\"Альтернативная гипотеза. H1: {}\".format(H1))\n",
    "else:\n",
    "    display(\"Принимаем нулевую гипотезу. {}\".format(H0))"
   ]
  },
  {
   "cell_type": "markdown",
   "id": "8534ab25-68b8-48f7-b2c1-ef1b72d8a767",
   "metadata": {},
   "source": [
    " Приведите свои выводы по проведенному статистическому тесту. Есть ли статистическая разница между ежедневными средними чеками в группах А и B?"
   ]
  },
  {
   "cell_type": "markdown",
   "id": "de17ee55",
   "metadata": {},
   "source": [
    "Вывод: для сравнения средних значений двух групп из одной совокупности будем использовать Т-тест\n",
    "Т-тестирование показало, что ежедневный средний чек в группе В больше, чем в группе А. Данная гипотеза подтверждается при значениях альфы 1% и 10%"
   ]
  },
  {
   "cell_type": "markdown",
   "id": "5e46c9a6-a943-48b4-ad72-935337469613",
   "metadata": {
    "tags": []
   },
   "source": [
    "## **Задание 7.14.**\n",
    "\n",
    "Постройте 95%-ый доверительный интервал для среднего чека в каждой группе. Так как выборка средних чеков небольшая, используйте  $t_{крит}$ в своих расчетах.\n",
    "\n",
    "Укажите нижнюю границу доверительного интервала для истинного среднего чека каждой из групп. Ответ приведите в процентах и округлите до целого."
   ]
  },
  {
   "cell_type": "code",
   "execution_count": 47,
   "id": "480430db-ffae-4aad-8e22-f5c70d4800b8",
   "metadata": {},
   "outputs": [
    {
     "name": "stdout",
     "output_type": "stream",
     "text": [
      "Доверительный интервал для среднего чека группы А: (79630, 82308)\n",
      "Доверительный интервал для среднего чека группы B: (87626, 89526)\n"
     ]
    }
   ],
   "source": [
    "# функция расчета истинного доверительного интервала по среднему чеку\n",
    "def mean_check_conf_interval(n, x_mean, x_std, gamma=0.95):\n",
    "    k = n - 1 #число степеней свободы\n",
    "    alpha = 1 - gamma # уровень значимости\n",
    "    t_crit = -t.ppf(alpha/2, k) # t критическое\n",
    "    eps = t_crit * x_std / n**0.5 #погрешность\n",
    "    lower_bound = x_mean - eps # левая (нижняя) граница\n",
    "    upper_bound = x_mean + eps # правая (верхняя) граница\n",
    "    # выводим кортеж из округленных границ интервала\n",
    "    return round(lower_bound), round(upper_bound)\n",
    " \n",
    "# фильтруем группу А\n",
    "a_daily_data = daily_data[daily_data['group'] == 'A']\n",
    "# фильтруем группу В\n",
    "b_daily_data = daily_data[daily_data['group'] == 'B']\n",
    " \n",
    "# в функцию подаем список\n",
    "params_a = mean_check_conf_interval(\n",
    "    n = a_daily_data['count_visits'].count(), # размер выборки\n",
    "    x_mean = a_daily_data['mean_check'].mean(), # выборочное средние\n",
    "    x_std = a_daily_data['mean_check'].std() # выборочное стандартное отклонения\n",
    ")\n",
    "\n",
    "# в функцию подаем словарь\n",
    "params_b = {\n",
    "    'n': b_daily_data['count_visits'].count(),# размер выборки\n",
    "    'x_mean': b_daily_data['mean_check'].mean(), # выборочное средние\n",
    "    'x_std': b_daily_data['mean_check'].std() # выборочное стандартное отклонения\n",
    "}\n",
    " \n",
    "print('Доверительный интервал для среднего чека группы А: {}'.format(params_a)) \n",
    "print('Доверительный интервал для среднего чека группы B: {}'.format(mean_check_conf_interval(**params_b)))"
   ]
  },
  {
   "cell_type": "markdown",
   "id": "74a78db8-48f7-41d2-94cb-faefb30b8f76",
   "metadata": {},
   "source": [
    "Проинтерпретируйте построенные доверительные интервалы для ежедневных средних чеков в группах. Есть ли между ними пересечения?"
   ]
  },
  {
   "cell_type": "markdown",
   "id": "0661884e",
   "metadata": {},
   "source": [
    "Из расчета доверительного интервала по ежедневному среднему чеку можно сделать вывод, что интервалы групп А и В не пересекаются - это означает, что истинные значения ежедневного чека в разных интервалах. Также видно, что нижняя граница интервала группы В в количественном выражении больше, чем верхняя граница группы А в количественном выражении. Т.е. истинное значение среднего чека группы В больше, чем в группе А. График кумулятивных значений в задании 7.9 также показал, что кумулятивная метрика ежедневного среднего чека группы В выше, чем таже метрика группы А."
   ]
  },
  {
   "cell_type": "markdown",
   "id": "c078852f-892f-42ed-8d78-73edf8eb1f5e",
   "metadata": {
    "tags": []
   },
   "source": [
    "## **Сделайте общий вывод по результатам A/B-теста**\n",
    "\n",
    "Какой варианта дизайна посадочной страницы является более эффективным в комплексе по метрикам конверсии и среднего чека и почему? "
   ]
  }
 ],
 "metadata": {
  "kernelspec": {
   "display_name": "Python 3.9.7 64-bit",
   "language": "python",
   "name": "python3"
  },
  "language_info": {
   "codemirror_mode": {
    "name": "ipython",
    "version": 3
   },
   "file_extension": ".py",
   "mimetype": "text/x-python",
   "name": "python",
   "nbconvert_exporter": "python",
   "pygments_lexer": "ipython3",
   "version": "3.9.7"
  },
  "vscode": {
   "interpreter": {
    "hash": "45a595cf5c94e2781375fdf6a45161a83e0998aa8e430991abe7be8276c0a0c4"
   }
  }
 },
 "nbformat": 4,
 "nbformat_minor": 5
}
