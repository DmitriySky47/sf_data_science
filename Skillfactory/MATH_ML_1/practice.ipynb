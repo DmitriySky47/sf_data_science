{
 "cells": [
  {
   "cell_type": "markdown",
   "id": "cbb6bfdf",
   "metadata": {},
   "source": [
    "#### Практика"
   ]
  },
  {
   "cell_type": "code",
   "execution_count": 2,
   "id": "1e7513ea",
   "metadata": {},
   "outputs": [],
   "source": [
    "import numpy as np"
   ]
  },
  {
   "cell_type": "code",
   "execution_count": 3,
   "id": "642d0fbd",
   "metadata": {},
   "outputs": [
    {
     "name": "stdout",
     "output_type": "stream",
     "text": [
      "[[ 8  6 11]\n",
      " [ 7  5  9]\n",
      " [ 6 10  6]]\n"
     ]
    }
   ],
   "source": [
    "A = np.array([[8, 6, 11], [7, 5, 9],[6, 10, 6]])\n",
    "print(A)"
   ]
  },
  {
   "cell_type": "code",
   "execution_count": 4,
   "id": "63d940e2",
   "metadata": {},
   "outputs": [
    {
     "name": "stdout",
     "output_type": "stream",
     "text": [
      "[[-1.875    2.3125  -0.03125]\n",
      " [ 0.375   -0.5625   0.15625]\n",
      " [ 1.25    -1.375   -0.0625 ]]\n"
     ]
    }
   ],
   "source": [
    "# обратная матрица\n",
    "A_inv = np.linalg.inv(A)\n",
    "print(A_inv)"
   ]
  },
  {
   "cell_type": "code",
   "execution_count": 14,
   "id": "e8d0ec1a",
   "metadata": {},
   "outputs": [
    {
     "name": "stdout",
     "output_type": "stream",
     "text": [
      "0.375\n"
     ]
    }
   ],
   "source": [
    "# В качестве ответа запишите элемент из первого столбца второй строки, округлив его до трёх знаков после точки-разделителя.\n",
    "print(round(A_inv[1,0],3))"
   ]
  },
  {
   "cell_type": "code",
   "execution_count": 21,
   "id": "b757c75d",
   "metadata": {},
   "outputs": [
    {
     "name": "stdout",
     "output_type": "stream",
     "text": [
      "4\n"
     ]
    }
   ],
   "source": [
    "v1 = np.array([9, 10, 7, 7, 9])\n",
    "v2 = np.array([2, 0, 5, 1, 4])\n",
    "v3 = np.array([4, 0, 0, 4, 1])\n",
    "v4 = np.array([3, -4, 3, -1, -4])\n",
    "B = np.array([v1, v2, v3, v4]).T\n",
    "print(np.linalg.matrix_rank(B))"
   ]
  },
  {
   "cell_type": "code",
   "execution_count": 24,
   "id": "dee0a51d",
   "metadata": {},
   "outputs": [
    {
     "data": {
      "text/plain": [
       "-35"
      ]
     },
     "execution_count": 24,
     "metadata": {},
     "output_type": "execute_result"
    }
   ],
   "source": [
    "#Найдите матрицу Грама системы векторов. В качестве ответа запишите элемент из четвёртого столбца первой строки.\n",
    "B_G = B.T@B\n",
    "B_G\n",
    "B_G[0, 3]"
   ]
  },
  {
   "cell_type": "code",
   "execution_count": 28,
   "id": "ebee6c2d",
   "metadata": {},
   "outputs": [
    {
     "data": {
      "text/plain": [
       "array([[360,  96,  73, -35],\n",
       "       [ 96,  46,  16,   4],\n",
       "       [ 73,  16,  33,   4],\n",
       "       [-35,   4,   4,  51]])"
      ]
     },
     "execution_count": 28,
     "metadata": {},
     "output_type": "execute_result"
    }
   ],
   "source": [
    "B_G"
   ]
  },
  {
   "cell_type": "code",
   "execution_count": 27,
   "id": "dfd90957",
   "metadata": {},
   "outputs": [
    {
     "data": {
      "text/plain": [
       "3716648"
      ]
     },
     "execution_count": 27,
     "metadata": {},
     "output_type": "execute_result"
    }
   ],
   "source": [
    "round(np.linalg.det(B_G))"
   ]
  },
  {
   "cell_type": "code",
   "execution_count": null,
   "id": "4c638726",
   "metadata": {},
   "outputs": [],
   "source": [
    "# Найдите обратную матрицу к матрице Грама\n",
    "# В качестве ответа запишите элемент из первого столбца третьей строки, округлив его до трёх знаков после точки-разделителя."
   ]
  },
  {
   "cell_type": "code",
   "execution_count": 32,
   "id": "9de074a7",
   "metadata": {},
   "outputs": [
    {
     "name": "stdout",
     "output_type": "stream",
     "text": [
      "[[ 0.01711488 -0.02798543 -0.02623063  0.01599775]\n",
      " [-0.02798543  0.071967    0.03031441 -0.02722776]\n",
      " [-0.02623063  0.03031441  0.07683106 -0.02640498]\n",
      " [ 0.01599775 -0.02722776 -0.02640498  0.03479318]]\n",
      "-0.026\n"
     ]
    }
   ],
   "source": [
    "B_G_inv = np.linalg.inv(B_G)\n",
    "print(B_G_inv)\n",
    "print(round(B_G_inv[2, 0],3))"
   ]
  }
 ],
 "metadata": {
  "kernelspec": {
   "display_name": "Python 3",
   "language": "python",
   "name": "python3"
  },
  "language_info": {
   "codemirror_mode": {
    "name": "ipython",
    "version": 3
   },
   "file_extension": ".py",
   "mimetype": "text/x-python",
   "name": "python",
   "nbconvert_exporter": "python",
   "pygments_lexer": "ipython3",
   "version": "3.9.7"
  }
 },
 "nbformat": 4,
 "nbformat_minor": 5
}
