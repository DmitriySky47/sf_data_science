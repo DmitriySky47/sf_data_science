{
 "cells": [
  {
   "cell_type": "markdown",
   "id": "bb9dbb6f",
   "metadata": {},
   "source": [
    "#### Введение. Векторы."
   ]
  },
  {
   "cell_type": "code",
   "execution_count": 2,
   "id": "685a7eb1",
   "metadata": {},
   "outputs": [],
   "source": [
    "import numpy as np"
   ]
  },
  {
   "cell_type": "code",
   "execution_count": 2,
   "id": "c73c49e2",
   "metadata": {},
   "outputs": [
    {
     "data": {
      "text/plain": [
       "array([33, 65, 50, 45])"
      ]
     },
     "execution_count": 2,
     "metadata": {},
     "output_type": "execute_result"
    }
   ],
   "source": [
    "s = np.array([33, 65, 50, 45])\n",
    "s"
   ]
  },
  {
   "cell_type": "code",
   "execution_count": null,
   "id": "41eb767a",
   "metadata": {},
   "outputs": [
    {
     "data": {
      "text/plain": [
       "50"
      ]
     },
     "execution_count": 3,
     "metadata": {},
     "output_type": "execute_result"
    }
   ],
   "source": [
    "# третья координата (нумерация как всегжа с нуля)\n",
    "s[2]"
   ]
  },
  {
   "cell_type": "code",
   "execution_count": 4,
   "id": "d002b91a",
   "metadata": {},
   "outputs": [
    {
     "data": {
      "text/plain": [
       "4"
      ]
     },
     "execution_count": 4,
     "metadata": {},
     "output_type": "execute_result"
    }
   ],
   "source": [
    "# длина вектора\n",
    "len(s)"
   ]
  },
  {
   "cell_type": "code",
   "execution_count": 15,
   "id": "7c62405b",
   "metadata": {},
   "outputs": [
    {
     "name": "stdout",
     "output_type": "stream",
     "text": [
      "средняя t июнь: 28\n",
      "min t январь: 12\n",
      "t февраль: 14\n",
      "max t июль: 31\n"
     ]
    }
   ],
   "source": [
    "t = np.array([12, 14, 17, 19, 24, 28, 31, 31, 27, 22, 17, 13])\n",
    "print('средняя t июнь:', t[5])\n",
    "print('min t январь:',t.min())\n",
    "print('t февраль:',t[1])\n",
    "print('max t июль:',t.max())"
   ]
  },
  {
   "cell_type": "code",
   "execution_count": 3,
   "id": "c11998d3",
   "metadata": {},
   "outputs": [
    {
     "data": {
      "text/plain": [
       "102.0"
      ]
     },
     "execution_count": 3,
     "metadata": {},
     "output_type": "execute_result"
    }
   ],
   "source": [
    "# скалярное произведение векторов\n",
    "a = np.array([65, 70, 120, 30])\n",
    "w = np.array([0.4, 0.4, 0.2, 0.8])\n",
    "np.dot(a, w)"
   ]
  }
 ],
 "metadata": {
  "kernelspec": {
   "display_name": "Python 3",
   "language": "python",
   "name": "python3"
  },
  "language_info": {
   "codemirror_mode": {
    "name": "ipython",
    "version": 3
   },
   "file_extension": ".py",
   "mimetype": "text/x-python",
   "name": "python",
   "nbconvert_exporter": "python",
   "pygments_lexer": "ipython3",
   "version": "3.9.7"
  }
 },
 "nbformat": 4,
 "nbformat_minor": 5
}
