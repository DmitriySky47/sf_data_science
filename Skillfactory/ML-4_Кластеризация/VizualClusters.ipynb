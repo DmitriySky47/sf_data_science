{
 "cells": [
  {
   "cell_type": "markdown",
   "metadata": {},
   "source": [
    "### Визуализация результатов кластеризации"
   ]
  },
  {
   "cell_type": "markdown",
   "metadata": {},
   "source": [
    "#### Диаграмма рассеяния"
   ]
  },
  {
   "cell_type": "code",
   "execution_count": 1,
   "metadata": {},
   "outputs": [],
   "source": [
    "# Импорт библиотек\n",
    "import matplotlib.pyplot as plt\n",
    "import pandas as pd\n",
    "import seaborn as sns\n",
    "from sklearn.cluster import KMeans\n",
    "from scipy.spatial import ConvexHull\n",
    "# дендограмма\n",
    "from scipy.cluster.hierarchy import dendrogram, linkage\n",
    "from matplotlib import pyplot as plt\n",
    "\n",
    "# импортируем библиотеку clustergram\n",
    "from clustergram import Clustergram\n",
    "\n",
    "# 3-D визуализация\n",
    "from mpl_toolkits.mplot3d import Axes3D\n",
    "\n",
    "import plotly\n",
    "import plotly.express as px\n",
    "\n",
    "# импортируем агломеративную кластеризацию из sklearn\n",
    "from sklearn.cluster import AgglomerativeClustering\n",
    "import numpy as np"
   ]
  },
  {
   "cell_type": "code",
   "execution_count": 2,
   "metadata": {},
   "outputs": [
    {
     "data": {
      "text/html": [
       "<div>\n",
       "<style scoped>\n",
       "    .dataframe tbody tr th:only-of-type {\n",
       "        vertical-align: middle;\n",
       "    }\n",
       "\n",
       "    .dataframe tbody tr th {\n",
       "        vertical-align: top;\n",
       "    }\n",
       "\n",
       "    .dataframe thead th {\n",
       "        text-align: right;\n",
       "    }\n",
       "</style>\n",
       "<table border=\"1\" class=\"dataframe\">\n",
       "  <thead>\n",
       "    <tr style=\"text-align: right;\">\n",
       "      <th></th>\n",
       "      <th>id</th>\n",
       "      <th>name</th>\n",
       "      <th>host_id</th>\n",
       "      <th>host_name</th>\n",
       "      <th>neighbourhood_group</th>\n",
       "      <th>neighbourhood</th>\n",
       "      <th>latitude</th>\n",
       "      <th>longitude</th>\n",
       "      <th>room_type</th>\n",
       "      <th>price</th>\n",
       "      <th>minimum_nights</th>\n",
       "      <th>number_of_reviews</th>\n",
       "      <th>last_review</th>\n",
       "      <th>reviews_per_month</th>\n",
       "      <th>calculated_host_listings_count</th>\n",
       "      <th>availability_365</th>\n",
       "    </tr>\n",
       "  </thead>\n",
       "  <tbody>\n",
       "    <tr>\n",
       "      <th>0</th>\n",
       "      <td>2539</td>\n",
       "      <td>Clean &amp; quiet apt home by the park</td>\n",
       "      <td>2787</td>\n",
       "      <td>John</td>\n",
       "      <td>Brooklyn</td>\n",
       "      <td>Kensington</td>\n",
       "      <td>40.64749</td>\n",
       "      <td>-73.97237</td>\n",
       "      <td>Private room</td>\n",
       "      <td>149</td>\n",
       "      <td>1</td>\n",
       "      <td>9</td>\n",
       "      <td>2018-10-19</td>\n",
       "      <td>0.21</td>\n",
       "      <td>6</td>\n",
       "      <td>365</td>\n",
       "    </tr>\n",
       "    <tr>\n",
       "      <th>1</th>\n",
       "      <td>2595</td>\n",
       "      <td>Skylit Midtown Castle</td>\n",
       "      <td>2845</td>\n",
       "      <td>Jennifer</td>\n",
       "      <td>Manhattan</td>\n",
       "      <td>Midtown</td>\n",
       "      <td>40.75362</td>\n",
       "      <td>-73.98377</td>\n",
       "      <td>Entire home/apt</td>\n",
       "      <td>225</td>\n",
       "      <td>1</td>\n",
       "      <td>45</td>\n",
       "      <td>2019-05-21</td>\n",
       "      <td>0.38</td>\n",
       "      <td>2</td>\n",
       "      <td>355</td>\n",
       "    </tr>\n",
       "  </tbody>\n",
       "</table>\n",
       "</div>"
      ],
      "text/plain": [
       "     id                                name  host_id host_name  \\\n",
       "0  2539  Clean & quiet apt home by the park     2787      John   \n",
       "1  2595               Skylit Midtown Castle     2845  Jennifer   \n",
       "\n",
       "  neighbourhood_group neighbourhood  latitude  longitude        room_type  \\\n",
       "0            Brooklyn    Kensington  40.64749  -73.97237     Private room   \n",
       "1           Manhattan       Midtown  40.75362  -73.98377  Entire home/apt   \n",
       "\n",
       "   price  minimum_nights  number_of_reviews last_review  reviews_per_month  \\\n",
       "0    149               1                  9  2018-10-19               0.21   \n",
       "1    225               1                 45  2019-05-21               0.38   \n",
       "\n",
       "   calculated_host_listings_count  availability_365  \n",
       "0                               6               365  \n",
       "1                               2               355  "
      ]
     },
     "execution_count": 2,
     "metadata": {},
     "output_type": "execute_result"
    }
   ],
   "source": [
    "# Загрузка данных\n",
    "df = pd.read_csv(\"data/airbnb.csv\")\n",
    "df.head(2)"
   ]
  },
  {
   "cell_type": "code",
   "execution_count": 3,
   "metadata": {},
   "outputs": [
    {
     "data": {
      "text/plain": [
       "<Axes: xlabel='latitude', ylabel='longitude'>"
      ]
     },
     "execution_count": 3,
     "metadata": {},
     "output_type": "execute_result"
    },
    {
     "data": {
      "image/png": "[encoded data removed]",
      "text/plain": [
       "<Figure size 432x288 with 1 Axes>"
      ]
     },
     "metadata": {
      "needs_background": "light"
     },
     "output_type": "display_data"
    }
   ],
   "source": [
    "# Быстрая визуализация\n",
    "sns.scatterplot(x=df.latitude, y=df.longitude)"
   ]
  },
  {
   "cell_type": "markdown",
   "metadata": {},
   "source": [
    "Распределим данные по кластерам и визуализируем в цвете"
   ]
  },
  {
   "cell_type": "code",
   "execution_count": 4,
   "metadata": {},
   "outputs": [],
   "source": [
    "# инициализация KMeans\n",
    "kmeans_clustering = KMeans(n_clusters=6)\n",
    "\n",
    "# Обучим модель и сохраним данные в датафрейме дополнительным столбцом\n",
    "predictions = kmeans_clustering.fit_predict(df[['latitude', 'longitude']])\n",
    "\n",
    "# запишем данные кластеризации в датасет\n",
    "df['clusters'] = predictions"
   ]
  },
  {
   "cell_type": "code",
   "execution_count": 5,
   "metadata": {},
   "outputs": [
    {
     "data": {
      "text/plain": [
       "array([[ 40.67793717, -73.96783737],\n",
       "       [ 40.81224059, -73.94380529],\n",
       "       [ 40.73554273, -73.98886414],\n",
       "       [ 40.72094452, -73.95219016],\n",
       "       [ 40.70287176, -73.89678235],\n",
       "       [ 40.637372  , -74.084466  ]])"
      ]
     },
     "execution_count": 5,
     "metadata": {},
     "output_type": "execute_result"
    }
   ],
   "source": [
    "# методом cluster_centers_ найдем координаты центроидов кластеров и сохраним их в список\n",
    "centroids = kmeans_clustering.cluster_centers_\n",
    "centroids"
   ]
  },
  {
   "cell_type": "code",
   "execution_count": null,
   "metadata": {},
   "outputs": [],
   "source": []
  },
  {
   "cell_type": "code",
   "execution_count": 6,
   "metadata": {},
   "outputs": [
    {
     "data": {
      "text/plain": [
       "'centroid_x = []\\ncentroid_y = []\\nfor i in centroids:\\n    centroid_x.append(i[0])\\n    centroid_y.append(i[1])\\n    \\ncentroid_x'"
      ]
     },
     "execution_count": 6,
     "metadata": {},
     "output_type": "execute_result"
    }
   ],
   "source": [
    "# для каждого из шести центроидов сохраним координаты по отдельности в два списка х и y\n",
    "centroid_x = [i[0] for i in centroids]\n",
    "centroid_y = [i[1] for i in centroids]\n",
    "\n",
    "'''centroid_x = []\n",
    "centroid_y = []\n",
    "for i in centroids:\n",
    "    centroid_x.append(i[0])\n",
    "    centroid_y.append(i[1])\n",
    "    \n",
    "centroid_x'''"
   ]
  },
  {
   "cell_type": "code",
   "execution_count": 7,
   "metadata": {},
   "outputs": [],
   "source": [
    "# зададим цвета для кластеров\n",
    "colors = ['#DF2020', '#81DF20', '#2095DF', '#DF20C8', '#20DFC5', '#DF8520']\n",
    "# создадим словари под координаты центроидов и цвет, что бы соотнести их\n",
    "centroid_x_dict = {}\n",
    "centroid_y_dict = {}\n",
    "colors_dict = {}\n",
    "\n",
    "# создаем цикл из 6 итераций т.к. у нас 6 центроидов с номерами от 0 до 5\n",
    "for i in range(6):\n",
    "    # в словарь с координатами по Х будем добавлять значения, где ключ = номеру от 0 до 5, а значение координаты Х\n",
    "    centroid_x_dict[i] = centroid_x[i]\n",
    "    # также формирует словарь по коорднате Y\n",
    "    centroid_y_dict[i] = centroid_y[i]\n",
    "    # формируем словарь с цветами, где ключ - значение от 0 до 5, а значение - код цвета\n",
    "    colors_dict[i] = colors[i]\n",
    "\n",
    "#display('X', centroid_x_dict, 'Y', centroid_y_dict, 'colors', colors_dict)"
   ]
  },
  {
   "cell_type": "code",
   "execution_count": 8,
   "metadata": {},
   "outputs": [],
   "source": [
    "# в дата сет добавим новые сроки через map (мапинг по столбцу с номером кластера), т.е. каждой точке координаты своего центроида и свой цвет\n",
    "df['cen_x'] = df.clusters.map(centroid_x_dict)\n",
    "df['cen_y'] = df.clusters.map(centroid_y_dict)\n",
    "df['colors'] = df.clusters.map(colors_dict)\n",
    "#df.head()"
   ]
  },
  {
   "cell_type": "code",
   "execution_count": 9,
   "metadata": {},
   "outputs": [
    {
     "data": {
      "text/plain": [
       "<Axes: xlabel='latitude', ylabel='longitude'>"
      ]
     },
     "execution_count": 9,
     "metadata": {},
     "output_type": "execute_result"
    },
    {
     "data": {
      "image/png": "[encoded data removed]",
      "text/plain": [
       "<Figure size 1080x720 with 1 Axes>"
      ]
     },
     "metadata": {
      "needs_background": "light"
     },
     "output_type": "display_data"
    }
   ],
   "source": [
    "# еще раз запускаем быструю визуализацию диаграммой рассеяния (можно использовать автоцвет c=df.clusters)\n",
    "#fig, scatter = plt.subplots(figsize = (15,10))\n",
    "fig, axes = plt.subplots(figsize=(15,10))\n",
    "\n",
    "# настройка визуализации. s-размер точек, alpha-прозрачность точек\n",
    "sns.scatterplot(x=df.latitude, y=df.longitude, c=df.colors, s=400, alpha=0.3)\n",
    "\n",
    "# визуализируем центроиды. Отметим их на схеме Х и зададим черный цвет\n",
    "sns.scatterplot(x=centroid_x, y=centroid_y, c=['#000000'], s=200, marker='X')"
   ]
  },
  {
   "cell_type": "markdown",
   "metadata": {},
   "source": [
    "#### Convex Hull (Выпуклая оболочка)"
   ]
  },
  {
   "cell_type": "code",
   "execution_count": 10,
   "metadata": {},
   "outputs": [
    {
     "data": {
      "image/png": "[encoded data removed]",
      "text/plain": [
       "<Figure size 576x576 with 1 Axes>"
      ]
     },
     "metadata": {
      "needs_background": "light"
     },
     "output_type": "display_data"
    }
   ],
   "source": [
    "fig, ax = plt.subplots(1, figsize = (8, 8))\n",
    "\n",
    "# визуализируем объекты коастеров и центроиды\n",
    "plt.scatter(df.latitude, df.longitude, c=df.colors, alpha = 0.6, s=10)\n",
    "plt.scatter(centroid_x, centroid_y, marker='^', c=['#000000'], s=70)\n",
    "\n",
    "# найдем уникальные значения кластеров и пройдемся по ним циклом\n",
    "for i in df.clusters.unique():\n",
    "    # запишем в points значения широты и долготы, принадлежащие к i-ному кластеру\n",
    "    points = df[df.clusters == i][['latitude', 'longitude']].values\n",
    "    \n",
    "    # инициализируем метод построения выпуклой оболочки\n",
    "    hull = ConvexHull(points)\n",
    "    \n",
    "    # Запишем координаты оболочки по оси x. Из hull.vertices узнаем индексы элементов, входящих в оболочку.\n",
    "    # Так как оболочка должна быть замкнутой, то в конце добавляем ещё раз нулевой элемент.\n",
    "    x_hull = np.append(points[hull.vertices, 0], points[hull.vertices, 0][0]) \n",
    "    y_hull = np.append(points[hull.vertices, 1], points[hull.vertices, 1][0])\n",
    "    \n",
    "    # рисуем оболочку и заливаем её таким же цветом, как и объекты кластера\n",
    "    plt.fill(x_hull, y_hull, alpha=0.2, c=colors[i])\n",
    "    "
   ]
  },
  {
   "cell_type": "markdown",
   "metadata": {},
   "source": [
    "#### Дендограмма - иерархическая агломеративная кластеризация"
   ]
  },
  {
   "cell_type": "code",
   "execution_count": 23,
   "metadata": {},
   "outputs": [
    {
     "data": {
      "image/png": "[encoded data removed]",
      "text/plain": [
       "<Figure size 1080x576 with 1 Axes>"
      ]
     },
     "metadata": {
      "needs_background": "light"
     },
     "output_type": "display_data"
    }
   ],
   "source": [
    "# запускаем агломеративную кластеризацию, расстояние между кластерами рассчитываем методом одиночной связи\n",
    "agglomerative_clustering = AgglomerativeClustering(n_clusters=6, linkage='single')\n",
    "\n",
    "# обучаем модель и получаем результаты кластеризации\n",
    "predictions_ag_model = agglomerative_clustering.fit_predict(df[['latitude', 'longitude']])\n",
    "\n",
    "# рассчитаем расстояния между кластерами\n",
    "linked = linkage(df[[\"latitude\", \"longitude\"]], 'single')\n",
    "\n",
    "plt.figure(figsize=(15, 8))\n",
    "\n",
    "# визуализируем дендрограмму с ориентацией top\n",
    "# сначала будут отрисовываться кластеры с минимальным расстоянием между ними\n",
    "dendrogram(Z=linked,\n",
    "            orientation='top',\n",
    "            labels=predictions_ag_model,\n",
    "            distance_sort='descending')\n",
    "\n",
    "plt.show()"
   ]
  },
  {
   "cell_type": "markdown",
   "metadata": {},
   "source": [
    "#### Clustergramm"
   ]
  },
  {
   "cell_type": "code",
   "execution_count": 12,
   "metadata": {},
   "outputs": [
    {
     "name": "stdout",
     "output_type": "stream",
     "text": [
      "K=1 skipped. Mean computed from data directly.\n",
      "K=2 fitted in 0.269 seconds.\n",
      "K=3 fitted in 0.045 seconds.\n",
      "K=4 fitted in 0.059 seconds.\n",
      "K=5 fitted in 0.067 seconds.\n",
      "K=6 fitted in 0.066 seconds.\n",
      "K=7 fitted in 0.069 seconds.\n",
      "K=8 fitted in 0.085 seconds.\n"
     ]
    },
    {
     "data": {
      "text/plain": [
       "<Axes: xlabel='Number of clusters (k)', ylabel='PCA weighted mean of the clusters'>"
      ]
     },
     "execution_count": 12,
     "metadata": {},
     "output_type": "execute_result"
    },
    {
     "data": {
      "image/png": "[encoded data removed]",
      "text/plain": [
       "<Figure size 432x288 with 1 Axes>"
      ]
     },
     "metadata": {
      "needs_background": "light"
     },
     "output_type": "display_data"
    }
   ],
   "source": [
    "# импортируем библиотеку clustergram\n",
    "from clustergram import Clustergram\n",
    "\n",
    "# задаём количество кластеров, для которых хотим получить визуализацию, определяем метод кластеризации\n",
    "cgram = Clustergram(range(1, 9), method='kmeans')\n",
    "\n",
    "# запускаем алгоритм\n",
    "cgram.fit(df[[\"latitude\", \"longitude\"]])\n",
    "cgram.plot()"
   ]
  },
  {
   "cell_type": "markdown",
   "metadata": {},
   "source": [
    "#### 3-D Визуализация"
   ]
  },
  {
   "cell_type": "code",
   "execution_count": 13,
   "metadata": {},
   "outputs": [],
   "source": [
    "# инициализируем k-means-кластеризацию с шестью кластерами\n",
    "kmeans_clustering = KMeans(n_clusters=6)\n",
    "\n",
    "# обучим k-means-модель кластеризации на данных широты, долготы и цены, сохраним данные о кластерах для этих данных в kmeans_predictions\n",
    "kmeans_predictions = kmeans_clustering.fit_predict(df[['latitude', 'longitude', 'price']])\n",
    "\n",
    "# сохраним предсказания в колонку clusters датафрейма\n",
    "df['clusters_3d'] = kmeans_predictions"
   ]
  },
  {
   "cell_type": "code",
   "execution_count": 14,
   "metadata": {},
   "outputs": [
    {
     "data": {
      "text/plain": [
       "<mpl_toolkits.mplot3d.art3d.Path3DCollection at 0x1e835125610>"
      ]
     },
     "execution_count": 14,
     "metadata": {},
     "output_type": "execute_result"
    },
    {
     "data": {
      "image/png": "[encoded data removed]",
      "text/plain": [
       "<Figure size 432x432 with 1 Axes>"
      ]
     },
     "metadata": {
      "needs_background": "light"
     },
     "output_type": "display_data"
    }
   ],
   "source": [
    "# создадим трёхмерный объект\n",
    "fig = plt.figure(figsize=(6,6))\n",
    "ax = Axes3D(fig)\n",
    "# добавим дополнительную ось в объект картинки\n",
    "fig.add_axes(ax)\n",
    "\n",
    "ax.azim = 30\n",
    "ax.elev = 20\n",
    "\n",
    "# визуализируем данные, передав значения x, y, z, а также информацию о группировке данных по цветам\n",
    "ax.scatter(df.longitude.to_list(), df.latitude.to_list(), df.price.to_list(), c=df.clusters_3d)\n",
    "\n",
    "# добавим оси\n",
    "#ax.set_xlabel('longitude')\n",
    "#ax.set_ylabel('latitude')\n",
    "#ax.set_zlabel('price')"
   ]
  },
  {
   "cell_type": "code",
   "execution_count": 17,
   "metadata": {},
   "outputs": [
    {
     "data": {
      "application/vnd.plotly.v1+json": {
       "config": {
        "plotlyServerURL": "https://plot.ly"
       },
       "data": [
        {
         "hovertemplate": "longitude=%{x}<br>latitude=%{y}<br>price=%{z}<br>clusters=%{marker.color}<extra></extra>",
         "legendgroup": "",
         "marker": {
          "color": [
           0,
           2,
           1,
           0,
           1,
           2,
           0,
           2,
           1,
           2,
           1,
           2,
           0,
           1,
           2,
           3,
           0,
           2,
           0,
           1,
           3,
           0,
           0,
           0,
           0,
           0,
           1,
           2,
           1,
           2,
           1,
           1,
           3,
           1,
           0,
           0,
           0,
           4,
           0,
           2,
           2,
           0,
           0,
           1,
           1,
           0,
           3,
           0,
           0,
           0,
           0,
           1,
           3,
           3,
           2,
           3,
           2,
           2,
           3,
           2,
           3,
           2,
           1,
           0,
           0,
           2,
           0,
           2,
           3,
           2,
           1,
           2,
           2,
           1,
           0,
           2,
           1,
           4,
           0,
           2,
           3,
           1,
           2,
           0,
           2,
           0,
           3,
           2,
           2,
           3,
           3,
           0,
           0,
           0,
           3,
           4,
           1,
           1,
           2,
           4,
           1,
           0,
           1,
           2,
           3,
           0,
           4,
           3,
           1,
           0,
           2,
           0,
           2,
           0,
           2,
           2,
           3,
           2,
           2,
           0,
           1,
           0,
           2,
           2,
           0,
           3,
           1,
           1,
           0,
           1,
           0,
           2,
           3,
           2,
           2,
           2,
           0,
           0,
           0,
           0,
           3,
           3,
           0,
           4,
           0,
           3,
           3,
           2,
           3,
           0,
           2,
           0,
           3,
           0,
           1,
           2,
           3,
           1,
           0,
           1,
           3,
           3,
           0,
           0,
           2,
           0,
           1,
           0,
           0,
           5,
           4,
           1,
           3,
           2,
           2,
           0,
           2,
           1,
           2,
           1,
           0,
           4,
           1,
           3,
           0,
           0,
           0,
           1,
           0,
           2,
           2,
           2,
           0,
           1,
           2,
           2,
           4,
           2,
           3,
           4,
           4,
           4,
           3,
           2,
           1,
           0,
           1,
           1,
           1,
           3,
           0,
           2,
           2,
           3,
           0,
           2,
           3,
           1,
           1,
           0,
           2,
           2,
           2,
           2,
           1,
           1,
           0,
           3,
           2,
           4,
           3,
           2,
           2,
           2,
           2,
           1,
           1,
           1,
           2,
           1,
           1,
           2,
           2,
           1,
           2,
           2,
           0,
           2,
           4,
           5,
           5,
           5,
           2,
           2,
           3,
           3,
           5,
           3,
           0,
           0,
           1,
           1,
           0,
           2,
           0,
           1,
           3,
           2,
           0,
           0,
           0,
           0,
           2,
           2,
           2,
           0,
           3,
           2,
           3,
           3,
           1,
           0,
           0,
           0,
           2,
           2,
           3,
           1,
           0,
           0,
           1,
           3,
           1,
           1,
           1,
           4,
           1,
           0,
           3,
           2,
           2,
           4,
           1,
           2,
           2,
           1,
           2,
           2,
           3,
           1,
           2,
           3,
           3,
           3,
           1,
           1,
           1,
           3,
           3,
           2,
           0,
           3,
           2,
           0,
           0,
           3,
           2,
           3,
           3,
           0,
           3,
           0,
           0,
           2,
           0,
           4,
           0,
           3,
           2,
           3,
           0,
           2,
           2,
           0,
           2,
           0,
           0,
           0,
           3,
           0
          ],
          "coloraxis": "coloraxis",
          "symbol": "circle"
         },
         "mode": "markers",
         "name": "",
         "scene": "scene",
         "showlegend": false,
         "type": "scatter3d",
         "x": [
          -73.97237,
          -73.98377,
          -73.9419,
          -73.95976,
          -73.94399,
          -73.975,
          -73.95596,
          -73.98493,
          -73.96723,
          -73.99037,
          -73.96545,
          -73.98867,
          -73.98779,
          -73.96113,
          -74.00525,
          -73.95352,
          -73.97185,
          -73.99501,
          -73.94694,
          -73.94872,
          -73.95718,
          -73.97706,
          -73.97798,
          -73.97865,
          -73.94028,
          -73.97519,
          -73.92639,
          -73.98533,
          -73.92106,
          -73.98542,
          -73.95104,
          -73.95466,
          -73.93762,
          -73.95318,
          -73.95473,
          -73.9878,
          -73.94312,
          -73.92745,
          -73.96327,
          -73.98917,
          -73.98199,
          -73.97966,
          -73.97584,
          -73.97927,
          -73.94478,
          -73.96238,
          -73.9474,
          -73.95591,
          -73.9409,
          -73.97376,
          -73.93934,
          -73.97008,
          -73.9356,
          -73.95392,
          -73.98074,
          -73.9593,
          -73.99104,
          -73.99293,
          -73.93788,
          -73.99775,
          -73.96204,
          -73.9953,
          -73.95269,
          -73.96428,
          -73.96788,
          -73.99119,
          -73.98338,
          -73.97904,
          -73.96792,
          -73.98474,
          -73.93922,
          -73.98008,
          -73.98865,
          -73.94095,
          -73.96374,
          -73.98801,
          -73.95058,
          -73.90334,
          -73.97267,
          -74.00197,
          -73.96112,
          -73.95136,
          -73.98892,
          -73.96323,
          -73.98794,
          -73.99268,
          -73.95748,
          -73.9844,
          -73.98057,
          -73.96218,
          -73.9383,
          -73.97261,
          -73.966,
          -73.97162,
          -73.95775,
          -73.92609,
          -73.96177,
          -73.94731,
          -74.00271,
          -73.92357,
          -73.95139,
          -74.00154,
          -73.94281,
          -74.00319,
          -73.94177,
          -73.98109,
          -73.92377,
          -73.94844,
          -73.94421,
          -73.98989,
          -73.99291,
          -73.96572,
          -73.98192,
          -73.98912,
          -73.98157,
          -73.98009,
          -73.95748,
          -73.97637,
          -73.97965,
          -73.98604,
          -73.94919,
          -73.97925,
          -73.97556,
          -73.98527,
          -73.96053,
          -73.96468,
          -73.94822,
          -73.93128,
          -73.9547,
          -73.94894,
          -73.96351,
          -73.99143,
          -73.9503,
          -73.98856,
          -73.98399,
          -74.00303,
          -73.93248,
          -73.9634,
          -73.93662,
          -73.96765,
          -73.95348,
          -73.94835,
          -73.99183,
          -73.83168,
          -73.93524,
          -73.93938,
          -73.95935,
          -73.98295,
          -73.96087,
          -73.97312,
          -74.00101,
          -73.96641,
          -73.96057,
          -73.96595,
          -73.93997,
          -74.00401,
          -73.96398,
          -73.9527,
          -73.98094,
          -73.95323,
          -73.95055,
          -73.92313,
          -73.94659,
          -73.98571,
          -73.9642,
          -73.99083,
          -73.94907,
          -73.96408,
          -74.00135,
          -74.08088,
          -73.91765,
          -73.93184,
          -73.9677,
          -73.98034,
          -74.01374,
          -73.97113,
          -74.00405,
          -73.94791,
          -74.0046,
          -73.9373,
          -73.97691,
          -73.89797,
          -73.95924,
          -73.9587,
          -73.97863,
          -73.9475,
          -73.97307,
          -73.95334,
          -73.9415,
          -73.99999,
          -73.99665,
          -73.98852,
          -73.98804,
          -73.95199,
          -73.99201,
          -73.99671,
          -73.76597,
          -73.99271,
          -73.93503,
          -73.87856,
          -73.89816,
          -73.87854,
          -73.95976,
          -73.98474,
          -73.95603,
          -73.97262,
          -73.94598,
          -73.93058,
          -73.94275,
          -73.93845,
          -73.93549,
          -73.99134,
          -74.0049,
          -73.95162,
          -73.97525,
          -73.98432,
          -73.95829,
          -73.94499,
          -73.90502,
          -73.99386,
          -73.98701,
          -73.98508,
          -73.99053,
          -73.98498,
          -73.94343,
          -73.94287,
          -73.98397,
          -73.9501,
          -73.98589,
          -73.89934,
          -73.95967,
          -73.99503,
          -73.96991,
          -74.00262,
          -73.99474,
          -73.94573,
          -73.94434,
          -73.94707,
          -73.98049,
          -73.96071,
          -73.93936,
          -73.9954,
          -74.00027,
          -73.9575,
          -73.9908,
          -73.96897,
          -73.9503,
          -73.99079,
          -73.9171,
          -74.08537,
          -74.08543,
          -74.08546,
          -73.98161,
          -73.99567,
          -73.95511,
          -73.95177,
          -74.08519,
          -73.91433,
          -73.97426,
          -73.98327,
          -73.85514,
          -73.83572,
          -73.94314,
          -73.98246,
          -73.95385,
          -73.9263,
          -73.95467,
          -73.98594,
          -73.94339,
          -73.94701,
          -73.9529,
          -73.95155,
          -73.99811,
          -73.98157,
          -73.98098,
          -73.95264,
          -73.9626,
          -73.98158,
          -73.95175,
          -73.94641,
          -73.94307,
          -73.97323,
          -73.99443,
          -73.94808,
          -73.98534,
          -73.99392,
          -73.9583,
          -73.95306,
          -73.98225,
          -73.9896,
          -73.94903,
          -73.96282,
          -73.95838,
          -73.9652,
          -73.94867,
          -73.91981,
          -73.9729,
          -73.99495,
          -73.95578,
          -73.99627,
          -73.98249,
          -73.91922,
          -73.92811,
          -73.98881,
          -73.97986,
          -73.93869,
          -73.98945,
          -74.00243,
          -73.95552,
          -73.90193,
          -73.97818,
          -73.95341,
          -73.96101,
          -73.9597,
          -73.93985,
          -73.9567,
          -73.93426,
          -73.95018,
          -73.95763,
          -73.98394,
          -73.99019,
          -73.95292,
          -73.9913,
          -73.98876,
          -73.96219,
          -73.95455,
          -73.98486,
          -73.95327,
          -73.95482,
          -73.98142,
          -73.95312,
          -73.99832,
          -73.99771,
          -73.98374,
          -73.94615,
          -73.91708,
          -73.97258,
          -73.96015,
          -73.98094,
          -73.95394,
          -73.94715,
          -73.98895,
          -73.99776,
          -73.94735,
          -73.98766,
          -73.96536,
          -73.94911,
          -73.93963,
          -73.91117,
          -73.94494
         ],
         "y": [
          40.64749,
          40.75362,
          40.80902,
          40.68514,
          40.79851,
          40.74767,
          40.68688,
          40.76489,
          40.80178,
          40.71344,
          40.80316,
          40.76076,
          40.66829,
          40.79826,
          40.7353,
          40.70837,
          40.69169,
          40.74192,
          40.67592,
          40.79685,
          40.71842,
          40.68069,
          40.67989,
          40.68001,
          40.68371,
          40.65599,
          40.86754,
          40.76715,
          40.86482,
          40.7292,
          40.82245,
          40.81305,
          40.72219,
          40.8213,
          40.6831,
          40.66869,
          40.68876,
          40.70186,
          40.63702,
          40.71401,
          40.7229,
          40.66278,
          40.69673,
          40.79009,
          40.81175,
          40.65944,
          40.74771,
          40.68111,
          40.68554,
          40.69142,
          40.68043,
          40.78635,
          40.7042,
          40.73506,
          40.73961,
          40.70881,
          40.72004,
          40.75531,
          40.72401,
          40.7221,
          40.71185,
          40.74623,
          40.77065,
          40.67811,
          40.69,
          40.75979,
          40.67343,
          40.72649,
          40.70933,
          40.72298,
          40.80164,
          40.72162,
          40.76342,
          40.83139,
          40.68346,
          40.72828,
          40.76865,
          40.75038,
          40.6932,
          40.74138,
          40.71154,
          40.82915,
          40.71851,
          40.65401,
          40.7114,
          40.69723,
          40.71833,
          40.72334,
          40.72912,
          40.71156,
          40.70032,
          40.68233,
          40.68634,
          40.68035,
          40.70984,
          40.70093,
          40.79764,
          40.82803,
          40.74008,
          40.68413,
          40.82279,
          40.67967,
          40.83927,
          40.73096,
          40.71332,
          40.66941,
          40.68373,
          40.71459,
          40.8092,
          40.68157,
          40.75527,
          40.68698,
          40.7288,
          40.66853,
          40.7254,
          40.74294,
          40.71942,
          40.77823,
          40.72555,
          40.66831,
          40.82754,
          40.66499,
          40.77842,
          40.72245,
          40.65593,
          40.71923,
          40.778,
          40.85879,
          40.68332,
          40.81618,
          40.68414,
          40.72392,
          40.73494,
          40.71341,
          40.76754,
          40.73442,
          40.63188,
          40.6873,
          40.68296,
          40.6863,
          40.73409,
          40.71561,
          40.6857,
          40.74028,
          40.68281,
          40.71596,
          40.71492,
          40.72354,
          40.71165,
          40.69101,
          40.73474,
          40.67386,
          40.71536,
          40.6741,
          40.79295,
          40.73226,
          40.71363,
          40.77711,
          40.68559,
          40.77456,
          40.71088,
          40.74559,
          40.68306,
          40.70207,
          40.76123,
          40.66858,
          40.82704,
          40.68843,
          40.6783,
          40.64524,
          40.70641,
          40.83232,
          40.71045,
          40.72518,
          40.70666,
          40.69098,
          40.73756,
          40.81526,
          40.73423,
          40.82374,
          40.68863,
          40.70382,
          40.80549,
          40.71627,
          40.67994,
          40.67992,
          40.67868,
          40.76834,
          40.68237,
          40.74031,
          40.76307,
          40.71882,
          40.6693,
          40.77333,
          40.72319,
          40.74859,
          40.67252,
          40.76244,
          40.69546,
          40.71722,
          40.70234,
          40.71546,
          40.7195,
          40.76548,
          40.80234,
          40.6787,
          40.81035,
          40.83075,
          40.79958,
          40.71625,
          40.6829,
          40.72773,
          40.72861,
          40.70979,
          40.68656,
          40.72752,
          40.729,
          40.81219,
          40.77185,
          40.68926,
          40.72821,
          40.7672,
          40.73012,
          40.7403,
          40.80931,
          40.8251,
          40.6585,
          40.76193,
          40.72052,
          40.70411,
          40.73401,
          40.71756,
          40.7589,
          40.72003,
          40.73194,
          40.79163,
          40.8118,
          40.81583,
          40.72654,
          40.80021,
          40.80942,
          40.71961,
          40.74358,
          40.80335,
          40.71445,
          40.75749,
          40.64446,
          40.7268,
          40.688,
          40.63536,
          40.63627,
          40.63518,
          40.72477,
          40.74238,
          40.72945,
          40.70763,
          40.63481,
          40.75384,
          40.64106,
          40.66793,
          40.81309,
          40.88057,
          40.68236,
          40.72185,
          40.68503,
          40.86648,
          40.7069,
          40.72807,
          40.6778,
          40.68317,
          40.6761,
          40.67586,
          40.71702,
          40.72321,
          40.77956,
          40.68276,
          40.71368,
          40.72956,
          40.71069,
          40.70863,
          40.82888,
          40.67319,
          40.67846,
          40.6715,
          40.72681,
          40.71904,
          40.71031,
          40.81322,
          40.67732,
          40.68076,
          40.79603,
          40.71492,
          40.80393,
          40.80082,
          40.82976,
          40.683,
          40.78971,
          40.67817,
          40.73119,
          40.71943,
          40.78,
          40.70514,
          40.86713,
          40.73198,
          40.72542,
          40.83494,
          40.71659,
          40.72966,
          40.72898,
          40.87207,
          40.77728,
          40.72646,
          40.71015,
          40.71903,
          40.80892,
          40.80276,
          40.77635,
          40.72488,
          40.71398,
          40.71876,
          40.66552,
          40.73749,
          40.76248,
          40.68674,
          40.6848,
          40.70516,
          40.72329,
          40.73776,
          40.73738,
          40.67542,
          40.73842,
          40.6926,
          40.69441,
          40.72399,
          40.6824,
          40.68949,
          40.68819,
          40.7205,
          40.72451,
          40.73813,
          40.67591,
          40.72843,
          40.71271,
          40.66966,
          40.71965,
          40.68613,
          40.68048,
          40.68314,
          40.75961,
          40.67473
         ],
         "z": [
          149,
          225,
          150,
          89,
          80,
          200,
          60,
          79,
          79,
          150,
          135,
          85,
          89,
          85,
          120,
          140,
          215,
          140,
          99,
          190,
          299,
          130,
          80,
          110,
          120,
          60,
          80,
          150,
          44,
          180,
          50,
          52,
          55,
          50,
          70,
          89,
          35,
          85,
          150,
          40,
          68,
          120,
          120,
          135,
          150,
          150,
          130,
          110,
          115,
          80,
          80,
          151,
          228,
          144,
          200,
          150,
          110,
          69,
          49,
          180,
          80,
          375,
          250,
          200,
          55,
          52,
          225,
          80,
          275,
          99,
          225,
          230,
          51,
          65,
          105,
          190,
          200,
          70,
          95,
          150,
          145,
          110,
          285,
          130,
          94,
          800,
          105,
          60,
          50,
          85,
          65,
          131,
          98,
          250,
          100,
          105,
          140,
          89,
          98,
          125,
          60,
          175,
          65,
          500,
          101,
          220,
          125,
          80,
          100,
          200,
          59,
          125,
          140,
          120,
          350,
          199,
          325,
          235,
          225,
          99,
          170,
          400,
          170,
          100,
          75,
          90,
          150,
          85,
          70,
          120,
          89,
          185,
          50,
          105,
          130,
          115,
          77,
          76,
          125,
          135,
          250,
          199,
          140,
          140,
          115,
          160,
          195,
          195,
          80,
          44,
          156,
          85,
          125,
          115,
          69,
          225,
          125,
          219,
          475,
          99,
          69,
          79,
          135,
          250,
          250,
          250,
          80,
          70,
          165,
          70,
          50,
          40,
          150,
          125,
          196,
          110,
          170,
          165,
          150,
          100,
          65,
          350,
          99,
          200,
          150,
          90,
          120,
          75,
          175,
          125,
          275,
          299,
          135,
          130,
          83,
          123,
          55,
          195,
          80,
          98,
          140,
          265,
          249,
          105,
          200,
          100,
          121,
          45,
          100,
          140,
          71,
          130,
          199,
          69,
          68,
          130,
          195,
          64,
          140,
          159,
          189,
          250,
          239,
          305,
          155,
          60,
          135,
          120,
          150,
          140,
          135,
          250,
          250,
          500,
          225,
          125,
          92,
          175,
          99,
          195,
          140,
          135,
          500,
          80,
          120,
          110,
          65,
          130,
          99,
          36,
          37,
          37,
          175,
          205,
          285,
          59,
          36,
          99,
          39,
          60,
          90,
          105,
          135,
          390,
          70,
          75,
          60,
          200,
          100,
          70,
          110,
          60,
          90,
          68,
          115,
          75,
          60,
          129,
          130,
          95,
          75,
          175,
          190,
          49,
          212,
          95,
          140,
          135,
          150,
          190,
          124,
          135,
          122,
          109,
          85,
          145,
          195,
          250,
          125,
          575,
          150,
          70,
          90,
          65,
          500,
          250,
          125,
          200,
          229,
          90,
          110,
          59,
          195,
          169,
          113,
          250,
          115,
          55,
          69,
          150,
          169,
          179,
          150,
          135,
          350,
          120,
          71,
          349,
          349,
          165,
          249,
          100,
          200,
          169,
          185,
          65,
          130,
          199,
          225,
          179,
          150,
          139,
          95,
          79,
          150,
          650,
          90,
          120,
          80,
          100
         ]
        }
       ],
       "layout": {
        "coloraxis": {
         "colorbar": {
          "title": {
           "text": "clusters"
          }
         },
         "colorscale": [
          [
           0,
           "#0d0887"
          ],
          [
           0.1111111111111111,
           "#46039f"
          ],
          [
           0.2222222222222222,
           "#7201a8"
          ],
          [
           0.3333333333333333,
           "#9c179e"
          ],
          [
           0.4444444444444444,
           "#bd3786"
          ],
          [
           0.5555555555555556,
           "#d8576b"
          ],
          [
           0.6666666666666666,
           "#ed7953"
          ],
          [
           0.7777777777777778,
           "#fb9f3a"
          ],
          [
           0.8888888888888888,
           "#fdca26"
          ],
          [
           1,
           "#f0f921"
          ]
         ]
        },
        "height": 700,
        "legend": {
         "tracegroupgap": 0
        },
        "margin": {
         "t": 60
        },
        "scene": {
         "domain": {
          "x": [
           0,
           1
          ],
          "y": [
           0,
           1
          ]
         },
         "xaxis": {
          "title": {
           "text": "longitude"
          }
         },
         "yaxis": {
          "title": {
           "text": "latitude"
          }
         },
         "zaxis": {
          "title": {
           "text": "price"
          }
         }
        },
        "template": {
         "data": {
          "bar": [
           {
            "error_x": {
             "color": "#2a3f5f"
            },
            "error_y": {
             "color": "#2a3f5f"
            },
            "marker": {
             "line": {
              "color": "#E5ECF6",
              "width": 0.5
             },
             "pattern": {
              "fillmode": "overlay",
              "size": 10,
              "solidity": 0.2
             }
            },
            "type": "bar"
           }
          ],
          "barpolar": [
           {
            "marker": {
             "line": {
              "color": "#E5ECF6",
              "width": 0.5
             },
             "pattern": {
              "fillmode": "overlay",
              "size": 10,
              "solidity": 0.2
             }
            },
            "type": "barpolar"
           }
          ],
          "carpet": [
           {
            "aaxis": {
             "endlinecolor": "#2a3f5f",
             "gridcolor": "white",
             "linecolor": "white",
             "minorgridcolor": "white",
             "startlinecolor": "#2a3f5f"
            },
            "baxis": {
             "endlinecolor": "#2a3f5f",
             "gridcolor": "white",
             "linecolor": "white",
             "minorgridcolor": "white",
             "startlinecolor": "#2a3f5f"
            },
            "type": "carpet"
           }
          ],
          "choropleth": [
           {
            "colorbar": {
             "outlinewidth": 0,
             "ticks": ""
            },
            "type": "choropleth"
           }
          ],
          "contour": [
           {
            "colorbar": {
             "outlinewidth": 0,
             "ticks": ""
            },
            "colorscale": [
             [
              0,
              "#0d0887"
             ],
             [
              0.1111111111111111,
              "#46039f"
             ],
             [
              0.2222222222222222,
              "#7201a8"
             ],
             [
              0.3333333333333333,
              "#9c179e"
             ],
             [
              0.4444444444444444,
              "#bd3786"
             ],
             [
              0.5555555555555556,
              "#d8576b"
             ],
             [
              0.6666666666666666,
              "#ed7953"
             ],
             [
              0.7777777777777778,
              "#fb9f3a"
             ],
             [
              0.8888888888888888,
              "#fdca26"
             ],
             [
              1,
              "#f0f921"
             ]
            ],
            "type": "contour"
           }
          ],
          "contourcarpet": [
           {
            "colorbar": {
             "outlinewidth": 0,
             "ticks": ""
            },
            "type": "contourcarpet"
           }
          ],
          "heatmap": [
           {
            "colorbar": {
             "outlinewidth": 0,
             "ticks": ""
            },
            "colorscale": [
             [
              0,
              "#0d0887"
             ],
             [
              0.1111111111111111,
              "#46039f"
             ],
             [
              0.2222222222222222,
              "#7201a8"
             ],
             [
              0.3333333333333333,
              "#9c179e"
             ],
             [
              0.4444444444444444,
              "#bd3786"
             ],
             [
              0.5555555555555556,
              "#d8576b"
             ],
             [
              0.6666666666666666,
              "#ed7953"
             ],
             [
              0.7777777777777778,
              "#fb9f3a"
             ],
             [
              0.8888888888888888,
              "#fdca26"
             ],
             [
              1,
              "#f0f921"
             ]
            ],
            "type": "heatmap"
           }
          ],
          "heatmapgl": [
           {
            "colorbar": {
             "outlinewidth": 0,
             "ticks": ""
            },
            "colorscale": [
             [
              0,
              "#0d0887"
             ],
             [
              0.1111111111111111,
              "#46039f"
             ],
             [
              0.2222222222222222,
              "#7201a8"
             ],
             [
              0.3333333333333333,
              "#9c179e"
             ],
             [
              0.4444444444444444,
              "#bd3786"
             ],
             [
              0.5555555555555556,
              "#d8576b"
             ],
             [
              0.6666666666666666,
              "#ed7953"
             ],
             [
              0.7777777777777778,
              "#fb9f3a"
             ],
             [
              0.8888888888888888,
              "#fdca26"
             ],
             [
              1,
              "#f0f921"
             ]
            ],
            "type": "heatmapgl"
           }
          ],
          "histogram": [
           {
            "marker": {
             "pattern": {
              "fillmode": "overlay",
              "size": 10,
              "solidity": 0.2
             }
            },
            "type": "histogram"
           }
          ],
          "histogram2d": [
           {
            "colorbar": {
             "outlinewidth": 0,
             "ticks": ""
            },
            "colorscale": [
             [
              0,
              "#0d0887"
             ],
             [
              0.1111111111111111,
              "#46039f"
             ],
             [
              0.2222222222222222,
              "#7201a8"
             ],
             [
              0.3333333333333333,
              "#9c179e"
             ],
             [
              0.4444444444444444,
              "#bd3786"
             ],
             [
              0.5555555555555556,
              "#d8576b"
             ],
             [
              0.6666666666666666,
              "#ed7953"
             ],
             [
              0.7777777777777778,
              "#fb9f3a"
             ],
             [
              0.8888888888888888,
              "#fdca26"
             ],
             [
              1,
              "#f0f921"
             ]
            ],
            "type": "histogram2d"
           }
          ],
          "histogram2dcontour": [
           {
            "colorbar": {
             "outlinewidth": 0,
             "ticks": ""
            },
            "colorscale": [
             [
              0,
              "#0d0887"
             ],
             [
              0.1111111111111111,
              "#46039f"
             ],
             [
              0.2222222222222222,
              "#7201a8"
             ],
             [
              0.3333333333333333,
              "#9c179e"
             ],
             [
              0.4444444444444444,
              "#bd3786"
             ],
             [
              0.5555555555555556,
              "#d8576b"
             ],
             [
              0.6666666666666666,
              "#ed7953"
             ],
             [
              0.7777777777777778,
              "#fb9f3a"
             ],
             [
              0.8888888888888888,
              "#fdca26"
             ],
             [
              1,
              "#f0f921"
             ]
            ],
            "type": "histogram2dcontour"
           }
          ],
          "mesh3d": [
           {
            "colorbar": {
             "outlinewidth": 0,
             "ticks": ""
            },
            "type": "mesh3d"
           }
          ],
          "parcoords": [
           {
            "line": {
             "colorbar": {
              "outlinewidth": 0,
              "ticks": ""
             }
            },
            "type": "parcoords"
           }
          ],
          "pie": [
           {
            "automargin": true,
            "type": "pie"
           }
          ],
          "scatter": [
           {
            "marker": {
             "colorbar": {
              "outlinewidth": 0,
              "ticks": ""
             }
            },
            "type": "scatter"
           }
          ],
          "scatter3d": [
           {
            "line": {
             "colorbar": {
              "outlinewidth": 0,
              "ticks": ""
             }
            },
            "marker": {
             "colorbar": {
              "outlinewidth": 0,
              "ticks": ""
             }
            },
            "type": "scatter3d"
           }
          ],
          "scattercarpet": [
           {
            "marker": {
             "colorbar": {
              "outlinewidth": 0,
              "ticks": ""
             }
            },
            "type": "scattercarpet"
           }
          ],
          "scattergeo": [
           {
            "marker": {
             "colorbar": {
              "outlinewidth": 0,
              "ticks": ""
             }
            },
            "type": "scattergeo"
           }
          ],
          "scattergl": [
           {
            "marker": {
             "colorbar": {
              "outlinewidth": 0,
              "ticks": ""
             }
            },
            "type": "scattergl"
           }
          ],
          "scattermapbox": [
           {
            "marker": {
             "colorbar": {
              "outlinewidth": 0,
              "ticks": ""
             }
            },
            "type": "scattermapbox"
           }
          ],
          "scatterpolar": [
           {
            "marker": {
             "colorbar": {
              "outlinewidth": 0,
              "ticks": ""
             }
            },
            "type": "scatterpolar"
           }
          ],
          "scatterpolargl": [
           {
            "marker": {
             "colorbar": {
              "outlinewidth": 0,
              "ticks": ""
             }
            },
            "type": "scatterpolargl"
           }
          ],
          "scatterternary": [
           {
            "marker": {
             "colorbar": {
              "outlinewidth": 0,
              "ticks": ""
             }
            },
            "type": "scatterternary"
           }
          ],
          "surface": [
           {
            "colorbar": {
             "outlinewidth": 0,
             "ticks": ""
            },
            "colorscale": [
             [
              0,
              "#0d0887"
             ],
             [
              0.1111111111111111,
              "#46039f"
             ],
             [
              0.2222222222222222,
              "#7201a8"
             ],
             [
              0.3333333333333333,
              "#9c179e"
             ],
             [
              0.4444444444444444,
              "#bd3786"
             ],
             [
              0.5555555555555556,
              "#d8576b"
             ],
             [
              0.6666666666666666,
              "#ed7953"
             ],
             [
              0.7777777777777778,
              "#fb9f3a"
             ],
             [
              0.8888888888888888,
              "#fdca26"
             ],
             [
              1,
              "#f0f921"
             ]
            ],
            "type": "surface"
           }
          ],
          "table": [
           {
            "cells": {
             "fill": {
              "color": "#EBF0F8"
             },
             "line": {
              "color": "white"
             }
            },
            "header": {
             "fill": {
              "color": "#C8D4E3"
             },
             "line": {
              "color": "white"
             }
            },
            "type": "table"
           }
          ]
         },
         "layout": {
          "annotationdefaults": {
           "arrowcolor": "#2a3f5f",
           "arrowhead": 0,
           "arrowwidth": 1
          },
          "autotypenumbers": "strict",
          "coloraxis": {
           "colorbar": {
            "outlinewidth": 0,
            "ticks": ""
           }
          },
          "colorscale": {
           "diverging": [
            [
             0,
             "#8e0152"
            ],
            [
             0.1,
             "#c51b7d"
            ],
            [
             0.2,
             "#de77ae"
            ],
            [
             0.3,
             "#f1b6da"
            ],
            [
             0.4,
             "#fde0ef"
            ],
            [
             0.5,
             "#f7f7f7"
            ],
            [
             0.6,
             "#e6f5d0"
            ],
            [
             0.7,
             "#b8e186"
            ],
            [
             0.8,
             "#7fbc41"
            ],
            [
             0.9,
             "#4d9221"
            ],
            [
             1,
             "#276419"
            ]
           ],
           "sequential": [
            [
             0,
             "#0d0887"
            ],
            [
             0.1111111111111111,
             "#46039f"
            ],
            [
             0.2222222222222222,
             "#7201a8"
            ],
            [
             0.3333333333333333,
             "#9c179e"
            ],
            [
             0.4444444444444444,
             "#bd3786"
            ],
            [
             0.5555555555555556,
             "#d8576b"
            ],
            [
             0.6666666666666666,
             "#ed7953"
            ],
            [
             0.7777777777777778,
             "#fb9f3a"
            ],
            [
             0.8888888888888888,
             "#fdca26"
            ],
            [
             1,
             "#f0f921"
            ]
           ],
           "sequentialminus": [
            [
             0,
             "#0d0887"
            ],
            [
             0.1111111111111111,
             "#46039f"
            ],
            [
             0.2222222222222222,
             "#7201a8"
            ],
            [
             0.3333333333333333,
             "#9c179e"
            ],
            [
             0.4444444444444444,
             "#bd3786"
            ],
            [
             0.5555555555555556,
             "#d8576b"
            ],
            [
             0.6666666666666666,
             "#ed7953"
            ],
            [
             0.7777777777777778,
             "#fb9f3a"
            ],
            [
             0.8888888888888888,
             "#fdca26"
            ],
            [
             1,
             "#f0f921"
            ]
           ]
          },
          "colorway": [
           "#636efa",
           "#EF553B",
           "#00cc96",
           "#ab63fa",
           "#FFA15A",
           "#19d3f3",
           "#FF6692",
           "#B6E880",
           "#FF97FF",
           "#FECB52"
          ],
          "font": {
           "color": "#2a3f5f"
          },
          "geo": {
           "bgcolor": "white",
           "lakecolor": "white",
           "landcolor": "#E5ECF6",
           "showlakes": true,
           "showland": true,
           "subunitcolor": "white"
          },
          "hoverlabel": {
           "align": "left"
          },
          "hovermode": "closest",
          "mapbox": {
           "style": "light"
          },
          "paper_bgcolor": "white",
          "plot_bgcolor": "#E5ECF6",
          "polar": {
           "angularaxis": {
            "gridcolor": "white",
            "linecolor": "white",
            "ticks": ""
           },
           "bgcolor": "#E5ECF6",
           "radialaxis": {
            "gridcolor": "white",
            "linecolor": "white",
            "ticks": ""
           }
          },
          "scene": {
           "xaxis": {
            "backgroundcolor": "#E5ECF6",
            "gridcolor": "white",
            "gridwidth": 2,
            "linecolor": "white",
            "showbackground": true,
            "ticks": "",
            "zerolinecolor": "white"
           },
           "yaxis": {
            "backgroundcolor": "#E5ECF6",
            "gridcolor": "white",
            "gridwidth": 2,
            "linecolor": "white",
            "showbackground": true,
            "ticks": "",
            "zerolinecolor": "white"
           },
           "zaxis": {
            "backgroundcolor": "#E5ECF6",
            "gridcolor": "white",
            "gridwidth": 2,
            "linecolor": "white",
            "showbackground": true,
            "ticks": "",
            "zerolinecolor": "white"
           }
          },
          "shapedefaults": {
           "line": {
            "color": "#2a3f5f"
           }
          },
          "ternary": {
           "aaxis": {
            "gridcolor": "white",
            "linecolor": "white",
            "ticks": ""
           },
           "baxis": {
            "gridcolor": "white",
            "linecolor": "white",
            "ticks": ""
           },
           "bgcolor": "#E5ECF6",
           "caxis": {
            "gridcolor": "white",
            "linecolor": "white",
            "ticks": ""
           }
          },
          "title": {
           "x": 0.05
          },
          "xaxis": {
           "automargin": true,
           "gridcolor": "white",
           "linecolor": "white",
           "ticks": "",
           "title": {
            "standoff": 15
           },
           "zerolinecolor": "white",
           "zerolinewidth": 2
          },
          "yaxis": {
           "automargin": true,
           "gridcolor": "white",
           "linecolor": "white",
           "ticks": "",
           "title": {
            "standoff": 15
           },
           "zerolinecolor": "white",
           "zerolinewidth": 2
          }
         }
        },
        "width": 1000
       }
      }
     },
     "metadata": {},
     "output_type": "display_data"
    }
   ],
   "source": [
    "# передаём датафрейм и поля, которые нужно использовать для осей абсцисс, ординат и аппликат\n",
    "# в значение color передаём номера кластеров\n",
    "fig = px.scatter_3d(\n",
    "    data_frame=df, \n",
    "    x = 'longitude', \n",
    "    y = 'latitude', \n",
    "    z = 'price', \n",
    "    color='clusters', \n",
    "    width=1000,\n",
    "    height=700\n",
    ")\n",
    "\n",
    "#отображаем график\n",
    "fig.show()"
   ]
  },
  {
   "cell_type": "markdown",
   "metadata": {},
   "source": [
    "Задание 8.4<br>\n",
    "Для датасета Airbnb проведите иерархическую агломеративную кластеризацию с использованием sklearn. В качестве признаков для кластеризации используйте latitude и longitude из датафрейма, количество кластеров для кластеризации — 6. Расстояние между кластерами рассчитайте методом полной связи, направление дендрограммы — top.\n",
    "\n",
    "Визуализируйте дендрограмму для проведённой кластеризации. На сколько кластеров можно разделить датасет, если расстояние между кластерами будет равно 0.25?"
   ]
  },
  {
   "cell_type": "code",
   "execution_count": 31,
   "metadata": {},
   "outputs": [
    {
     "name": "stdout",
     "output_type": "stream",
     "text": [
      "Ответ:3\n"
     ]
    },
    {
     "data": {
      "image/png": "[encoded data removed]",
      "text/plain": [
       "<Figure size 1080x576 with 1 Axes>"
      ]
     },
     "metadata": {
      "needs_background": "light"
     },
     "output_type": "display_data"
    }
   ],
   "source": [
    "print('Ответ:3')\n",
    "# запускаем агломеративную кластеризацию, расстояние между кластерами рассчитываем методом одиночной связи\n",
    "agglomerative_clustering = AgglomerativeClustering(n_clusters=6, linkage='complete')\n",
    "\n",
    "# обучаем модель и получаем результаты кластеризации\n",
    "predictions_ag_model = agglomerative_clustering.fit_predict(df[['latitude', 'longitude']])\n",
    "\n",
    "# рассчитаем расстояния между кластерами\n",
    "linked = linkage(df[[\"latitude\", \"longitude\"]], 'complete')\n",
    "\n",
    "plt.figure(figsize=(15, 8))\n",
    "\n",
    "# визуализируем дендрограмму с ориентацией top\n",
    "# сначала будут отрисовываться кластеры с минимальным расстоянием между ними\n",
    "dendrogram(Z=linked,\n",
    "            orientation='top',\n",
    "            labels=predictions_ag_model,\n",
    "            distance_sort='descending')\n",
    "\n",
    "plt.show()\n"
   ]
  }
 ],
 "metadata": {
  "kernelspec": {
   "display_name": "Python 3",
   "language": "python",
   "name": "python3"
  },
  "language_info": {
   "codemirror_mode": {
    "name": "ipython",
    "version": 3
   },
   "file_extension": ".py",
   "mimetype": "text/x-python",
   "name": "python",
   "nbconvert_exporter": "python",
   "pygments_lexer": "ipython3",
   "version": "3.9.7"
  }
 },
 "nbformat": 4,
 "nbformat_minor": 2
}
