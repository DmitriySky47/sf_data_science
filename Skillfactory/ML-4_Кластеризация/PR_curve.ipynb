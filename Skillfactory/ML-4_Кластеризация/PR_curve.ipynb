{
 "cells": [
  {
   "cell_type": "markdown",
   "metadata": {},
   "source": [
    "#### PR-кривая"
   ]
  },
  {
   "cell_type": "code",
   "execution_count": 11,
   "metadata": {},
   "outputs": [],
   "source": [
    "# Загрузка необходимых библиотек\n",
    "\n",
    "import numpy as np #для матричных вычислений\n",
    "import pandas as pd #для обработки данных\n",
    "import matplotlib.pyplot as plt #для визуализации\n",
    "import seaborn as sns #для визуализации\n",
    "\n",
    "from sklearn import metrics #метрики\n",
    "from sklearn import model_selection #методы разделения и валидации\n",
    "from sklearn import linear_model #линейные модели\n",
    "from sklearn import tree #деревья решений\n",
    "\n",
    "# Устанавливаем стиль визуализаций в matplotlib\n",
    "plt.style.use('seaborn-v0_8')\n",
    "%matplotlib inline"
   ]
  },
  {
   "cell_type": "code",
   "execution_count": 16,
   "metadata": {},
   "outputs": [
    {
     "name": "stdout",
     "output_type": "stream",
     "text": [
      "Train shape: (2620, 9)\n",
      "Test shape: (656, 9)\n"
     ]
    }
   ],
   "source": [
    "#Первичный анализ дата-сета\n",
    "water_data = pd.read_csv('data/water_potability.csv')\n",
    "water_data.head()\n",
    "\n",
    "#Заполним пропуски медаиной в зависимост от класса воды\n",
    "water_data['ph'] = water_data['ph'].fillna(water_data.groupby('Potability')['ph'].transform('median'))\n",
    "water_data['Sulfate'] = water_data['Sulfate'].fillna(water_data.groupby('Potability')['Sulfate'].transform('median'))\n",
    "water_data['Trihalomethanes'] = water_data['Trihalomethanes'].fillna(water_data.groupby('Potability')['Trihalomethanes'].transform('median'))\n",
    "\n",
    "# Разделим выборку на набор данных X и вектор ответов y\n",
    "X = water_data.drop('Potability', axis=1)\n",
    "y = water_data['Potability']\n",
    "\n",
    "\n",
    "# Разобъем датасет на тренировочную и тестовую (валидационную) выборки\n",
    "X_train, X_valid, y_train, y_valid = model_selection.train_test_split(X, y, test_size=0.2, stratify=y, random_state=42)\n",
    "print(f'Train shape: {X_train.shape}')\n",
    "print(f'Test shape: {X_valid.shape}')"
   ]
  },
  {
   "cell_type": "code",
   "execution_count": 30,
   "metadata": {},
   "outputs": [
    {
     "name": "stdout",
     "output_type": "stream",
     "text": [
      "[[0.         1.        ]\n",
      " [0.24561404 0.75438596]\n",
      " [1.         0.        ]\n",
      " ...\n",
      " [0.60621762 0.39378238]\n",
      " [1.         0.        ]\n",
      " [0.03030303 0.96969697]]\n"
     ]
    }
   ],
   "source": [
    "# Строим модель дерева\n",
    "model=tree.DecisionTreeClassifier(\n",
    "    criterion='entropy', #критерий информативности\n",
    "    max_depth=7, #максимальная глубина\n",
    "    min_samples_leaf=5, #минимальное число объектов в листе\n",
    "    random_state=42\n",
    ")\n",
    "\n",
    "# обучаем модель\n",
    "model.fit(X_train, y_train)\n",
    "# создаем кросс-валидатор k-fold со стратификацией\n",
    "skf = model_selection.StratifiedKFold(n_splits=5)\n",
    "#делаем предсказание ВЕРОЯТНОСТЕй (proba) на кросс-валидации\n",
    "y_cv_pred_proba = model_selection.cross_val_predict(model, X_train, y_train, cv=skf, method='predict_proba')\n",
    "print(y_cv_pred_proba)"
   ]
  },
  {
   "cell_type": "code",
   "execution_count": null,
   "metadata": {},
   "outputs": [
    {
     "data": {
      "text/plain": [
       "array([1.        , 0.75438596, 0.        , ..., 0.39378238, 0.        ,\n",
       "       0.96969697])"
      ]
     },
     "execution_count": 31,
     "metadata": {},
     "output_type": "execute_result"
    }
   ],
   "source": [
    "#выделяем столбец с вероятностями для класса 1\n",
    "y_cv_pred_proba = y_cv_pred_proba[:, 1]\n",
    "y_cv_pred_proba"
   ]
  },
  {
   "cell_type": "code",
   "execution_count": null,
   "metadata": {},
   "outputs": [
    {
     "name": "stdout",
     "output_type": "stream",
     "text": [
      "Thresholds [0.         0.02739726 0.02898551 0.05       0.07407407]\n",
      "Precision [0.39007634 0.50050659 0.50357873 0.50437919 0.5043837 ]\n",
      "Recall [1.         0.9667319  0.96379648 0.95792564 0.95694716]\n"
     ]
    }
   ],
   "source": [
    "# вычислим координаты PR-кривой\n",
    "precision, recall, thresholds = metrics.precision_recall_curve(y_train, y_cv_pred_proba)\n",
    "print('Thresholds', thresholds[:5])#выведем первые пять значений для примера, всего значений 94\n",
    "print('Precision', precision[:5])\n",
    "print('Recall', recall[:5])"
   ]
  },
  {
   "cell_type": "markdown",
   "metadata": {},
   "source": [
    "##### Далее построим PR-кривую и отметим на ней точку максимума F1-score"
   ]
  },
  {
   "cell_type": "markdown",
   "metadata": {},
   "source": [
    "Вычислим значение F1-score при различных порогах вероятности и найдём такой порог вероятности, при котором она максимальна. Сделать это можно с помощью функции argmax() из модуля numpy — она возвращает индекс максимального элемента массива."
   ]
  },
  {
   "cell_type": "code",
   "execution_count": 57,
   "metadata": {},
   "outputs": [
    {
     "name": "stdout",
     "output_type": "stream",
     "text": [
      "idx = 33\n",
      "Best threshold = 0.33, F1-Score = 0.69\n"
     ]
    }
   ],
   "source": [
    "#Вычисляем F1-меру при различных threshold\n",
    "f1_scores = (2 * precision * recall) / (precision + recall) #вернем 94 значения f1_score и передадим ее в функцию\n",
    "\n",
    "#определим индекс максимума\n",
    "idx = np.argmax(f1_scores) # из получившегося массива значений вернем индекс максимальноq f1-score (33) и вернем тресхолд по этому индексу\n",
    "# мы определили порог вероятности-тресхолд при максимальной f1-score\n",
    "print(f'idx = {idx}')\n",
    "print(f'Best threshold = {thresholds[idx]:.2f}, F1-Score = {f1_scores[idx]:.2f}') # возвращаем значения с индексом 33\n"
   ]
  },
  {
   "cell_type": "code",
   "execution_count": 54,
   "metadata": {},
   "outputs": [
    {
     "data": {
      "text/plain": [
       "0.3333333333333333"
      ]
     },
     "execution_count": 54,
     "metadata": {},
     "output_type": "execute_result"
    }
   ],
   "source": [
    "thresholds[33]"
   ]
  }
 ],
 "metadata": {
  "kernelspec": {
   "display_name": "Python 3",
   "language": "python",
   "name": "python3"
  },
  "language_info": {
   "codemirror_mode": {
    "name": "ipython",
    "version": 3
   },
   "file_extension": ".py",
   "mimetype": "text/x-python",
   "name": "python",
   "nbconvert_exporter": "python",
   "pygments_lexer": "ipython3",
   "version": "3.9.7"
  }
 },
 "nbformat": 4,
 "nbformat_minor": 2
}
