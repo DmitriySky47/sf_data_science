{
  "cells": [
    {
      "cell_type": "code",
      "execution_count": 1,
      "id": "8a361718",
      "metadata": {
        "id": "8a361718"
      },
      "outputs": [],
      "source": [
        "import matplotlib.pyplot as plt\n",
        "import pandas as pd\n",
        "import seaborn as sns\n",
        "from sklearn.cluster import KMeans"
      ]
    },
    {
      "cell_type": "markdown",
      "id": "6c870ee9",
      "metadata": {
        "id": "6c870ee9"
      },
      "source": [
        "Прочитаем данные Airbnb по жилью, которое можно арендовать. "
      ]
    },
    {
      "cell_type": "code",
      "execution_count": 2,
      "id": "44cd6e08",
      "metadata": {
        "id": "44cd6e08"
      },
      "outputs": [],
      "source": [
        "df = pd.read_csv(\"data/airbnb.csv\")"
      ]
    },
    {
      "cell_type": "code",
      "execution_count": 3,
      "id": "253b1e81",
      "metadata": {
        "id": "253b1e81",
        "outputId": "59a0671d-041c-400f-ace2-9e44e31e2e4e",
        "scrolled": true
      },
      "outputs": [
        {
          "data": {
            "text/html": [
              "<div>\n",
              "<style scoped>\n",
              "    .dataframe tbody tr th:only-of-type {\n",
              "        vertical-align: middle;\n",
              "    }\n",
              "\n",
              "    .dataframe tbody tr th {\n",
              "        vertical-align: top;\n",
              "    }\n",
              "\n",
              "    .dataframe thead th {\n",
              "        text-align: right;\n",
              "    }\n",
              "</style>\n",
              "<table border=\"1\" class=\"dataframe\">\n",
              "  <thead>\n",
              "    <tr style=\"text-align: right;\">\n",
              "      <th></th>\n",
              "      <th>id</th>\n",
              "      <th>name</th>\n",
              "      <th>host_id</th>\n",
              "      <th>host_name</th>\n",
              "      <th>neighbourhood_group</th>\n",
              "      <th>neighbourhood</th>\n",
              "      <th>latitude</th>\n",
              "      <th>longitude</th>\n",
              "      <th>room_type</th>\n",
              "      <th>price</th>\n",
              "      <th>minimum_nights</th>\n",
              "      <th>number_of_reviews</th>\n",
              "      <th>last_review</th>\n",
              "      <th>reviews_per_month</th>\n",
              "      <th>calculated_host_listings_count</th>\n",
              "      <th>availability_365</th>\n",
              "    </tr>\n",
              "  </thead>\n",
              "  <tbody>\n",
              "    <tr>\n",
              "      <th>0</th>\n",
              "      <td>2539</td>\n",
              "      <td>Clean &amp; quiet apt home by the park</td>\n",
              "      <td>2787</td>\n",
              "      <td>John</td>\n",
              "      <td>Brooklyn</td>\n",
              "      <td>Kensington</td>\n",
              "      <td>40.64749</td>\n",
              "      <td>-73.97237</td>\n",
              "      <td>Private room</td>\n",
              "      <td>149</td>\n",
              "      <td>1</td>\n",
              "      <td>9</td>\n",
              "      <td>2018-10-19</td>\n",
              "      <td>0.21</td>\n",
              "      <td>6</td>\n",
              "      <td>365</td>\n",
              "    </tr>\n",
              "    <tr>\n",
              "      <th>1</th>\n",
              "      <td>2595</td>\n",
              "      <td>Skylit Midtown Castle</td>\n",
              "      <td>2845</td>\n",
              "      <td>Jennifer</td>\n",
              "      <td>Manhattan</td>\n",
              "      <td>Midtown</td>\n",
              "      <td>40.75362</td>\n",
              "      <td>-73.98377</td>\n",
              "      <td>Entire home/apt</td>\n",
              "      <td>225</td>\n",
              "      <td>1</td>\n",
              "      <td>45</td>\n",
              "      <td>2019-05-21</td>\n",
              "      <td>0.38</td>\n",
              "      <td>2</td>\n",
              "      <td>355</td>\n",
              "    </tr>\n",
              "    <tr>\n",
              "      <th>2</th>\n",
              "      <td>3647</td>\n",
              "      <td>THE VILLAGE OF HARLEM....NEW YORK !</td>\n",
              "      <td>4632</td>\n",
              "      <td>Elisabeth</td>\n",
              "      <td>Manhattan</td>\n",
              "      <td>Harlem</td>\n",
              "      <td>40.80902</td>\n",
              "      <td>-73.94190</td>\n",
              "      <td>Private room</td>\n",
              "      <td>150</td>\n",
              "      <td>3</td>\n",
              "      <td>0</td>\n",
              "      <td>NaN</td>\n",
              "      <td>NaN</td>\n",
              "      <td>1</td>\n",
              "      <td>365</td>\n",
              "    </tr>\n",
              "    <tr>\n",
              "      <th>3</th>\n",
              "      <td>3831</td>\n",
              "      <td>Cozy Entire Floor of Brownstone</td>\n",
              "      <td>4869</td>\n",
              "      <td>LisaRoxanne</td>\n",
              "      <td>Brooklyn</td>\n",
              "      <td>Clinton Hill</td>\n",
              "      <td>40.68514</td>\n",
              "      <td>-73.95976</td>\n",
              "      <td>Entire home/apt</td>\n",
              "      <td>89</td>\n",
              "      <td>1</td>\n",
              "      <td>270</td>\n",
              "      <td>2019-07-05</td>\n",
              "      <td>4.64</td>\n",
              "      <td>1</td>\n",
              "      <td>194</td>\n",
              "    </tr>\n",
              "    <tr>\n",
              "      <th>4</th>\n",
              "      <td>5022</td>\n",
              "      <td>Entire Apt: Spacious Studio/Loft by central park</td>\n",
              "      <td>7192</td>\n",
              "      <td>Laura</td>\n",
              "      <td>Manhattan</td>\n",
              "      <td>East Harlem</td>\n",
              "      <td>40.79851</td>\n",
              "      <td>-73.94399</td>\n",
              "      <td>Entire home/apt</td>\n",
              "      <td>80</td>\n",
              "      <td>10</td>\n",
              "      <td>9</td>\n",
              "      <td>2018-11-19</td>\n",
              "      <td>0.10</td>\n",
              "      <td>1</td>\n",
              "      <td>0</td>\n",
              "    </tr>\n",
              "  </tbody>\n",
              "</table>\n",
              "</div>"
            ],
            "text/plain": [
              "     id                                              name  host_id  \\\n",
              "0  2539                Clean & quiet apt home by the park     2787   \n",
              "1  2595                             Skylit Midtown Castle     2845   \n",
              "2  3647               THE VILLAGE OF HARLEM....NEW YORK !     4632   \n",
              "3  3831                   Cozy Entire Floor of Brownstone     4869   \n",
              "4  5022  Entire Apt: Spacious Studio/Loft by central park     7192   \n",
              "\n",
              "     host_name neighbourhood_group neighbourhood  latitude  longitude  \\\n",
              "0         John            Brooklyn    Kensington  40.64749  -73.97237   \n",
              "1     Jennifer           Manhattan       Midtown  40.75362  -73.98377   \n",
              "2    Elisabeth           Manhattan        Harlem  40.80902  -73.94190   \n",
              "3  LisaRoxanne            Brooklyn  Clinton Hill  40.68514  -73.95976   \n",
              "4        Laura           Manhattan   East Harlem  40.79851  -73.94399   \n",
              "\n",
              "         room_type  price  minimum_nights  number_of_reviews last_review  \\\n",
              "0     Private room    149               1                  9  2018-10-19   \n",
              "1  Entire home/apt    225               1                 45  2019-05-21   \n",
              "2     Private room    150               3                  0         NaN   \n",
              "3  Entire home/apt     89               1                270  2019-07-05   \n",
              "4  Entire home/apt     80              10                  9  2018-11-19   \n",
              "\n",
              "   reviews_per_month  calculated_host_listings_count  availability_365  \n",
              "0               0.21                               6               365  \n",
              "1               0.38                               2               355  \n",
              "2                NaN                               1               365  \n",
              "3               4.64                               1               194  \n",
              "4               0.10                               1                 0  "
            ]
          },
          "execution_count": 3,
          "metadata": {},
          "output_type": "execute_result"
        }
      ],
      "source": [
        "df.head()"
      ]
    },
    {
      "cell_type": "markdown",
      "id": "1c62e516",
      "metadata": {
        "id": "1c62e516"
      },
      "source": [
        "Нас интересует ширина и долгота арендного жилья, и стоимость аренды. \n",
        "Рассмотрим, кластеризацию по 2 признакам, а именно, выделим группы жилья по локации.\n",
        "А для 3D признака еще добавим к текущим признакам цену и рассмотрим, как локация влияет на цену, визуализируем результаты."
      ]
    },
    {
      "cell_type": "code",
      "execution_count": 4,
      "id": "5ba97b0d",
      "metadata": {
        "id": "5ba97b0d",
        "outputId": "235e17fb-355b-4d67-b383-69d532cc502c"
      },
      "outputs": [
        {
          "data": {
            "text/plain": [
              "<Axes: xlabel='latitude', ylabel='longitude'>"
            ]
          },
          "execution_count": 4,
          "metadata": {},
          "output_type": "execute_result"
        },
        {
          "data": {
            "image/png": "[encoded data removed]",
            "text/plain": [
              "<Figure size 432x288 with 1 Axes>"
            ]
          },
          "metadata": {
            "needs_background": "light"
          },
          "output_type": "display_data"
        }
      ],
      "source": [
        "sns.scatterplot(x=df.latitude, y=df.longitude)"
      ]
    },
    {
      "cell_type": "code",
      "execution_count": 5,
      "id": "c8e1ba43",
      "metadata": {
        "id": "c8e1ba43"
      },
      "outputs": [],
      "source": [
        "# инициализируем k-means кластеризацию с 6 кластерами\n",
        "kmeans_clustering = KMeans(n_clusters=6)\n",
        "\n",
        "# обучим k-means модель кластеризации на данных о широте и долготе, сохраним данные о кластерах для этих данных в predictions\n",
        "predictions = kmeans_clustering.fit_predict(df[['latitude', 'longitude']])\n",
        "\n",
        "# сохраним предсказания в колонку clusters датафрейма\n",
        "#df[\"clusters\"] = predictions"
      ]
    },
    {
      "cell_type": "code",
      "execution_count": 6,
      "id": "128d1a54",
      "metadata": {},
      "outputs": [
        {
          "data": {
            "text/plain": [
              "array([1, 2, 0, 1, 0, 2, 1, 2, 0, 2, 0, 2, 1, 0, 2, 3, 1, 2, 1, 0, 5, 1,\n",
              "       1, 1, 3, 1, 0, 2, 0, 2, 0, 0, 3, 0, 1, 1, 3, 3, 1, 2, 2, 1, 1, 0,\n",
              "       0, 1, 5, 1, 3, 1, 3, 0, 3, 5, 2, 1, 2, 2, 5, 2, 1, 2, 5, 1, 1, 2,\n",
              "       1, 2, 1, 2, 0, 2, 2, 0, 1, 2, 5, 5, 1, 2, 1, 0, 2, 1, 2, 1, 5, 2,\n",
              "       2, 1, 3, 1, 1, 1, 1, 3, 0, 0, 2, 3, 0, 1, 0, 2, 3, 1, 3, 3, 0, 1,\n",
              "       2, 1, 2, 1, 2, 2, 5, 5, 2, 1, 0, 1, 5, 2, 1, 2, 5, 0, 1, 0, 1, 2,\n",
              "       5, 2, 2, 2, 1, 1, 3, 1, 5, 3, 1, 3, 3, 3, 5, 2, 1, 1, 2, 1, 5, 1,\n",
              "       0, 2, 2, 5, 1, 5, 3, 5, 1, 1, 5, 1, 0, 1, 1, 4, 3, 0, 1, 2, 2, 1,\n",
              "       2, 0, 2, 0, 1, 3, 0, 5, 1, 1, 1, 5, 3, 2, 2, 2, 1, 5, 2, 2, 3, 2,\n",
              "       3, 3, 3, 3, 5, 2, 0, 1, 0, 0, 0, 3, 3, 2, 2, 3, 1, 2, 5, 0, 5, 1,\n",
              "       2, 2, 2, 2, 0, 0, 1, 5, 2, 3, 5, 2, 5, 2, 2, 0, 0, 0, 2, 0, 0, 2,\n",
              "       2, 0, 2, 5, 1, 2, 3, 4, 4, 4, 2, 2, 5, 3, 4, 5, 1, 1, 0, 0, 3, 2,\n",
              "       1, 0, 1, 2, 1, 1, 1, 1, 2, 2, 5, 1, 2, 2, 3, 3, 0, 1, 1, 1, 2, 2,\n",
              "       1, 0, 1, 1, 0, 2, 0, 0, 0, 3, 0, 1, 5, 2, 5, 3, 0, 2, 2, 0, 2, 2,\n",
              "       5, 0, 5, 5, 1, 5, 0, 0, 5, 5, 5, 2, 1, 5, 2, 1, 1, 1, 2, 5, 5, 1,\n",
              "       5, 1, 1, 2, 1, 3, 1, 5, 2, 5, 1, 2, 2, 1, 2, 1, 1, 3, 5, 1])"
            ]
          },
          "execution_count": 6,
          "metadata": {},
          "output_type": "execute_result"
        }
      ],
      "source": [
        "predictions"
      ]
    },
    {
      "cell_type": "code",
      "execution_count": 7,
      "id": "bf83290f",
      "metadata": {
        "id": "bf83290f"
      },
      "outputs": [],
      "source": [
        "# с помощью метода cluster_centers_ найдем координаты центроидов кластеров, сохраним их в список centroids\n",
        "centroids = kmeans_clustering.cluster_centers_\n",
        "\n",
        "# для 6 кластеров сохраним в отдельные списоки значения координат x и y\n",
        "centroids_x = [i[0] for i in centroids]\n",
        "centroids_y = [i[1] for i in centroids]\n",
        "\n",
        "# зададим цвета для разных кластеров\n",
        "colors = ['#DF2020', '#81DF20', '#2095DF', '#DF20C8', '#20DFC5', '#DF8520']\n",
        "\n",
        "# создадим пустые словари, для того, чтобы потом соотнести координаты x и у центроидов разных кластеров, а также цвета \n",
        "centroids_x_dict = {}\n",
        "centroids_y_dict = {}\n",
        "colors_dict = {}\n",
        "\n",
        "# итерируемся 6 раз, так как у нас 6 кластеров\n",
        "for i in range(6):\n",
        "    # сохраняем в словарь номер кластера в качестве ключа, значение координаты x центроида в качестве значения\n",
        "    centroids_x_dict[i] = centroids_x[i]\n",
        "    # сохраняем в словарь номер кластера в качестве ключа, значение координаты y центроида в качестве значения\n",
        "    centroids_y_dict[i] = centroids_y[i]\n",
        "    # сохраняем в словарь номер кластера в качестве ключа, значение цвета в качестве значения\n",
        "    colors_dict[i] = colors[i]"
      ]
    },
    {
      "cell_type": "markdown",
      "id": "4db2ad46",
      "metadata": {
        "id": "4db2ad46"
      },
      "source": [
        "Создадим новые столбцы (cen_x, cen_y, color) в датафрейме. В зависимости от того, какое значение в ячейке clusters в ячейке cen_x, cen_y и color будут разные значения. Если кластер 0, то в cen_x и cen_y будут координаты центроида нулевого кластера и цвет нулевого кластера. "
      ]
    },
    {
      "cell_type": "code",
      "execution_count": 8,
      "id": "cc02d73f",
      "metadata": {
        "id": "cc02d73f"
      },
      "outputs": [
        {
          "ename": "AttributeError",
          "evalue": "'DataFrame' object has no attribute 'clusters'",
          "output_type": "error",
          "traceback": [
            "\u001b[1;31m---------------------------------------------------------------------------\u001b[0m",
            "\u001b[1;31mAttributeError\u001b[0m                            Traceback (most recent call last)",
            "\u001b[1;32m~\\AppData\\Local\\Temp/ipykernel_10060/2338886151.py\u001b[0m in \u001b[0;36m<module>\u001b[1;34m\u001b[0m\n\u001b[1;32m----> 1\u001b[1;33m \u001b[0mdf\u001b[0m\u001b[1;33m[\u001b[0m\u001b[1;34m'cen_x'\u001b[0m\u001b[1;33m]\u001b[0m \u001b[1;33m=\u001b[0m \u001b[0mdf\u001b[0m\u001b[1;33m.\u001b[0m\u001b[0mclusters\u001b[0m\u001b[1;33m.\u001b[0m\u001b[0mmap\u001b[0m\u001b[1;33m(\u001b[0m\u001b[0mcentroids_x_dict\u001b[0m\u001b[1;33m)\u001b[0m\u001b[1;33m\u001b[0m\u001b[1;33m\u001b[0m\u001b[0m\n\u001b[0m\u001b[0;32m      2\u001b[0m \u001b[0mdf\u001b[0m\u001b[1;33m[\u001b[0m\u001b[1;34m'cen_y'\u001b[0m\u001b[1;33m]\u001b[0m \u001b[1;33m=\u001b[0m \u001b[0mdf\u001b[0m\u001b[1;33m.\u001b[0m\u001b[0mclusters\u001b[0m\u001b[1;33m.\u001b[0m\u001b[0mmap\u001b[0m\u001b[1;33m(\u001b[0m\u001b[0mcentroids_y_dict\u001b[0m\u001b[1;33m)\u001b[0m\u001b[1;33m\u001b[0m\u001b[1;33m\u001b[0m\u001b[0m\n\u001b[0;32m      3\u001b[0m \u001b[0mdf\u001b[0m\u001b[1;33m[\u001b[0m\u001b[1;34m'color'\u001b[0m\u001b[1;33m]\u001b[0m \u001b[1;33m=\u001b[0m \u001b[0mdf\u001b[0m\u001b[1;33m.\u001b[0m\u001b[0mclusters\u001b[0m\u001b[1;33m.\u001b[0m\u001b[0mmap\u001b[0m\u001b[1;33m(\u001b[0m\u001b[0mcolors_dict\u001b[0m\u001b[1;33m)\u001b[0m\u001b[1;33m\u001b[0m\u001b[1;33m\u001b[0m\u001b[0m\n",
            "\u001b[1;32mc:\\Users\\dmitr\\AppData\\Local\\Programs\\Python\\Python39\\lib\\site-packages\\pandas\\core\\generic.py\u001b[0m in \u001b[0;36m__getattr__\u001b[1;34m(self, name)\u001b[0m\n\u001b[0;32m   5573\u001b[0m         ):\n\u001b[0;32m   5574\u001b[0m             \u001b[1;32mreturn\u001b[0m \u001b[0mself\u001b[0m\u001b[1;33m[\u001b[0m\u001b[0mname\u001b[0m\u001b[1;33m]\u001b[0m\u001b[1;33m\u001b[0m\u001b[1;33m\u001b[0m\u001b[0m\n\u001b[1;32m-> 5575\u001b[1;33m         \u001b[1;32mreturn\u001b[0m \u001b[0mobject\u001b[0m\u001b[1;33m.\u001b[0m\u001b[0m__getattribute__\u001b[0m\u001b[1;33m(\u001b[0m\u001b[0mself\u001b[0m\u001b[1;33m,\u001b[0m \u001b[0mname\u001b[0m\u001b[1;33m)\u001b[0m\u001b[1;33m\u001b[0m\u001b[1;33m\u001b[0m\u001b[0m\n\u001b[0m\u001b[0;32m   5576\u001b[0m \u001b[1;33m\u001b[0m\u001b[0m\n\u001b[0;32m   5577\u001b[0m     \u001b[1;32mdef\u001b[0m \u001b[0m__setattr__\u001b[0m\u001b[1;33m(\u001b[0m\u001b[0mself\u001b[0m\u001b[1;33m,\u001b[0m \u001b[0mname\u001b[0m\u001b[1;33m:\u001b[0m \u001b[0mstr\u001b[0m\u001b[1;33m,\u001b[0m \u001b[0mvalue\u001b[0m\u001b[1;33m)\u001b[0m \u001b[1;33m->\u001b[0m \u001b[1;32mNone\u001b[0m\u001b[1;33m:\u001b[0m\u001b[1;33m\u001b[0m\u001b[1;33m\u001b[0m\u001b[0m\n",
            "\u001b[1;31mAttributeError\u001b[0m: 'DataFrame' object has no attribute 'clusters'"
          ]
        }
      ],
      "source": [
        "df['cen_x'] = df.clusters.map(centroids_x_dict) \n",
        "df['cen_y'] = df.clusters.map(centroids_y_dict)\n",
        "df['color'] = df.clusters.map(colors_dict)"
      ]
    },
    {
      "cell_type": "code",
      "execution_count": null,
      "id": "300db14a",
      "metadata": {
        "id": "300db14a",
        "outputId": "991ff41d-d692-4f7c-a977-8765f7c9eb8b"
      },
      "outputs": [],
      "source": [
        "df.head()"
      ]
    },
    {
      "cell_type": "markdown",
      "id": "c9df125a",
      "metadata": {
        "id": "c9df125a"
      },
      "source": [
        "## Визуализация кластеров"
      ]
    },
    {
      "cell_type": "code",
      "execution_count": null,
      "id": "c3f23694",
      "metadata": {
        "id": "c3f23694",
        "outputId": "83d3c8a9-8fcc-4013-9b62-b86fa81fc6ec"
      },
      "outputs": [],
      "source": [
        "sns.scatterplot(x=df.latitude, y=df.longitude, c=df.color, alpha=0.2, s=170)"
      ]
    },
    {
      "cell_type": "markdown",
      "id": "9ab49dfc",
      "metadata": {
        "id": "9ab49dfc"
      },
      "source": [
        "## Визуализация центроидов "
      ]
    },
    {
      "cell_type": "code",
      "execution_count": null,
      "id": "7c7106dd",
      "metadata": {
        "id": "7c7106dd",
        "outputId": "aaff98f4-a7ad-4726-9a2c-a2cd8ab252c8"
      },
      "outputs": [],
      "source": [
        "fig, axes = plt.subplots(figsize=(8, 6))\n",
        "# визуализируем элементы датасета\n",
        "# параметр c отвечает за цвет элемента в зависимости от того, к какому кластеру он принадлежит\n",
        "# s отвечает за размер объектов на графике, alpha отвечает за прозрачность точек\n",
        "sns.scatterplot(x=df.latitude, y=df.longitude, c=df.color, s=50, alpha=0.5)\n",
        "# визуализируем центроиды: отметим их на графике крестиком (marker=\"X\") и зададим им розовый цвет \n",
        "sns.scatterplot(x=centroids_x, y=centroids_y, marker=\"X\", c=['#FC46AA'], s=130)"
      ]
    },
    {
      "cell_type": "markdown",
      "id": "2bfe00b3",
      "metadata": {
        "id": "2bfe00b3"
      },
      "source": [
        "## Convex Hull"
      ]
    },
    {
      "cell_type": "markdown",
      "id": "0a3dc200",
      "metadata": {
        "id": "0a3dc200"
      },
      "source": [
        "Для построения выпуклой оболочки для каждого кластера воспользуемся библиотекой scipy и модулем ConvexHull.\n",
        "ConvexHull на вход принимает значения признаков объектов, для которых нужно построит выпуклую оболочку. \n",
        "Индексы точек из points, которые образуют вершины выпуклой оболочки можно получить с помощью метода vertices:\n",
        "\n",
        "\n",
        "points = np.array([[ 40.64524, -74.08088], [ 40.63536, -74.08537], [ 40.63627, -74.08543], [ 40.63518, -74.08546], [ 40.63481, -74.08519]])\n",
        "hull = ConvexHull(points)\n",
        "hull.vertices\n",
        "\n",
        "И мы получим списк из значений координат [0, 4, 3, 2]\n",
        "После этого мы можем найти координаты этих точек из списка points."
      ]
    },
    {
      "cell_type": "code",
      "execution_count": null,
      "id": "d2935dea",
      "metadata": {
        "id": "d2935dea",
        "outputId": "dcef31d5-55d9-4c2d-de41-f7c0accec9d1"
      },
      "outputs": [],
      "source": [
        "from scipy.spatial import ConvexHull \n",
        "import numpy as np\n",
        "\n",
        "fig, ax = plt.subplots(1, figsize=(8,8))\n",
        "\n",
        "# визуализируем объекты кластеров и центроиды\n",
        "plt.scatter(df.latitude, df.longitude, c=df.color, alpha = 0.6, s=10)\n",
        "plt.scatter(centroids_x, centroids_y, marker='^', c=colors, s=70)\n",
        "\n",
        "# найдем уникальные значения кластеров и проитерируемся по каждому кластеру\n",
        "for i in df.clusters.unique():\n",
        "    # запишем в points значения признаков широты и долготы принадлежащие i-му кластеру\n",
        "    points = df[df.clusters == i][['latitude', 'longitude']].values\n",
        " \n",
        "    hull = ConvexHull(points)\n",
        "    \n",
        "    # запишем координаты оболочки по оси x. Из hull.vertices мы узнаем индексы элементов, входящих в оболочку\n",
        "    # так как оболочка должна быть замкнутой, то в конце добавляем еще раз нулевой элемент\n",
        "    x_hull = np.append(points[hull.vertices, 0], points[hull.vertices, 0][0]) \n",
        "    y_hull = np.append(points[hull.vertices, 1], points[hull.vertices, 1][0]) \n",
        "    \n",
        "    # рисуем оболочку и заливаем ее таким же цветом как и объекты кластера\n",
        "    plt.fill(x_hull, y_hull, alpha=0.2, c=colors[i])\n"
      ]
    },
    {
      "cell_type": "markdown",
      "id": "b0d76527",
      "metadata": {
        "id": "b0d76527"
      },
      "source": [
        "## Дендрограммы "
      ]
    },
    {
      "cell_type": "code",
      "execution_count": null,
      "id": "3537b351",
      "metadata": {
        "id": "3537b351"
      },
      "outputs": [],
      "source": [
        "# импортируем алгомеративную кластеризацию из sklearn\n",
        "from sklearn.cluster import AgglomerativeClustering\n",
        "\n",
        "# запускаем агломеративную кластеризацию\n",
        "agglomerative_clustering = AgglomerativeClustering(n_clusters=6, linkage='single')\n",
        "\n",
        "# обучаем модель\n",
        "predictions_ag_model = agglomerative_clustering.fit_predict(df[['latitude', 'longitude']])"
      ]
    },
    {
      "cell_type": "markdown",
      "id": "f5b78d7f",
      "metadata": {
        "id": "f5b78d7f"
      },
      "source": [
        "Как мы уже знаем, результаты иерархической кластеризации можно представить в виде дендрограммы. Теперь научимся рисовать дендрограммы с предсказаниями. Для этого нам понадобится библиотека scipy и модули dendrogram и linkage.\n",
        "linkage - это способ подсчета расстояния между двумя кластерами.\n",
        "В переменной method можно задать разные способы подсчета рассчета расстояния: single, complete, average, weighted, centroid, median, ward.\n",
        "\n",
        "Функция dendrogram строит дендрограмму, основываясь на информацию о расстоянии объектов, полученную из функции linkage, данная информация позволит строить ветви дендрограммы разной высоты.\n",
        "Рассмотрим одни из наиболее важных переменных, которые принимает функция dendrogram:\n",
        "- параметр Z - расстояния до объектов кластеров, полученные из функции linkage;\n",
        "- orientation - ориентация дендрограммы. Данный параметр может принимать значения top, bottom, left, right;\n",
        "- labels - список с предсказаниями, к какому кластеру какой объект относится\n",
        "- distance_sort - определяет в каком порядке будут визуализированы кластеры. ascending или True означает, что сначала отрисовывается пара кластеров с наибольшим расстоянием между ними. descending или False означает, что сначала отрисовывается пара кластеров с минимальным расстоянием между ними.\n"
      ]
    },
    {
      "cell_type": "code",
      "execution_count": null,
      "id": "7e4d9761",
      "metadata": {
        "id": "7e4d9761",
        "outputId": "da2e2142-8cf5-4230-b986-a8682909ea10"
      },
      "outputs": [],
      "source": [
        "from scipy.cluster.hierarchy import dendrogram, linkage\n",
        "from matplotlib import pyplot as plt\n",
        "\n",
        "# расссчитаем расстояния между кластерами\n",
        "linked = linkage(df[[\"latitude\", \"longitude\"]], 'single')\n",
        "\n",
        "plt.figure(figsize=(20, 17))\n",
        "\n",
        "# визуализируем дендрограмму с ориентацией top\n",
        "# сначала будут отрисовываться кластеры с минимальным расстоянием между друг другом\n",
        "dendrogram(Z=linked,\n",
        "            orientation='top',\n",
        "            labels=predictions_ag_model,\n",
        "            distance_sort='descending')\n",
        "\n",
        "plt.show()"
      ]
    },
    {
      "cell_type": "code",
      "execution_count": null,
      "id": "3da9bfeb",
      "metadata": {
        "id": "3da9bfeb",
        "outputId": "0da284fb-4e57-448d-80d5-ee0b8c59e21b"
      },
      "outputs": [],
      "source": [
        "from scipy.cluster.hierarchy import dendrogram, linkage\n",
        "from matplotlib import pyplot as plt\n",
        "\n",
        "\n",
        "linked = linkage(df[:30][[\"latitude\", \"longitude\"]], 'single')\n",
        "\n",
        "plt.figure(figsize=(10, 7))\n",
        "\n",
        "dendrogram(Z=linked,\n",
        "            orientation='top',\n",
        "            labels=predictions_ag_model[:30],\n",
        "            distance_sort='ascending')\n",
        "\n",
        "plt.show()"
      ]
    },
    {
      "cell_type": "markdown",
      "id": "553b2a9d",
      "metadata": {
        "id": "553b2a9d"
      },
      "source": [
        "## Clustergram визуализация"
      ]
    },
    {
      "cell_type": "code",
      "execution_count": null,
      "id": "be1b1d9f",
      "metadata": {
        "id": "be1b1d9f",
        "outputId": "bf51112e-e3a8-44e4-bfa4-53c5618c47ff"
      },
      "outputs": [],
      "source": [
        "from clustergram import Clustergram\n",
        "\n",
        "# задаем количество кластеров, для которого хотим получить визуализиацию\n",
        "cgram = Clustergram(range(1, 9), method='kmeans')\n",
        "# запускаем алгоритм\n",
        "cgram.fit(df[[\"latitude\", \"longitude\"]])\n",
        "cgram.plot()"
      ]
    },
    {
      "cell_type": "markdown",
      "id": "33adabdf",
      "metadata": {
        "id": "33adabdf"
      },
      "source": [
        "## 3D визуализация"
      ]
    },
    {
      "cell_type": "code",
      "execution_count": null,
      "id": "d6e51631",
      "metadata": {
        "id": "d6e51631"
      },
      "outputs": [],
      "source": [
        "# инициализируем k-means кластеризацию с 6 кластерами\n",
        "kmeans_clustering = KMeans(n_clusters=6)\n",
        "\n",
        "# обучим k-means модель кластеризации на данных широты, долготы и цене, сохраним данные о кластерах для этих данных в kmeans_predictions\n",
        "kmeans_predictions = kmeans_clustering.fit_predict(df[['latitude', 'longitude', 'price']])\n",
        "\n",
        "# сохраним предсказания в колонку clusters датафрейма\n",
        "df[\"clusters_3d\"] = kmeans_predictions"
      ]
    },
    {
      "cell_type": "code",
      "execution_count": null,
      "id": "f73890dc",
      "metadata": {
        "id": "f73890dc",
        "outputId": "0f60d1bf-d3c7-41c8-ee67-df793fd3d11d"
      },
      "outputs": [],
      "source": [
        "from mpl_toolkits.mplot3d import Axes3D\n",
        "\n",
        "# создаем трехмерный объект\n",
        "fig = plt.figure(figsize=(6,6))\n",
        "ax = Axes3D(fig)\n",
        "# добавитм дольнительную ось в объект картинки\n",
        "fig.add_axes(ax)\n",
        "\n",
        "\n",
        "# визуализируем данные, передав значения x, y, z, а также информацию о группировке данных по цветам\n",
        "ax.scatter(df.longitude.to_list(), df.latitude.to_list(), df.price.to_list(), c=df.clusters_3d)\n",
        "# добавим оси\n",
        "ax.set_xlabel('longitude')\n",
        "ax.set_ylabel('latitude')\n",
        "ax.set_zlabel('price')"
      ]
    },
    {
      "cell_type": "code",
      "execution_count": null,
      "id": "14911f67",
      "metadata": {
        "id": "14911f67",
        "outputId": "bf1c062c-f4df-45de-c04b-44d17e603978"
      },
      "outputs": [],
      "source": [
        "from mpl_toolkits.mplot3d import Axes3D\n",
        "\n",
        "# создаем трехмерный объект\n",
        "fig = plt.figure(figsize=(6,6))\n",
        "ax = Axes3D(fig)\n",
        "# добавитм дольнительную ось в объект картинки\n",
        "fig.add_axes(ax)\n",
        "\n",
        "\n",
        "ax.azim = 30\n",
        "ax.elev = 20\n",
        "\n",
        "\n",
        "# визуализируем данные, передав значения x, y, z, а также информацию о группировке данных по цветам\n",
        "ax.scatter(df.longitude.to_list(), df.latitude.to_list(), df.price.to_list(), c=df.clusters_3d)\n",
        "# добавим оси\n",
        "ax.set_xlabel('longitude')\n",
        "ax.set_ylabel('latitude')\n",
        "ax.set_zlabel('price')"
      ]
    },
    {
      "cell_type": "code",
      "execution_count": null,
      "id": "4ab77096",
      "metadata": {
        "id": "4ab77096",
        "outputId": "58145fe6-f0c2-4212-86f5-720dd8849e45"
      },
      "outputs": [],
      "source": [
        "import plotly\n",
        "import plotly.express as px\n",
        "\n",
        "fig = px.scatter_3d(\n",
        "    data_frame=df, \n",
        "    x = 'longitude', \n",
        "    y = 'latitude', \n",
        "    z = 'price', \n",
        "    color='clusters_3d', \n",
        "\n",
        "    width=1000,\n",
        "    height=700\n",
        ")\n",
        "\n",
        "fig.show()"
      ]
    }
  ],
  "metadata": {
    "colab": {
      "name": "visualization.ipynb",
      "provenance": []
    },
    "kernelspec": {
      "display_name": "Python 3 (ipykernel)",
      "language": "python",
      "name": "python3"
    },
    "language_info": {
      "codemirror_mode": {
        "name": "ipython",
        "version": 3
      },
      "file_extension": ".py",
      "mimetype": "text/x-python",
      "name": "python",
      "nbconvert_exporter": "python",
      "pygments_lexer": "ipython3",
      "version": "3.9.7"
    }
  },
  "nbformat": 4,
  "nbformat_minor": 5
}
