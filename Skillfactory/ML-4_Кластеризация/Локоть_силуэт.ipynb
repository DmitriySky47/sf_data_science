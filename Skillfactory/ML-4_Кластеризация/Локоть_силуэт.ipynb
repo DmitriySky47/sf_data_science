{
 "cells": [
  {
   "cell_type": "markdown",
   "metadata": {},
   "source": [
    "### Определение колицества кластеров методами Локтя и Силуэта"
   ]
  },
  {
   "cell_type": "markdown",
   "metadata": {},
   "source": [
    "#### Метод локтя (инерции)"
   ]
  },
  {
   "cell_type": "code",
   "execution_count": 2,
   "metadata": {},
   "outputs": [],
   "source": [
    "# импорт бибилиотек\n",
    "import pandas as pd\n",
    "import seaborn as sns\n",
    "from sklearn.cluster import KMeans # библиотека для кластеризации\n",
    "import matplotlib.pyplot as plt"
   ]
  },
  {
   "cell_type": "code",
   "execution_count": 3,
   "metadata": {},
   "outputs": [
    {
     "data": {
      "text/html": [
       "<div>\n",
       "<style scoped>\n",
       "    .dataframe tbody tr th:only-of-type {\n",
       "        vertical-align: middle;\n",
       "    }\n",
       "\n",
       "    .dataframe tbody tr th {\n",
       "        vertical-align: top;\n",
       "    }\n",
       "\n",
       "    .dataframe thead th {\n",
       "        text-align: right;\n",
       "    }\n",
       "</style>\n",
       "<table border=\"1\" class=\"dataframe\">\n",
       "  <thead>\n",
       "    <tr style=\"text-align: right;\">\n",
       "      <th></th>\n",
       "      <th>Name</th>\n",
       "      <th>Total</th>\n",
       "      <th>HP</th>\n",
       "      <th>Attack</th>\n",
       "      <th>Defense</th>\n",
       "      <th>Sp. Atk</th>\n",
       "      <th>Sp. Def</th>\n",
       "      <th>Speed</th>\n",
       "      <th>RealClusters</th>\n",
       "    </tr>\n",
       "  </thead>\n",
       "  <tbody>\n",
       "    <tr>\n",
       "      <th>0</th>\n",
       "      <td>Bulbasaur</td>\n",
       "      <td>318</td>\n",
       "      <td>45</td>\n",
       "      <td>77.634658</td>\n",
       "      <td>50.854702</td>\n",
       "      <td>65</td>\n",
       "      <td>65</td>\n",
       "      <td>45</td>\n",
       "      <td>2</td>\n",
       "    </tr>\n",
       "    <tr>\n",
       "      <th>1</th>\n",
       "      <td>Ivysaur</td>\n",
       "      <td>405</td>\n",
       "      <td>60</td>\n",
       "      <td>67.454273</td>\n",
       "      <td>39.202323</td>\n",
       "      <td>80</td>\n",
       "      <td>80</td>\n",
       "      <td>60</td>\n",
       "      <td>1</td>\n",
       "    </tr>\n",
       "    <tr>\n",
       "      <th>2</th>\n",
       "      <td>Venusaur</td>\n",
       "      <td>525</td>\n",
       "      <td>80</td>\n",
       "      <td>76.007423</td>\n",
       "      <td>47.605846</td>\n",
       "      <td>100</td>\n",
       "      <td>100</td>\n",
       "      <td>80</td>\n",
       "      <td>2</td>\n",
       "    </tr>\n",
       "    <tr>\n",
       "      <th>3</th>\n",
       "      <td>VenusaurMega Venusaur</td>\n",
       "      <td>625</td>\n",
       "      <td>80</td>\n",
       "      <td>77.828031</td>\n",
       "      <td>50.744911</td>\n",
       "      <td>122</td>\n",
       "      <td>120</td>\n",
       "      <td>80</td>\n",
       "      <td>2</td>\n",
       "    </tr>\n",
       "    <tr>\n",
       "      <th>4</th>\n",
       "      <td>Charmander</td>\n",
       "      <td>309</td>\n",
       "      <td>39</td>\n",
       "      <td>68.658104</td>\n",
       "      <td>37.890027</td>\n",
       "      <td>60</td>\n",
       "      <td>50</td>\n",
       "      <td>65</td>\n",
       "      <td>1</td>\n",
       "    </tr>\n",
       "  </tbody>\n",
       "</table>\n",
       "</div>"
      ],
      "text/plain": [
       "                    Name  Total  HP     Attack    Defense  Sp. Atk  Sp. Def  \\\n",
       "0              Bulbasaur    318  45  77.634658  50.854702       65       65   \n",
       "1                Ivysaur    405  60  67.454273  39.202323       80       80   \n",
       "2               Venusaur    525  80  76.007423  47.605846      100      100   \n",
       "3  VenusaurMega Venusaur    625  80  77.828031  50.744911      122      120   \n",
       "4             Charmander    309  39  68.658104  37.890027       60       50   \n",
       "\n",
       "   Speed  RealClusters  \n",
       "0     45             2  \n",
       "1     60             1  \n",
       "2     80             2  \n",
       "3     80             2  \n",
       "4     65             1  "
      ]
     },
     "execution_count": 3,
     "metadata": {},
     "output_type": "execute_result"
    }
   ],
   "source": [
    "# load data\n",
    "df = pd.read_csv('data/pokemon.csv')\n",
    "df.head()\n"
   ]
  },
  {
   "cell_type": "code",
   "execution_count": 4,
   "metadata": {},
   "outputs": [],
   "source": [
    "# Функция, которая принимает количество кластеров дл k-means и матрицу с признаками объектов, и возвращает инерцию\n",
    "def get_inertia (cluster_num, X):\n",
    "    k_means = KMeans(n_clusters=cluster_num, random_state=42) # инициализируем алгоритм кластеризации\n",
    "    k_means.fit(X) # запускаем алгоритм\n",
    "    inertia = k_means.inertia_ # находим значение инерции\n",
    "    \n",
    "    # возвращаем значение инерции из функции\n",
    "    return inertia"
   ]
  },
  {
   "cell_type": "code",
   "execution_count": 5,
   "metadata": {},
   "outputs": [],
   "source": [
    "# произведем кластеризацию покемонов по уровню атаки и защиты\n",
    "X = df[['Attack', 'Defense']]\n",
    "\n",
    "# создаем пустой список для значений инерции\n",
    "inertia = []\n",
    "\n",
    "# интерируемся по каличеству кластеров (от 1 до 9)  сохраняем значения инерции для каждого значения кол-ва кластеров\n",
    "for cluster_num in range(1, 10):\n",
    "    # добавляем значения инерции в список\n",
    "    inertia.append(get_inertia(cluster_num, X))"
   ]
  },
  {
   "cell_type": "code",
   "execution_count": 6,
   "metadata": {},
   "outputs": [
    {
     "data": {
      "text/plain": [
       "[<matplotlib.lines.Line2D at 0x19fa35dce20>]"
      ]
     },
     "execution_count": 6,
     "metadata": {},
     "output_type": "execute_result"
    },
    {
     "data": {
      "image/png": "[encoded data removed]",
      "text/plain": [
       "<Figure size 432x288 with 1 Axes>"
      ]
     },
     "metadata": {
      "needs_background": "light"
     },
     "output_type": "display_data"
    }
   ],
   "source": [
    "# визуализируем значение \n",
    "plt.xlabel('clusters', fontsize=12) # ось количества кластеров\n",
    "plt.ylabel('inertia', fontsize=12) # ось со знвчениями инерции для каждого количества кластеров\n",
    "\n",
    "# рисуем диаграмму\n",
    "plt.plot([i for i in range(1, 10)], inertia, 'xb-')\n",
    "\n",
    "# изгиб локтя на количестве трёх кластеров"
   ]
  },
  {
   "cell_type": "markdown",
   "metadata": {},
   "source": [
    "#### Метод силуэта"
   ]
  },
  {
   "cell_type": "code",
   "execution_count": 7,
   "metadata": {},
   "outputs": [],
   "source": [
    "# Импорт метрики силуэта\n",
    "from sklearn.metrics import silhouette_score"
   ]
  },
  {
   "cell_type": "code",
   "execution_count": 8,
   "metadata": {},
   "outputs": [],
   "source": [
    "# Функция для подсчета метрики методом силуэта\n",
    "def get_silhouette(cluster_num, X):\n",
    "    k_means = KMeans(n_clusters=cluster_num, init='k-means++', n_init=10, random_state=42) # инициализируем алгоритм кластеризации\n",
    "    k_means.fit(X) # запускаем алгоритм\n",
    "    \n",
    "    # считаем метрику силуэта, передав данные и результат кластеризации данных (т.е. к каким кластер относятся объекты)\n",
    "    silhouette = silhouette_score(X, k_means.predict(X))\n",
    "    return silhouette # возвращаем значение функции"
   ]
  },
  {
   "cell_type": "code",
   "execution_count": 9,
   "metadata": {},
   "outputs": [
    {
     "data": {
      "text/plain": [
       "<Axes: xlabel='cluster', ylabel='silhouette'>"
      ]
     },
     "execution_count": 9,
     "metadata": {},
     "output_type": "execute_result"
    },
    {
     "data": {
      "image/png": "[encoded data removed]",
      "text/plain": [
       "<Figure size 432x288 with 1 Axes>"
      ]
     },
     "metadata": {
      "needs_background": "light"
     },
     "output_type": "display_data"
    }
   ],
   "source": [
    "# Создаем словарь с ключами инерции и количества кластеров, значения будут списки\n",
    "silhouette_res = {'silhouette': [], 'cluster': []}\n",
    "\n",
    "# выберем нужные признаки: атака и защита\n",
    "X = df[['Attack', 'Defense']]\n",
    "\n",
    "for cluster_num in range(2, 10): # итерируем количество кластеров от 2 до 10\n",
    "    silhouette_res['silhouette'].append(get_silhouette(cluster_num, X)) # в словарь по ключу добавляем в список занчение функции\n",
    "    silhouette_res['cluster'].append(cluster_num) # в словарь по ключу добавляем в список значение функции\n",
    "    \n",
    "silhouette_df = pd.DataFrame(silhouette_res) # словарь со значениями функции преобразуем в дата-фрейм\n",
    "\n",
    "# визуализируем метрику силуэт\n",
    "sns.lineplot(data=silhouette_res, x='cluster', y='silhouette', marker='o')\n",
    "\n",
    "# пик диаграммы на точке 3"
   ]
  },
  {
   "cell_type": "markdown",
   "metadata": {},
   "source": [
    "##### Задание 2.7 Кластеризуйте данные и, используя коэффициент силуэта, найдите оптимальное количество кластеров"
   ]
  },
  {
   "cell_type": "code",
   "execution_count": 10,
   "metadata": {},
   "outputs": [
    {
     "name": "stdout",
     "output_type": "stream",
     "text": [
      "Пик диаграммы на значении 3\n"
     ]
    },
    {
     "data": {
      "image/png": "[encoded data removed]",
      "text/plain": [
       "<Figure size 432x288 with 1 Axes>"
      ]
     },
     "metadata": {
      "needs_background": "light"
     },
     "output_type": "display_data"
    }
   ],
   "source": [
    "df = pd.read_csv('data/values_from_the_instrument.csv')\n",
    "\n",
    "# Создаем словарь с ключами инерции и количества кластеров, значения будут списки\n",
    "silhouette_res = {'silhouette': [], 'cluster': []}\n",
    "\n",
    "for cluster_num in range(2, 10): # итерируем количество кластеров от 2 до 10\n",
    "    silhouette_res['silhouette'].append(get_silhouette(cluster_num, df)) # в словарь по ключу добавляем в список занчение функции\n",
    "    silhouette_res['cluster'].append(cluster_num) # в словарь по ключу добавляем в список занчение функции\n",
    "    \n",
    "silhouette_df = pd.DataFrame(silhouette_res) # словарь со значениями функции преобразуем в дата-фрейм\n",
    "\n",
    "# визуализируем метрику силуэт\n",
    "sns.lineplot(data=silhouette_res, x='cluster', y='silhouette', marker='o')\n",
    "\n",
    "print('Пик диаграммы на значении 3')"
   ]
  }
 ],
 "metadata": {
  "kernelspec": {
   "display_name": "Python 3",
   "language": "python",
   "name": "python3"
  },
  "language_info": {
   "codemirror_mode": {
    "name": "ipython",
    "version": 3
   },
   "file_extension": ".py",
   "mimetype": "text/x-python",
   "name": "python",
   "nbconvert_exporter": "python",
   "pygments_lexer": "ipython3",
   "version": "3.9.7"
  }
 },
 "nbformat": 4,
 "nbformat_minor": 2
}
