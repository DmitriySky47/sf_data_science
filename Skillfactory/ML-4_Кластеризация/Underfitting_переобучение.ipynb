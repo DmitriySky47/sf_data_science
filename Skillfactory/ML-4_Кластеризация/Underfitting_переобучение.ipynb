{
 "cells": [
  {
   "cell_type": "markdown",
   "metadata": {},
   "source": [
    "### Overfitting, underfitting\n",
    "Переобучение недообучение"
   ]
  },
  {
   "cell_type": "code",
   "execution_count": 1,
   "metadata": {},
   "outputs": [],
   "source": [
    "# Загрузка необходимых библиотек\n",
    "\n",
    "import numpy as np #для матричных вычислений\n",
    "import pandas as pd #для обработки данных\n",
    "import matplotlib.pyplot as plt #для визуализации\n",
    "import seaborn as sns #для визуализации\n",
    "\n",
    "from sklearn import metrics #метрики\n",
    "from sklearn import model_selection #методы разделения и валидации\n",
    "from sklearn import linear_model #линейные модели\n",
    "from sklearn import tree #деревья решений\n",
    "\n",
    "from imblearn.over_sampling import SMOTE #алгоритм сэмплирования\n",
    "\n",
    "# Устанавливаем стиль визуализаций в matplotlib\n",
    "plt.style.use('seaborn-v0_8')\n",
    "%matplotlib inline"
   ]
  },
  {
   "cell_type": "code",
   "execution_count": null,
   "metadata": {},
   "outputs": [
    {
     "name": "stdout",
     "output_type": "stream",
     "text": [
      "Train shape: (2620, 9)\n",
      "Test shape: (656, 9)\n"
     ]
    }
   ],
   "source": [
    "#Первичный анализ дата-сета\n",
    "water_data = pd.read_csv('data/water_potability.csv')\n",
    "water_data.head()\n",
    "\n",
    "#Заполним пропуски медаиной в зависимост от класса воды\n",
    "water_data['ph'] = water_data['ph'].fillna(water_data.groupby('Potability')['ph'].transform('median'))\n",
    "water_data['Sulfate'] = water_data['Sulfate'].fillna(water_data.groupby('Potability')['Sulfate'].transform('median'))\n",
    "water_data['Trihalomethanes'] = water_data['Trihalomethanes'].fillna(water_data.groupby('Potability')['Trihalomethanes'].transform('median'))\n",
    "\n",
    "# Разделим выборку на набор данных X и вектор ответов y\n",
    "X = water_data.drop('Potability', axis=1)\n",
    "y = water_data['Potability']\n",
    "\n",
    "# Разобъем датасет на тренировочную и тестовую (валидационную) выборки\n",
    "X_train, X_valid, y_train, y_valid = model_selection.train_test_split(X, y, test_size=0.2, stratify=y, random_state=42)\n",
    "print(f'Train shape: {X_train.shape}')\n",
    "print(f'Test shape: {X_valid.shape}')"
   ]
  },
  {
   "cell_type": "code",
   "execution_count": 18,
   "metadata": {},
   "outputs": [
    {
     "name": "stdout",
     "output_type": "stream",
     "text": [
      "----------------------------------------\n",
      "          Train F1-score 1.0\n",
      "          Valid F1-score 0.67\n",
      "----------------------------------------\n",
      "Модель переучена\n"
     ]
    }
   ],
   "source": [
    "#Создаем модель\n",
    "model_bad = tree.DecisionTreeClassifier(\n",
    "    criterion='entropy',\n",
    "    class_weight='balanced', #балансировка классов\n",
    "    random_state=42\n",
    ")\n",
    "\n",
    "#Обучаем модель на тренирововчной выборке\n",
    "model_bad.fit(X_train, y_train)\n",
    "#Деалем предсказания для тренировочной и валидационной выборок\n",
    "y_train_pred = model_bad.predict(X_train)\n",
    "y_valid_pred = model_bad.predict(X_valid)\n",
    "#Вычисляем значение метрик для выборок\n",
    "print('-'*40)\n",
    "print(f'{\" \" * 10}Train F1-score {metrics.f1_score(y_train, y_train_pred):.2}')\n",
    "print(f'{\" \" * 10}Valid F1-score {metrics.f1_score(y_valid, y_valid_pred):.2}')\n",
    "print('-'*40)\n",
    "print('Модель переучена')"
   ]
  },
  {
   "cell_type": "markdown",
   "metadata": {},
   "source": [
    "Проверим предположение о переобучении модели на кросс-валидации K-Fold"
   ]
  },
  {
   "cell_type": "code",
   "execution_count": 16,
   "metadata": {},
   "outputs": [
    {
     "data": {
      "text/plain": [
       "{'fit_time': array([0.09674001, 0.08977365, 0.04986715, 0.07775211, 0.07530785]),\n",
       " 'score_time': array([0.01695442, 0.00497198, 0.00395751, 0.00598478, 0.00498819]),\n",
       " 'test_score': array([0.61445783, 0.68421053, 0.62332696, 0.63276836, 0.70119522]),\n",
       " 'train_score': array([1., 1., 1., 1., 1.])}"
      ]
     },
     "metadata": {},
     "output_type": "display_data"
    },
    {
     "name": "stdout",
     "output_type": "stream",
     "text": [
      "Видно что на тренировочной выборке метрика = 1, сигнал о переобучении модели.\n"
     ]
    }
   ],
   "source": [
    "# Создаем объект кроссвалидатор k-fold со стратификацией\n",
    "skf = model_selection.StratifiedKFold(n_splits=5)\n",
    "\n",
    "# Считаем метрики на кросс-валидации со стратификацией\n",
    "cv_metrics = model_selection.cross_validate(\n",
    "    estimator=model_bad, #модель\n",
    "    X=X,\n",
    "    y=y,\n",
    "    cv=skf, # кросс-валидатор\n",
    "    scoring='f1', #метрика\n",
    "    return_train_score=True #Считаем метрику и на тренировочных фолдах\n",
    ")\n",
    "display(cv_metrics) # показываем метрику на всех пяти фолдах\n",
    "print('Видно что на тренировочной выборке метрика = 1, сигнал о переобучении модели.')"
   ]
  },
  {
   "cell_type": "code",
   "execution_count": 17,
   "metadata": {},
   "outputs": [
    {
     "name": "stdout",
     "output_type": "stream",
     "text": [
      "Train k-fold mean f1: 1.00\n",
      "Valid k-fold mean f1: 0.65\n"
     ]
    }
   ],
   "source": [
    "# подсчитаем среднее значение F1-score на выборках\n",
    "print('Train k-fold mean f1: {:.2f}'.format(np.mean(cv_metrics['train_score'])))\n",
    "print('Valid k-fold mean f1: {:.2f}'.format(np.mean(cv_metrics['test_score'])))"
   ]
  }
 ],
 "metadata": {
  "kernelspec": {
   "display_name": "Python 3",
   "language": "python",
   "name": "python3"
  },
  "language_info": {
   "codemirror_mode": {
    "name": "ipython",
    "version": 3
   },
   "file_extension": ".py",
   "mimetype": "text/x-python",
   "name": "python",
   "nbconvert_exporter": "python",
   "pygments_lexer": "ipython3",
   "version": "3.9.7"
  }
 },
 "nbformat": 4,
 "nbformat_minor": 2
}
