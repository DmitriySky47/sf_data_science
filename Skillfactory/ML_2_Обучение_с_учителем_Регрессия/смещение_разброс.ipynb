{
 "cells": [
  {
   "cell_type": "markdown",
   "metadata": {},
   "source": [
    "### Дилемма смещения и разброса. Полиномиальные признаки. Регуляризация"
   ]
  },
  {
   "cell_type": "code",
   "execution_count": 1,
   "metadata": {},
   "outputs": [],
   "source": [
    "import numpy as np #для матричных вычислений\n",
    "import pandas as pd #для анализа и предобработки данных\n",
    "import matplotlib.pyplot as plt #для визуализации\n",
    "import seaborn as sns #для визуализации\n",
    "from sklearn import linear_model #линейные модели\n",
    "from sklearn import metrics #метрики\n",
    "from sklearn import preprocessing # полиномиальные признаки\n",
    "%matplotlib inline\n",
    "plt.style.use('seaborn-v0_8')\n",
    "\n",
    "column_names = ['CRIM', 'ZN', 'INDUS', 'CHAS', 'NOX', 'RM', 'AGE', 'DIS', 'RAD', 'TAX', 'PTRATIO', 'B', 'LSTAT', 'MEDV']\n",
    "boston_data = pd.read_csv('data/housing.csv', header=None, delimiter=r\"\\s+\", names=column_names)\n",
    "boston_data.head()\n",
    "\n",
    "#Составляем список факторов (исключили целевой столбец)\n",
    "features = boston_data.drop('MEDV', axis=1).columns\n",
    "#Составляем матрицу наблюдений X и вектор ответов y\n",
    "X = boston_data[features]\n",
    "y = boston_data['MEDV']"
   ]
  },
  {
   "cell_type": "markdown",
   "metadata": {},
   "source": [
    "Разделим дата-сет на тренировочную и тестовую выборки в соотношении 70/30"
   ]
  },
  {
   "cell_type": "code",
   "execution_count": 2,
   "metadata": {},
   "outputs": [
    {
     "name": "stdout",
     "output_type": "stream",
     "text": [
      "Train: (354, 13) (354,)\n",
      "Train: (152, 13) (152,)\n"
     ]
    }
   ],
   "source": [
    "# инициализируем функцию по разделению дата сета на тренировочную и тестовую выборки\n",
    "from sklearn.model_selection import train_test_split #as tts\n",
    "\n",
    "# Делим выборку 70/30 и установим рандом - 40\n",
    "X_train, X_test, y_train, y_test = train_test_split(X, y, test_size=0.3, random_state=40)\n",
    "\n",
    "# вернем результирующие размеры таблиц\n",
    "print('Train:', X_train.shape, y_train.shape)\n",
    "print('Train:', X_test.shape, y_test.shape)"
   ]
  },
  {
   "cell_type": "markdown",
   "metadata": {},
   "source": [
    "Обучим линейную регрессию (с помощью МНК) на тренировочных данных и рассчитаем $R^2$ для тренировочных и тестовых данных"
   ]
  },
  {
   "cell_type": "code",
   "execution_count": 3,
   "metadata": {},
   "outputs": [
    {
     "name": "stdout",
     "output_type": "stream",
     "text": [
      "R2 score: 0.743\n",
      "R2 score: 0.722\n"
     ]
    }
   ],
   "source": [
    "# создаем объект класса LinearRegression\n",
    "lr_model = linear_model.LinearRegression()\n",
    "# обучаем модель МНК\n",
    "lr_model.fit(X_train, y_train)\n",
    "\n",
    "# делаем предсказание для тренировочной выборки\n",
    "y_train_predict = lr_model.predict(X_train)\n",
    "# делаем предсказание для тестовой выборки\n",
    "y_test_predict = lr_model.predict(X_test)\n",
    "\n",
    "# рассчитываем коэфф. детерминации R2\n",
    "print('R2 score: {:.3f}'.format(metrics.r2_score(y_train, y_train_predict)))\n",
    "print('R2 score: {:.3f}'.format(metrics.r2_score(y_test, y_test_predict)))"
   ]
  },
  {
   "cell_type": "markdown",
   "metadata": {},
   "source": [
    "На тренировочной выборке и $R^2$ на тестовой выборке. То есть показатели довольно близки друг к другу (низкий разброс ответов модели для разных выборок). Модель не переучена - no variance"
   ]
  },
  {
   "cell_type": "markdown",
   "metadata": {},
   "source": [
    "### Регуляризация L1 и L2"
   ]
  },
  {
   "cell_type": "code",
   "execution_count": 4,
   "metadata": {},
   "outputs": [
    {
     "name": "stdout",
     "output_type": "stream",
     "text": [
      "(354, 104)\n",
      "(152, 104)\n"
     ]
    }
   ],
   "source": [
    "# стандартизируем даные\n",
    "scaler=preprocessing.StandardScaler()\n",
    "\n",
    "# подгоняем параметры стандартизатора (вычисляем среднее и СКО)\n",
    "scaler.fit(X_train)\n",
    "\n",
    "#производим стандартизацию тренировочной выборки\n",
    "X_train_scaled = scaler.transform(X_train)\n",
    "\n",
    "# производим стнадартизацию тестовой выборке с таким же параметрами, что и на тренировочной\n",
    "X_test_scaled = scaler.transform(X_test)\n",
    "\n",
    "# создаём генератор полиномиальных признаков\n",
    "poly = preprocessing.PolynomialFeatures(degree=2, include_bias=False)\n",
    "poly.fit(X_train_scaled)\n",
    "\n",
    "# генерируем полиномиальные признаки для тренировочной выборки\n",
    "X_train_scaled_poly = poly.transform(X_train_scaled)\n",
    "# генерируем полиномиальные признаки для тестовой выборки\n",
    "X_test_scaled_poly = poly.transform(X_test_scaled)\n",
    "\n",
    "# выводим результирующие размерности таблиц\n",
    "print(X_train_scaled_poly.shape)\n",
    "print(X_test_scaled_poly.shape)"
   ]
  },
  {
   "cell_type": "markdown",
   "metadata": {},
   "source": [
    "#### В sklearn методы регуляризации реализованы в классах:\n",
    "#### Lasso (L1-регуляризация) и Ridge (L2-регуляризация).\n",
    "Оба метода осуществляют поиск параметров с добавлением регуляризации. Процесс обучения и предсказания не отличается от обычной линейной регрессии.\n",
    "<br>Главный параметр инициализации Lasso — это alpha, коэффициент регуляризации. По умолчанию alpha=1. Практика показывает, что это довольно сильная регуляризация для L1-метода. Давайте установим значение этого параметра на 0.1."
   ]
  },
  {
   "cell_type": "code",
   "execution_count": 5,
   "metadata": {},
   "outputs": [
    {
     "name": "stdout",
     "output_type": "stream",
     "text": [
      "R2 score: 0.879\n",
      "R2 score: 0.882\n"
     ]
    }
   ],
   "source": [
    "# модель линейной регрессии с L1-регуляризацией\n",
    "\n",
    "# создаём объект класса линейной регрессии L1-регуляризация\n",
    "lasso_lr_poly = linear_model.Lasso(alpha=0.1)\n",
    "\n",
    "# обучаем модель\n",
    "lasso_lr_poly.fit(X_train_scaled_poly, y_train)\n",
    "\n",
    "# предсказания для тренировочной выборки\n",
    "y_train_predict_poly = lasso_lr_poly.predict(X_train_scaled_poly)\n",
    "\n",
    "# предсказания для тестовой выборки\n",
    "y_test_predict_poly = lasso_lr_poly.predict(X_test_scaled_poly)\n",
    "\n",
    "# рассчитываем коэфф детерминации R2 для двух выборок\n",
    "print('R2 score: {:.3f}'.format(metrics.r2_score(y_train, y_train_predict_poly)))\n",
    "print('R2 score: {:.3f}'.format(metrics.r2_score(y_test, y_test_predict_poly)))"
   ]
  },
  {
   "cell_type": "markdown",
   "metadata": {},
   "source": [
    "Обратите внимание на то, как изменились значения метрик. Да, на тренировочной выборке $R^2 = 0.879$. Метрика упала (до стандартизации + регуляризации значение $R^2$ было $0.929$).\n",
    "<br>Однако метрика ощутимо выросла на тестовой выборке: $R^2$ = $0.882$ (ранее она была равна $0.268$).\n",
    "<br>Мы смогли преодолеть переобучение."
   ]
  },
  {
   "cell_type": "code",
   "execution_count": 6,
   "metadata": {},
   "outputs": [
    {
     "name": "stdout",
     "output_type": "stream",
     "text": [
      "[-0.     0.    -0.038  0.    -0.523  2.766 -0.355 -0.605  0.    -0.595\n",
      " -0.763  0.    -3.259 -0.    -0.     0.     3.132 -0.141  0.     0.\n",
      "  0.    -0.     0.     0.    -0.015 -0.     0.063 -0.    -0.     0.\n",
      "  0.159 -0.    -0.    -0.     0.     0.07  -0.    -0.     0.017  0.\n",
      "  0.    -0.     0.     0.     0.     0.    -0.    -0.     0.     0.46\n",
      " -0.808 -0.643  0.    -0.    -0.     0.    -0.     0.    -0.43  -0.348\n",
      " -0.511 -0.     0.    -0.14  -0.    -0.277  0.    -0.     0.223 -0.\n",
      " -0.    -0.836 -0.054 -0.421  0.019 -0.784  0.    -0.     0.706  0.\n",
      " -0.    -0.335 -0.198  0.    -0.     0.     0.205 -0.     0.531 -0.\n",
      "  0.     0.048 -0.    -0.292  0.677  0.81  -0.    -1.151 -0.    -0.\n",
      " -0.    -0.288 -0.356  0.429]\n"
     ]
    }
   ],
   "source": [
    "# выведем значения коэфф модели, округлив их о третьего знака\n",
    "print(np.round(lasso_lr_poly.coef_, 3))"
   ]
  },
  {
   "cell_type": "markdown",
   "metadata": {},
   "source": [
    "Большая часть коэффициентов обнулилась. Это значит, что признаки, которые соответствуют этим коэффициентам, не используются в прогнозе модели Lasso-регрессии."
   ]
  },
  {
   "cell_type": "code",
   "execution_count": 9,
   "metadata": {},
   "outputs": [
    {
     "name": "stdout",
     "output_type": "stream",
     "text": [
      "R2 score: 0.907\n",
      "R2 score: 0.848\n"
     ]
    }
   ],
   "source": [
    "# создаем класс линейной регресси L2-регуляризации\n",
    "ridge_lr_poly = linear_model.Ridge(alpha=10)\n",
    "\n",
    "# обучаем модель\n",
    "ridge_lr_poly.fit(X_train_scaled_poly, y_train)\n",
    "\n",
    "# предсказание для тренировочной выборки\n",
    "y_train_predict_poly = ridge_lr_poly.predict(X_train_scaled_poly)\n",
    "\n",
    "# предсказание для тестовой выборки\n",
    "y_test_predict_poly = ridge_lr_poly.predict(X_test_scaled_poly)\n",
    "\n",
    "# рассчитываем коэфф детерминации R2 для двух выборок\n",
    "print('R2 score: {:.3f}'.format(metrics.r2_score(y_train, y_train_predict_poly)))\n",
    "print('R2 score: {:.3f}'.format(metrics.r2_score(y_test, y_test_predict_poly)))"
   ]
  },
  {
   "cell_type": "markdown",
   "metadata": {},
   "source": [
    "Значения метрики $R^2$ на тестовой выборке для L1-регуляризации получились немного выше. В первую очередь мы всегда ориентируемся на тестовую выборку — это данные, которые модель ещё не видела."
   ]
  },
  {
   "cell_type": "code",
   "execution_count": 10,
   "metadata": {},
   "outputs": [
    {
     "name": "stdout",
     "output_type": "stream",
     "text": [
      "[ 0.128 -0.049  0.084  0.117 -0.932  2.848 -1.008 -1.464  0.909 -0.908\n",
      " -0.653  0.971 -2.605  0.085 -0.032  0.466  2.721 -0.507  0.986  0.309\n",
      " -0.391 -0.714  0.376 -0.379  0.072  0.287  0.143 -0.138 -0.014  0.315\n",
      "  0.05  -0.409 -0.316  0.075  0.702  0.08  -0.281 -0.37   0.511  0.175\n",
      "  0.72   0.282  0.477  0.888 -0.012  0.074 -0.052  0.166 -0.263  0.414\n",
      " -1.129 -0.852  0.273  0.227 -0.106  0.368 -0.137 -0.241 -0.697 -0.177\n",
      " -0.326 -0.524  0.882 -0.637  0.344 -0.439 -0.006  0.386  0.233 -0.535\n",
      "  0.111 -0.802 -0.662 -0.56   0.22  -1.001  0.123  0.144  0.889 -0.114\n",
      " -0.086 -1.022 -0.71   1.08  -0.446 -0.178 -0.07  -0.496  0.874 -0.926\n",
      "  0.717  0.601 -0.49  -0.723  0.308  1.086 -0.448 -1.256  0.057  0.354\n",
      " -0.059 -0.433 -0.791  0.177]\n"
     ]
    }
   ],
   "source": [
    "# выведем значения коэфф модели, округлив их о третьего знака\n",
    "print(np.round(ridge_lr_poly.coef_, 3))"
   ]
  },
  {
   "cell_type": "markdown",
   "metadata": {},
   "source": [
    "Видно, что L2-регуляризация не обнуляет коэффициенты — она использует для предсказания все признаки."
   ]
  },
  {
   "cell_type": "markdown",
   "metadata": {},
   "source": [
    "Давайте организуем процесс перебора параметров модели: создадим цикл, в котором будем перебирать 20 различных значений alpha в диапазоне от 0.001 до 1. Такой список проще всего создать с помощью функции $linspace()$ из библиотеки numpy.\n",
    "<https://pyprog.pro/array_creation/linspace.html>"
   ]
  },
  {
   "cell_type": "markdown",
   "metadata": {},
   "source": [
    "В цикле будем обучать модель линейной регрессии и L1-регуляризацией (Lasso), вычислять значения метрики $R^2$ на тренировочной и тестовой выборках и заносить результаты в списки train_scores и test_scores"
   ]
  },
  {
   "cell_type": "code",
   "execution_count": 13,
   "metadata": {},
   "outputs": [],
   "source": [
    "# создаем список из 20 возможных значений от 0.001 до 1\n",
    "alpha_list = np.linspace(0.001, 1, 20)\n",
    "# создадим два пустых списка, в которые будем добавлять результаты\n",
    "train_score = []\n",
    "test_score = []\n",
    "\n",
    "# с помощью цикла обучаем модель на 20 разныз значениях alpha и заполняем пустые списки\n",
    "for i in alpha_list:\n",
    "    # создаём объект класса линейной регрессии L1-регуляризация\n",
    "    lasso_lr_poly = linear_model.Lasso(alpha=i, max_iter=10000)\n",
    "    # обучаем модель\n",
    "    lasso_lr_poly.fit(X_train_scaled_poly, y_train)\n",
    "    # предсказания для тренировочной выборки\n",
    "    y_train_predict_poly = lasso_lr_poly.predict(X_train_scaled_poly)\n",
    "    # предсказания для тестовой выборки\n",
    "    y_test_predict_poly = lasso_lr_poly.predict(X_test_scaled_poly)\n",
    "    \n",
    "    # рассчитываем коэфф R2 и добавляем их в списки\n",
    "    train_score.append(metrics.r2_score(y_train, y_train_predict_poly))\n",
    "    test_score.append(metrics.r2_score(y_test, y_test_predict_poly))"
   ]
  },
  {
   "cell_type": "markdown",
   "metadata": {},
   "source": [
    "В результате выполнения данного кода в списках train_scores и test_scores появятся 20 различных значений $R^2$ на тренировочной и тестовой выборках.\n",
    "\n",
    "Давайте построим линейные графики, которые покажут, как меняется метрика $R^2$ на тренировочной и тестовой выборках в зависимости от alpha:"
   ]
  },
  {
   "cell_type": "code",
   "execution_count": 28,
   "metadata": {},
   "outputs": [
    {
     "data": {
      "image/png": "[encoded data removed]",
      "text/plain": [
       "<Figure size 1440x720 with 1 Axes>"
      ]
     },
     "metadata": {},
     "output_type": "display_data"
    }
   ],
   "source": [
    "# визуализируем R2 от alpha\n",
    "fig, ax = plt.subplots(figsize=(20, 10)) #создаем фигуру + координатную плоскость\n",
    "ax.plot(alpha_list, train_score, label='Train') # линейный график для тренировочной выборки\n",
    "ax.plot(alpha_list, test_score, label='Test') # линейный график для тестовой выборки\n",
    "ax.set_xlabel('Alpha') #название оси абсцисс\n",
    "ax.set_ylabel('R^2') # название оси ординат\n",
    "ax.set_xticks(alpha_list) # метка оси абсцисс\n",
    "ax.xaxis.set_tick_params(rotation=45) #поворот меток на оси абсцисс\n",
    "ax.legend(); # отображение легенды"
   ]
  },
  {
   "cell_type": "markdown",
   "metadata": {},
   "source": [
    "С помощью графика мы можем подобрать оптимальное значение параметра $alpha$. Нам нужна такая точка на оси абсцисс, при которой на тестовой выборке наблюдается максимальная метрика и при этом разница между метриками на тренировочной и тестовой выборках минимальна.\n",
    "\n",
    "Видно, что $R^2$ на тестовой выборке достигает наибольшего значения в точке $0.0536$. Причём в этой точке наблюдается примерное равенство метрик на каждом наборе данных. Далее метрика на тестовой выборке начинает падать.\n",
    "\n",
    "Обратите внимание, что на тренировочной выборке $R^2$ непрерывно падает с ростом $alpha$. Оно и понятно, ведь чем больше $alpha$, тем сильнее регуляризация и тем меньше модель подстраивается под обучающую выборку."
   ]
  },
  {
   "cell_type": "code",
   "execution_count": 57,
   "metadata": {},
   "outputs": [
    {
     "name": "stdout",
     "output_type": "stream",
     "text": [
      "R^2 score Train: 0.894\n",
      "R^2 score Test: 0.890\n"
     ]
    }
   ],
   "source": [
    "# подставим значение alpha=0.0536 в модель Lasso и получим результат\n",
    "# создаём объект класса линейной регрессии L1-регуляризация\n",
    "lasso_lr_poly = linear_model.Lasso(alpha=0.0536)\n",
    "\n",
    "# обучаем модель\n",
    "lasso_lr_poly.fit(X_train_scaled_poly, y_train)\n",
    "\n",
    "# предсказания для тренировочной выборки\n",
    "y_train_predict_poly = lasso_lr_poly.predict(X_train_scaled_poly)\n",
    "\n",
    "# предсказания для тестовой выборки\n",
    "y_test_predict_poly = lasso_lr_poly.predict(X_test_scaled_poly)\n",
    "\n",
    "# рассчитываем коэфф детерминации R2 для двух выборок\n",
    "print('R^2 score Train: {:.3f}'.format(metrics.r2_score(y_train, y_train_predict_poly)))\n",
    "print('R^2 score Test: {:.3f}'.format(metrics.r2_score(y_test, y_test_predict_poly)))"
   ]
  },
  {
   "cell_type": "markdown",
   "metadata": {},
   "source": [
    " Метрика $R^2$ выросла благодаря тому, что мы смогли подобрать оптимальное значение параметра $alpha$."
   ]
  }
 ],
 "metadata": {
  "kernelspec": {
   "display_name": "Python 3",
   "language": "python",
   "name": "python3"
  },
  "language_info": {
   "codemirror_mode": {
    "name": "ipython",
    "version": 3
   },
   "file_extension": ".py",
   "mimetype": "text/x-python",
   "name": "python",
   "nbconvert_exporter": "python",
   "pygments_lexer": "ipython3",
   "version": "3.9.7"
  }
 },
 "nbformat": 4,
 "nbformat_minor": 2
}
