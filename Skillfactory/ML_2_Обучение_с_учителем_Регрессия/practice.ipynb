{
 "cells": [
  {
   "cell_type": "code",
   "execution_count": null,
   "metadata": {},
   "outputs": [],
   "source": [
    "import numpy as np #для матричных вычислений\n",
    "import pandas as pd #для анализа и предобработки данных\n",
    "import matplotlib.pyplot as plt #для визуализации\n",
    "import seaborn as sns #для визуализации\n",
    "\n",
    "from sklearn import linear_model #линейные модели\n",
    "from sklearn import metrics #метрики\n",
    "from sklearn import preprocessing # полиномиальные признаки\n",
    "from sklearn.model_selection import train_test_split #сплитование выборки\n",
    "%matplotlib inline\n",
    "plt.style.use('seaborn-v0_8')"
   ]
  },
  {
   "cell_type": "markdown",
   "metadata": {},
   "source": [
    "Этапы CRISP-DM\n",
    "1. Анализ требований\n",
    "2. Исследование данных\n",
    "3. Подготовка данных\n",
    "4. Моделирование\n",
    "5. Оценка моедли"
   ]
  },
  {
   "cell_type": "markdown",
   "metadata": {},
   "source": [
    "#### 1. Анализ требований\n",
    "(ошибка модели +/- 2000 $)"
   ]
  },
  {
   "cell_type": "code",
   "execution_count": null,
   "metadata": {},
   "outputs": [],
   "source": [
    "# загрузка данных\n",
    "audi_data = pd.read_csv('data/audi.csv')\n",
    "audi_data.head()"
   ]
  },
  {
   "cell_type": "code",
   "execution_count": null,
   "metadata": {},
   "outputs": [],
   "source": [
    "# размерность таблицы\n",
    "audi_data.shape"
   ]
  },
  {
   "cell_type": "code",
   "execution_count": null,
   "metadata": {},
   "outputs": [],
   "source": [
    "# информация о дата-сете\n",
    "audi_data.info()\n",
    "\n",
    "# пропуски отсутствуют\n",
    "# три категориальных признака"
   ]
  },
  {
   "cell_type": "markdown",
   "metadata": {},
   "source": [
    "### Итерация №1"
   ]
  },
  {
   "cell_type": "markdown",
   "metadata": {},
   "source": [
    "#### 2. Исследование данных"
   ]
  },
  {
   "cell_type": "code",
   "execution_count": null,
   "metadata": {},
   "outputs": [],
   "source": [
    "# статистические данные\n",
    "audi_data.describe()"
   ]
  },
  {
   "cell_type": "code",
   "execution_count": null,
   "metadata": {},
   "outputs": [],
   "source": [
    "# статистические данные категориальных признаков\n",
    "audi_data.describe(include='object')"
   ]
  },
  {
   "cell_type": "code",
   "execution_count": null,
   "metadata": {},
   "outputs": [],
   "source": [
    "# создадим копию дата-сета\n",
    "temp_data = audi_data.copy()\n",
    "\n",
    "# создадим список числовых признаков\n",
    "types = temp_data.dtypes\n",
    "new_features = list(types[(types != 'object')].index)\n",
    "new_features"
   ]
  },
  {
   "cell_type": "markdown",
   "metadata": {},
   "source": [
    "Для каждого числового признака построим слева - гистограмма распрееления признака, справа - диаграмма рассеения с прямой \"числовой регрессии\", построинный с помощью МНК"
   ]
  },
  {
   "cell_type": "code",
   "execution_count": null,
   "metadata": {},
   "outputs": [],
   "source": [
    "n = len(new_features)\n",
    "\n",
    "fig, axes = plt.subplots(n, 2, figsize=(15,20))\n",
    "for i, feature in enumerate (new_features):\n",
    "    histplot = sns.histplot(data=temp_data, x=feature, ax=axes[i][0])\n",
    "    histplot.set_title(f'{feature} hist')\n",
    "    histplot.xaxis.set_tick_params(rotation=45)\n",
    "    regplot = sns.regplot(data=temp_data, x=feature, y='price', ax=axes[i][1])\n",
    "    regplot.set_title(f'{feature} VS price')\n",
    "    regplot.xaxis.set_tick_params(rotation=45)\n",
    "    \n",
    "plt.tight_layout()"
   ]
  },
  {
   "cell_type": "markdown",
   "metadata": {},
   "source": [
    "Выведем корреляцию признаков. Если корреляция хорошая, то и ленейная регрессия покажет себя также хорошо."
   ]
  },
  {
   "cell_type": "code",
   "execution_count": null,
   "metadata": {},
   "outputs": [],
   "source": [
    "#fig = plt.figure(figsize = (12, 5))\n",
    "heatmap = sns.heatmap(temp_data.corr(), annot=True,)\n",
    "display(heatmap)\n",
    "#plt.show()"
   ]
  },
  {
   "cell_type": "markdown",
   "metadata": {},
   "source": [
    "#### 2. Подготовка данных"
   ]
  },
  {
   "cell_type": "code",
   "execution_count": null,
   "metadata": {},
   "outputs": [],
   "source": [
    "# горячее кодирование категориальных признаков\n",
    "dummies_data = pd.get_dummies(temp_data)\n",
    "dummies_data.head()"
   ]
  },
  {
   "cell_type": "code",
   "execution_count": null,
   "metadata": {},
   "outputs": [],
   "source": [
    "# отделяем матрицу наблюдений и вектор правильных ответов\n",
    "X = dummies_data.drop('price', axis=1)\n",
    "y = dummies_data['price']"
   ]
  },
  {
   "cell_type": "code",
   "execution_count": null,
   "metadata": {},
   "outputs": [],
   "source": [
    "# делим матрицу на тестовую и тренировочную выборки\n",
    "X_train, X_test, y_train, y_test = train_test_split(X, y, test_size=0.2, random_state=40)\n",
    "print(f'Train shape: {X_train.shape}')\n",
    "print(f'Test shape: {X_test.shape}')"
   ]
  },
  {
   "cell_type": "markdown",
   "metadata": {},
   "source": [
    "#### 3. Моделирование"
   ]
  },
  {
   "cell_type": "code",
   "execution_count": 44,
   "metadata": {},
   "outputs": [],
   "source": [
    "# функция для подсчета метрик R^2, MAE, MAPE для тренировочной и тестовой выборок\n",
    "\n",
    "def print_metrics(y_train, y_train_predict, y_test, y_test_predict):\n",
    "    print(f'Train^2: {metrics.r2_score(y_train, y_train_predict):.3f}')\n",
    "    print(f'Train MAE: {metrics.mean_absolute_error(y_train, y_train_predict):.3f}')\n",
    "    print(f'Train MAPE: {(metrics.mean_absolute_percentage_error(y_train, y_train_predict)*100):.3f}')\n",
    "    print('\\n')\n",
    "    print(f'Test^2: {metrics.r2_score(y_test, y_test_predict):.3f}')\n",
    "    print(f'Test MAE: {(metrics.mean_absolute_error(y_test, y_test_predict)):.3f}')\n",
    "    print(f'Testt MAPE: {(metrics.mean_absolute_percentage_error(y_test, y_test_predict)*100):.3f}')"
   ]
  },
  {
   "cell_type": "markdown",
   "metadata": {},
   "source": [
    "Модель линейной регрессии"
   ]
  },
  {
   "cell_type": "markdown",
   "metadata": {},
   "source": [
    "Аналитическое решение: МНК"
   ]
  },
  {
   "cell_type": "code",
   "execution_count": 45,
   "metadata": {},
   "outputs": [
    {
     "name": "stdout",
     "output_type": "stream",
     "text": [
      "Train^2: 0.893\n",
      "Train MAE: 2550.204\n",
      "Train MAPE: 13.383\n",
      "\n",
      "\n",
      "Test^2: 0.887\n",
      "Test MAE: 2613.726\n",
      "Testt MAPE: 12.876\n"
     ]
    }
   ],
   "source": [
    "lr = linear_model.LinearRegression()\n",
    "lr.fit(X_train, y_train)\n",
    "y_train_pred = lr.predict(X_train)\n",
    "y_test_pred = lr.predict(X_test)\n",
    "\n",
    "print_metrics(y_train, y_train_pred, y_test, y_test_pred)"
   ]
  },
  {
   "cell_type": "markdown",
   "metadata": {},
   "source": [
    "Численное решение: метод градиентного спуска"
   ]
  },
  {
   "cell_type": "code",
   "execution_count": 47,
   "metadata": {},
   "outputs": [
    {
     "name": "stdout",
     "output_type": "stream",
     "text": [
      "Train^2: 0.888\n",
      "Train MAE: 2566.030\n",
      "Train MAPE: 13.819\n",
      "\n",
      "\n",
      "Test^2: 0.884\n",
      "Test MAE: 2601.702\n",
      "Testt MAPE: 12.876\n"
     ]
    }
   ],
   "source": [
    "# производим скалирование данных (стандартизация/нормализация)\n",
    "scaler = preprocessing.MinMaxScaler() #стандартизация/нормализация\n",
    "scaler.fit(X_train) # обучение на тренировочной выборке\n",
    "X_train_scaled = scaler.transform(X_train) # трансформирование тренировочной выборки\n",
    "X_test_scaled = scaler.transform(X_test) # трансформирование тестовой выборки\n",
    "\n",
    "# подача трансформированных данных в модель SGD\n",
    "sgd_lr = linear_model.SGDRegressor(random_state=42)\n",
    "sgd_lr.fit(X_train_scaled, y_train)\n",
    "y_train_pred = sgd_lr.predict(X_train_scaled)\n",
    "y_test_pred = sgd_lr.predict(X_test_scaled)\n",
    "\n",
    "print_metrics(y_train, y_train_pred, y_test, y_test_pred)"
   ]
  }
 ],
 "metadata": {
  "kernelspec": {
   "display_name": "Python 3",
   "language": "python",
   "name": "python3"
  },
  "language_info": {
   "codemirror_mode": {
    "name": "ipython",
    "version": 3
   },
   "file_extension": ".py",
   "mimetype": "text/x-python",
   "name": "python",
   "nbconvert_exporter": "python",
   "pygments_lexer": "ipython3",
   "version": "3.9.7"
  }
 },
 "nbformat": 4,
 "nbformat_minor": 2
}
