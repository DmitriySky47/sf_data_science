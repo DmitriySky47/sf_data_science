{
 "cells": [
  {
   "cell_type": "markdown",
   "metadata": {},
   "source": [
    "### Полиномиальные признаки\n",
    "Объекта класса PolynomialFeatures из модуля preprocessing\n",
    "<br><https://scikit-learn.org/stable/modules/generated/sklearn.preprocessing.PolynomialFeatures.html>."
   ]
  },
  {
   "cell_type": "code",
   "execution_count": 4,
   "metadata": {},
   "outputs": [],
   "source": [
    "import numpy as np #для матричных вычислений\n",
    "import pandas as pd #для анализа и предобработки данных\n",
    "import matplotlib.pyplot as plt #для визуализации\n",
    "import seaborn as sns #для визуализации\n",
    "from sklearn import linear_model #линейные модели\n",
    "from sklearn import metrics #метрики\n",
    "from sklearn import preprocessing # полиномиальные признаки\n",
    "%matplotlib inline\n",
    "plt.style.use('seaborn-v0_8')\n",
    "\n",
    "column_names = ['CRIM', 'ZN', 'INDUS', 'CHAS', 'NOX', 'RM', 'AGE', 'DIS', 'RAD', 'TAX', 'PTRATIO', 'B', 'LSTAT', 'MEDV']\n",
    "boston_data = pd.read_csv('data/housing.csv', header=None, delimiter=r\"\\s+\", names=column_names)\n",
    "boston_data.head()\n",
    "\n",
    "#Составляем список факторов (исключили целевой столбец)\n",
    "features = boston_data.drop('MEDV', axis=1).columns\n",
    "#Составляем матрицу наблюдений X и вектор ответов y\n",
    "X = boston_data[features]\n",
    "y = boston_data['MEDV']"
   ]
  },
  {
   "cell_type": "code",
   "execution_count": 2,
   "metadata": {},
   "outputs": [
    {
     "name": "stdout",
     "output_type": "stream",
     "text": [
      "Train: (354, 13) (354,)\n",
      "Train: (152, 13) (152,)\n"
     ]
    }
   ],
   "source": [
    "# инициализируем функцию по разделению дата сета на тренировочную и тестовую выборки\n",
    "from sklearn.model_selection import train_test_split #as tts\n",
    "\n",
    "# Делим выборку 70/30 и установим рандом - 40\n",
    "X_train, X_test, y_train, y_test = train_test_split(X, y, test_size=0.3, random_state=40)\n",
    "\n",
    "# вернем результирующие размеры таблиц\n",
    "print('Train:', X_train.shape, y_train.shape)\n",
    "print('Train:', X_test.shape, y_test.shape)"
   ]
  },
  {
   "cell_type": "code",
   "execution_count": 7,
   "metadata": {},
   "outputs": [
    {
     "name": "stdout",
     "output_type": "stream",
     "text": [
      "Train: (354, 104)\n",
      "Train: (152, 104)\n"
     ]
    }
   ],
   "source": [
    "# создаем генератор полиномиальных признаков\n",
    "poly = preprocessing.PolynomialFeatures(degree=2, include_bias=False)\n",
    "poly.fit(X_train)\n",
    "\n",
    "# генерируем полиномиальные признаки для тренировочной выборки\n",
    "X_train_poly = poly.transform(X_train)\n",
    "\n",
    "# генерируем полиномиальные признаки для тестовой выборки\n",
    "X_test_poly = poly.transform(X_test)\n",
    "\n",
    "# вернем результирующие размеры таблиц\n",
    "print('Train:', X_train_poly.shape)\n",
    "print('Train:', X_test_poly.shape)"
   ]
  },
  {
   "cell_type": "code",
   "execution_count": 8,
   "metadata": {},
   "outputs": [
    {
     "name": "stdout",
     "output_type": "stream",
     "text": [
      "<class 'numpy.ndarray'>\n",
      "<class 'numpy.ndarray'>\n"
     ]
    }
   ],
   "source": [
    "# проверим тип класс таблиц\n",
    "print(type(X_train_poly))\n",
    "print(type(X_test_poly))"
   ]
  },
  {
   "cell_type": "code",
   "execution_count": 9,
   "metadata": {},
   "outputs": [
    {
     "name": "stdout",
     "output_type": "stream",
     "text": [
      "R2 score: 0.929\n",
      "R2 score: 0.268\n"
     ]
    }
   ],
   "source": [
    "# создаем модель линейной регрессии и находим коэф по МНК\n",
    "# создаем класс LinearRegression\n",
    "lr_model_poly = linear_model.LinearRegression()\n",
    "\n",
    "# обучаем модель по МНК\n",
    "lr_model_poly.fit(X_train_poly, y_train)\n",
    "\n",
    "# предик по тренировочной выборке\n",
    "y_train_predict_poly = lr_model_poly.predict(X_train_poly)\n",
    "\n",
    "# предикт по тестовой выборке\n",
    "y_test_predict_poly = lr_model_poly.predict(X_test_poly)\n",
    "\n",
    "# расчитываем коефф детерминации R2\n",
    "print('R2 score: {:.3f}'.format(metrics.r2_score(y_train, y_train_predict_poly)))\n",
    "print('R2 score: {:.3f}'.format(metrics.r2_score(y_test, y_test_predict_poly)))"
   ]
  },
  {
   "cell_type": "markdown",
   "metadata": {},
   "source": [
    "Метрика на тренировочном дата-сете значительно больше чем на тестовом - это говорит о переобучении модели."
   ]
  }
 ],
 "metadata": {
  "kernelspec": {
   "display_name": "Python 3",
   "language": "python",
   "name": "python3"
  },
  "language_info": {
   "codemirror_mode": {
    "name": "ipython",
    "version": 3
   },
   "file_extension": ".py",
   "mimetype": "text/x-python",
   "name": "python",
   "nbconvert_exporter": "python",
   "pygments_lexer": "ipython3",
   "version": "3.9.7"
  }
 },
 "nbformat": 4,
 "nbformat_minor": 2
}
