{
 "cells": [
  {
   "cell_type": "markdown",
   "metadata": {},
   "source": [
    "### Практика\n",
    "#### Предсказание дохода"
   ]
  },
  {
   "cell_type": "code",
   "execution_count": 1,
   "metadata": {},
   "outputs": [],
   "source": [
    "import pandas as pd\n",
    "import matplotlib.pyplot as plt\n",
    "import numpy as np\n",
    "from comet_ml import Experiment\n",
    "from sklearn.preprocessing import OneHotEncoder\n",
    "from sklearn.preprocessing import LabelEncoder\n",
    "from sklearn.linear_model import LogisticRegression\n",
    "from sklearn.metrics import accuracy_score\n",
    "from sklearn.metrics import confusion_matrix\n",
    "from sklearn.metrics import roc_curve\n",
    "from sklearn.metrics import roc_auc_score # для расчета площади ROC curve\n",
    "\n",
    "%matplotlib inline"
   ]
  },
  {
   "cell_type": "code",
   "execution_count": 2,
   "metadata": {},
   "outputs": [
    {
     "name": "stderr",
     "output_type": "stream",
     "text": [
      "COMET WARNING: As you are running in a Jupyter environment, you will need to call `experiment.end()` when finished to ensure all metrics and code are logged before exiting.\n",
      "COMET INFO: Experiment is live on comet.ml https://www.comet.com/dmitriy-b/predict-income/460ceae7396b40feb6f6167a46c9e9f3\n",
      "\n"
     ]
    }
   ],
   "source": [
    "# Create an experiment with your api key\n",
    "experiment = Experiment(\n",
    "    api_key=\"Ra07S6KGK0XAiU2Cl59ZLcuyS\",\n",
    "    project_name=\"predict-income\",\n",
    "    workspace=\"dmitriy-b\",\n",
    "    log_code=True\n",
    ")"
   ]
  },
  {
   "cell_type": "code",
   "execution_count": 3,
   "metadata": {},
   "outputs": [],
   "source": [
    "training_data = pd.read_csv('data/train.csv')\n",
    "test_data = pd.read_csv('data/test.csv')"
   ]
  },
  {
   "cell_type": "code",
   "execution_count": 4,
   "metadata": {},
   "outputs": [
    {
     "data": {
      "text/plain": [
       "((24420, 13), (8141, 13))"
      ]
     },
     "execution_count": 4,
     "metadata": {},
     "output_type": "execute_result"
    }
   ],
   "source": [
    "# проверка размерности\n",
    "training_data.shape, test_data.shape"
   ]
  },
  {
   "cell_type": "code",
   "execution_count": 5,
   "metadata": {},
   "outputs": [],
   "source": [
    "# задаем целевую переменную\n",
    "target_name = 'income'\n",
    "\n",
    "# выборки дели на X и y тренировочные и тестовые соответственно\n",
    "X_train = training_data.drop(columns=[target_name])\n",
    "y_train = training_data[target_name]\n",
    "\n",
    "X_test = test_data.drop(columns=[target_name])\n",
    "y_test = test_data[target_name]\n"
   ]
  },
  {
   "cell_type": "code",
   "execution_count": 6,
   "metadata": {},
   "outputs": [
    {
     "name": "stdout",
     "output_type": "stream",
     "text": [
      "0    0.763297\n",
      "1    0.236703\n",
      "Name: income, dtype: float64\n",
      "Вывод: несбалансированная бинарная классификация\n"
     ]
    }
   ],
   "source": [
    "# анализируем целевую переменную на тестовой выборке\n",
    "print(y_test.value_counts(normalize=True))\n",
    "print('Вывод: несбалансированная бинарная классификация')"
   ]
  },
  {
   "cell_type": "markdown",
   "metadata": {},
   "source": [
    "Статистика по числовым данным"
   ]
  },
  {
   "cell_type": "code",
   "execution_count": 7,
   "metadata": {},
   "outputs": [
    {
     "data": {
      "text/html": [
       "<div>\n",
       "<style scoped>\n",
       "    .dataframe tbody tr th:only-of-type {\n",
       "        vertical-align: middle;\n",
       "    }\n",
       "\n",
       "    .dataframe tbody tr th {\n",
       "        vertical-align: top;\n",
       "    }\n",
       "\n",
       "    .dataframe thead th {\n",
       "        text-align: right;\n",
       "    }\n",
       "</style>\n",
       "<table border=\"1\" class=\"dataframe\">\n",
       "  <thead>\n",
       "    <tr style=\"text-align: right;\">\n",
       "      <th></th>\n",
       "      <th>count</th>\n",
       "      <th>mean</th>\n",
       "      <th>std</th>\n",
       "      <th>min</th>\n",
       "      <th>25%</th>\n",
       "      <th>50%</th>\n",
       "      <th>75%</th>\n",
       "      <th>max</th>\n",
       "    </tr>\n",
       "  </thead>\n",
       "  <tbody>\n",
       "    <tr>\n",
       "      <th>age</th>\n",
       "      <td>24420.0</td>\n",
       "      <td>38.598116</td>\n",
       "      <td>13.638458</td>\n",
       "      <td>17.0</td>\n",
       "      <td>28.0</td>\n",
       "      <td>37.0</td>\n",
       "      <td>48.0</td>\n",
       "      <td>90.0</td>\n",
       "    </tr>\n",
       "    <tr>\n",
       "      <th>capital-gain</th>\n",
       "      <td>23705.0</td>\n",
       "      <td>1051.724067</td>\n",
       "      <td>7199.945441</td>\n",
       "      <td>0.0</td>\n",
       "      <td>0.0</td>\n",
       "      <td>0.0</td>\n",
       "      <td>0.0</td>\n",
       "      <td>99999.0</td>\n",
       "    </tr>\n",
       "    <tr>\n",
       "      <th>capital-loss</th>\n",
       "      <td>23936.0</td>\n",
       "      <td>88.409592</td>\n",
       "      <td>404.466154</td>\n",
       "      <td>0.0</td>\n",
       "      <td>0.0</td>\n",
       "      <td>0.0</td>\n",
       "      <td>0.0</td>\n",
       "      <td>4356.0</td>\n",
       "    </tr>\n",
       "    <tr>\n",
       "      <th>hours-per-week</th>\n",
       "      <td>24420.0</td>\n",
       "      <td>40.386568</td>\n",
       "      <td>12.299621</td>\n",
       "      <td>1.0</td>\n",
       "      <td>40.0</td>\n",
       "      <td>40.0</td>\n",
       "      <td>45.0</td>\n",
       "      <td>99.0</td>\n",
       "    </tr>\n",
       "  </tbody>\n",
       "</table>\n",
       "</div>"
      ],
      "text/plain": [
       "                  count         mean          std   min   25%   50%   75%  \\\n",
       "age             24420.0    38.598116    13.638458  17.0  28.0  37.0  48.0   \n",
       "capital-gain    23705.0  1051.724067  7199.945441   0.0   0.0   0.0   0.0   \n",
       "capital-loss    23936.0    88.409592   404.466154   0.0   0.0   0.0   0.0   \n",
       "hours-per-week  24420.0    40.386568    12.299621   1.0  40.0  40.0  45.0   \n",
       "\n",
       "                    max  \n",
       "age                90.0  \n",
       "capital-gain    99999.0  \n",
       "capital-loss     4356.0  \n",
       "hours-per-week     99.0  "
      ]
     },
     "execution_count": 7,
     "metadata": {},
     "output_type": "execute_result"
    }
   ],
   "source": [
    "X_train.describe().T\n"
   ]
  },
  {
   "cell_type": "code",
   "execution_count": 8,
   "metadata": {},
   "outputs": [
    {
     "data": {
      "text/plain": [
       "{'web': 'https://www.comet.com/api/image/download?imageId=1d65d154923540a49591dfa4e7a57f87&experimentKey=460ceae7396b40feb6f6167a46c9e9f3',\n",
       " 'api': 'https://www.comet.com/api/rest/v1/image/get-image?imageId=1d65d154923540a49591dfa4e7a57f87&experimentKey=460ceae7396b40feb6f6167a46c9e9f3',\n",
       " 'imageId': '1d65d154923540a49591dfa4e7a57f87'}"
      ]
     },
     "execution_count": 8,
     "metadata": {},
     "output_type": "execute_result"
    },
    {
     "data": {
      "image/png": "[encoded data removed]",
      "text/plain": [
       "<Figure size 720x576 with 4 Axes>"
      ]
     },
     "metadata": {
      "needs_background": "light"
     },
     "output_type": "display_data"
    }
   ],
   "source": [
    "# строим гистограмму\n",
    "X_train.hist(figsize=(10, 8))\n",
    "#experiment.log_figure('X_train_numeric_distr', plt) # логируем гистограммы\n",
    "experiment.log_figure('X_train_numeric_distr', plt)"
   ]
  },
  {
   "cell_type": "markdown",
   "metadata": {},
   "source": [
    "1. Числовых признаков 4\n",
    "2. Возраст 17 - 90 лет\n",
    "3. Пропуски в capital-loss и capital-gain. По гисстограммам можно наблюдать, что большое количество значений в этих признаках нули.\n"
   ]
  },
  {
   "cell_type": "markdown",
   "metadata": {},
   "source": [
    "#### Предобработка данных"
   ]
  },
  {
   "cell_type": "code",
   "execution_count": 9,
   "metadata": {},
   "outputs": [
    {
     "name": "stdout",
     "output_type": "stream",
     "text": [
      "<class 'pandas.core.frame.DataFrame'>\n",
      "RangeIndex: 24420 entries, 0 to 24419\n",
      "Data columns (total 12 columns):\n",
      " #   Column          Non-Null Count  Dtype  \n",
      "---  ------          --------------  -----  \n",
      " 0   age             24420 non-null  int64  \n",
      " 1   workclass       23223 non-null  object \n",
      " 2   education       23443 non-null  object \n",
      " 3   marital-status  24420 non-null  object \n",
      " 4   occupation      24420 non-null  object \n",
      " 5   relationship    24420 non-null  object \n",
      " 6   race            24420 non-null  object \n",
      " 7   sex             24420 non-null  object \n",
      " 8   capital-gain    23705 non-null  float64\n",
      " 9   capital-loss    23936 non-null  float64\n",
      " 10  hours-per-week  24420 non-null  int64  \n",
      " 11  native-country  24420 non-null  object \n",
      "dtypes: float64(2), int64(2), object(8)\n",
      "memory usage: 2.2+ MB\n"
     ]
    }
   ],
   "source": [
    "X_train.info()"
   ]
  },
  {
   "cell_type": "markdown",
   "metadata": {},
   "source": [
    "- 8 признаков типа object\n",
    "- 2 признака типа int64\n",
    "- 2 признака типа float64\n",
    "- 4 признака содержат пропуски"
   ]
  },
  {
   "cell_type": "markdown",
   "metadata": {},
   "source": [
    "#### Обработка пропусков\n",
    "<br>Тренировочную и тестовую выборки необходимо обрабатывать одинаково.\n",
    "<br>Заполним capital-gain и capital-loss нулями т.к. они фокусируются в основном на нулевых значениях."
   ]
  },
  {
   "cell_type": "code",
   "execution_count": 10,
   "metadata": {},
   "outputs": [],
   "source": [
    "X_train['capital-gain'] = X_train['capital-gain'].fillna(0)\n",
    "X_train['capital-loss'] = X_train['capital-loss'].fillna(0)\n",
    "\n",
    "X_test['capital-gain'] = X_test['capital-gain'].fillna(0)\n",
    "X_test['capital-loss'] = X_test['capital-loss'].fillna(0)"
   ]
  },
  {
   "cell_type": "markdown",
   "metadata": {},
   "source": [
    "Признаки workclass и education категориальные, их заполним модой (частовстречающимися значениями)"
   ]
  },
  {
   "cell_type": "code",
   "execution_count": 11,
   "metadata": {},
   "outputs": [
    {
     "data": {
      "text/plain": [
       "0    Private\n",
       "Name: workclass, dtype: object"
      ]
     },
     "execution_count": 11,
     "metadata": {},
     "output_type": "execute_result"
    }
   ],
   "source": [
    "X_train['workclass'].mode()"
   ]
  },
  {
   "cell_type": "code",
   "execution_count": 12,
   "metadata": {},
   "outputs": [
    {
     "data": {
      "text/plain": [
       "'HS-grad'"
      ]
     },
     "execution_count": 12,
     "metadata": {},
     "output_type": "execute_result"
    }
   ],
   "source": [
    "X_train['education'].mode()[0]"
   ]
  },
  {
   "cell_type": "code",
   "execution_count": 13,
   "metadata": {},
   "outputs": [],
   "source": [
    "# моду смотрим на тренирововчной выборке, затем заполняем ею и тестовую выборку\n",
    "X_train['workclass'] = X_train['workclass'].fillna('Private')\n",
    "X_train['education'] = X_train['education'].fillna('HS-grad')\n",
    "\n",
    "X_test['workclass'] = X_test['workclass'].fillna('Private')\n",
    "X_test['education'] = X_test['education'].fillna('HS-grad')"
   ]
  },
  {
   "cell_type": "markdown",
   "metadata": {},
   "source": [
    "#### Кодировка категориальных признаков\n",
    "LabelEncoder и OneHotEncoder"
   ]
  },
  {
   "cell_type": "code",
   "execution_count": 14,
   "metadata": {},
   "outputs": [
    {
     "data": {
      "text/plain": [
       "\"# список категориальных признаков\\ncategorical_features = ['workclass', 'education', 'marital-status', 'occupation', 'relationship', 'race', 'sex', 'native-country']\\n\\n# списко некатегориальных признаков\\nnon_categorical_features = ['age', 'capital-gain', 'capital-loss', 'hours-per-week']\""
      ]
     },
     "execution_count": 14,
     "metadata": {},
     "output_type": "execute_result"
    }
   ],
   "source": [
    "'''# список категориальных признаков\n",
    "categorical_features = ['workclass', 'education', 'marital-status', 'occupation', 'relationship', 'race', 'sex', 'native-country']\n",
    "\n",
    "# списко некатегориальных признаков\n",
    "non_categorical_features = ['age', 'capital-gain', 'capital-loss', 'hours-per-week']'''"
   ]
  },
  {
   "cell_type": "code",
   "execution_count": 15,
   "metadata": {},
   "outputs": [],
   "source": [
    "# создадим списки наименований категориальных и некатегориальных признаков\n",
    "categorical_features = []\n",
    "non_categorical_features = []\n",
    "for i in X_test.columns:\n",
    "    if X_test[i].dtype == 'O':\n",
    "        categorical_features.append(i)\n",
    "    else:\n",
    "        non_categorical_features.append(i)\n",
    "        \n",
    "#display (categorical_features, non_categorical_features)"
   ]
  },
  {
   "cell_type": "code",
   "execution_count": 16,
   "metadata": {},
   "outputs": [
    {
     "data": {
      "text/html": [
       "<div>\n",
       "<style scoped>\n",
       "    .dataframe tbody tr th:only-of-type {\n",
       "        vertical-align: middle;\n",
       "    }\n",
       "\n",
       "    .dataframe tbody tr th {\n",
       "        vertical-align: top;\n",
       "    }\n",
       "\n",
       "    .dataframe thead th {\n",
       "        text-align: right;\n",
       "    }\n",
       "</style>\n",
       "<table border=\"1\" class=\"dataframe\">\n",
       "  <thead>\n",
       "    <tr style=\"text-align: right;\">\n",
       "      <th></th>\n",
       "      <th>workclass</th>\n",
       "      <th>education</th>\n",
       "      <th>marital-status</th>\n",
       "      <th>occupation</th>\n",
       "      <th>relationship</th>\n",
       "      <th>race</th>\n",
       "      <th>sex</th>\n",
       "      <th>native-country</th>\n",
       "    </tr>\n",
       "  </thead>\n",
       "  <tbody>\n",
       "    <tr>\n",
       "      <th>0</th>\n",
       "      <td>Private</td>\n",
       "      <td>HS-grad</td>\n",
       "      <td>Married-civ-spouse</td>\n",
       "      <td>Craft-repair</td>\n",
       "      <td>Husband</td>\n",
       "      <td>White</td>\n",
       "      <td>Male</td>\n",
       "      <td>United-States</td>\n",
       "    </tr>\n",
       "    <tr>\n",
       "      <th>1</th>\n",
       "      <td>Private</td>\n",
       "      <td>HS-grad</td>\n",
       "      <td>Married-civ-spouse</td>\n",
       "      <td>Machine-op-inspct</td>\n",
       "      <td>Husband</td>\n",
       "      <td>White</td>\n",
       "      <td>Male</td>\n",
       "      <td>United-States</td>\n",
       "    </tr>\n",
       "    <tr>\n",
       "      <th>2</th>\n",
       "      <td>Private</td>\n",
       "      <td>11th</td>\n",
       "      <td>Married-civ-spouse</td>\n",
       "      <td>Other-service</td>\n",
       "      <td>Husband</td>\n",
       "      <td>Black</td>\n",
       "      <td>Male</td>\n",
       "      <td>United-States</td>\n",
       "    </tr>\n",
       "    <tr>\n",
       "      <th>3</th>\n",
       "      <td>Private</td>\n",
       "      <td>Bachelors</td>\n",
       "      <td>Separated</td>\n",
       "      <td>Adm-clerical</td>\n",
       "      <td>Unmarried</td>\n",
       "      <td>White</td>\n",
       "      <td>Male</td>\n",
       "      <td>United-States</td>\n",
       "    </tr>\n",
       "    <tr>\n",
       "      <th>4</th>\n",
       "      <td>Private</td>\n",
       "      <td>Bachelors</td>\n",
       "      <td>Divorced</td>\n",
       "      <td>Sales</td>\n",
       "      <td>Not-in-family</td>\n",
       "      <td>White</td>\n",
       "      <td>Female</td>\n",
       "      <td>United-States</td>\n",
       "    </tr>\n",
       "  </tbody>\n",
       "</table>\n",
       "</div>"
      ],
      "text/plain": [
       "  workclass  education      marital-status         occupation   relationship  \\\n",
       "0   Private    HS-grad  Married-civ-spouse       Craft-repair        Husband   \n",
       "1   Private    HS-grad  Married-civ-spouse  Machine-op-inspct        Husband   \n",
       "2   Private       11th  Married-civ-spouse      Other-service        Husband   \n",
       "3   Private  Bachelors           Separated       Adm-clerical      Unmarried   \n",
       "4   Private  Bachelors            Divorced              Sales  Not-in-family   \n",
       "\n",
       "    race     sex native-country  \n",
       "0  White    Male  United-States  \n",
       "1  White    Male  United-States  \n",
       "2  Black    Male  United-States  \n",
       "3  White    Male  United-States  \n",
       "4  White  Female  United-States  "
      ]
     },
     "execution_count": 16,
     "metadata": {},
     "output_type": "execute_result"
    }
   ],
   "source": [
    "X_train[categorical_features].head()"
   ]
  },
  {
   "cell_type": "markdown",
   "metadata": {},
   "source": [
    "#### Используем метод порядкового кодирования LabelEncoder"
   ]
  },
  {
   "cell_type": "code",
   "execution_count": 17,
   "metadata": {},
   "outputs": [],
   "source": [
    "# создадим копии выборок\n",
    "X_train_le = X_train.copy()\n",
    "X_test_le = X_test.copy()\n",
    "\n",
    "# инициализируем метод кодирования\n",
    "label_encoder = LabelEncoder()\n",
    "\n",
    "# с помощью цикла закодируем признаки\n",
    "for i in categorical_features:\n",
    "    X_train_le[i] = label_encoder.fit_transform(X_train_le[i])\n",
    "    X_test_le[i] = label_encoder.fit_transform(X_test_le[i])"
   ]
  },
  {
   "cell_type": "code",
   "execution_count": 18,
   "metadata": {},
   "outputs": [
    {
     "data": {
      "text/html": [
       "<div>\n",
       "<style scoped>\n",
       "    .dataframe tbody tr th:only-of-type {\n",
       "        vertical-align: middle;\n",
       "    }\n",
       "\n",
       "    .dataframe tbody tr th {\n",
       "        vertical-align: top;\n",
       "    }\n",
       "\n",
       "    .dataframe thead th {\n",
       "        text-align: right;\n",
       "    }\n",
       "</style>\n",
       "<table border=\"1\" class=\"dataframe\">\n",
       "  <thead>\n",
       "    <tr style=\"text-align: right;\">\n",
       "      <th></th>\n",
       "      <th>age</th>\n",
       "      <th>workclass</th>\n",
       "      <th>education</th>\n",
       "      <th>marital-status</th>\n",
       "      <th>occupation</th>\n",
       "      <th>relationship</th>\n",
       "      <th>race</th>\n",
       "      <th>sex</th>\n",
       "      <th>capital-gain</th>\n",
       "      <th>capital-loss</th>\n",
       "      <th>hours-per-week</th>\n",
       "      <th>native-country</th>\n",
       "    </tr>\n",
       "  </thead>\n",
       "  <tbody>\n",
       "    <tr>\n",
       "      <th>0</th>\n",
       "      <td>49</td>\n",
       "      <td>4</td>\n",
       "      <td>11</td>\n",
       "      <td>2</td>\n",
       "      <td>3</td>\n",
       "      <td>0</td>\n",
       "      <td>4</td>\n",
       "      <td>1</td>\n",
       "      <td>0.0</td>\n",
       "      <td>0.0</td>\n",
       "      <td>40</td>\n",
       "      <td>39</td>\n",
       "    </tr>\n",
       "    <tr>\n",
       "      <th>1</th>\n",
       "      <td>27</td>\n",
       "      <td>4</td>\n",
       "      <td>11</td>\n",
       "      <td>2</td>\n",
       "      <td>7</td>\n",
       "      <td>0</td>\n",
       "      <td>4</td>\n",
       "      <td>1</td>\n",
       "      <td>0.0</td>\n",
       "      <td>0.0</td>\n",
       "      <td>45</td>\n",
       "      <td>39</td>\n",
       "    </tr>\n",
       "    <tr>\n",
       "      <th>2</th>\n",
       "      <td>44</td>\n",
       "      <td>4</td>\n",
       "      <td>1</td>\n",
       "      <td>2</td>\n",
       "      <td>8</td>\n",
       "      <td>0</td>\n",
       "      <td>2</td>\n",
       "      <td>1</td>\n",
       "      <td>0.0</td>\n",
       "      <td>0.0</td>\n",
       "      <td>60</td>\n",
       "      <td>39</td>\n",
       "    </tr>\n",
       "    <tr>\n",
       "      <th>3</th>\n",
       "      <td>59</td>\n",
       "      <td>4</td>\n",
       "      <td>9</td>\n",
       "      <td>5</td>\n",
       "      <td>1</td>\n",
       "      <td>4</td>\n",
       "      <td>4</td>\n",
       "      <td>1</td>\n",
       "      <td>0.0</td>\n",
       "      <td>0.0</td>\n",
       "      <td>60</td>\n",
       "      <td>39</td>\n",
       "    </tr>\n",
       "    <tr>\n",
       "      <th>4</th>\n",
       "      <td>54</td>\n",
       "      <td>4</td>\n",
       "      <td>9</td>\n",
       "      <td>0</td>\n",
       "      <td>12</td>\n",
       "      <td>1</td>\n",
       "      <td>4</td>\n",
       "      <td>0</td>\n",
       "      <td>0.0</td>\n",
       "      <td>1408.0</td>\n",
       "      <td>38</td>\n",
       "      <td>39</td>\n",
       "    </tr>\n",
       "  </tbody>\n",
       "</table>\n",
       "</div>"
      ],
      "text/plain": [
       "   age  workclass  education  marital-status  occupation  relationship  race  \\\n",
       "0   49          4         11               2           3             0     4   \n",
       "1   27          4         11               2           7             0     4   \n",
       "2   44          4          1               2           8             0     2   \n",
       "3   59          4          9               5           1             4     4   \n",
       "4   54          4          9               0          12             1     4   \n",
       "\n",
       "   sex  capital-gain  capital-loss  hours-per-week  native-country  \n",
       "0    1           0.0           0.0              40              39  \n",
       "1    1           0.0           0.0              45              39  \n",
       "2    1           0.0           0.0              60              39  \n",
       "3    1           0.0           0.0              60              39  \n",
       "4    0           0.0        1408.0              38              39  "
      ]
     },
     "execution_count": 18,
     "metadata": {},
     "output_type": "execute_result"
    }
   ],
   "source": [
    "X_train_le.head()"
   ]
  },
  {
   "cell_type": "markdown",
   "metadata": {},
   "source": [
    "#### Используем метод горячего кодирования OneHotEncoder"
   ]
  },
  {
   "cell_type": "code",
   "execution_count": 19,
   "metadata": {},
   "outputs": [
    {
     "name": "stderr",
     "output_type": "stream",
     "text": [
      "c:\\Users\\dmitr\\AppData\\Local\\Programs\\Python\\Python39\\lib\\site-packages\\sklearn\\utils\\deprecation.py:87: FutureWarning: Function get_feature_names is deprecated; get_feature_names is deprecated in 1.0 and will be removed in 1.2. Please use get_feature_names_out instead.\n",
      "  warnings.warn(msg, category=FutureWarning)\n"
     ]
    }
   ],
   "source": [
    "# инициализация кодировщика\n",
    "onehot_encoder = OneHotEncoder()\n",
    "\n",
    "# Обучаем на тестовой выборке и сразу применяем кодирование к тойже тестовой выборке и запишем массив в новую переменную\n",
    "X_train_onehot = onehot_encoder.fit_transform(X_train[categorical_features]).toarray()\n",
    "\n",
    "# Обученную модель строкой ранее применяем к тестовой выборке и записываем массив в новой переменной\n",
    "X_test_onehot = onehot_encoder.transform(X_test[categorical_features]).toarray()\n",
    "\n",
    "# получим наименование новых колонок после кодирования и запишем в переменную\n",
    "columns = onehot_encoder.get_feature_names(categorical_features) # 99 новых признаков\n",
    "\n",
    "# новые таблицы трансформируем в DataFrame\n",
    "X_train_onehot = pd.DataFrame(X_train_onehot, columns=columns)\n",
    "X_test_onehot = pd.DataFrame(X_test_onehot, columns=columns)\n"
   ]
  },
  {
   "cell_type": "code",
   "execution_count": 20,
   "metadata": {},
   "outputs": [],
   "source": [
    "# создаем новый дата-сет, где соединим X_train (т.к. там остались цифровые признаки) и X_train_onehot, так же и с тестовой выборкой\n",
    "X_train_new = pd.concat([X_train, X_train_onehot], axis=1)\n",
    "X_test_new = pd.concat([X_test, X_test_onehot], axis=1)"
   ]
  },
  {
   "cell_type": "code",
   "execution_count": 21,
   "metadata": {},
   "outputs": [],
   "source": [
    "# из новых таблиц удалим исходные категориальные признаки\n",
    "X_train_new = X_train_new.drop(columns=categorical_features)\n",
    "X_test_new = X_test_new.drop(columns=categorical_features)\n"
   ]
  },
  {
   "cell_type": "markdown",
   "metadata": {},
   "source": [
    "#### Обучение модели"
   ]
  },
  {
   "cell_type": "markdown",
   "metadata": {},
   "source": [
    "Для классификатора используем логистическую регрессию"
   ]
  },
  {
   "cell_type": "code",
   "execution_count": 22,
   "metadata": {},
   "outputs": [],
   "source": [
    "# инициализация модели линейной регрессии для таблицы с горячим кодированием OneHotEncoder\n",
    "linear_model_oh = LogisticRegression()\n",
    "\n",
    "# инициализация модели линейной регрессии для таблицы с порядковым кодированием LabelEncoder\n",
    "linear_model = LogisticRegression()"
   ]
  },
  {
   "cell_type": "code",
   "execution_count": 23,
   "metadata": {},
   "outputs": [
    {
     "name": "stderr",
     "output_type": "stream",
     "text": [
      "c:\\Users\\dmitr\\AppData\\Local\\Programs\\Python\\Python39\\lib\\site-packages\\sklearn\\linear_model\\_logistic.py:444: ConvergenceWarning: lbfgs failed to converge (status=1):\n",
      "STOP: TOTAL NO. of ITERATIONS REACHED LIMIT.\n",
      "\n",
      "Increase the number of iterations (max_iter) or scale the data as shown in:\n",
      "    https://scikit-learn.org/stable/modules/preprocessing.html\n",
      "Please also refer to the documentation for alternative solver options:\n",
      "    https://scikit-learn.org/stable/modules/linear_model.html#logistic-regression\n",
      "  n_iter_i = _check_optimize_result(\n",
      "c:\\Users\\dmitr\\AppData\\Local\\Programs\\Python\\Python39\\lib\\site-packages\\sklearn\\linear_model\\_logistic.py:444: ConvergenceWarning: lbfgs failed to converge (status=1):\n",
      "STOP: TOTAL NO. of ITERATIONS REACHED LIMIT.\n",
      "\n",
      "Increase the number of iterations (max_iter) or scale the data as shown in:\n",
      "    https://scikit-learn.org/stable/modules/preprocessing.html\n",
      "Please also refer to the documentation for alternative solver options:\n",
      "    https://scikit-learn.org/stable/modules/linear_model.html#logistic-regression\n",
      "  n_iter_i = _check_optimize_result(\n"
     ]
    },
    {
     "data": {
      "text/html": [
       "<style>#sk-container-id-1 {color: black;background-color: white;}#sk-container-id-1 pre{padding: 0;}#sk-container-id-1 div.sk-toggleable {background-color: white;}#sk-container-id-1 label.sk-toggleable__label {cursor: pointer;display: block;width: 100%;margin-bottom: 0;padding: 0.3em;box-sizing: border-box;text-align: center;}#sk-container-id-1 label.sk-toggleable__label-arrow:before {content: \"▸\";float: left;margin-right: 0.25em;color: #696969;}#sk-container-id-1 label.sk-toggleable__label-arrow:hover:before {color: black;}#sk-container-id-1 div.sk-estimator:hover label.sk-toggleable__label-arrow:before {color: black;}#sk-container-id-1 div.sk-toggleable__content {max-height: 0;max-width: 0;overflow: hidden;text-align: left;background-color: #f0f8ff;}#sk-container-id-1 div.sk-toggleable__content pre {margin: 0.2em;color: black;border-radius: 0.25em;background-color: #f0f8ff;}#sk-container-id-1 input.sk-toggleable__control:checked~div.sk-toggleable__content {max-height: 200px;max-width: 100%;overflow: auto;}#sk-container-id-1 input.sk-toggleable__control:checked~label.sk-toggleable__label-arrow:before {content: \"▾\";}#sk-container-id-1 div.sk-estimator input.sk-toggleable__control:checked~label.sk-toggleable__label {background-color: #d4ebff;}#sk-container-id-1 div.sk-label input.sk-toggleable__control:checked~label.sk-toggleable__label {background-color: #d4ebff;}#sk-container-id-1 input.sk-hidden--visually {border: 0;clip: rect(1px 1px 1px 1px);clip: rect(1px, 1px, 1px, 1px);height: 1px;margin: -1px;overflow: hidden;padding: 0;position: absolute;width: 1px;}#sk-container-id-1 div.sk-estimator {font-family: monospace;background-color: #f0f8ff;border: 1px dotted black;border-radius: 0.25em;box-sizing: border-box;margin-bottom: 0.5em;}#sk-container-id-1 div.sk-estimator:hover {background-color: #d4ebff;}#sk-container-id-1 div.sk-parallel-item::after {content: \"\";width: 100%;border-bottom: 1px solid gray;flex-grow: 1;}#sk-container-id-1 div.sk-label:hover label.sk-toggleable__label {background-color: #d4ebff;}#sk-container-id-1 div.sk-serial::before {content: \"\";position: absolute;border-left: 1px solid gray;box-sizing: border-box;top: 0;bottom: 0;left: 50%;z-index: 0;}#sk-container-id-1 div.sk-serial {display: flex;flex-direction: column;align-items: center;background-color: white;padding-right: 0.2em;padding-left: 0.2em;position: relative;}#sk-container-id-1 div.sk-item {position: relative;z-index: 1;}#sk-container-id-1 div.sk-parallel {display: flex;align-items: stretch;justify-content: center;background-color: white;position: relative;}#sk-container-id-1 div.sk-item::before, #sk-container-id-1 div.sk-parallel-item::before {content: \"\";position: absolute;border-left: 1px solid gray;box-sizing: border-box;top: 0;bottom: 0;left: 50%;z-index: -1;}#sk-container-id-1 div.sk-parallel-item {display: flex;flex-direction: column;z-index: 1;position: relative;background-color: white;}#sk-container-id-1 div.sk-parallel-item:first-child::after {align-self: flex-end;width: 50%;}#sk-container-id-1 div.sk-parallel-item:last-child::after {align-self: flex-start;width: 50%;}#sk-container-id-1 div.sk-parallel-item:only-child::after {width: 0;}#sk-container-id-1 div.sk-dashed-wrapped {border: 1px dashed gray;margin: 0 0.4em 0.5em 0.4em;box-sizing: border-box;padding-bottom: 0.4em;background-color: white;}#sk-container-id-1 div.sk-label label {font-family: monospace;font-weight: bold;display: inline-block;line-height: 1.2em;}#sk-container-id-1 div.sk-label-container {text-align: center;}#sk-container-id-1 div.sk-container {/* jupyter's `normalize.less` sets `[hidden] { display: none; }` but bootstrap.min.css set `[hidden] { display: none !important; }` so we also need the `!important` here to be able to override the default hidden behavior on the sphinx rendered scikit-learn.org. See: https://github.com/scikit-learn/scikit-learn/issues/21755 */display: inline-block !important;position: relative;}#sk-container-id-1 div.sk-text-repr-fallback {display: none;}</style><div id=\"sk-container-id-1\" class=\"sk-top-container\"><div class=\"sk-text-repr-fallback\"><pre>LogisticRegression()</pre><b>In a Jupyter environment, please rerun this cell to show the HTML representation or trust the notebook. <br />On GitHub, the HTML representation is unable to render, please try loading this page with nbviewer.org.</b></div><div class=\"sk-container\" hidden><div class=\"sk-item\"><div class=\"sk-estimator sk-toggleable\"><input class=\"sk-toggleable__control sk-hidden--visually\" id=\"sk-estimator-id-1\" type=\"checkbox\" checked><label for=\"sk-estimator-id-1\" class=\"sk-toggleable__label sk-toggleable__label-arrow\">LogisticRegression</label><div class=\"sk-toggleable__content\"><pre>LogisticRegression()</pre></div></div></div></div></div>"
      ],
      "text/plain": [
       "LogisticRegression()"
      ]
     },
     "execution_count": 23,
     "metadata": {},
     "output_type": "execute_result"
    }
   ],
   "source": [
    "# Обучение моделей\n",
    "linear_model_oh.fit(X_train_new, y_train)\n",
    "\n",
    "linear_model.fit(X_train_le, y_train)"
   ]
  },
  {
   "cell_type": "markdown",
   "metadata": {},
   "source": [
    "Валидация модели на тестовой выборке"
   ]
  },
  {
   "cell_type": "code",
   "execution_count": 24,
   "metadata": {},
   "outputs": [],
   "source": [
    "prediction_oh = linear_model_oh.predict(X_test_new) # дата-сет кодировщик OneHotEncoder"
   ]
  },
  {
   "cell_type": "code",
   "execution_count": 25,
   "metadata": {},
   "outputs": [],
   "source": [
    "prediction_le = linear_model.predict(X_test_le) # дата-сет кодировщик LabelEncoder"
   ]
  },
  {
   "cell_type": "code",
   "execution_count": 26,
   "metadata": {},
   "outputs": [
    {
     "data": {
      "text/plain": [
       "array([0, 1], dtype=int64)"
      ]
     },
     "execution_count": 26,
     "metadata": {},
     "output_type": "execute_result"
    }
   ],
   "source": [
    "np.unique(prediction_oh)"
   ]
  },
  {
   "cell_type": "code",
   "execution_count": 27,
   "metadata": {},
   "outputs": [
    {
     "name": "stdout",
     "output_type": "stream",
     "text": [
      "1586\n",
      "0.19 %\n"
     ]
    }
   ],
   "source": [
    "# анализируем присутствие элементов первого класса\n",
    "print(sum(prediction_oh))\n",
    "print(round(sum(prediction_oh)/len(prediction_oh),2), '%')"
   ]
  },
  {
   "cell_type": "code",
   "execution_count": 28,
   "metadata": {},
   "outputs": [
    {
     "name": "stdout",
     "output_type": "stream",
     "text": [
      "1927\n",
      "0.24 %\n"
     ]
    }
   ],
   "source": [
    "# проанализируем сколько в действительности присутсвует единиц в y_test\n",
    "print(sum(y_test))\n",
    "print(round(sum(y_test)/len(y_test),2), '%')"
   ]
  },
  {
   "cell_type": "markdown",
   "metadata": {},
   "source": [
    "Проверка точности предсказания на метрике accuracy_score"
   ]
  },
  {
   "cell_type": "code",
   "execution_count": 29,
   "metadata": {},
   "outputs": [
    {
     "name": "stdout",
     "output_type": "stream",
     "text": [
      "0.849\n"
     ]
    }
   ],
   "source": [
    "acc_oh = accuracy_score(y_test, prediction_oh)\n",
    "print(round(acc_oh, 3))"
   ]
  },
  {
   "cell_type": "code",
   "execution_count": 30,
   "metadata": {},
   "outputs": [
    {
     "name": "stdout",
     "output_type": "stream",
     "text": [
      "0.8\n"
     ]
    }
   ],
   "source": [
    "acc_le = accuracy_score(y_test, prediction_le)\n",
    "print(round(acc_le, 3))"
   ]
  },
  {
   "cell_type": "code",
   "execution_count": 31,
   "metadata": {},
   "outputs": [],
   "source": [
    "experiment.log_metric('Accuracy_score_LE', acc_le) # логирование"
   ]
  },
  {
   "cell_type": "code",
   "execution_count": 32,
   "metadata": {},
   "outputs": [],
   "source": [
    "experiment.log_metric('Accuracy_score_OHE', acc_oh) # логирование"
   ]
  },
  {
   "cell_type": "markdown",
   "metadata": {},
   "source": [
    "Модель, обученная на дата-сете закодированной методом OneHotEncoder показала лучше результат на 5%"
   ]
  },
  {
   "cell_type": "markdown",
   "metadata": {},
   "source": [
    "Проверим точность модели через константный классификатор. Т.к. большинство класса - это ноль, то и будем использовать ноль в константном классификаторе."
   ]
  },
  {
   "cell_type": "code",
   "execution_count": 33,
   "metadata": {},
   "outputs": [
    {
     "name": "stdout",
     "output_type": "stream",
     "text": [
      "Accuracy major class: 0.763\n"
     ]
    }
   ],
   "source": [
    "print('Accuracy major class:', accuracy_score(y_test, np.zeros_like(y_test)).round(3))"
   ]
  },
  {
   "cell_type": "markdown",
   "metadata": {},
   "source": [
    "#### Таблица сопряженности модели классификации"
   ]
  },
  {
   "cell_type": "markdown",
   "metadata": {},
   "source": [
    "Другой способ оценивать качество работы классификатора - использовать таблицу сопряженности. \n",
    "\n",
    "\n",
    "|                   |  Предсказано `0` |  Предсказано `1` |\n",
    "|:-------------------|:------------------|:------------------|\n",
    "|**Фактически** `0`  |       TN         |       FP         |\n",
    "|**Фактически** `1`  |       FN         |       TP         | \n"
   ]
  },
  {
   "cell_type": "code",
   "execution_count": 34,
   "metadata": {},
   "outputs": [
    {
     "data": {
      "text/html": [
       "<div>\n",
       "<style scoped>\n",
       "    .dataframe tbody tr th:only-of-type {\n",
       "        vertical-align: middle;\n",
       "    }\n",
       "\n",
       "    .dataframe tbody tr th {\n",
       "        vertical-align: top;\n",
       "    }\n",
       "\n",
       "    .dataframe thead th {\n",
       "        text-align: right;\n",
       "    }\n",
       "</style>\n",
       "<table border=\"1\" class=\"dataframe\">\n",
       "  <thead>\n",
       "    <tr style=\"text-align: right;\">\n",
       "      <th></th>\n",
       "      <th>0</th>\n",
       "      <th>1</th>\n",
       "    </tr>\n",
       "  </thead>\n",
       "  <tbody>\n",
       "    <tr>\n",
       "      <th>0</th>\n",
       "      <td>5769</td>\n",
       "      <td>445</td>\n",
       "    </tr>\n",
       "    <tr>\n",
       "      <th>1</th>\n",
       "      <td>786</td>\n",
       "      <td>1141</td>\n",
       "    </tr>\n",
       "  </tbody>\n",
       "</table>\n",
       "</div>"
      ],
      "text/plain": [
       "      0     1\n",
       "0  5769   445\n",
       "1   786  1141"
      ]
     },
     "execution_count": 34,
     "metadata": {},
     "output_type": "execute_result"
    }
   ],
   "source": [
    "pd.DataFrame(confusion_matrix(y_test, prediction_oh))"
   ]
  },
  {
   "cell_type": "code",
   "execution_count": 35,
   "metadata": {},
   "outputs": [
    {
     "data": {
      "text/plain": [
       "{'web': 'https://www.comet.com/api/asset/download?assetId=1f4ff1ddbe22433a83af3f6fffe52e62&experimentKey=460ceae7396b40feb6f6167a46c9e9f3',\n",
       " 'api': 'https://www.comet.com/api/rest/v2/experiment/asset/get-asset?assetId=1f4ff1ddbe22433a83af3f6fffe52e62&experimentKey=460ceae7396b40feb6f6167a46c9e9f3',\n",
       " 'assetId': '1f4ff1ddbe22433a83af3f6fffe52e62'}"
      ]
     },
     "execution_count": 35,
     "metadata": {},
     "output_type": "execute_result"
    }
   ],
   "source": [
    "experiment.log_confusion_matrix(y_test, prediction_oh)"
   ]
  },
  {
   "cell_type": "markdown",
   "metadata": {},
   "source": [
    "#### Прогноз вероятности принадлежности к классу через _proba"
   ]
  },
  {
   "cell_type": "code",
   "execution_count": 36,
   "metadata": {},
   "outputs": [
    {
     "data": {
      "text/plain": [
       "array([[0.94876711, 0.05123289],\n",
       "       [0.37246102, 0.62753898],\n",
       "       [0.2295452 , 0.7704548 ],\n",
       "       ...,\n",
       "       [0.99644379, 0.00355621],\n",
       "       [0.37202903, 0.62797097],\n",
       "       [0.68669756, 0.31330244]])"
      ]
     },
     "execution_count": 36,
     "metadata": {},
     "output_type": "execute_result"
    }
   ],
   "source": [
    "pred_proba_oh = linear_model_oh.predict_proba(X_test_new)\n",
    "pred_proba_oh"
   ]
  },
  {
   "cell_type": "code",
   "execution_count": 37,
   "metadata": {},
   "outputs": [
    {
     "data": {
      "text/plain": [
       "array([0.05123289, 0.62753898, 0.7704548 , ..., 0.00355621, 0.62797097,\n",
       "       0.31330244])"
      ]
     },
     "execution_count": 37,
     "metadata": {},
     "output_type": "execute_result"
    }
   ],
   "source": [
    "# выберем столбец вероятности принадлежности к 1 классу\n",
    "pred_proba = pred_proba_oh[:, 1]\n",
    "pred_proba"
   ]
  },
  {
   "cell_type": "markdown",
   "metadata": {},
   "source": [
    "Отобразим распределение предсказанной классификатором вероятности дохода более 50 тыс, 1 класс"
   ]
  },
  {
   "cell_type": "code",
   "execution_count": 38,
   "metadata": {},
   "outputs": [
    {
     "data": {
      "text/plain": [
       "{'web': 'https://www.comet.com/api/image/download?imageId=412fb34af7e54356b139fcdd09d576df&experimentKey=460ceae7396b40feb6f6167a46c9e9f3',\n",
       " 'api': 'https://www.comet.com/api/rest/v1/image/get-image?imageId=412fb34af7e54356b139fcdd09d576df&experimentKey=460ceae7396b40feb6f6167a46c9e9f3',\n",
       " 'imageId': '412fb34af7e54356b139fcdd09d576df'}"
      ]
     },
     "execution_count": 38,
     "metadata": {},
     "output_type": "execute_result"
    },
    {
     "data": {
      "image/png": "[encoded data removed]",
      "text/plain": [
       "<Figure size 576x360 with 1 Axes>"
      ]
     },
     "metadata": {
      "needs_background": "light"
     },
     "output_type": "display_data"
    }
   ],
   "source": [
    "plt.figure(figsize=(8, 5))\n",
    "plt.hist(pred_proba, bins=100)\n",
    "plt.vlines(0.5, 0, 1500)\n",
    "\n",
    "plt.xlabel('Предсказанная вероятность дохода', fontsize=20)\n",
    "plt.ylabel('Количество людей', fontsize=20)\n",
    "\n",
    "experiment.log_figure('predicted_income_probability', plt)"
   ]
  },
  {
   "cell_type": "markdown",
   "metadata": {},
   "source": [
    "#### ROC кривая классификатора"
   ]
  },
  {
   "cell_type": "markdown",
   "metadata": {},
   "source": [
    "Для дата-сета закодированного OneHotEncoder"
   ]
  },
  {
   "cell_type": "code",
   "execution_count": 39,
   "metadata": {},
   "outputs": [
    {
     "data": {
      "image/png": "[encoded data removed]",
      "text/plain": [
       "<Figure size 504x504 with 1 Axes>"
      ]
     },
     "metadata": {
      "needs_background": "light"
     },
     "output_type": "display_data"
    }
   ],
   "source": [
    "false_positive_rates, true_positive_rates, threshold = roc_curve(y_test, pred_proba)\n",
    "\n",
    "# создаем roc-curve\n",
    "plt.figure(figsize=(7, 7))\n",
    "\n",
    "# рисуем кривую\n",
    "plt.plot(false_positive_rates, true_positive_rates, label='Сглаженные значения ROC-AUC')\n",
    "\n",
    "# кривая, соответствующая случайному угадыванию\n",
    "plt.plot([0, 1], [1, 0], color='k', lw=2, linestyle=':', label='Модель, выдающая случайное значение')\n",
    "\n",
    "plt.title('ROC curve')\n",
    "plt.xlabel('False Positive Rate')\n",
    "plt.ylabel('True Positive Rate')\n",
    "\n",
    "plt.fill_between(false_positive_rates, true_positive_rates, step='pre', alpha=0.4, label='Площадь под кривой (ROC-AUC)')\n",
    "\n",
    "plt.legend()\n",
    "plt.show()"
   ]
  },
  {
   "cell_type": "code",
   "execution_count": 40,
   "metadata": {},
   "outputs": [
    {
     "name": "stdout",
     "output_type": "stream",
     "text": [
      "ROC-AUC на тестовой выборке (oh) 0.892\n"
     ]
    }
   ],
   "source": [
    "# рассчет площади ROC curve\n",
    "roc_auc = roc_auc_score(y_test, pred_proba).round(3)\n",
    "print('ROC-AUC на тестовой выборке (oh)', roc_auc)"
   ]
  },
  {
   "cell_type": "code",
   "execution_count": 41,
   "metadata": {},
   "outputs": [],
   "source": [
    "experiment.log_metric('roc_auc OneHot data', roc_auc)"
   ]
  },
  {
   "cell_type": "markdown",
   "metadata": {},
   "source": [
    "Для дата-сета закодированного LabelEncoder"
   ]
  },
  {
   "cell_type": "code",
   "execution_count": 42,
   "metadata": {},
   "outputs": [
    {
     "data": {
      "text/plain": [
       "array([[0.70972943, 0.29027057],\n",
       "       [0.95393521, 0.04606479],\n",
       "       [0.64699814, 0.35300186],\n",
       "       ...,\n",
       "       [0.94395684, 0.05604316],\n",
       "       [0.63560326, 0.36439674],\n",
       "       [0.41032161, 0.58967839]])"
      ]
     },
     "execution_count": 42,
     "metadata": {},
     "output_type": "execute_result"
    }
   ],
   "source": [
    "pred_proba_le = linear_model.predict_proba(X_test_le)\n",
    "pred_proba_le"
   ]
  },
  {
   "cell_type": "code",
   "execution_count": 43,
   "metadata": {},
   "outputs": [
    {
     "data": {
      "text/plain": [
       "array([0.29027057, 0.04606479, 0.35300186, ..., 0.05604316, 0.36439674,\n",
       "       0.58967839])"
      ]
     },
     "execution_count": 43,
     "metadata": {},
     "output_type": "execute_result"
    }
   ],
   "source": [
    "# выберем столбец вероятности принадлежности к 1 классу\n",
    "pred_proba_le = pred_proba_le[:, 1]\n",
    "pred_proba_le"
   ]
  },
  {
   "cell_type": "code",
   "execution_count": 44,
   "metadata": {},
   "outputs": [
    {
     "data": {
      "text/plain": [
       "{'web': 'https://www.comet.com/api/image/download?imageId=4b95a8e786364bccae2a20f4c3d87ffa&experimentKey=460ceae7396b40feb6f6167a46c9e9f3',\n",
       " 'api': 'https://www.comet.com/api/rest/v1/image/get-image?imageId=4b95a8e786364bccae2a20f4c3d87ffa&experimentKey=460ceae7396b40feb6f6167a46c9e9f3',\n",
       " 'imageId': '4b95a8e786364bccae2a20f4c3d87ffa'}"
      ]
     },
     "execution_count": 44,
     "metadata": {},
     "output_type": "execute_result"
    },
    {
     "data": {
      "image/png": "[encoded data removed]",
      "text/plain": [
       "<Figure size 576x360 with 1 Axes>"
      ]
     },
     "metadata": {
      "needs_background": "light"
     },
     "output_type": "display_data"
    }
   ],
   "source": [
    "plt.figure(figsize=(8, 5))\n",
    "plt.hist(pred_proba_le, bins=100)\n",
    "plt.vlines(0.5, 0, 700)\n",
    "\n",
    "plt.xlabel('Предсказанная вероятность дохода', fontsize=20)\n",
    "plt.ylabel('Количество людей', fontsize=20)\n",
    "\n",
    "experiment.log_figure('predicted_income_probability_le', plt)"
   ]
  },
  {
   "cell_type": "markdown",
   "metadata": {},
   "source": [
    "Для дата-сета закодированного LabelEncoder"
   ]
  },
  {
   "cell_type": "code",
   "execution_count": 45,
   "metadata": {},
   "outputs": [
    {
     "data": {
      "image/png": "[encoded data removed]",
      "text/plain": [
       "<Figure size 504x504 with 1 Axes>"
      ]
     },
     "metadata": {
      "needs_background": "light"
     },
     "output_type": "display_data"
    }
   ],
   "source": [
    "false_positive_rates, true_positive_rates, threshold = roc_curve(y_test, pred_proba_le)\n",
    "\n",
    "# создаем roc-curve\n",
    "plt.figure(figsize=(7, 7))\n",
    "\n",
    "# рисуем кривую\n",
    "plt.plot(false_positive_rates, true_positive_rates, label='Сглаженные значения ROC-AUC')\n",
    "\n",
    "# кривая, соответствующая случайному угадыванию\n",
    "plt.plot([0, 1], [1, 0], color='k', lw=2, linestyle=':', label='Модель, выдающая случайное значение')\n",
    "\n",
    "plt.title('ROC curve')\n",
    "plt.xlabel('False Positive Rate')\n",
    "plt.ylabel('True Positive Rate')\n",
    "\n",
    "plt.fill_between(false_positive_rates, true_positive_rates, step='pre', alpha=0.4, label='Площадь под кривой (ROC-AUC)')\n",
    "\n",
    "plt.legend()\n",
    "plt.show()"
   ]
  },
  {
   "cell_type": "code",
   "execution_count": 46,
   "metadata": {},
   "outputs": [
    {
     "name": "stdout",
     "output_type": "stream",
     "text": [
      "ROC-AUC на тестовой выборке (le) 0.786\n"
     ]
    }
   ],
   "source": [
    "# рассчет площади ROC curve\n",
    "roc_auc_le = roc_auc_score(y_test, pred_proba_le).round(3)\n",
    "print('ROC-AUC на тестовой выборке (le)', roc_auc_le)"
   ]
  },
  {
   "cell_type": "code",
   "execution_count": 47,
   "metadata": {},
   "outputs": [],
   "source": [
    "experiment.log_metric('roc_auc LabelEncoder data', roc_auc_le)"
   ]
  },
  {
   "cell_type": "code",
   "execution_count": 48,
   "metadata": {},
   "outputs": [
    {
     "name": "stderr",
     "output_type": "stream",
     "text": [
      "COMET INFO: ---------------------------\n",
      "COMET INFO: Comet.ml Experiment Summary\n",
      "COMET INFO: ---------------------------\n",
      "COMET INFO:   Data:\n",
      "COMET INFO:     display_summary_level : 1\n",
      "COMET INFO:     url                   : https://www.comet.com/dmitriy-b/predict-income/460ceae7396b40feb6f6167a46c9e9f3\n",
      "COMET INFO:   Metrics:\n",
      "COMET INFO:     Accuracy_score_LE         : 0.8001474020390615\n",
      "COMET INFO:     Accuracy_score_OHE        : 0.8487900749293699\n",
      "COMET INFO:     roc_auc LabelEncoder data : 0.786\n",
      "COMET INFO:     roc_auc OneHot data       : 0.892\n",
      "COMET INFO:   Parameters:\n",
      "COMET INFO:     C                 : 1.0\n",
      "COMET INFO:     categories        : auto\n",
      "COMET INFO:     class_weight      : 1\n",
      "COMET INFO:     drop              : 1\n",
      "COMET INFO:     dtype             : <class 'numpy.float64'>\n",
      "COMET INFO:     dual              : False\n",
      "COMET INFO:     fit_intercept     : True\n",
      "COMET INFO:     handle_unknown    : error\n",
      "COMET INFO:     intercept_scaling : 1\n",
      "COMET INFO:     l1_ratio          : 1\n",
      "COMET INFO:     max_categories    : 1\n",
      "COMET INFO:     max_iter          : 100\n",
      "COMET INFO:     min_frequency     : 1\n",
      "COMET INFO:     multi_class       : auto\n",
      "COMET INFO:     n_jobs            : 1\n",
      "COMET INFO:     penalty           : l2\n",
      "COMET INFO:     random_state      : 1\n",
      "COMET INFO:     solver            : lbfgs\n",
      "COMET INFO:     sparse            : True\n",
      "COMET INFO:     tol               : 0.0001\n",
      "COMET INFO:     verbose           : 0\n",
      "COMET INFO:     warm_start        : False\n",
      "COMET INFO:   Uploads:\n",
      "COMET INFO:     confusion-matrix         : 1\n",
      "COMET INFO:     environment details      : 1\n",
      "COMET INFO:     figures                  : 3\n",
      "COMET INFO:     filename                 : 1\n",
      "COMET INFO:     git metadata             : 1\n",
      "COMET INFO:     git-patch (uncompressed) : 1 (196.32 KB)\n",
      "COMET INFO:     installed packages       : 1\n",
      "COMET INFO:     notebook                 : 1\n",
      "COMET INFO:     source_code              : 1\n",
      "COMET INFO: ---------------------------\n",
      "COMET INFO: Uploading metrics, params, and assets to Comet before program termination (may take several seconds)\n",
      "COMET INFO: The Python SDK has 3600 seconds to finish before aborting...\n"
     ]
    }
   ],
   "source": [
    "experiment.end()"
   ]
  }
 ],
 "metadata": {
  "kernelspec": {
   "display_name": "Python 3",
   "language": "python",
   "name": "python3"
  },
  "language_info": {
   "codemirror_mode": {
    "name": "ipython",
    "version": 3
   },
   "file_extension": ".py",
   "mimetype": "text/x-python",
   "name": "python",
   "nbconvert_exporter": "python",
   "pygments_lexer": "ipython3",
   "version": "3.9.7"
  }
 },
 "nbformat": 4,
 "nbformat_minor": 2
}
