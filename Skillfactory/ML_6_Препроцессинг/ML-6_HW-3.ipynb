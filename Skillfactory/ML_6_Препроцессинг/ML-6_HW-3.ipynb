{
 "cells": [
  {
   "cell_type": "markdown",
   "metadata": {},
   "source": [
    "### Задание 9.5. Модуль ML-6 (HW-03)\n",
    "Обучить модель линейной регрессии на найденных двумя способами трёх важных признаках и сравните полученные результаты."
   ]
  },
  {
   "cell_type": "code",
   "execution_count": 1,
   "metadata": {},
   "outputs": [],
   "source": [
    "# Загрузка бибилиотек\n",
    "import pandas as pd\n",
    "from sklearn.model_selection import train_test_split\n",
    "from sklearn.linear_model import LinearRegression\n",
    "from sklearn.feature_selection import RFE\n",
    "from sklearn.feature_selection import SelectKBest, f_regression\n",
    "from sklearn.metrics import mean_absolute_error\n",
    "from sklearn.metrics import mean_squared_error"
   ]
  },
  {
   "cell_type": "code",
   "execution_count": 2,
   "metadata": {},
   "outputs": [],
   "source": [
    "# объявим функцию для обучения модели линейной регрессии\n",
    "def func_LR (columns, data):\n",
    "    \"\"\"Функция - обучение модели линейной регрессии.\n",
    "\n",
    "    Args:\n",
    "        col (list): список признаков\n",
    "        data (DataFrame): обработанный (подготовленный) дата-сет\n",
    "    \"\"\"\n",
    "\n",
    "    y = data['price'] # выделяем целевой признак\n",
    "    X = x[columns] # дата-сет с отобранными признаками\n",
    "\n",
    "    X_train, X_test, y_train, y_test = train_test_split(X, y, test_size=0.3, random_state=40) # разделяем дата-сет на тренировочный и тестовый\n",
    "\n",
    "    # обучаем модел линейной регрессии на тренирововчной выборке\n",
    "    model = LinearRegression()\n",
    "    model.fit(X_train, y_train)\n",
    "    y_predicted = model.predict(X_test) # делаем предсказание на тестовой выборке\n",
    "    \n",
    "    \n",
    "    mae = mean_absolute_error(y_test, y_predicted)\n",
    "    print('MAE: %.3f' % mae) # оценка качества модели Mean Absolute Error"
   ]
  },
  {
   "cell_type": "code",
   "execution_count": 3,
   "metadata": {},
   "outputs": [],
   "source": [
    "# Загрузка дата-сета\n",
    "\n",
    "#%%capture\n",
    "#!wget https://www.dropbox.com/s/64ol9q9ssggz6f1/data_ford_price.xlsx\n",
    "\n",
    "data = pd.read_excel('data/data_ford_price.xlsx') # дата-сет загружен заранее"
   ]
  },
  {
   "cell_type": "code",
   "execution_count": 4,
   "metadata": {},
   "outputs": [
    {
     "name": "stdout",
     "output_type": "stream",
     "text": [
      "<class 'pandas.core.frame.DataFrame'>\n",
      "RangeIndex: 7017 entries, 0 to 7016\n",
      "Data columns (total 12 columns):\n",
      " #   Column        Non-Null Count  Dtype  \n",
      "---  ------        --------------  -----  \n",
      " 0   price         7017 non-null   int64  \n",
      " 1   year          7017 non-null   int64  \n",
      " 2   condition     7017 non-null   int64  \n",
      " 3   cylinders     7017 non-null   int64  \n",
      " 4   odometer      7017 non-null   int64  \n",
      " 5   title_status  7017 non-null   object \n",
      " 6   transmission  7017 non-null   object \n",
      " 7   drive         6626 non-null   object \n",
      " 8   size          5453 non-null   object \n",
      " 9   lat           7017 non-null   float64\n",
      " 10  long          7017 non-null   float64\n",
      " 11  weather       6837 non-null   float64\n",
      "dtypes: float64(3), int64(5), object(4)\n",
      "memory usage: 658.0+ KB\n"
     ]
    }
   ],
   "source": [
    "data.info()"
   ]
  },
  {
   "cell_type": "markdown",
   "metadata": {},
   "source": [
    "Произведем предобработку дата-сета. Исключим категориальные признаки, удалим пропущенные значения, выделим целевой признак в отдельный дата-сет."
   ]
  },
  {
   "cell_type": "code",
   "execution_count": 5,
   "metadata": {},
   "outputs": [],
   "source": [
    "data = data[['price','year', 'cylinders', 'odometer', 'lat', 'long', 'weather']] # исключаем категориальные признаки\n",
    "data.dropna(inplace = True) # удаляем пропущенные значения\n",
    "\n",
    "y = data['price'] # выделяем целевой признак\n",
    "x = data.drop(columns='price')\n",
    "\n",
    "X_train, X_test, y_train, y_test = train_test_split(x, y, test_size=0.3, random_state=40) # разделяем дата-сет на тренировочный и тестовый"
   ]
  },
  {
   "cell_type": "code",
   "execution_count": 6,
   "metadata": {},
   "outputs": [
    {
     "name": "stdout",
     "output_type": "stream",
     "text": [
      "<class 'pandas.core.frame.DataFrame'>\n",
      "Int64Index: 6837 entries, 0 to 7016\n",
      "Data columns (total 6 columns):\n",
      " #   Column     Non-Null Count  Dtype  \n",
      "---  ------     --------------  -----  \n",
      " 0   year       6837 non-null   int64  \n",
      " 1   cylinders  6837 non-null   int64  \n",
      " 2   odometer   6837 non-null   int64  \n",
      " 3   lat        6837 non-null   float64\n",
      " 4   long       6837 non-null   float64\n",
      " 5   weather    6837 non-null   float64\n",
      "dtypes: float64(3), int64(3)\n",
      "memory usage: 373.9 KB\n"
     ]
    }
   ],
   "source": [
    "x.info() # проверка"
   ]
  },
  {
   "cell_type": "markdown",
   "metadata": {},
   "source": [
    "1. Выделим 3 важных признака методом $RFE$"
   ]
  },
  {
   "cell_type": "code",
   "execution_count": 7,
   "metadata": {},
   "outputs": [
    {
     "data": {
      "text/plain": [
       "array(['year', 'cylinders', 'lat'], dtype=object)"
      ]
     },
     "execution_count": 7,
     "metadata": {},
     "output_type": "execute_result"
    }
   ],
   "source": [
    "estimator = LinearRegression()\n",
    "selector = RFE(estimator, n_features_to_select=3, step=1)\n",
    "selector = selector.fit(X_train, y_train)\n",
    " \n",
    "selector.get_feature_names_out() # возвратим три наиболее важных признака\n",
    "# 'year', 'cylinders', 'lat'"
   ]
  },
  {
   "cell_type": "code",
   "execution_count": 8,
   "metadata": {},
   "outputs": [],
   "source": [
    "col_RFE = ['year', 'cylinders', 'lat'] # создадим список наиболее важных признаков, полученных методом RFE"
   ]
  },
  {
   "cell_type": "markdown",
   "metadata": {},
   "source": [
    "2. Выделим 3 важных признака методом фильтрации $SelectKBest$"
   ]
  },
  {
   "cell_type": "code",
   "execution_count": 9,
   "metadata": {},
   "outputs": [
    {
     "data": {
      "text/plain": [
       "array(['year', 'cylinders', 'odometer'], dtype=object)"
      ]
     },
     "execution_count": 9,
     "metadata": {},
     "output_type": "execute_result"
    }
   ],
   "source": [
    "selector = SelectKBest(f_regression, k=3)\n",
    "selector.fit(X_train, y_train)\n",
    " \n",
    "selector.get_feature_names_out() # возвратим три наиболее важных признака\n",
    "# 'year', 'cylinders', 'odometer'"
   ]
  },
  {
   "cell_type": "code",
   "execution_count": 10,
   "metadata": {},
   "outputs": [],
   "source": [
    "col_SKB = ['year', 'cylinders', 'odometer'] # создадим список наиболее важных признаков, полученных методом SelectKBest (SKB)"
   ]
  },
  {
   "cell_type": "code",
   "execution_count": 11,
   "metadata": {},
   "outputs": [
    {
     "name": "stdout",
     "output_type": "stream",
     "text": [
      "MAE: 5096.570\n"
     ]
    }
   ],
   "source": [
    "func_LR(col_RFE, data) # запускаем функцию обучения LR с признаками, полученными методом RFE"
   ]
  },
  {
   "cell_type": "code",
   "execution_count": 12,
   "metadata": {},
   "outputs": [
    {
     "name": "stdout",
     "output_type": "stream",
     "text": [
      "MAE: 4708.946\n"
     ]
    }
   ],
   "source": [
    "func_LR(col_SKB, data) # запускаем функцию обучения LR с признаками, полученными методом SKB"
   ]
  },
  {
   "cell_type": "markdown",
   "metadata": {},
   "source": [
    "В проделанной работе произведен отбор трёх наиболее выжных признаков двумя методами (RFE и SelectKBest), произведено обучение модели линейной регресси на тренировочной выборке и предсказание обученной модели на тестовой выборке.<br>\n",
    "Дата-сет предварительно прошел предобработку: удалены категориальные признаки и наблюдения, где встречаются нулевые значения.<br>\n",
    "Метод RFE отобрал следующие три наиболее важных признака: year, cylinders, lat.<br>\n",
    "Метод SelectKBest (SKB) отобрал три наиболее важных признака: year, cylinders, odometer.<br>\n",
    "Результаты применения методов отличаются в третьем признаке.<br>\n",
    "Оценка качества модели в двух случаях оценивалась методом Mean absolute error (MAE).<br>\n",
    "Модель с отобранными признаками методом RFE имеет MAE 5096.57<br>\n",
    "Модель с отобранными признаками методом SKB имеет MAE 4708.946<br>\n",
    "Вторая модель показала более лучший результат, чем первая.<br>\n",
    "Данный результат ожидаем, так как пробег действительно будет влиять на цену автомобиля больше, чем географическая широта места продажи автомобиля."
   ]
  }
 ],
 "metadata": {
  "kernelspec": {
   "display_name": "Python 3",
   "language": "python",
   "name": "python3"
  },
  "language_info": {
   "codemirror_mode": {
    "name": "ipython",
    "version": 3
   },
   "file_extension": ".py",
   "mimetype": "text/x-python",
   "name": "python",
   "nbconvert_exporter": "python",
   "pygments_lexer": "ipython3",
   "version": "3.9.7"
  }
 },
 "nbformat": 4,
 "nbformat_minor": 2
}
