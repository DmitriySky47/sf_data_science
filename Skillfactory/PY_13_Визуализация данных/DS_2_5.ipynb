{
 "cells": [
  {
   "cell_type": "markdown",
   "metadata": {},
   "source": [
    "# Построение диаграмм"
   ]
  },
  {
   "cell_type": "markdown",
   "metadata": {},
   "source": [
    "1. ЛИНЕЙНЫЙ ГРАФИК (LINEPLOT)"
   ]
  },
  {
   "cell_type": "code",
   "execution_count": null,
   "metadata": {},
   "outputs": [],
   "source": [
    "import matplotlib.pyplot as plt\n",
    "import seaborn as sns\n",
    "import pandas as pd\n",
    "\n",
    "vg_data = pd.read_csv('data/vgsales.csv')\n",
    "dinamic_by_region = vg_data[\n",
    "        ['NA_Sales', 'EU_Sales', 'JP_Sales', 'Other_Sales', 'Global_Sales', 'Year_of_Release']\n",
    "    ].groupby('Year_of_Release').sum()\n",
    "\n",
    "fig = plt.figure(figsize=(12, 6))\n",
    "lineplot = sns.lineplot(data=dinamic_by_region)\n",
    "lineplot.set_title('Динамика продаж видеоигр', fontsize=16)\n",
    "lineplot.set_xlabel('Год выпуска')\n",
    "lineplot.set_ylabel('Суммарный объём продаж')"
   ]
  },
  {
   "cell_type": "markdown",
   "metadata": {},
   "source": [
    "2. ГИСТОГРАММА (HISTOGRAM)"
   ]
  },
  {
   "cell_type": "code",
   "execution_count": null,
   "metadata": {},
   "outputs": [],
   "source": [
    "import matplotlib.pyplot as plt\n",
    "import seaborn as sns\n",
    "import pandas as pd\n",
    "\n",
    "melb_data = pd.read_csv('data/melb_data.csv')\n",
    "\n",
    "fig, axes = plt.subplots(nrows=2, ncols=1, figsize=(12, 10))\n",
    "plt.subplots_adjust(hspace=.0)\n",
    "\n",
    "histplot1 = sns.histplot(\n",
    "    data=melb_data, \n",
    "    x='Price', \n",
    "    bins=30,\n",
    "    ax=axes[0],\n",
    ")\n",
    "histplot1.set_title('Распределение стоимости недвижимости в Мельбурне', fontsize=16)\n",
    "histplot1.set_xlabel('Цена объекта (млн. австралийских долларов)')\n",
    "histplot1.set_ylabel('Число объектов')\n",
    "\n",
    "histplot2 = sns.histplot(\n",
    "    data=melb_data,\n",
    "    x='Price',\n",
    "    y='Type',\n",
    "    bins=30,\n",
    "    color='green',\n",
    "    ax=axes[1]\n",
    ")\n",
    "histplot2.set_xlabel('Цена объекта (млн. австралийских долларов)')\n",
    "histplot2.set_ylabel('Тип объекта')"
   ]
  },
  {
   "cell_type": "markdown",
   "metadata": {},
   "source": [
    "3. ДИАГРАММА РАССЕЯНИЯ (SCATTERPLOT)"
   ]
  },
  {
   "cell_type": "code",
   "execution_count": null,
   "metadata": {},
   "outputs": [],
   "source": [
    "import matplotlib.pyplot as plt\n",
    "import seaborn as sns\n",
    "import pandas as pd\n",
    "\n",
    "penguins_df = sns.load_dataset(\"penguins\")\n",
    "\n",
    "fig = plt.figure(figsize=(10, 5))\n",
    "\n",
    "scatterplot = sns.scatterplot(\n",
    "    data=penguins_df,\n",
    "    x='bill_length_mm',\n",
    "    y='flipper_length_mm',\n",
    "    hue='species',\n",
    "    s=100,\n",
    "    size='sex',\n",
    "    sizes=(50, 300)\n",
    "\n",
    ")\n",
    "scatterplot.set_title('Взаимосвязь размеров параметров тела разных видов пингвинов', fontsize=16)\n",
    "scatterplot.set_xlabel('Длина клюва')\n",
    "scatterplot.set_ylabel('Длина крыльев')"
   ]
  },
  {
   "cell_type": "markdown",
   "metadata": {},
   "source": [
    "4. КРУГОВАЯ ДИАГРАММА (PIE CHART)"
   ]
  },
  {
   "cell_type": "code",
   "execution_count": null,
   "metadata": {},
   "outputs": [],
   "source": [
    "import matplotlib.pyplot as plt\n",
    "import pandas as pd\n",
    "\n",
    "game_of_thrones_df = pd.read_csv('data/character-deaths.csv')\n",
    "game_of_thrones_df['Allegiances'] = game_of_thrones_df['Allegiances'].str.replace('House ', '')\n",
    "fig = plt.figure(figsize=(12, 6))\n",
    "ax = fig.add_axes((1, 1, 1, 1))\n",
    "deaths_count = game_of_thrones_df['Allegiances'].value_counts().sort_values(ascending=False).head(7)\n",
    "pie = ax.pie(\n",
    "    deaths_count,\n",
    "    labels=deaths_count.index,\n",
    "    autopct='%1.1f%%',\n",
    "    startangle=90\n",
    ")\n",
    "title = ax.set_title('Смертность персонажей в GoT в зависимости от их верности', fontsize=16)\n",
    "plt.show(pie)"
   ]
  },
  {
   "cell_type": "markdown",
   "metadata": {},
   "source": [
    "5. СТОЛБЧАТАЯ ДИАГРАММА (BAR CHART)"
   ]
  },
  {
   "cell_type": "code",
   "execution_count": null,
   "metadata": {},
   "outputs": [],
   "source": [
    "import matplotlib.pyplot as plt\n",
    "import seaborn as sns\n",
    "import pandas as pd\n",
    "\n",
    "amazon_data = pd.read_csv('data/amazon_com.csv')\n",
    "\n",
    "def replace_url(brand_name):\n",
    "    if 'ref=' in brand_name:\n",
    "        if 'Calvin' in brand_name:\n",
    "            return 'Calvin-Klein'\n",
    "        elif 'Wacoal' in brand_name:\n",
    "            return 'Wacoal'\n",
    "        else:\n",
    "            return 'b.tempt'\n",
    "    else:\n",
    "        return brand_name\n",
    "    \n",
    "amazon_data['brand_name'] = amazon_data['brand_name'].apply(replace_url)\n",
    "amazon_data['price'] = amazon_data['price'].str.replace('$', '').astype('float128')\n",
    "amazon_data['brand_name'].unique()\n",
    "fig, axes = plt.subplots(nrows=1, ncols=2, figsize=(20, 7))\n",
    "barplot1 = sns.barplot(\n",
    "    data=amazon_data,\n",
    "    x='brand_name',\n",
    "    y='price',\n",
    "    orient='v',\n",
    "    ax = axes[0],\n",
    "    ci=None\n",
    ")\n",
    "barplot1.tick_params(axis='x', rotation=70);\n",
    "barplot1.set_title('Средняя стоимость товаров по брендам', fontsize=16);\n",
    "barplot1.set_xlabel('Название бренда', fontsize=14);\n",
    "barplot1.set_ylabel('Средняя цена', fontsize=14);\n",
    "barplot1.grid()\n",
    "\n",
    "barplot2 = sns.barplot(\n",
    "    data=amazon_data,\n",
    "    x='brand_name',\n",
    "    y='price',\n",
    "    hue='product_category',\n",
    "    orient='v',\n",
    "    ax = axes[1],\n",
    "    ci=None,\n",
    "    dodge=False\n",
    ")\n",
    "barplot2.tick_params(axis='x', rotation=70);\n",
    "barplot2.set_title('Средняя стоимость товаров по брендам и категориям', fontsize=16);\n",
    "barplot2.set_xlabel('Название бренда', fontsize=14);\n",
    "barplot2.set_ylabel('Средняя цена', fontsize=14);\n",
    "barplot2.grid()"
   ]
  },
  {
   "cell_type": "markdown",
   "metadata": {},
   "source": [
    "6. ТЕПЛОВАЯ КАРТА (HEATMAP)"
   ]
  },
  {
   "cell_type": "code",
   "execution_count": null,
   "metadata": {},
   "outputs": [],
   "source": [
    "import matplotlib.pyplot as plt\n",
    "import seaborn as sns\n",
    "import pandas as pd\n",
    "\n",
    "tweets_df = pd.read_csv(\"https://bit.ly/3cngqgL\", \n",
    "                 parse_dates=['date_utc'], \n",
    "                 dtype={'hour_utc':int,'minute_utc':int,'id':str}\n",
    "                )\n",
    "g = tweets_df.groupby(['hour_utc','minute_utc','username'])\n",
    "tweet_cnt = g.id.nunique()\n",
    "jb_tweet_cnt = tweet_cnt.loc[:,:,'JoeBiden'].reset_index().pivot_table(index='hour_utc', columns='minute_utc', values='id', fill_value=0)\n",
    "dt_tweet_cnt = tweet_cnt.loc[:,:,'realDonaldTrump'].reset_index().pivot_table(index='hour_utc', columns='minute_utc', values='id', fill_value=0)\n",
    "fig, axes = plt.subplots(nrows=2, ncols=1, figsize=(16, 12))\n",
    "jb_heatmap = sns.heatmap(\n",
    "    jb_tweet_cnt,\n",
    "    linewidth=1,\n",
    "    linecolor='w',\n",
    "    cmap='viridis',\n",
    "    ax = axes[0]\n",
    ")\n",
    "jb_heatmap.set_title('@JoeBiden');\n",
    "jb_heatmap.set_xlabel('Минута часа');\n",
    "jb_heatmap.set_ylabel('Час дня');\n",
    "\n",
    "dt_heatmap = sns.heatmap(\n",
    "    dt_tweet_cnt,\n",
    "    linewidth=1,\n",
    "    linecolor='w',\n",
    "    cmap='viridis',\n",
    "    ax = axes[1]\n",
    ")\n",
    "\n",
    "dt_heatmap.set_title('@realDonaldTrump');\n",
    "dt_heatmap.set_xlabel('Минута часа');\n",
    "dt_heatmap.set_ylabel('Час дня');"
   ]
  },
  {
   "cell_type": "markdown",
   "metadata": {},
   "source": [
    "7. КОРОБЧАТАЯ ДИАГРАММА<br>\n",
    "(BOXPLOT, BOX AND WHISKER PLOT)"
   ]
  },
  {
   "cell_type": "code",
   "execution_count": 1,
   "metadata": {},
   "outputs": [
    {
     "data": {
      "text/plain": [
       "Text(0, 0.5, 'Тип пользователя')"
      ]
     },
     "execution_count": 1,
     "metadata": {},
     "output_type": "execute_result"
    },
    {
     "data": {
      "image/png": "[encoded data removed]",
      "text/plain": [
       "<Figure size 864x432 with 1 Axes>"
      ]
     },
     "metadata": {
      "needs_background": "light"
     },
     "output_type": "display_data"
    }
   ],
   "source": [
    "import matplotlib.pyplot as plt\n",
    "import seaborn as sns\n",
    "import pandas as pd\n",
    "\n",
    "citibike_df = pd.read_csv('data/citibike-tripdata.csv')\n",
    "citibike_df['age'] = 2018 - citibike_df['birth year']\n",
    "\n",
    "fig = plt.figure(figsize=(12, 6))\n",
    "boxplot = sns.boxplot(data=citibike_df, x='age', y='usertype')\n",
    "boxplot.set_title('Boxplot для возраста пользователей приложения CitiBike', fontsize=16)\n",
    "boxplot.set_xlabel('Возраст пользователя')\n",
    "boxplot.set_ylabel('Тип пользователя')"
   ]
  },
  {
   "cell_type": "markdown",
   "metadata": {},
   "source": [
    "## Закрепление знаний"
   ]
  }
 ],
 "metadata": {
  "interpreter": {
   "hash": "af741f369a8dd187b80e5712a22afdb8733aeb51bfa419ddcaad81e3c7951da3"
  },
  "kernelspec": {
   "display_name": "Python 3.9.7 64-bit",
   "language": "python",
   "name": "python3"
  },
  "language_info": {
   "codemirror_mode": {
    "name": "ipython",
    "version": 3
   },
   "file_extension": ".py",
   "mimetype": "text/x-python",
   "name": "python",
   "nbconvert_exporter": "python",
   "pygments_lexer": "ipython3",
   "version": "3.9.7"
  },
  "orig_nbformat": 4
 },
 "nbformat": 4,
 "nbformat_minor": 2
}
