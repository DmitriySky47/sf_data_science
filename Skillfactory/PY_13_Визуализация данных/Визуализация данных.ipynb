{
 "cells": [
  {
   "cell_type": "markdown",
   "metadata": {},
   "source": [
    "### Визуализаци данных"
   ]
  },
  {
   "cell_type": "markdown",
   "metadata": {},
   "source": [
    "Задача Ковид и Вакцинация"
   ]
  },
  {
   "cell_type": "code",
   "execution_count": null,
   "metadata": {},
   "outputs": [],
   "source": [
    "import pandas as pd\n",
    "\n",
    "covid_data = pd.read_csv('data/covid_data.csv')\n",
    "#display(covid_data.head())\n",
    "\n",
    "\n",
    "# Группируем таблицу по дате и названию страны и рассчитываем суммарные показатели по всем регионам.\n",
    "# Тем самым переходим от данных по регионам к данным по странам:\n",
    "covid_data = covid_data.groupby(\n",
    "    ['date', 'country'], \n",
    "    as_index=False\n",
    ")[['confirmed', 'deaths', 'recovered']].sum()\n",
    "\n",
    "#Преобразуем даты в формат datetime с помощью функции pd.to_datetime():\n",
    "covid_data['date'] = pd.to_datetime(covid_data['date'])\n",
    "\n",
    "#оздадим признак больных на данный момент (active). Для этого вычтем из общего числа зафиксированных случаев число смертей\n",
    "# и число выздоровевших пациентов:\n",
    "covid_data['active'] = covid_data['confirmed'] - covid_data['deaths'] - covid_data['recovered']\n",
    "\n",
    "#Создадим признак ежедневного прироста числа заболевших, умерших и выздоровевших людей.\n",
    "# Для этого отсортируем данные по названиям стран, а затем по датам.\n",
    "# После этого произведём группировку по странам и рассчитаем разницу между «вчера и сегодня» с помощью метода diff():\n",
    "covid_data = covid_data.sort_values(by=['country', 'date'])\n",
    "covid_data['daily_confirmed'] = covid_data.groupby('country')['confirmed'].diff()\n",
    "covid_data['daily_deaths'] = covid_data.groupby('country')['deaths'].diff()\n",
    "covid_data['daily_recovered'] = covid_data.groupby('country')['recovered'].diff()\n",
    "\n",
    "display(covid_data.head())"
   ]
  },
  {
   "cell_type": "code",
   "execution_count": null,
   "metadata": {},
   "outputs": [],
   "source": [
    "import pandas as pd\n",
    "\n",
    "vaccinations_data = pd.read_csv('data/country_vaccinations.csv')\n",
    "vaccinations_data = vaccinations_data[\n",
    "    ['country', 'date', 'total_vaccinations', \n",
    "     'people_vaccinated', 'people_vaccinated_per_hundred',\n",
    "     'people_fully_vaccinated', 'people_fully_vaccinated_per_hundred',\n",
    "     'daily_vaccinations', 'vaccines']\n",
    "]\n",
    "\n",
    "#В таблице vaccinations_data достаточно будет преобразовать столбцы в формат datetime:\n",
    "vaccinations_data['date'] = pd.to_datetime(vaccinations_data['date'])\n",
    "    \n",
    "display(vaccinations_data.head())"
   ]
  },
  {
   "cell_type": "markdown",
   "metadata": {},
   "source": [
    "Задание 3.1\n",
    "За какой период представлены данные в таблице covid_data? В качестве ответа введите даты в формате datetime (без указания времени).\n",
    "Введите ответ в следующем формате (без пробелов): ГГГГ-ММ-ДД-ГГГГ-ММ-ДД<br>\n",
    "Для определения периода можно найти максимум и минимум в столбце date таблицы covid_data."
   ]
  },
  {
   "cell_type": "code",
   "execution_count": null,
   "metadata": {},
   "outputs": [],
   "source": [
    "print(f\"Период от {covid_data['date'].min()} до {covid_data['date'].max()}\")"
   ]
  },
  {
   "cell_type": "markdown",
   "metadata": {},
   "source": [
    "Задание 3.2 \n",
    "<br>За какой период представлены данные в таблице vaccinations_data? В качестве ответа введите даты в формате datetime без указания времени.\n",
    "<br>Для определения интервала даты можно найти максимум и минимум в столбца date таблицы vaccination_data."
   ]
  },
  {
   "cell_type": "code",
   "execution_count": null,
   "metadata": {},
   "outputs": [],
   "source": [
    "print(f\"Период от {vaccinations_data['date'].min()} до {vaccinations_data['date'].max()}\")"
   ]
  },
  {
   "cell_type": "markdown",
   "metadata": {},
   "source": [
    "Задание 3.3 \n",
    "<br>С помощью метода merge() объедините таблицы covid_data и vaccinations_data по столбцам date и country.\n",
    "Тип объединения выставьте так, чтобы в результирующую таблицу попали только наблюдения за период, вычисленный в задании 3.1. То есть в результирующую таблицу должны попасть все записи из таблицы covid_data и из её пересечения с vaccinations_data, но не более. Результат объединения занесите в переменную covid_df.\n",
    "<br>Сохраните таблицу covid_df — она понадобится нам в следующем юните.\n",
    "<br>- Для объединения по нескольким столбцам передайте в параметр метода merge() список с именами ключей."
   ]
  },
  {
   "cell_type": "code",
   "execution_count": null,
   "metadata": {},
   "outputs": [],
   "source": [
    "covid_df = covid_data.merge(\n",
    "    vaccinations_data,\n",
    "    on=['date', 'country'],\n",
    "    how='left'\n",
    "    )\n",
    "print('Число строк: ', covid_df.shape[0])\n",
    "print('Число столбцов: ', covid_df.shape[1])\n",
    "covid_df.info()"
   ]
  },
  {
   "cell_type": "markdown",
   "metadata": {},
   "source": [
    "Задание 3.4 \n",
    "<br>Какова максимальная летальность в США (United States) за весь период? Ответ округлите до второго знака после запятой.\n",
    "<br>В получившейся в задании 3.3 таблице covid_df создайте признаки death_rate — общий процент смертей среди зафиксированных случаев (летальность) и recover_rate — общий процент случаев выздоровления. Данные характеристики рассчитайте как отношение числа смертей (deaths) и числа выздоровлений (recovered) к числу зафиксированных случаев (confirmed) и умножьте результаты на 100%."
   ]
  },
  {
   "cell_type": "code",
   "execution_count": null,
   "metadata": {},
   "outputs": [],
   "source": [
    "covid_df['death_rate'] = covid_df['deaths'] / covid_df['confirmed'] *100\n",
    "covid_df['recover_rate'] = covid_df['recovered'] / covid_df['confirmed'] * 100\n",
    "round(covid_df[covid_df['country'] == 'United States']['death_rate'].max(), 2)\n",
    "\n",
    "#covid_df[covid_df['country'] == 'United States']['death_rate'].max()"
   ]
  },
  {
   "cell_type": "markdown",
   "metadata": {},
   "source": [
    "Задание 3.5\n",
    "<br>Чему равен средний процент выздоровевших в России (Russia)?\n",
    "<br>Ответ округлите до второго знака после запятой."
   ]
  },
  {
   "cell_type": "code",
   "execution_count": null,
   "metadata": {},
   "outputs": [],
   "source": [
    "round(covid_df[covid_df['country'] == 'Russia']['recover_rate'].mean(), 2)"
   ]
  },
  {
   "cell_type": "markdown",
   "metadata": {},
   "source": [
    "## Графические возможности библиотеки Pandas"
   ]
  },
  {
   "cell_type": "markdown",
   "metadata": {},
   "source": [
    "Базовая визуализация в Pandas"
   ]
  },
  {
   "cell_type": "code",
   "execution_count": null,
   "metadata": {},
   "outputs": [],
   "source": [
    "grouped_cases = covid_df.groupby('date')['daily_confirmed'].sum()\n",
    "grouped_cases.plot(\n",
    "    kind='line',\n",
    "    figsize=(12, 4),\n",
    "    title='Ежедневная заболеваемость по всем странам',\n",
    "    grid = True,\n",
    "    lw=3\n",
    ");"
   ]
  },
  {
   "cell_type": "code",
   "execution_count": null,
   "metadata": {},
   "outputs": [],
   "source": [
    "grouped_cases.plot(\n",
    "    kind='hist',\n",
    "    figsize=(10, 6),\n",
    "    title='Распределение ежедневной заболеваемости',\n",
    "    grid = True,\n",
    "    color = 'black',\n",
    "    bins=10\n",
    ");"
   ]
  },
  {
   "cell_type": "code",
   "execution_count": null,
   "metadata": {},
   "outputs": [],
   "source": [
    "grouped_country = covid_df.groupby(['country'])['confirmed'].last()\n",
    "grouped_country = grouped_country.nlargest(10)\n",
    "grouped_country.plot(\n",
    "    kind='bar',\n",
    "    grid=True,\n",
    "    figsize=(12, 4),\n",
    "    colormap='plasma'\n",
    ");"
   ]
  },
  {
   "cell_type": "code",
   "execution_count": null,
   "metadata": {},
   "outputs": [],
   "source": [
    "grouped_country = covid_df.groupby(['country'])[['confirmed', 'deaths']].last()\n",
    "grouped_country = grouped_country.nlargest(10, columns=['confirmed'])\n",
    "grouped_country.plot( \n",
    "    kind='bar', \n",
    "    grid=True, \n",
    "    figsize=(12, 4), \n",
    ");"
   ]
  },
  {
   "cell_type": "code",
   "execution_count": null,
   "metadata": {},
   "outputs": [],
   "source": [
    "covid_df.groupby(['country'])['total_vaccinations'].last().nsmallest(5).plot(kind='bar');"
   ]
  },
  {
   "cell_type": "markdown",
   "metadata": {},
   "source": [
    "Диаграмма рассеяния Scatter"
   ]
  },
  {
   "cell_type": "code",
   "execution_count": null,
   "metadata": {},
   "outputs": [],
   "source": [
    "import matplotlib.pyplot as plt\n",
    "%matplotlib inline\n",
    "\n",
    "plt.style.use('default')\n",
    "\n",
    "us_data = covid_df[covid_df['country'] == 'United States']\n",
    "\n",
    "fig = plt.figure(figsize=(8, 4))\n",
    "axes = fig.add_axes([0, 0, 1, 1])\n",
    "axes.scatter(\n",
    "    x=us_data['people_fully_vaccinated'], \n",
    "    y=us_data['daily_confirmed'], \n",
    "    s=100,\n",
    "    marker='o',\n",
    "    c = 'blue'\n",
    ");"
   ]
  },
  {
   "cell_type": "markdown",
   "metadata": {},
   "source": [
    "Круговая диаграмма Pie"
   ]
  },
  {
   "cell_type": "code",
   "execution_count": null,
   "metadata": {},
   "outputs": [],
   "source": [
    "import matplotlib.pyplot as plt\n",
    "%matplotlib inline\n",
    "plt.style.use('default')\n",
    "\n",
    "vaccine_combinations = covid_df['vaccines'].value_counts()[:10]\n",
    "fig = plt.figure(figsize=(5, 5))\n",
    "axes = fig.add_axes([0, 0, 1, 1])\n",
    "axes.pie(\n",
    "    vaccine_combinations,\n",
    "    labels=vaccine_combinations.index,\n",
    "    autopct='%.1f%%',\n",
    "    explode = [0.1, 0, 0, 0, 0, 0, 0, 0, 0, 0]\n",
    ");"
   ]
  },
  {
   "cell_type": "markdown",
   "metadata": {},
   "source": [
    "Соотношение использование вакцин"
   ]
  },
  {
   "cell_type": "code",
   "execution_count": null,
   "metadata": {},
   "outputs": [],
   "source": [
    "import matplotlib.pyplot as plt\n",
    "%matplotlib inline\n",
    "\n",
    "plt.style.use('default')\n",
    "\n",
    "#избавляемся от пропусков в столбце с вакцинами\n",
    "combination_not_nan = covid_df.dropna(subset=['vaccines'])\n",
    "#группируем по странам и выбираем последнюю комбинацию вакцин в стране\n",
    "combination_last = combination_not_nan.groupby(['country'])['vaccines'].last() \n",
    "#заменяем пробелы в строках и делим комбинации на отдельные вакцины по запятой\n",
    "combination_last = combination_last.apply(lambda x: x.replace(' ', '').split(',')) \n",
    "#создаём пустой словарь, ключами которого будут вакцины, а значениями — количество стран\n",
    "vaccines_dict = {} \n",
    "#создаём цикл по элементам Series combination_last\n",
    "for vaccines_list in combination_last:\n",
    "    #создаём цикл по элементам списка с вакцинами\n",
    "    for vaccine in vaccines_list:\n",
    "        #проверяем условие, что текущей вакцины ещё нет среди ключей словаря\n",
    "        if vaccine not in vaccines_dict:#если условие выполняется\n",
    "            vaccines_dict[vaccine] = 1 #заносим вакцину в словарь со значением 1\n",
    "        else: #в противном случае\n",
    "            vaccines_dict[vaccine] += 1 #увеличивает количество\n",
    "#преобразуем словарь в Series\n",
    "vaccines = pd.Series(vaccines_dict).sort_values(ascending=False)\n",
    "#выделяем ТОП-7 вакцин и добавляем категорию 'other'\n",
    "vaccines['other'] = vaccines[7:].sum()\n",
    "vaccines = vaccines.sort_values(ascending=False)[:8]\n",
    "#строим круговую диаграмму\n",
    "fig = plt.figure(figsize=(5, 5))\n",
    "axes = fig.add_axes([0, 0, 1, 1])\n",
    "axes.pie(\n",
    "    vaccines,\n",
    "    labels=vaccines.index,\n",
    "    autopct='%.1f%%',\n",
    ");"
   ]
  },
  {
   "cell_type": "markdown",
   "metadata": {},
   "source": [
    "Информативность в графиках"
   ]
  },
  {
   "cell_type": "code",
   "execution_count": null,
   "metadata": {},
   "outputs": [],
   "source": [
    "import matplotlib.pyplot as plt\n",
    "%matplotlib inline\n",
    "\n",
    "plt.style.use('default')\n",
    "\n",
    "china_data = covid_df[covid_df['country'] == 'China']\n",
    "china_grouped = china_data.groupby(['date'])[['confirmed', 'active', 'deaths', 'recovered']].sum()\n",
    "\n",
    "#визуализация графиков\n",
    "fig = plt.figure(figsize=(10, 4))\n",
    "axes = fig.add_axes([0, 0, 1, 1])\n",
    "axes.plot(china_grouped['confirmed'], label='Общее число зафиксированных случаев', lw=3)\n",
    "axes.plot(china_grouped['deaths'], label='Общее число смертей', lw=3)\n",
    "axes.plot(china_grouped['recovered'], label='Общее число выздоровевших пациентов', lw=3)\n",
    "axes.plot(china_grouped['active'], label='Общее число активных случаев', lw=3, linestyle='dashed')\n",
    "\n",
    "#установка параметров отображения\n",
    "axes.set_title('Статистика Covid-19 в Китае', fontsize=16)\n",
    "axes.set_xlabel('Даты')\n",
    "axes.set_ylabel('Число случаев')\n",
    "axes.set_yticks(range(0, 100000, 10000))\n",
    "axes.xaxis.set_tick_params(rotation=30)\n",
    "axes.grid()\n",
    "axes.legend();"
   ]
  },
  {
   "cell_type": "markdown",
   "metadata": {},
   "source": [
    "Использование нескольких систем координат (окно в окне)"
   ]
  },
  {
   "cell_type": "code",
   "execution_count": null,
   "metadata": {},
   "outputs": [],
   "source": [
    "import matplotlib.pyplot as plt\n",
    "%matplotlib inline\n",
    "\n",
    "plt.style.use('default')\n",
    "\n",
    "vacc_country = covid_df.groupby('country')['people_fully_vaccinated'].last().nlargest(5)\n",
    "vacc_country_per_hundred = covid_df.groupby('country')['people_fully_vaccinated_per_hundred'].last().nlargest(5)\n",
    "\n",
    "#визуализация главного графика\n",
    "fig = plt.figure(figsize=(13, 4))\n",
    "main_axes = fig.add_axes([0, 0, 1, 1])\n",
    "main_axes.bar(x = vacc_country.index, height = vacc_country);\n",
    "main_axes.set_ylabel('Число вакцинированных (2 компонент)')\n",
    "main_axes.set_title('Топ 5 стран по числу полностью привитых людей')\n",
    "\n",
    "#визуализация вспомогательного графика\n",
    "insert_axes = fig.add_axes([0.6, 0.6, 0.38, 0.38])\n",
    "insert_axes.bar(x = vacc_country_per_hundred.index, height = vacc_country_per_hundred, width=0.5);\n",
    "insert_axes.set_ylabel('На 100 человек')\n",
    "insert_axes.xaxis.set_tick_params(rotation=45)"
   ]
  },
  {
   "cell_type": "markdown",
   "metadata": {},
   "source": [
    "Использование нескольких систем координат subplots()"
   ]
  },
  {
   "cell_type": "code",
   "execution_count": null,
   "metadata": {},
   "outputs": [],
   "source": [
    "import matplotlib.pyplot as plt\n",
    "%matplotlib inline\n",
    "\n",
    "plt.style.use('default')\n",
    "\n",
    "\n",
    "russia_data = covid_df[covid_df[\"country\"] == \"Russia\"]\n",
    "\n",
    "# визуализация систем координат\n",
    "fig, axes = plt.subplots(nrows=1, ncols=3, figsize=(15, 4))\n",
    "\n",
    "# столбчатая диаграмма\n",
    "axes[0].bar(\n",
    "    x=russia_data[\"date\"],\n",
    "    height=russia_data[\"daily_vaccinations\"],\n",
    "    label=\"Число вакцинированных\",\n",
    ")\n",
    "axes[0].set_title(\"Ежедневная вакцинация в России\")\n",
    "axes[0].xaxis.set_tick_params(rotation=45)\n",
    "\n",
    "# линейный график\n",
    "axes[1].plot(\n",
    "    russia_data[\"date\"],\n",
    "    russia_data[\"daily_confirmed\"],\n",
    "    label=\"Число заболевших\",\n",
    "    color=\"tomato\",\n",
    "    lw=2,\n",
    ")\n",
    "axes[1].set_title(\"Ежедневная заболеваемость в России\")\n",
    "axes[1].xaxis.set_tick_params(rotation=45)\n",
    "\n",
    "# гистограмма\n",
    "axes[2].hist(\n",
    "    x=russia_data[\"daily_confirmed\"], label=[\"Число заболевших\"], color=\"lime\", bins=20\n",
    ")\n",
    "axes[2].set_title(\"Гистограмма заболеваемости в России\")\n",
    "axes[2].xaxis.set_tick_params(rotation=30)"
   ]
  },
  {
   "cell_type": "markdown",
   "metadata": {},
   "source": [
    "Matplotlib модульный подход"
   ]
  },
  {
   "cell_type": "code",
   "execution_count": null,
   "metadata": {},
   "outputs": [],
   "source": [
    "import matplotlib.pyplot as plt\n",
    "%matplotlib inline\n",
    "\n",
    "plt.style.use('default')\n",
    "\n",
    "\n",
    "names = ['group_a', 'group_b', 'group_c']\n",
    "values = [1, 10, 100]\n",
    "plt.bar(names, values)\n",
    "plt.show()"
   ]
  },
  {
   "cell_type": "markdown",
   "metadata": {},
   "source": [
    "Задание 5.6"
   ]
  },
  {
   "cell_type": "code",
   "execution_count": null,
   "metadata": {},
   "outputs": [],
   "source": [
    "import matplotlib.pyplot as plt\n",
    "%matplotlib inline\n",
    "\n",
    "plt.style.use('default')\n",
    "\n",
    "fig = plt.figure(facecolor='lightgreen')\n",
    "axes = fig.add_axes([0, 0, 1, 1])\n",
    "axes.hist(covid_df.groupby('date')['daily_vaccinations'].sum())\n",
    "axes.set_ylabel('Ежедневная вакцинация в мире');\n"
   ]
  },
  {
   "cell_type": "markdown",
   "metadata": {},
   "source": [
    "## Графические возможности библиотеки Seaborn"
   ]
  },
  {
   "cell_type": "code",
   "execution_count": null,
   "metadata": {},
   "outputs": [],
   "source": [
    "import seaborn as sns\n",
    "print(sns.__version__)"
   ]
  },
  {
   "cell_type": "markdown",
   "metadata": {},
   "source": [
    "Расчет ежедневной заболеваемости на 100 человек — заболеваемость в процентах от общего количества населения (daily_confirmed_per_hundred).\n",
    "<br>Построим сразу две гистограммы: одна будет иллюстрировать общее распределение ежедневной заболеваемости (daily_confirmed), а вторая — то же распределение в разрезе стран. \n",
    "<br>Для этого создаём две координатные плоскости с помощью метода subplots(). \n",
    "<br>На первой координатной плоскости рисуем простую гистограмму с 25 столбцами, а также добавим на неё сглаживающую кривую. \n",
    "<br>На второй гистограмме добавляем параметр названия страны по оси y. В таком случае количество наблюдений будет обозначаться на диаграмме яркостью цвета (чем темнее полоса, тем больше наблюдений находится в интервале)."
   ]
  },
  {
   "cell_type": "code",
   "execution_count": null,
   "metadata": {},
   "outputs": [],
   "source": [
    "countries = ['Russia', 'Australia', 'Germany', 'Canada', 'United Kingdom']\n",
    "croped_covid_df = covid_df[covid_df['country'].isin(countries)]\n",
    "\n",
    "populations = pd.DataFrame([\n",
    "    ['Canada', 37664517],\n",
    "    ['Germany', 83721496],\n",
    "    ['Russia', 145975300],\n",
    "    ['Australia', 25726900],\n",
    "    ['United Kingdom', 67802690]\n",
    "    ],\n",
    "    columns=['country', 'population']\n",
    ")\n",
    "croped_covid_df = croped_covid_df.merge(populations, on=['country'])\n",
    "croped_covid_df['daily_confirmed_per_hundred'] = croped_covid_df['daily_confirmed'] / croped_covid_df['population'] * 100\n",
    "croped_covid_df.head()\n",
    "\n",
    "fig, axes = plt.subplots(nrows=2, ncols=1, figsize=(10, 8))\n",
    "sns.histplot(\n",
    "    data=croped_covid_df,\n",
    "    x='daily_confirmed_per_hundred',\n",
    "    bins=25,\n",
    "    kde=True,\n",
    "    ax=axes[0]\n",
    ");\n",
    "axes[0].set_title('Гистограмма ежедневной заболеваемости на 100 человек', fontsize=16)\n",
    "sns.histplot(\n",
    "    data=croped_covid_df,\n",
    "    x='daily_confirmed_per_hundred',\n",
    "    y='country',\n",
    "    bins=25,\n",
    "    color='red',\n",
    "    ax=axes[1]\n",
    ");"
   ]
  },
  {
   "cell_type": "markdown",
   "metadata": {},
   "source": [
    "Коробчатые диаграммы в Seaborn строятся с помощью метода boxplot().\n",
    "<br>\n",
    "Ящики отразим горизонтально (для этого по оси x отложим признак летальности, а по оси y — страны), параметр orient отвечает за ориентацию диаграммы, а width — за ширину коробок:"
   ]
  },
  {
   "cell_type": "code",
   "execution_count": null,
   "metadata": {},
   "outputs": [],
   "source": [
    "fig = plt.figure(figsize=(10, 7))\n",
    "boxplot = sns.boxplot(\n",
    "    data=croped_covid_df,\n",
    "    y='country',\n",
    "    x='death_rate',\n",
    "    orient='h',\n",
    "    width=0.9\n",
    ")\n",
    "boxplot.set_title('Распределение летальности по странам');\n",
    "boxplot.set_xlabel('Летальность');\n",
    "boxplot.set_ylabel('Страна');\n",
    "boxplot.grid()"
   ]
  },
  {
   "cell_type": "markdown",
   "metadata": {},
   "source": [
    "Теперь рассмотрим пример многоуровневой столбчатой диаграммы. С помощью неё мы можем, например, посмотреть на средний ежедневный процент заболевших в странах по кварталам.\n",
    "<br>\n",
    "Для построения столбчатых диаграмм в Seaborn используется метод barplot(). По умолчанию метод отображает среднее по столбцу, который указан в параметре x (вместо среднего можно вычислить и любую другую статистическую характеристику, наименование которой задаётся в параметре estimator). Для добавления многоуровневости используется параметр hue, который позволяет группировать данные по признаку:"
   ]
  },
  {
   "cell_type": "code",
   "execution_count": null,
   "metadata": {},
   "outputs": [],
   "source": [
    "fig = plt.figure(figsize=(10, 7))\n",
    "croped_covid_df['quarter'] = croped_covid_df['date'].dt.quarter\n",
    "barplot = sns.barplot(\n",
    "    data=croped_covid_df,\n",
    "    x='country',\n",
    "    y='daily_confirmed_per_hundred',\n",
    "    hue='quarter',\n",
    ")\n",
    "barplot.set_title('Средний процент болеющего населения по кварталам');"
   ]
  },
  {
   "cell_type": "markdown",
   "metadata": {},
   "source": [
    "Построим один из самых любимых дата-сайентистами графиков — jointplot() — в котором совмещены диаграмма рассеяния и гистограмма. Это довольно удобный и полезный инструмент, когда мы хотим одновременно посмотреть и на распределения переменных, и сразу оценить их взаимосвязь.\n",
    "<br>\n",
    "Построим jointplot зависимости ежедневной заболеваемости в странах от общей численности населения в процентах (daily_confirmed_per_hundred) от числа полностью вакцинированных в процентах (people_fully_vaccinated_per_hundred).\n",
    "<br>\n",
    "Параметры xlim и ylim определяют диапазон отображения осей x и y. Параметр height отвечает за высоту и ширину графика (он квадратный)."
   ]
  },
  {
   "cell_type": "code",
   "execution_count": null,
   "metadata": {},
   "outputs": [],
   "source": [
    "jointplot = sns.jointplot(\n",
    "    data=croped_covid_df, \n",
    "    x='people_fully_vaccinated_per_hundred', \n",
    "    y='daily_confirmed_per_hundred',\n",
    "    hue='country',\n",
    "    xlim = (0, 40),\n",
    "    ylim = (0, 0.1),\n",
    "    height=8,\n",
    ")"
   ]
  },
  {
   "cell_type": "markdown",
   "metadata": {},
   "source": [
    "Допустим, мы хотим сравнить темпы вакцинации по странам во времени. Вы, скорее всего, сразу подумали о линейном графике. Но давайте мыслить шире. Когда мы хотим сравнить скорость изменения показателей по малому количеству категорий (в данном случае — по странам, а их у нас их всего пять), нагляднее всего будет тепловая карта.\n",
    "<br>\n",
    "Предварительно создадим сводную таблицу: по столбцам отложим признак даты, а по строкам — страны. В ячейках таблицы будет находиться процент вакцинированных (первым компонентом) людей в стране на определённую дату. Чтобы даты отображались на тепловой карте верно, их необходимо привести к типу string.\n",
    "<br><br>\n",
    "Для построения тепловой карты в Seaborn используется метод heatmap(). Данный метод работает с табличными данными и визуализирует все ячейки таблицы с помощью цвета. Параметр annot отвечает за отображение легенды (аннотации), параметр cmap — за цветовую гамму графика."
   ]
  },
  {
   "cell_type": "code",
   "execution_count": null,
   "metadata": {},
   "outputs": [],
   "source": [
    "pivot = croped_covid_df.pivot_table(\n",
    "    values='people_vaccinated_per_hundred',\n",
    "    columns='date',\n",
    "    index='country',\n",
    ")\n",
    "pivot.columns = pivot.columns.astype('string')\n",
    "display(pivot)\n",
    "\n",
    "heatmap = sns.heatmap(data=pivot, cmap='YlGnBu')\n",
    "heatmap.set_title('Тепловая карта вакцинации', fontsize=16);"
   ]
  },
  {
   "cell_type": "markdown",
   "metadata": {},
   "source": [
    "Задание 6.4 <br>\n",
    "<br>Создайте новый признак confirmed_per_hundred, который покажет процентное отношение заболевших вирусом к общему числу населения в странах ().\n",
    "<br>Постройте тепловую карту, которая покажет, как росло число заболевших в процентах от общего числа населения (confirmed_per_hundred) в странах из таблицы croped_covid_df.\n",
    "<br>Постройте сводную таблицу, столбцы которой — даты, строки — страны, а ячейки — процент заболевшего населения."
   ]
  },
  {
   "cell_type": "code",
   "execution_count": null,
   "metadata": {},
   "outputs": [],
   "source": [
    "import matplotlib.pyplot as plt\n",
    "%matplotlib inline\n",
    "\n",
    "plt.style.use('default')\n",
    "\n",
    "croped_covid_df['confirmed_per_hundred'] = croped_covid_df['confirmed'] / croped_covid_df['population'] *100\n",
    "pivot = croped_covid_df.pivot_table(\n",
    "    values = 'confirmed_per_hundred',\n",
    "    columns = 'date',\n",
    "    index = 'country'\n",
    ")\n",
    "\n",
    "pivot.columns = pivot.columns.astype('string')\n",
    "fig = plt.figure(figsize=(10, 5))\n",
    "heatmap = sns.heatmap(data=pivot, cmap='plasma')\n",
    "heatmap.set_title('Теплавая карта заболеваемости', fontsize=16);"
   ]
  },
  {
   "cell_type": "markdown",
   "metadata": {},
   "source": [
    "Задание 6.5<br>\n",
    "Постройте коробчатую диаграмму для признака recover_rate (отношение выздоровлений к числу зафиксированных случаев заболевания в процентах)."
   ]
  },
  {
   "cell_type": "code",
   "execution_count": null,
   "metadata": {},
   "outputs": [],
   "source": [
    "fig = plt.figure(figsize=(10, 5))\n",
    "boxplot = sns.boxplot(\n",
    "    data=croped_covid_df,\n",
    "    x='country',\n",
    "    y='recover_rate',\n",
    "    orient='v',\n",
    "    width=0.9\n",
    "    \n",
    ")\n",
    "\n",
    "\n"
   ]
  },
  {
   "cell_type": "markdown",
   "metadata": {},
   "source": [
    "## Графические возможности библиотеки Plotly"
   ]
  },
  {
   "cell_type": "code",
   "execution_count": null,
   "metadata": {},
   "outputs": [],
   "source": [
    "import plotly\n",
    "import plotly.express as px\n",
    "plotly.__version__"
   ]
  },
  {
   "cell_type": "markdown",
   "metadata": {},
   "source": [
    "Построим график роста зафиксированного числа случаев заражения (confirmed), смертей (deaths), выздоровлений (recovered) и активных случаев (active) за всё время. Для этого просуммируем статистику по дням и передадим полученный DataFrame в метод line().\n",
    "\n",
    "Для отображения созданной методом line() фигуры используется метод fig.show():"
   ]
  },
  {
   "cell_type": "code",
   "execution_count": null,
   "metadata": {},
   "outputs": [],
   "source": [
    "line_data = covid_df.groupby('date', as_index=False).sum()\n",
    "fig = px.line(\n",
    "    data_frame=line_data, #DataFrame\n",
    "    x='date', #ось абсцисс\n",
    "    y=['confirmed', 'recovered', 'deaths', 'active'], #ось ординат\n",
    "    height=500, #высота\n",
    "    width=1000, #ширина\n",
    "    title='Confirmed, Recovered, Deaths, Active cases over Time' #заголовок\n",
    ")\n",
    "fig.show()"
   ]
  },
  {
   "cell_type": "markdown",
   "metadata": {},
   "source": [
    "Давайте рассмотрим ещё один пример — построим столбчатую диаграмму, показывающую ТОП-10 стран по среднему проценту выздоравливающих пациентов (recover_rate). Для этого используем метод bar() модуля express. Добавим несколько параметров:\n",
    "\n",
    "color — группирующий признак, в соответствии с которым будут раскрашены столбцы диаграммы;\n",
    "<br>text — текст, который будет подписан на столбцах диаграммы;\n",
    "<br>orientation — ориентация графика ('v' — вертикальная, 'h' — горизонтальная)."
   ]
  },
  {
   "cell_type": "code",
   "execution_count": null,
   "metadata": {},
   "outputs": [],
   "source": [
    "#считаем средний процент выздоровлений для каждой страны\n",
    "bar_data = covid_df.groupby(\n",
    "    by='country', as_index=False\n",
    "    )[['recover_rate']].mean().round(2).nlargest(10, columns=['recover_rate'])\n",
    "\n",
    "#строим график\n",
    "fig = px.bar(\n",
    "    data_frame=bar_data, #датафрейм\n",
    "    x=\"country\", #ось x\n",
    "    y=\"recover_rate\", #ось y\n",
    "    color='country', #расцветка в зависимости от страны\n",
    "    text = 'recover_rate', #текст на столбцах\n",
    "    orientation='v', #ориентация графика\n",
    "    height=500, #высота\n",
    "    width=1000, #ширина\n",
    "    title='Top 10 Countries for Recovery Rate' #заголовок\n",
    ")\n",
    "\n",
    "#отображаем его\n",
    "fig.show()"
   ]
  },
  {
   "cell_type": "markdown",
   "metadata": {},
   "source": [
    "Иерархическая диаграмма для среднего ежедневного показателя выздоровевших пациентов (daily_recovered) во всех странах."
   ]
  },
  {
   "cell_type": "code",
   "execution_count": null,
   "metadata": {},
   "outputs": [],
   "source": [
    "#считаем среднее ежедневно фиксируемое количество выздоровевших по странам\n",
    "treemap_data = covid_df.groupby(\n",
    "    by='country',\n",
    "    as_index=False\n",
    ")[['daily_recovered']].mean()\n",
    "\n",
    "#строим график\n",
    "fig = px.treemap(\n",
    "    data_frame=treemap_data, #DataFrame\n",
    "    path=['country'], #категориальный признак, для которого строится график\n",
    "    values='daily_recovered', #параметр, который сравнивается\n",
    "    height=500, #высота\n",
    "    width=1000, #ширина\n",
    "    title='Daily Recovered Cases by Country' #заголовок\n",
    ")\n",
    "\n",
    "#отображаем график\n",
    "fig.show()"
   ]
  },
  {
   "cell_type": "markdown",
   "metadata": {},
   "source": [
    "Построение фоновой картограммы, которая покажет распространение (confirmed) коронавируса в мире во времени.\n",
    "\n",
    "Предварительно для правильного отображения на анимационном бегунке даты в таблице covid_df необходимо перевести обратно в строковый тип данных."
   ]
  },
  {
   "cell_type": "code",
   "execution_count": null,
   "metadata": {},
   "outputs": [],
   "source": [
    "#преобразуем даты в строковый формат\n",
    "choropleth_data = covid_df.sort_values(by='date')\n",
    "choropleth_data['date'] = choropleth_data['date'].astype('string')\n",
    "\n",
    "#строим график\n",
    "fig = px.choropleth(\n",
    "    data_frame=choropleth_data, #DataFrame\n",
    "    locations=\"country\", #столбец с локациями\n",
    "    locationmode = \"country names\", #режим сопоставления локаций с базой Plotly\n",
    "    color=\"confirmed\", #от чего зависит цвет\n",
    "    animation_frame='date', #анимационный бегунок\n",
    "    range_color=[0, 30e6], #диапазон цвета\n",
    "    title='Global Spread of COVID-19', #заголовок\n",
    "    width=800, #ширина\n",
    "    height=500, #высота\n",
    "    color_continuous_scale='Reds' #палитра цветов\n",
    ")\n",
    "\n",
    "#отображаем график\n",
    "fig.show()"
   ]
  },
  {
   "cell_type": "markdown",
   "metadata": {},
   "source": [
    "Построим 3D-диаграмму рассеяния, которая покажет, как число ежедневно обнаруживаемых случаев и число ежедневных смертей влияют на желание людей вакцинироваться. Для того чтобы нам было проще рассматривать диаграмму (точки будут более сгруппированными), построим её в логарифмическом масштабе по осям абсцисс и ординат."
   ]
  },
  {
   "cell_type": "code",
   "execution_count": null,
   "metadata": {},
   "outputs": [],
   "source": [
    "#фильтруем таблицу по странам\n",
    "countries=['United States', 'Russia', 'United Kingdom', 'Brazil', 'France']\n",
    "scatter_data = covid_df[covid_df['country'].isin(countries)]\n",
    "\n",
    "#строим график\n",
    "fig = px.scatter_3d(\n",
    "    data_frame=scatter_data, #DataFrame\n",
    "    x = 'daily_confirmed', #ось абсцисс\n",
    "    y = 'daily_deaths', #ось ординат\n",
    "    z = 'daily_vaccinations', #ось аппликат\n",
    "    color='country', #расцветка в зависимости от страны\n",
    "    log_x=True, \n",
    "    log_y=True,\n",
    "    width=1000,\n",
    "    height=700\n",
    ")\n",
    "\n",
    "#отображаем график\n",
    "fig.show()\n",
    "fig.write_html(\"data/scatter_3d.html\")"
   ]
  }
 ],
 "metadata": {
  "interpreter": {
   "hash": "af741f369a8dd187b80e5712a22afdb8733aeb51bfa419ddcaad81e3c7951da3"
  },
  "kernelspec": {
   "display_name": "Python 3.9.7 64-bit",
   "language": "python",
   "name": "python3"
  },
  "language_info": {
   "codemirror_mode": {
    "name": "ipython",
    "version": 3
   },
   "file_extension": ".py",
   "mimetype": "text/x-python",
   "name": "python",
   "nbconvert_exporter": "python",
   "pygments_lexer": "ipython3",
   "version": "3.9.7"
  },
  "orig_nbformat": 4
 },
 "nbformat": 4,
 "nbformat_minor": 2
}
