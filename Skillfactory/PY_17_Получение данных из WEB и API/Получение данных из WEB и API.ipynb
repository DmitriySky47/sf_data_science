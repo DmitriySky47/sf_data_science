{
 "cells": [
  {
   "cell_type": "markdown",
   "metadata": {},
   "source": [
    "# Получение данныйх из WEB-ресурсов и API"
   ]
  },
  {
   "cell_type": "markdown",
   "metadata": {},
   "source": [
    "## Библиотека requests"
   ]
  },
  {
   "cell_type": "markdown",
   "metadata": {},
   "source": [
    "Курсы валют ЦБ РФ в XML и JSON"
   ]
  },
  {
   "cell_type": "code",
   "execution_count": null,
   "metadata": {},
   "outputs": [],
   "source": [
    "import requests # Импортируем библиотеку requests\n",
    "url = 'https://www.cbr-xml-daily.ru/daily_json.js' # Определяем значение URL страницы для запроса\n",
    "response = requests.get(url) # Делаем GET-запрос к ресурсу и результат ответа сохраняем в переменной response\n",
    "print(response) # Выводим значение response на экран как объект\n",
    "print(response.status_code) # Выводим числовое значение response на экран"
   ]
  },
  {
   "cell_type": "markdown",
   "metadata": {},
   "source": [
    "Задание 3.1\n",
    "<br>Напишите строку кода, при выполнении которой будет сделан GET-запрос к ресурсу https://www.cbr-xml-daily.ru/daily.xml, а результат ответа будет сохранён в переменной response"
   ]
  },
  {
   "cell_type": "code",
   "execution_count": null,
   "metadata": {},
   "outputs": [],
   "source": [
    "response = requests.get(url = 'https://www.cbr-xml-daily.ru/daily.xml') # Объединяем два строки в одну"
   ]
  },
  {
   "cell_type": "markdown",
   "metadata": {},
   "source": [
    "Вывод ответа"
   ]
  },
  {
   "cell_type": "code",
   "execution_count": null,
   "metadata": {},
   "outputs": [],
   "source": [
    "print(response.text) # Выводим содержимое атрибута text переменной response на экран"
   ]
  },
  {
   "cell_type": "code",
   "execution_count": null,
   "metadata": {},
   "outputs": [],
   "source": [
    "from pprint import pprint # Импортируем функцию pprint()\n",
    "currencies = response.json() # Применяем метод json()\n",
    "pprint(currencies) # Выводим результат на экран)"
   ]
  },
  {
   "cell_type": "code",
   "execution_count": null,
   "metadata": {},
   "outputs": [],
   "source": [
    "pprint(currencies['Valute']['EUR']) # Выводим на экран информацию о валюте евро\n",
    "\n",
    "print(currencies['Valute']['CZK']['Name']) # выводим на экран информацию об наименовании валюты"
   ]
  },
  {
   "cell_type": "markdown",
   "metadata": {},
   "source": [
    "### Работа с HTML-страницами"
   ]
  },
  {
   "cell_type": "markdown",
   "metadata": {},
   "source": [
    "Загрузка HNML-страницы"
   ]
  },
  {
   "cell_type": "code",
   "execution_count": null,
   "metadata": {},
   "outputs": [],
   "source": [
    "import requests # Импортируем библиотеку requests\n",
    "url = 'https://nplus1.ru/news/2021/10/11/econobel2021' # Определяем адрес страницы\n",
    "response = requests.get(url)  # Выполняем GET-запрос\n",
    "print(response.text)  # Выводим содержимое атрибута text"
   ]
  },
  {
   "cell_type": "markdown",
   "metadata": {},
   "source": [
    "Библиотека BeautifulSoap"
   ]
  },
  {
   "cell_type": "code",
   "execution_count": null,
   "metadata": {},
   "outputs": [],
   "source": [
    "import requests # Импортируем библиотеку requests\n",
    "from bs4 import BeautifulSoup # Импортируем библиотеку BeautifulSoup\n",
    "url = 'https://nplus1.ru/news/2021/10/11/econobel2021' # Определяем адрес страницы\n",
    "response = requests.get(url) # Выполняем GET-запрос, содержимое ответа присваивается переменной response\n",
    "page = BeautifulSoup(response.text, 'html.parser') # Создаём объект BeautifulSoup, указывая html-парсер\n",
    "print(page.title) # Получаем тег title, отображающийся на вкладке браузера\n",
    "print(page.title.text) # Выводим текст из полученного тега, который содержится в атрибуте text"
   ]
  },
  {
   "cell_type": "markdown",
   "metadata": {},
   "source": [
    "Извлекаем заголовок и дату написания статьи"
   ]
  },
  {
   "cell_type": "markdown",
   "metadata": {},
   "source": [
    "Задание 5.4\n",
    "<br>Напишите функцию wiki_header, которая по адресу страницы возвращает заголовок для статей на Wikipedia.\n",
    "<br>wiki_header('https://en.wikipedia.org/wiki/Operating_system')\n",
    "<br>'Operating system'"
   ]
  },
  {
   "cell_type": "code",
   "execution_count": null,
   "metadata": {},
   "outputs": [],
   "source": [
    "import requests # Импортируем библиотеку requests\n",
    "from bs4 import BeautifulSoup # Импортируем библиотеку BeautifulSoup\n",
    "\n",
    "def wiki_header (url):\n",
    "    response = requests.get(url) # Выполняем GET-запрос, содержимое ответа присваивается переменной response\n",
    "    page = BeautifulSoup(response.text, 'html.parser') # Создаём объект BeautifulSoup, указывая html-парсер\n",
    "    header = page.find('h1').text\n",
    "    return header\n",
    "    \n",
    "wiki_header('https://en.wikipedia.org/wiki/Operating_system')\n",
    "\n",
    "\"\"\"\n",
    "def wiki_header(url):\n",
    "    page=BeautifulSoup(requests.get(url).text,'html.parser')\n",
    "    header=page.find('h1').text\n",
    "    return header\n",
    "\"\"\""
   ]
  },
  {
   "cell_type": "markdown",
   "metadata": {},
   "source": [
    "Сбор нескольких элементов. Собираем все гиперссылки на странице"
   ]
  },
  {
   "cell_type": "code",
   "execution_count": null,
   "metadata": {},
   "outputs": [],
   "source": [
    "import requests # Импортируем библиотеку requests\n",
    "from bs4 import BeautifulSoup # Импортируем библиотеку BeautifulSoup\n",
    "\n",
    "url = 'https://en.wikipedia.org/wiki/List_of_programming_languages' # Задаём адрес ресурса\n",
    "response = requests.get(url) # Делаем GET-запрос к ресурсу\n",
    "page = BeautifulSoup(response.text, 'html.parser') # Создаём объект BeautifulSoup\n",
    "print(page.find('a')) # Ищем ссылку по тегу <a> и выводим её на экран\n",
    "links = page.find_all('a') # Ищем все ссылки на странице и сохраняем в переменной links в виде списка\n",
    "print('Всего гиперссылок на странце', len(links)) # Выводим количество найденных ссылок\n",
    "\n",
    "# просмотрим несколько ссылок срезом\n",
    "print([link.text for link in links[500:510]])\n"
   ]
  },
  {
   "cell_type": "markdown",
   "metadata": {},
   "source": [
    "### Запрос к API из кода"
   ]
  },
  {
   "cell_type": "code",
   "execution_count": null,
   "metadata": {},
   "outputs": [],
   "source": [
    "from pprint import pprint\n",
    "import requests # Импортируем модуль requests\n",
    "\n",
    "token = 'a008248da008248da008248d73a07468dfaa008a008248dc26b0705ad575fbcd613ee3d' # Указываем свой сервисный токен\n",
    "url = 'https://api.vk.com/method/users.get' # Указываем адрес страницы к которой делаем запрос\n",
    "params = {'user_id': 1, 'v': 5.95, 'fields': 'sex,bdate', 'access_token': token, 'lang': 'ru'} # Перечисляем параметры нашего запроса в словаре params\n",
    "response = requests.get(url, params=params) # Отправляем запрос\n",
    "#print(response.text) # Выводим текст ответа на экран\n",
    "\n",
    "pprint(response.json()) # Выводим содержимое словаря, содержащего ответ, на экран\n",
    "\n",
    "user = response.json()['response'][0] # Извлекаем из словаря по ключу response информацию о первом пользователе\n",
    "print(user['bdate']) # Выводим дату рождения первого пользователя на экран\n",
    "\n",
    "print(user['first_name'])"
   ]
  },
  {
   "cell_type": "code",
   "execution_count": null,
   "metadata": {},
   "outputs": [],
   "source": [
    "from pprint import pprint\n",
    "import requests # Импортируем модуль requests\n",
    "\n",
    "token = 'a008248da008248da008248d73a07468dfaa008a008248dc26b0705ad575fbcd613ee3d' # Указываем свой сервисный токен\n",
    "url = 'https://api.vk.com/method/users.get' # Указываем адрес страницы к которой делаем запрос\n",
    "\n",
    "ids = \",\".join(map(str, range(1, 4))) # Формируем строку, содержащую информацию о поле id первых трёх пользователей\n",
    "params = {'user_ids': ids, 'v': 5.95, 'fields': 'bday', 'access_token': token, 'lang': 'ru'} # Формируем строку параметров\n",
    "pprint(requests.get(url, params=params).json()) # Посылаем запрос, полученный ответ в формате JSON-строки преобразуем в словарь\n",
    "                                                # и выводим на экран его содержимое, используя функцию pprint()"
   ]
  },
  {
   "cell_type": "markdown",
   "metadata": {},
   "source": [
    "Задание 6.2\n",
    "<br>Используя API, определите долю женщин (sex=1) среди пользователей с id от 1 до 500.\n",
    "<br>Иногда будут попадаться пользователи, у которых пол не указан (sex=0), — таких пользователей не нужно учитывать в общем числе."
   ]
  },
  {
   "cell_type": "code",
   "execution_count": null,
   "metadata": {},
   "outputs": [],
   "source": [
    "from pprint import pprint\n",
    "import requests # Импортируем модуль requests\n",
    "\n",
    "token = 'a008248da008248da008248d73a07468dfaa008a008248dc26b0705ad575fbcd613ee3d' # Указываем свой сервисный токен\n",
    "url = 'https://api.vk.com/method/users.get' # Указываем адрес страницы к которой делаем запрос\n",
    "\n",
    "ids = \",\".join(map(str, range(1, 501))) # Формируем строку, содержащую информацию о поле id первых трёх пользователей\n",
    "params = {'user_ids': ids, 'v': 5.95, 'fields': 'bday,sex', 'access_token': token, 'lang': 'ru'} # Формируем строку параметров\n",
    "response = requests.get(url, params=params).json()['response']\n",
    "\n",
    "men = 0\n",
    "women = 0\n",
    "\n",
    "for elem in response:\n",
    "    if elem['sex'] == 2:\n",
    "        men += 1\n",
    "    elif elem['sex'] == 1:\n",
    "        women += 1\n",
    "    else:\n",
    "        continue\n",
    "print(round(women / (men + women),2))"
   ]
  },
  {
   "cell_type": "markdown",
   "metadata": {},
   "source": [
    "Сбор инфрмации из группы в VK\n",
    "<br>Изучаем метод <b>groups.getMembers</b>"
   ]
  },
  {
   "cell_type": "code",
   "execution_count": null,
   "metadata": {},
   "outputs": [],
   "source": [
    "import requests\n",
    "\n",
    "token = 'a008248da008248da008248d73a07468dfaa008a008248dc26b0705ad575fbcd613ee3d' # Указываем свой сервисный токен\n",
    "url = 'https://api.vk.com/method/groups.getMembers'\n",
    "params = {'group_id':'vk', 'v':5.95, 'access_token':token}\n",
    "\n",
    "response = requests.get(url, params=params) # направлем запрос\n",
    "data = response.json() # получаем результат в виде словаря через метод .json()\n",
    "\n",
    "print(data)\n",
    "print(data['response']['count']) # общее число членов группы\n",
    "print(len(data['response']['items'])) # число id участников, полученных за один запрос\n",
    "print(data['response']['items'][:20]) # выведем первые 20 участников через срез"
   ]
  },
  {
   "cell_type": "markdown",
   "metadata": {},
   "source": [
    "Загружаем список членов грцппы через сдвиг offset и зацикливаем"
   ]
  },
  {
   "cell_type": "code",
   "execution_count": null,
   "metadata": {},
   "outputs": [],
   "source": [
    "import requests\n",
    "\n",
    "token = 'a008248da008248da008248d73a07468dfaa008a008248dc26b0705ad575fbcd613ee3d' # Указываем свой сервисный токен\n",
    "url = 'https://api.vk.com/method/groups.getMembers'\n",
    "\n",
    "\n",
    "count = 5 # загружаем за один проход по 5 участников группы\n",
    "offset = 0 # переменная сдвига\n",
    "max_count = 20 # ставим границу - выгрузить всего 20 id. Кратное count. В дальнейшем можно задать максимальное кол-во членов группы\n",
    "user_ids = [] # создаем список, куда будем добавлять пользователей по 5 шт в соответствии с count\n",
    "\n",
    "while offset < max_count: # выставляем условия прекращения цикла\n",
    "    print('Выгружаю {} пользователей с offset = {}'.format(count, offset)) # небольшой декоратор\n",
    "    params = {'group_id':'vk', 'v':5.95, 'count':count, 'offset':offset, 'access_token':token}\n",
    "    response = requests.get(url, params = params)\n",
    "    data = response.json()\n",
    "    user_ids += data['response']['items']\n",
    "    offset += count\n",
    "\n",
    "print(user_ids)"
   ]
  },
  {
   "cell_type": "markdown",
   "metadata": {},
   "source": [
    "Сделаем задержку на полсекунды через time.sleep(0.5)"
   ]
  },
  {
   "cell_type": "code",
   "execution_count": null,
   "metadata": {},
   "outputs": [],
   "source": [
    "import requests\n",
    "import time # загрузим time\n",
    "\n",
    "token = 'a008248da008248da008248d73a07468dfaa008a008248dc26b0705ad575fbcd613ee3d' # Указываем свой сервисный токен\n",
    "url = 'https://api.vk.com/method/groups.getMembers'\n",
    "\n",
    "\n",
    "count = 1000 # загружаем за один проход по 1000 участников группы\n",
    "offset = 0 # переменная сдвига\n",
    "max_count = 5000 # ставим границу - выгрузить всего 5000 id. Кратное count. В дальнейшем можно задать максимальное кол-во членов группы\n",
    "user_ids = [] # создаем список, куда будем добавлять пользователей по 5 шт в соответствии с count\n",
    "\n",
    "while offset < max_count: # выставляем условия прекращения цикла\n",
    "    print('Выгружаю {} пользователей с offset = {}'.format(count, offset)) # небольшой декоратор\n",
    "    params = {'group_id':'vk', 'v':5.95, 'count':count, 'offset':offset, 'access_token':token}\n",
    "    response = requests.get(url, params = params)\n",
    "    data = response.json()\n",
    "    user_ids += data['response']['items']\n",
    "    offset += count\n",
    "    print('Ожидаю 0.5 секунды...')\n",
    "    time.sleep(0.5)\n",
    "print(\"Загрузка завершена\")\n",
    "print('Загрузилось', len(user_ids), 'id')\n",
    "# print(user_ids)"
   ]
  },
  {
   "cell_type": "markdown",
   "metadata": {},
   "source": [
    "Лайки, репосты, комментарии. Метод <b><i>well.get()</i></b>"
   ]
  },
  {
   "cell_type": "code",
   "execution_count": null,
   "metadata": {},
   "outputs": [],
   "source": [
    "import requests # Импортируем модуль requests\n",
    "from pprint import pprint # Импортируем функцию pprint()\n",
    "token = 'a008248da008248da008248d73a07468dfaa008a008248dc26b0705ad575fbcd613ee3d' # Указываем свой сервисный токен\n",
    "url = 'https://api.vk.com/method/wall.get' # Указываем адрес страницы, к которой делаем запрос\n",
    "\n",
    "params = {'domain': 'vk', 'filter': 'owner', 'count': 1000, 'offset': 0, 'access_token': token, 'v': 5.95}\n",
    "#params = {'domain': 'vk', 'filter': 'owner', 'count': 1000, 'offset': 0, 'access_token': token, 'v': 5.95} \n",
    "response = requests.get(url, params = params)\n",
    "\n",
    "#pprint(response.json())\n",
    "pprint(response.json()['response']['items'][0])"
   ]
  },
  {
   "cell_type": "code",
   "execution_count": null,
   "metadata": {},
   "outputs": [],
   "source": [
    "# запускать вместе с предыдущим кодом\n",
    "# итоговая статистика для последних десяти непустых сообщений в словарь\n",
    "stats = {} \n",
    "count_post = 0 # Счётчик «непустых» сообщений\n",
    "for record in response.json()['response']['items'][:]:\n",
    "    title = record['text'][:30] \n",
    "    if title: \n",
    "        stats[title] = [record['comments']['count'], record['likes']['count'], record['reposts']['count'], record['date']] \n",
    "        count_post += 1 \n",
    "    if count_post < 10: \n",
    "        continue \n",
    "    else: \n",
    "        break \n",
    "pprint(stats)"
   ]
  },
  {
   "cell_type": "markdown",
   "metadata": {},
   "source": [
    "### Постановка задачи и выполнение задачи по расписанию: <b><i>schedule, every(), run_pending()</i></b>"
   ]
  },
  {
   "cell_type": "code",
   "execution_count": null,
   "metadata": {},
   "outputs": [],
   "source": [
    "import schedule\n",
    "import time\n",
    "\n",
    "def task ():\n",
    "    print('Hello! I am your first TASK!')\n",
    "    return \n",
    "\n",
    "schedule.every(0.5).minutes.do(task)\n",
    "\n",
    "while True:\n",
    "    schedule.run_pending()\n",
    "    time.sleep(1)"
   ]
  },
  {
   "cell_type": "code",
   "execution_count": null,
   "metadata": {},
   "outputs": [],
   "source": [
    "a = [1,2,3]\n",
    "b = a\n",
    "c = [1,2,3]\n",
    "print(a == b, a == c, a is b, a is c)"
   ]
  }
 ],
 "metadata": {
  "kernelspec": {
   "display_name": "Python 3",
   "language": "python",
   "name": "python3"
  },
  "language_info": {
   "codemirror_mode": {
    "name": "ipython",
    "version": 3
   },
   "file_extension": ".py",
   "mimetype": "text/x-python",
   "name": "python",
   "nbconvert_exporter": "python",
   "pygments_lexer": "ipython3",
   "version": "3.9.7"
  },
  "orig_nbformat": 4,
  "vscode": {
   "interpreter": {
    "hash": "45a595cf5c94e2781375fdf6a45161a83e0998aa8e430991abe7be8276c0a0c4"
   }
  }
 },
 "nbformat": 4,
 "nbformat_minor": 2
}
