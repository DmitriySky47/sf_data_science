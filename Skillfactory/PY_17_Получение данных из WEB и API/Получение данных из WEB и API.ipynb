{
 "cells": [
  {
   "cell_type": "markdown",
   "metadata": {},
   "source": [
    "# Получение данныйх из WEB-ресурсов и API"
   ]
  },
  {
   "cell_type": "markdown",
   "metadata": {},
   "source": [
    "## Библиотека requests"
   ]
  },
  {
   "cell_type": "markdown",
   "metadata": {},
   "source": [
    "Курсы валют ЦБ РФ в XML и JSON"
   ]
  },
  {
   "cell_type": "code",
   "execution_count": 9,
   "metadata": {},
   "outputs": [
    {
     "name": "stdout",
     "output_type": "stream",
     "text": [
      "<Response [200]>\n",
      "200\n"
     ]
    }
   ],
   "source": [
    "import requests # Импортируем библиотеку requests\n",
    "url = 'https://www.cbr-xml-daily.ru/daily_json.js' # Определяем значение URL страницы для запроса\n",
    "response = requests.get(url) # Делаем GET-запрос к ресурсу и результат ответа сохраняем в переменной response\n",
    "print(response) # Выводим значение response на экран как объект\n",
    "print(response.status_code) # Выводим числовое значение response на экран"
   ]
  },
  {
   "cell_type": "markdown",
   "metadata": {},
   "source": [
    "Задание 3.1\n",
    "<br>Напишите строку кода, при выполнении которой будет сделан GET-запрос к ресурсу https://www.cbr-xml-daily.ru/daily.xml, а результат ответа будет сохранён в переменной response"
   ]
  },
  {
   "cell_type": "code",
   "execution_count": 10,
   "metadata": {},
   "outputs": [],
   "source": [
    "response = requests.get(url = 'https://www.cbr-xml-daily.ru/daily.xml') # Объединяем два строки в одну"
   ]
  },
  {
   "cell_type": "markdown",
   "metadata": {},
   "source": [
    "Вывод ответа"
   ]
  },
  {
   "cell_type": "code",
   "execution_count": 13,
   "metadata": {},
   "outputs": [
    {
     "name": "stdout",
     "output_type": "stream",
     "text": [
      "<?xml version=\"1.0\" encoding=\"windows-1251\"?><ValCurs Date=\"04.03.2023\" name=\"Foreign Currency Market\"><Valute ID=\"R01010\"><NumCode>036</NumCode><CharCode>AUD</CharCode><Nominal>1</Nominal><Name>Àâñòðàëèéñêèé äîëëàð</Name><Value>50,8897</Value></Valute><Valute ID=\"R01020A\"><NumCode>944</NumCode><CharCode>AZN</CharCode><Nominal>1</Nominal><Name>Àçåðáàéäæàíñêèé ìàíàò</Name><Value>44,3878</Value></Valute><Valute ID=\"R01035\"><NumCode>826</NumCode><CharCode>GBP</CharCode><Nominal>1</Nominal><Name>Ôóíò ñòåðëèíãîâ Ñîåäèíåííîãî êîðîëåâñòâà</Name><Value>90,2039</Value></Valute><Valute ID=\"R01060\"><NumCode>051</NumCode><CharCode>AMD</CharCode><Nominal>100</Nominal><Name>Àðìÿíñêèõ äðàìîâ</Name><Value>19,4397</Value></Valute><Valute ID=\"R01090B\"><NumCode>933</NumCode><CharCode>BYN</CharCode><Nominal>1</Nominal><Name>Áåëîðóññêèé ðóáëü</Name><Value>26,7074</Value></Valute><Valute ID=\"R01100\"><NumCode>975</NumCode><CharCode>BGN</CharCode><Nominal>1</Nominal><Name>Áîëãàðñêèé ëåâ</Name><Value>40,9148</Value></Valute><Valute ID=\"R01115\"><NumCode>986</NumCode><CharCode>BRL</CharCode><Nominal>1</Nominal><Name>Áðàçèëüñêèé ðåàë</Name><Value>14,4899</Value></Valute><Valute ID=\"R01135\"><NumCode>348</NumCode><CharCode>HUF</CharCode><Nominal>100</Nominal><Name>Âåíãåðñêèõ ôîðèíòîâ</Name><Value>21,1471</Value></Valute><Valute ID=\"R01150\"><NumCode>704</NumCode><CharCode>VND</CharCode><Nominal>10000</Nominal><Name>Âüåòíàìñêèõ äîíãîâ</Name><Value>31,9242</Value></Valute><Valute ID=\"R01200\"><NumCode>344</NumCode><CharCode>HKD</CharCode><Nominal>10</Nominal><Name>Ãîíêîíãñêèõ äîëëàðîâ</Name><Value>96,2981</Value></Valute><Valute ID=\"R01210\"><NumCode>981</NumCode><CharCode>GEL</CharCode><Nominal>1</Nominal><Name>Ãðóçèíñêèé ëàðè</Name><Value>28,9515</Value></Valute><Valute ID=\"R01215\"><NumCode>208</NumCode><CharCode>DKK</CharCode><Nominal>1</Nominal><Name>Äàòñêàÿ êðîíà</Name><Value>10,7535</Value></Valute><Valute ID=\"R01230\"><NumCode>784</NumCode><CharCode>AED</CharCode><Nominal>1</Nominal><Name>Äèðõàì ÎÀÝ</Name><Value>20,5449</Value></Valute><Valute ID=\"R01235\"><NumCode>840</NumCode><CharCode>USD</CharCode><Nominal>1</Nominal><Name>Äîëëàð ÑØÀ</Name><Value>75,4592</Value></Valute><Valute ID=\"R01239\"><NumCode>978</NumCode><CharCode>EUR</CharCode><Nominal>1</Nominal><Name>Åâðî</Name><Value>80,0469</Value></Valute><Valute ID=\"R01240\"><NumCode>818</NumCode><CharCode>EGP</CharCode><Nominal>10</Nominal><Name>Åãèïåòñêèõ ôóíòîâ</Name><Value>24,5743</Value></Valute><Valute ID=\"R01270\"><NumCode>356</NumCode><CharCode>INR</CharCode><Nominal>100</Nominal><Name>Èíäèéñêèõ ðóïèé</Name><Value>91,1969</Value></Valute><Valute ID=\"R01280\"><NumCode>360</NumCode><CharCode>IDR</CharCode><Nominal>10000</Nominal><Name>Èíäîíåçèéñêèõ ðóïèé</Name><Value>49,4069</Value></Valute><Valute ID=\"R01335\"><NumCode>398</NumCode><CharCode>KZT</CharCode><Nominal>100</Nominal><Name>Êàçàõñòàíñêèõ òåíãå</Name><Value>17,3195</Value></Valute><Valute ID=\"R01350\"><NumCode>124</NumCode><CharCode>CAD</CharCode><Nominal>1</Nominal><Name>Êàíàäñêèé äîëëàð</Name><Value>55,4276</Value></Valute><Valute ID=\"R01355\"><NumCode>634</NumCode><CharCode>QAR</CharCode><Nominal>1</Nominal><Name>Êàòàðñêèé ðèàë</Name><Value>20,7305</Value></Valute><Valute ID=\"R01370\"><NumCode>417</NumCode><CharCode>KGS</CharCode><Nominal>100</Nominal><Name>Êèðãèçñêèõ ñîìîâ</Name><Value>86,3180</Value></Valute><Valute ID=\"R01375\"><NumCode>156</NumCode><CharCode>CNY</CharCode><Nominal>1</Nominal><Name>Êèòàéñêèé þàíü</Name><Value>10,9137</Value></Valute><Valute ID=\"R01500\"><NumCode>498</NumCode><CharCode>MDL</CharCode><Nominal>10</Nominal><Name>Ìîëäàâñêèõ ëååâ</Name><Value>39,9875</Value></Valute><Valute ID=\"R01530\"><NumCode>554</NumCode><CharCode>NZD</CharCode><Nominal>1</Nominal><Name>Íîâîçåëàíäñêèé äîëëàð</Name><Value>47,0035</Value></Valute><Valute ID=\"R01535\"><NumCode>578</NumCode><CharCode>NOK</CharCode><Nominal>10</Nominal><Name>Íîðâåæñêèõ êðîí</Name><Value>72,3947</Value></Valute><Valute ID=\"R01565\"><NumCode>985</NumCode><CharCode>PLN</CharCode><Nominal>1</Nominal><Name>Ïîëüñêèé çëîòûé</Name><Value>17,0106</Value></Valute><Valute ID=\"R01585F\"><NumCode>946</NumCode><CharCode>RON</CharCode><Nominal>1</Nominal><Name>Ðóìûíñêèé ëåé</Name><Value>16,2807</Value></Valute><Valute ID=\"R01589\"><NumCode>960</NumCode><CharCode>XDR</CharCode><Nominal>1</Nominal><Name>ÑÄÐ (ñïåöèàëüíûå ïðàâà çàèìñòâîâàíèÿ)</Name><Value>100,3396</Value></Valute><Valute ID=\"R01625\"><NumCode>702</NumCode><CharCode>SGD</CharCode><Nominal>1</Nominal><Name>Ñèíãàïóðñêèé äîëëàð</Name><Value>55,9994</Value></Valute><Valute ID=\"R01670\"><NumCode>972</NumCode><CharCode>TJS</CharCode><Nominal>10</Nominal><Name>Òàäæèêñêèõ ñîìîíè</Name><Value>69,1379</Value></Valute><Valute ID=\"R01675\"><NumCode>764</NumCode><CharCode>THB</CharCode><Nominal>10</Nominal><Name>Òàèëàíäñêèõ áàòîâ</Name><Value>21,7207</Value></Valute><Valute ID=\"R01700J\"><NumCode>949</NumCode><CharCode>TRY</CharCode><Nominal>10</Nominal><Name>Òóðåöêèõ ëèð</Name><Value>39,9593</Value></Valute><Valute ID=\"R01710A\"><NumCode>934</NumCode><CharCode>TMT</CharCode><Nominal>1</Nominal><Name>Íîâûé òóðêìåíñêèé ìàíàò</Name><Value>21,5598</Value></Valute><Valute ID=\"R01717\"><NumCode>860</NumCode><CharCode>UZS</CharCode><Nominal>10000</Nominal><Name>Óçáåêñêèõ ñóìîâ</Name><Value>66,4020</Value></Valute><Valute ID=\"R01720\"><NumCode>980</NumCode><CharCode>UAH</CharCode><Nominal>10</Nominal><Name>Óêðàèíñêèõ ãðèâåí</Name><Value>20,4321</Value></Valute><Valute ID=\"R01760\"><NumCode>203</NumCode><CharCode>CZK</CharCode><Nominal>10</Nominal><Name>×åøñêèõ êðîí</Name><Value>34,0751</Value></Valute><Valute ID=\"R01770\"><NumCode>752</NumCode><CharCode>SEK</CharCode><Nominal>10</Nominal><Name>Øâåäñêèõ êðîí</Name><Value>71,9955</Value></Valute><Valute ID=\"R01775\"><NumCode>756</NumCode><CharCode>CHF</CharCode><Nominal>1</Nominal><Name>Øâåéöàðñêèé ôðàíê</Name><Value>80,4555</Value></Valute><Valute ID=\"R01805F\"><NumCode>941</NumCode><CharCode>RSD</CharCode><Nominal>100</Nominal><Name>Ñåðáñêèõ äèíàðîâ</Name><Value>68,2866</Value></Valute><Valute ID=\"R01810\"><NumCode>710</NumCode><CharCode>ZAR</CharCode><Nominal>10</Nominal><Name>Þæíîàôðèêàíñêèõ ðýíäîâ</Name><Value>41,5668</Value></Valute><Valute ID=\"R01815\"><NumCode>410</NumCode><CharCode>KRW</CharCode><Nominal>1000</Nominal><Name>Âîí Ðåñïóáëèêè Êîðåÿ</Name><Value>57,9742</Value></Valute><Valute ID=\"R01820\"><NumCode>392</NumCode><CharCode>JPY</CharCode><Nominal>100</Nominal><Name>ßïîíñêèõ èåí</Name><Value>55,2410</Value></Valute></ValCurs>\n"
     ]
    }
   ],
   "source": [
    "print(response.text) # Выводим содержимое атрибута text переменной response на экран"
   ]
  },
  {
   "cell_type": "code",
   "execution_count": 12,
   "metadata": {},
   "outputs": [
    {
     "ename": "JSONDecodeError",
     "evalue": "[Errno Expecting value] <?xml version=\"1.0\" encoding=\"windows-1251\"?><ValCurs Date=\"04.03.2023\" name=\"Foreign Currency Market\"><Valute ID=\"R01010\"><NumCode>036</NumCode><CharCode>AUD</CharCode><Nominal>1</Nominal><Name>Àâñòðàëèéñêèé äîëëàð</Name><Value>50,8897</Value></Valute><Valute ID=\"R01020A\"><NumCode>944</NumCode><CharCode>AZN</CharCode><Nominal>1</Nominal><Name>Àçåðáàéäæàíñêèé ìàíàò</Name><Value>44,3878</Value></Valute><Valute ID=\"R01035\"><NumCode>826</NumCode><CharCode>GBP</CharCode><Nominal>1</Nominal><Name>Ôóíò ñòåðëèíãîâ Ñîåäèíåííîãî êîðîëåâñòâà</Name><Value>90,2039</Value></Valute><Valute ID=\"R01060\"><NumCode>051</NumCode><CharCode>AMD</CharCode><Nominal>100</Nominal><Name>Àðìÿíñêèõ äðàìîâ</Name><Value>19,4397</Value></Valute><Valute ID=\"R01090B\"><NumCode>933</NumCode><CharCode>BYN</CharCode><Nominal>1</Nominal><Name>Áåëîðóññêèé ðóáëü</Name><Value>26,7074</Value></Valute><Valute ID=\"R01100\"><NumCode>975</NumCode><CharCode>BGN</CharCode><Nominal>1</Nominal><Name>Áîëãàðñêèé ëåâ</Name><Value>40,9148</Value></Valute><Valute ID=\"R01115\"><NumCode>986</NumCode><CharCode>BRL</CharCode><Nominal>1</Nominal><Name>Áðàçèëüñêèé ðåàë</Name><Value>14,4899</Value></Valute><Valute ID=\"R01135\"><NumCode>348</NumCode><CharCode>HUF</CharCode><Nominal>100</Nominal><Name>Âåíãåðñêèõ ôîðèíòîâ</Name><Value>21,1471</Value></Valute><Valute ID=\"R01150\"><NumCode>704</NumCode><CharCode>VND</CharCode><Nominal>10000</Nominal><Name>Âüåòíàìñêèõ äîíãîâ</Name><Value>31,9242</Value></Valute><Valute ID=\"R01200\"><NumCode>344</NumCode><CharCode>HKD</CharCode><Nominal>10</Nominal><Name>Ãîíêîíãñêèõ äîëëàðîâ</Name><Value>96,2981</Value></Valute><Valute ID=\"R01210\"><NumCode>981</NumCode><CharCode>GEL</CharCode><Nominal>1</Nominal><Name>Ãðóçèíñêèé ëàðè</Name><Value>28,9515</Value></Valute><Valute ID=\"R01215\"><NumCode>208</NumCode><CharCode>DKK</CharCode><Nominal>1</Nominal><Name>Äàòñêàÿ êðîíà</Name><Value>10,7535</Value></Valute><Valute ID=\"R01230\"><NumCode>784</NumCode><CharCode>AED</CharCode><Nominal>1</Nominal><Name>Äèðõàì ÎÀÝ</Name><Value>20,5449</Value></Valute><Valute ID=\"R01235\"><NumCode>840</NumCode><CharCode>USD</CharCode><Nominal>1</Nominal><Name>Äîëëàð ÑØÀ</Name><Value>75,4592</Value></Valute><Valute ID=\"R01239\"><NumCode>978</NumCode><CharCode>EUR</CharCode><Nominal>1</Nominal><Name>Åâðî</Name><Value>80,0469</Value></Valute><Valute ID=\"R01240\"><NumCode>818</NumCode><CharCode>EGP</CharCode><Nominal>10</Nominal><Name>Åãèïåòñêèõ ôóíòîâ</Name><Value>24,5743</Value></Valute><Valute ID=\"R01270\"><NumCode>356</NumCode><CharCode>INR</CharCode><Nominal>100</Nominal><Name>Èíäèéñêèõ ðóïèé</Name><Value>91,1969</Value></Valute><Valute ID=\"R01280\"><NumCode>360</NumCode><CharCode>IDR</CharCode><Nominal>10000</Nominal><Name>Èíäîíåçèéñêèõ ðóïèé</Name><Value>49,4069</Value></Valute><Valute ID=\"R01335\"><NumCode>398</NumCode><CharCode>KZT</CharCode><Nominal>100</Nominal><Name>Êàçàõñòàíñêèõ òåíãå</Name><Value>17,3195</Value></Valute><Valute ID=\"R01350\"><NumCode>124</NumCode><CharCode>CAD</CharCode><Nominal>1</Nominal><Name>Êàíàäñêèé äîëëàð</Name><Value>55,4276</Value></Valute><Valute ID=\"R01355\"><NumCode>634</NumCode><CharCode>QAR</CharCode><Nominal>1</Nominal><Name>Êàòàðñêèé ðèàë</Name><Value>20,7305</Value></Valute><Valute ID=\"R01370\"><NumCode>417</NumCode><CharCode>KGS</CharCode><Nominal>100</Nominal><Name>Êèðãèçñêèõ ñîìîâ</Name><Value>86,3180</Value></Valute><Valute ID=\"R01375\"><NumCode>156</NumCode><CharCode>CNY</CharCode><Nominal>1</Nominal><Name>Êèòàéñêèé þàíü</Name><Value>10,9137</Value></Valute><Valute ID=\"R01500\"><NumCode>498</NumCode><CharCode>MDL</CharCode><Nominal>10</Nominal><Name>Ìîëäàâñêèõ ëååâ</Name><Value>39,9875</Value></Valute><Valute ID=\"R01530\"><NumCode>554</NumCode><CharCode>NZD</CharCode><Nominal>1</Nominal><Name>Íîâîçåëàíäñêèé äîëëàð</Name><Value>47,0035</Value></Valute><Valute ID=\"R01535\"><NumCode>578</NumCode><CharCode>NOK</CharCode><Nominal>10</Nominal><Name>Íîðâåæñêèõ êðîí</Name><Value>72,3947</Value></Valute><Valute ID=\"R01565\"><NumCode>985</NumCode><CharCode>PLN</CharCode><Nominal>1</Nominal><Name>Ïîëüñêèé çëîòûé</Name><Value>17,0106</Value></Valute><Valute ID=\"R01585F\"><NumCode>946</NumCode><CharCode>RON</CharCode><Nominal>1</Nominal><Name>Ðóìûíñêèé ëåé</Name><Value>16,2807</Value></Valute><Valute ID=\"R01589\"><NumCode>960</NumCode><CharCode>XDR</CharCode><Nominal>1</Nominal><Name>ÑÄÐ (ñïåöèàëüíûå ïðàâà çàèìñòâîâàíèÿ)</Name><Value>100,3396</Value></Valute><Valute ID=\"R01625\"><NumCode>702</NumCode><CharCode>SGD</CharCode><Nominal>1</Nominal><Name>Ñèíãàïóðñêèé äîëëàð</Name><Value>55,9994</Value></Valute><Valute ID=\"R01670\"><NumCode>972</NumCode><CharCode>TJS</CharCode><Nominal>10</Nominal><Name>Òàäæèêñêèõ ñîìîíè</Name><Value>69,1379</Value></Valute><Valute ID=\"R01675\"><NumCode>764</NumCode><CharCode>THB</CharCode><Nominal>10</Nominal><Name>Òàèëàíäñêèõ áàòîâ</Name><Value>21,7207</Value></Valute><Valute ID=\"R01700J\"><NumCode>949</NumCode><CharCode>TRY</CharCode><Nominal>10</Nominal><Name>Òóðåöêèõ ëèð</Name><Value>39,9593</Value></Valute><Valute ID=\"R01710A\"><NumCode>934</NumCode><CharCode>TMT</CharCode><Nominal>1</Nominal><Name>Íîâûé òóðêìåíñêèé ìàíàò</Name><Value>21,5598</Value></Valute><Valute ID=\"R01717\"><NumCode>860</NumCode><CharCode>UZS</CharCode><Nominal>10000</Nominal><Name>Óçáåêñêèõ ñóìîâ</Name><Value>66,4020</Value></Valute><Valute ID=\"R01720\"><NumCode>980</NumCode><CharCode>UAH</CharCode><Nominal>10</Nominal><Name>Óêðàèíñêèõ ãðèâåí</Name><Value>20,4321</Value></Valute><Valute ID=\"R01760\"><NumCode>203</NumCode><CharCode>CZK</CharCode><Nominal>10</Nominal><Name>×åøñêèõ êðîí</Name><Value>34,0751</Value></Valute><Valute ID=\"R01770\"><NumCode>752</NumCode><CharCode>SEK</CharCode><Nominal>10</Nominal><Name>Øâåäñêèõ êðîí</Name><Value>71,9955</Value></Valute><Valute ID=\"R01775\"><NumCode>756</NumCode><CharCode>CHF</CharCode><Nominal>1</Nominal><Name>Øâåéöàðñêèé ôðàíê</Name><Value>80,4555</Value></Valute><Valute ID=\"R01805F\"><NumCode>941</NumCode><CharCode>RSD</CharCode><Nominal>100</Nominal><Name>Ñåðáñêèõ äèíàðîâ</Name><Value>68,2866</Value></Valute><Valute ID=\"R01810\"><NumCode>710</NumCode><CharCode>ZAR</CharCode><Nominal>10</Nominal><Name>Þæíîàôðèêàíñêèõ ðýíäîâ</Name><Value>41,5668</Value></Valute><Valute ID=\"R01815\"><NumCode>410</NumCode><CharCode>KRW</CharCode><Nominal>1000</Nominal><Name>Âîí Ðåñïóáëèêè Êîðåÿ</Name><Value>57,9742</Value></Valute><Valute ID=\"R01820\"><NumCode>392</NumCode><CharCode>JPY</CharCode><Nominal>100</Nominal><Name>ßïîíñêèõ èåí</Name><Value>55,2410</Value></Valute></ValCurs>: 0",
     "output_type": "error",
     "traceback": [
      "\u001b[1;31m---------------------------------------------------------------------------\u001b[0m",
      "\u001b[1;31mJSONDecodeError\u001b[0m                           Traceback (most recent call last)",
      "\u001b[1;32mc:\\Users\\dmitr\\AppData\\Local\\Programs\\Python\\Python39\\lib\\site-packages\\requests\\models.py\u001b[0m in \u001b[0;36mjson\u001b[1;34m(self, **kwargs)\u001b[0m\n\u001b[0;32m    909\u001b[0m         \u001b[1;32mtry\u001b[0m\u001b[1;33m:\u001b[0m\u001b[1;33m\u001b[0m\u001b[1;33m\u001b[0m\u001b[0m\n\u001b[1;32m--> 910\u001b[1;33m             \u001b[1;32mreturn\u001b[0m \u001b[0mcomplexjson\u001b[0m\u001b[1;33m.\u001b[0m\u001b[0mloads\u001b[0m\u001b[1;33m(\u001b[0m\u001b[0mself\u001b[0m\u001b[1;33m.\u001b[0m\u001b[0mtext\u001b[0m\u001b[1;33m,\u001b[0m \u001b[1;33m**\u001b[0m\u001b[0mkwargs\u001b[0m\u001b[1;33m)\u001b[0m\u001b[1;33m\u001b[0m\u001b[1;33m\u001b[0m\u001b[0m\n\u001b[0m\u001b[0;32m    911\u001b[0m         \u001b[1;32mexcept\u001b[0m \u001b[0mJSONDecodeError\u001b[0m \u001b[1;32mas\u001b[0m \u001b[0me\u001b[0m\u001b[1;33m:\u001b[0m\u001b[1;33m\u001b[0m\u001b[1;33m\u001b[0m\u001b[0m\n",
      "\u001b[1;32mc:\\Users\\dmitr\\AppData\\Local\\Programs\\Python\\Python39\\lib\\json\\__init__.py\u001b[0m in \u001b[0;36mloads\u001b[1;34m(s, cls, object_hook, parse_float, parse_int, parse_constant, object_pairs_hook, **kw)\u001b[0m\n\u001b[0;32m    345\u001b[0m             parse_constant is None and object_pairs_hook is None and not kw):\n\u001b[1;32m--> 346\u001b[1;33m         \u001b[1;32mreturn\u001b[0m \u001b[0m_default_decoder\u001b[0m\u001b[1;33m.\u001b[0m\u001b[0mdecode\u001b[0m\u001b[1;33m(\u001b[0m\u001b[0ms\u001b[0m\u001b[1;33m)\u001b[0m\u001b[1;33m\u001b[0m\u001b[1;33m\u001b[0m\u001b[0m\n\u001b[0m\u001b[0;32m    347\u001b[0m     \u001b[1;32mif\u001b[0m \u001b[0mcls\u001b[0m \u001b[1;32mis\u001b[0m \u001b[1;32mNone\u001b[0m\u001b[1;33m:\u001b[0m\u001b[1;33m\u001b[0m\u001b[1;33m\u001b[0m\u001b[0m\n",
      "\u001b[1;32mc:\\Users\\dmitr\\AppData\\Local\\Programs\\Python\\Python39\\lib\\json\\decoder.py\u001b[0m in \u001b[0;36mdecode\u001b[1;34m(self, s, _w)\u001b[0m\n\u001b[0;32m    336\u001b[0m         \"\"\"\n\u001b[1;32m--> 337\u001b[1;33m         \u001b[0mobj\u001b[0m\u001b[1;33m,\u001b[0m \u001b[0mend\u001b[0m \u001b[1;33m=\u001b[0m \u001b[0mself\u001b[0m\u001b[1;33m.\u001b[0m\u001b[0mraw_decode\u001b[0m\u001b[1;33m(\u001b[0m\u001b[0ms\u001b[0m\u001b[1;33m,\u001b[0m \u001b[0midx\u001b[0m\u001b[1;33m=\u001b[0m\u001b[0m_w\u001b[0m\u001b[1;33m(\u001b[0m\u001b[0ms\u001b[0m\u001b[1;33m,\u001b[0m \u001b[1;36m0\u001b[0m\u001b[1;33m)\u001b[0m\u001b[1;33m.\u001b[0m\u001b[0mend\u001b[0m\u001b[1;33m(\u001b[0m\u001b[1;33m)\u001b[0m\u001b[1;33m)\u001b[0m\u001b[1;33m\u001b[0m\u001b[1;33m\u001b[0m\u001b[0m\n\u001b[0m\u001b[0;32m    338\u001b[0m         \u001b[0mend\u001b[0m \u001b[1;33m=\u001b[0m \u001b[0m_w\u001b[0m\u001b[1;33m(\u001b[0m\u001b[0ms\u001b[0m\u001b[1;33m,\u001b[0m \u001b[0mend\u001b[0m\u001b[1;33m)\u001b[0m\u001b[1;33m.\u001b[0m\u001b[0mend\u001b[0m\u001b[1;33m(\u001b[0m\u001b[1;33m)\u001b[0m\u001b[1;33m\u001b[0m\u001b[1;33m\u001b[0m\u001b[0m\n",
      "\u001b[1;32mc:\\Users\\dmitr\\AppData\\Local\\Programs\\Python\\Python39\\lib\\json\\decoder.py\u001b[0m in \u001b[0;36mraw_decode\u001b[1;34m(self, s, idx)\u001b[0m\n\u001b[0;32m    354\u001b[0m         \u001b[1;32mexcept\u001b[0m \u001b[0mStopIteration\u001b[0m \u001b[1;32mas\u001b[0m \u001b[0merr\u001b[0m\u001b[1;33m:\u001b[0m\u001b[1;33m\u001b[0m\u001b[1;33m\u001b[0m\u001b[0m\n\u001b[1;32m--> 355\u001b[1;33m             \u001b[1;32mraise\u001b[0m \u001b[0mJSONDecodeError\u001b[0m\u001b[1;33m(\u001b[0m\u001b[1;34m\"Expecting value\"\u001b[0m\u001b[1;33m,\u001b[0m \u001b[0ms\u001b[0m\u001b[1;33m,\u001b[0m \u001b[0merr\u001b[0m\u001b[1;33m.\u001b[0m\u001b[0mvalue\u001b[0m\u001b[1;33m)\u001b[0m \u001b[1;32mfrom\u001b[0m \u001b[1;32mNone\u001b[0m\u001b[1;33m\u001b[0m\u001b[1;33m\u001b[0m\u001b[0m\n\u001b[0m\u001b[0;32m    356\u001b[0m         \u001b[1;32mreturn\u001b[0m \u001b[0mobj\u001b[0m\u001b[1;33m,\u001b[0m \u001b[0mend\u001b[0m\u001b[1;33m\u001b[0m\u001b[1;33m\u001b[0m\u001b[0m\n",
      "\u001b[1;31mJSONDecodeError\u001b[0m: Expecting value: line 1 column 1 (char 0)",
      "\nDuring handling of the above exception, another exception occurred:\n",
      "\u001b[1;31mJSONDecodeError\u001b[0m                           Traceback (most recent call last)",
      "\u001b[1;32m~\\AppData\\Local\\Temp/ipykernel_3768/3661912575.py\u001b[0m in \u001b[0;36m<module>\u001b[1;34m\u001b[0m\n\u001b[0;32m      1\u001b[0m \u001b[1;32mfrom\u001b[0m \u001b[0mpprint\u001b[0m \u001b[1;32mimport\u001b[0m \u001b[0mpprint\u001b[0m \u001b[1;31m# Импортируем функцию pprint()\u001b[0m\u001b[1;33m\u001b[0m\u001b[1;33m\u001b[0m\u001b[0m\n\u001b[1;32m----> 2\u001b[1;33m \u001b[0mcurrencies\u001b[0m \u001b[1;33m=\u001b[0m \u001b[0mresponse\u001b[0m\u001b[1;33m.\u001b[0m\u001b[0mjson\u001b[0m\u001b[1;33m(\u001b[0m\u001b[1;33m)\u001b[0m \u001b[1;31m# Применяем метод json()\u001b[0m\u001b[1;33m\u001b[0m\u001b[1;33m\u001b[0m\u001b[0m\n\u001b[0m\u001b[0;32m      3\u001b[0m \u001b[0mpprint\u001b[0m\u001b[1;33m(\u001b[0m\u001b[0mcurrencies\u001b[0m\u001b[1;33m)\u001b[0m \u001b[1;31m# Выводим результат на экран)\u001b[0m\u001b[1;33m\u001b[0m\u001b[1;33m\u001b[0m\u001b[0m\n",
      "\u001b[1;32mc:\\Users\\dmitr\\AppData\\Local\\Programs\\Python\\Python39\\lib\\site-packages\\requests\\models.py\u001b[0m in \u001b[0;36mjson\u001b[1;34m(self, **kwargs)\u001b[0m\n\u001b[0;32m    915\u001b[0m                 \u001b[1;32mraise\u001b[0m \u001b[0mRequestsJSONDecodeError\u001b[0m\u001b[1;33m(\u001b[0m\u001b[0me\u001b[0m\u001b[1;33m.\u001b[0m\u001b[0mmessage\u001b[0m\u001b[1;33m)\u001b[0m\u001b[1;33m\u001b[0m\u001b[1;33m\u001b[0m\u001b[0m\n\u001b[0;32m    916\u001b[0m             \u001b[1;32melse\u001b[0m\u001b[1;33m:\u001b[0m\u001b[1;33m\u001b[0m\u001b[1;33m\u001b[0m\u001b[0m\n\u001b[1;32m--> 917\u001b[1;33m                 \u001b[1;32mraise\u001b[0m \u001b[0mRequestsJSONDecodeError\u001b[0m\u001b[1;33m(\u001b[0m\u001b[0me\u001b[0m\u001b[1;33m.\u001b[0m\u001b[0mmsg\u001b[0m\u001b[1;33m,\u001b[0m \u001b[0me\u001b[0m\u001b[1;33m.\u001b[0m\u001b[0mdoc\u001b[0m\u001b[1;33m,\u001b[0m \u001b[0me\u001b[0m\u001b[1;33m.\u001b[0m\u001b[0mpos\u001b[0m\u001b[1;33m)\u001b[0m\u001b[1;33m\u001b[0m\u001b[1;33m\u001b[0m\u001b[0m\n\u001b[0m\u001b[0;32m    918\u001b[0m \u001b[1;33m\u001b[0m\u001b[0m\n\u001b[0;32m    919\u001b[0m     \u001b[1;33m@\u001b[0m\u001b[0mproperty\u001b[0m\u001b[1;33m\u001b[0m\u001b[1;33m\u001b[0m\u001b[0m\n",
      "\u001b[1;31mJSONDecodeError\u001b[0m: [Errno Expecting value] <?xml version=\"1.0\" encoding=\"windows-1251\"?><ValCurs Date=\"04.03.2023\" name=\"Foreign Currency Market\"><Valute ID=\"R01010\"><NumCode>036</NumCode><CharCode>AUD</CharCode><Nominal>1</Nominal><Name>Àâñòðàëèéñêèé äîëëàð</Name><Value>50,8897</Value></Valute><Valute ID=\"R01020A\"><NumCode>944</NumCode><CharCode>AZN</CharCode><Nominal>1</Nominal><Name>Àçåðáàéäæàíñêèé ìàíàò</Name><Value>44,3878</Value></Valute><Valute ID=\"R01035\"><NumCode>826</NumCode><CharCode>GBP</CharCode><Nominal>1</Nominal><Name>Ôóíò ñòåðëèíãîâ Ñîåäèíåííîãî êîðîëåâñòâà</Name><Value>90,2039</Value></Valute><Valute ID=\"R01060\"><NumCode>051</NumCode><CharCode>AMD</CharCode><Nominal>100</Nominal><Name>Àðìÿíñêèõ äðàìîâ</Name><Value>19,4397</Value></Valute><Valute ID=\"R01090B\"><NumCode>933</NumCode><CharCode>BYN</CharCode><Nominal>1</Nominal><Name>Áåëîðóññêèé ðóáëü</Name><Value>26,7074</Value></Valute><Valute ID=\"R01100\"><NumCode>975</NumCode><CharCode>BGN</CharCode><Nominal>1</Nominal><Name>Áîëãàðñêèé ëåâ</Name><Value>40,9148</Value></Valute><Valute ID=\"R01115\"><NumCode>986</NumCode><CharCode>BRL</CharCode><Nominal>1</Nominal><Name>Áðàçèëüñêèé ðåàë</Name><Value>14,4899</Value></Valute><Valute ID=\"R01135\"><NumCode>348</NumCode><CharCode>HUF</CharCode><Nominal>100</Nominal><Name>Âåíãåðñêèõ ôîðèíòîâ</Name><Value>21,1471</Value></Valute><Valute ID=\"R01150\"><NumCode>704</NumCode><CharCode>VND</CharCode><Nominal>10000</Nominal><Name>Âüåòíàìñêèõ äîíãîâ</Name><Value>31,9242</Value></Valute><Valute ID=\"R01200\"><NumCode>344</NumCode><CharCode>HKD</CharCode><Nominal>10</Nominal><Name>Ãîíêîíãñêèõ äîëëàðîâ</Name><Value>96,2981</Value></Valute><Valute ID=\"R01210\"><NumCode>981</NumCode><CharCode>GEL</CharCode><Nominal>1</Nominal><Name>Ãðóçèíñêèé ëàðè</Name><Value>28,9515</Value></Valute><Valute ID=\"R01215\"><NumCode>208</NumCode><CharCode>DKK</CharCode><Nominal>1</Nominal><Name>Äàòñêàÿ êðîíà</Name><Value>10,7535</Value></Valute><Valute ID=\"R01230\"><NumCode>784</NumCode><CharCode>AED</CharCode><Nominal>1</Nominal><Name>Äèðõàì ÎÀÝ</Name><Value>20,5449</Value></Valute><Valute ID=\"R01235\"><NumCode>840</NumCode><CharCode>USD</CharCode><Nominal>1</Nominal><Name>Äîëëàð ÑØÀ</Name><Value>75,4592</Value></Valute><Valute ID=\"R01239\"><NumCode>978</NumCode><CharCode>EUR</CharCode><Nominal>1</Nominal><Name>Åâðî</Name><Value>80,0469</Value></Valute><Valute ID=\"R01240\"><NumCode>818</NumCode><CharCode>EGP</CharCode><Nominal>10</Nominal><Name>Åãèïåòñêèõ ôóíòîâ</Name><Value>24,5743</Value></Valute><Valute ID=\"R01270\"><NumCode>356</NumCode><CharCode>INR</CharCode><Nominal>100</Nominal><Name>Èíäèéñêèõ ðóïèé</Name><Value>91,1969</Value></Valute><Valute ID=\"R01280\"><NumCode>360</NumCode><CharCode>IDR</CharCode><Nominal>10000</Nominal><Name>Èíäîíåçèéñêèõ ðóïèé</Name><Value>49,4069</Value></Valute><Valute ID=\"R01335\"><NumCode>398</NumCode><CharCode>KZT</CharCode><Nominal>100</Nominal><Name>Êàçàõñòàíñêèõ òåíãå</Name><Value>17,3195</Value></Valute><Valute ID=\"R01350\"><NumCode>124</NumCode><CharCode>CAD</CharCode><Nominal>1</Nominal><Name>Êàíàäñêèé äîëëàð</Name><Value>55,4276</Value></Valute><Valute ID=\"R01355\"><NumCode>634</NumCode><CharCode>QAR</CharCode><Nominal>1</Nominal><Name>Êàòàðñêèé ðèàë</Name><Value>20,7305</Value></Valute><Valute ID=\"R01370\"><NumCode>417</NumCode><CharCode>KGS</CharCode><Nominal>100</Nominal><Name>Êèðãèçñêèõ ñîìîâ</Name><Value>86,3180</Value></Valute><Valute ID=\"R01375\"><NumCode>156</NumCode><CharCode>CNY</CharCode><Nominal>1</Nominal><Name>Êèòàéñêèé þàíü</Name><Value>10,9137</Value></Valute><Valute ID=\"R01500\"><NumCode>498</NumCode><CharCode>MDL</CharCode><Nominal>10</Nominal><Name>Ìîëäàâñêèõ ëååâ</Name><Value>39,9875</Value></Valute><Valute ID=\"R01530\"><NumCode>554</NumCode><CharCode>NZD</CharCode><Nominal>1</Nominal><Name>Íîâîçåëàíäñêèé äîëëàð</Name><Value>47,0035</Value></Valute><Valute ID=\"R01535\"><NumCode>578</NumCode><CharCode>NOK</CharCode><Nominal>10</Nominal><Name>Íîðâåæñêèõ êðîí</Name><Value>72,3947</Value></Valute><Valute ID=\"R01565\"><NumCode>985</NumCode><CharCode>PLN</CharCode><Nominal>1</Nominal><Name>Ïîëüñêèé çëîòûé</Name><Value>17,0106</Value></Valute><Valute ID=\"R01585F\"><NumCode>946</NumCode><CharCode>RON</CharCode><Nominal>1</Nominal><Name>Ðóìûíñêèé ëåé</Name><Value>16,2807</Value></Valute><Valute ID=\"R01589\"><NumCode>960</NumCode><CharCode>XDR</CharCode><Nominal>1</Nominal><Name>ÑÄÐ (ñïåöèàëüíûå ïðàâà çàèìñòâîâàíèÿ)</Name><Value>100,3396</Value></Valute><Valute ID=\"R01625\"><NumCode>702</NumCode><CharCode>SGD</CharCode><Nominal>1</Nominal><Name>Ñèíãàïóðñêèé äîëëàð</Name><Value>55,9994</Value></Valute><Valute ID=\"R01670\"><NumCode>972</NumCode><CharCode>TJS</CharCode><Nominal>10</Nominal><Name>Òàäæèêñêèõ ñîìîíè</Name><Value>69,1379</Value></Valute><Valute ID=\"R01675\"><NumCode>764</NumCode><CharCode>THB</CharCode><Nominal>10</Nominal><Name>Òàèëàíäñêèõ áàòîâ</Name><Value>21,7207</Value></Valute><Valute ID=\"R01700J\"><NumCode>949</NumCode><CharCode>TRY</CharCode><Nominal>10</Nominal><Name>Òóðåöêèõ ëèð</Name><Value>39,9593</Value></Valute><Valute ID=\"R01710A\"><NumCode>934</NumCode><CharCode>TMT</CharCode><Nominal>1</Nominal><Name>Íîâûé òóðêìåíñêèé ìàíàò</Name><Value>21,5598</Value></Valute><Valute ID=\"R01717\"><NumCode>860</NumCode><CharCode>UZS</CharCode><Nominal>10000</Nominal><Name>Óçáåêñêèõ ñóìîâ</Name><Value>66,4020</Value></Valute><Valute ID=\"R01720\"><NumCode>980</NumCode><CharCode>UAH</CharCode><Nominal>10</Nominal><Name>Óêðàèíñêèõ ãðèâåí</Name><Value>20,4321</Value></Valute><Valute ID=\"R01760\"><NumCode>203</NumCode><CharCode>CZK</CharCode><Nominal>10</Nominal><Name>×åøñêèõ êðîí</Name><Value>34,0751</Value></Valute><Valute ID=\"R01770\"><NumCode>752</NumCode><CharCode>SEK</CharCode><Nominal>10</Nominal><Name>Øâåäñêèõ êðîí</Name><Value>71,9955</Value></Valute><Valute ID=\"R01775\"><NumCode>756</NumCode><CharCode>CHF</CharCode><Nominal>1</Nominal><Name>Øâåéöàðñêèé ôðàíê</Name><Value>80,4555</Value></Valute><Valute ID=\"R01805F\"><NumCode>941</NumCode><CharCode>RSD</CharCode><Nominal>100</Nominal><Name>Ñåðáñêèõ äèíàðîâ</Name><Value>68,2866</Value></Valute><Valute ID=\"R01810\"><NumCode>710</NumCode><CharCode>ZAR</CharCode><Nominal>10</Nominal><Name>Þæíîàôðèêàíñêèõ ðýíäîâ</Name><Value>41,5668</Value></Valute><Valute ID=\"R01815\"><NumCode>410</NumCode><CharCode>KRW</CharCode><Nominal>1000</Nominal><Name>Âîí Ðåñïóáëèêè Êîðåÿ</Name><Value>57,9742</Value></Valute><Valute ID=\"R01820\"><NumCode>392</NumCode><CharCode>JPY</CharCode><Nominal>100</Nominal><Name>ßïîíñêèõ èåí</Name><Value>55,2410</Value></Valute></ValCurs>: 0"
     ]
    }
   ],
   "source": [
    "from pprint import pprint # Импортируем функцию pprint()\n",
    "currencies = response.json() # Применяем метод json()\n",
    "pprint(currencies) # Выводим результат на экран)"
   ]
  },
  {
   "cell_type": "code",
   "execution_count": null,
   "metadata": {},
   "outputs": [],
   "source": [
    "pprint(currencies['Valute']['EUR']) # Выводим на экран информацию о валюте евро\n",
    "\n",
    "print(currencies['Valute']['CZK']['Name']) # выводим на экран информацию об наименовании валюты"
   ]
  },
  {
   "cell_type": "markdown",
   "metadata": {},
   "source": [
    "### Работа с HTML-страницами"
   ]
  },
  {
   "cell_type": "markdown",
   "metadata": {},
   "source": [
    "Загрузка HNML-страницы"
   ]
  },
  {
   "cell_type": "code",
   "execution_count": null,
   "metadata": {},
   "outputs": [],
   "source": [
    "import requests # Импортируем библиотеку requests\n",
    "url = 'https://nplus1.ru/news/2021/10/11/econobel2021' # Определяем адрес страницы\n",
    "response = requests.get(url)  # Выполняем GET-запрос\n",
    "print(response.text)  # Выводим содержимое атрибута text"
   ]
  },
  {
   "cell_type": "markdown",
   "metadata": {},
   "source": [
    "Библиотека BeautifulSoap"
   ]
  },
  {
   "cell_type": "code",
   "execution_count": null,
   "metadata": {},
   "outputs": [],
   "source": [
    "import requests # Импортируем библиотеку requests\n",
    "from bs4 import BeautifulSoup # Импортируем библиотеку BeautifulSoup\n",
    "url = 'https://nplus1.ru/news/2021/10/11/econobel2021' # Определяем адрес страницы\n",
    "response = requests.get(url) # Выполняем GET-запрос, содержимое ответа присваивается переменной response\n",
    "page = BeautifulSoup(response.text, 'html.parser') # Создаём объект BeautifulSoup, указывая html-парсер\n",
    "print(page.title) # Получаем тег title, отображающийся на вкладке браузера\n",
    "print(page.title.text) # Выводим текст из полученного тега, который содержится в атрибуте text"
   ]
  },
  {
   "cell_type": "markdown",
   "metadata": {},
   "source": [
    "Извлекаем заголовок и дату написания статьи"
   ]
  },
  {
   "cell_type": "markdown",
   "metadata": {},
   "source": [
    "Задание 5.4\n",
    "<br>Напишите функцию wiki_header, которая по адресу страницы возвращает заголовок для статей на Wikipedia.\n",
    "<br>wiki_header('https://en.wikipedia.org/wiki/Operating_system')\n",
    "<br>'Operating system'"
   ]
  },
  {
   "cell_type": "code",
   "execution_count": null,
   "metadata": {},
   "outputs": [],
   "source": [
    "import requests # Импортируем библиотеку requests\n",
    "from bs4 import BeautifulSoup # Импортируем библиотеку BeautifulSoup\n",
    "\n",
    "def wiki_header (url):\n",
    "    response = requests.get(url) # Выполняем GET-запрос, содержимое ответа присваивается переменной response\n",
    "    page = BeautifulSoup(response.text, 'html.parser') # Создаём объект BeautifulSoup, указывая html-парсер\n",
    "    header = page.find('h1').text\n",
    "    return header\n",
    "    \n",
    "wiki_header('https://en.wikipedia.org/wiki/Operating_system')\n",
    "\n",
    "\"\"\"\n",
    "def wiki_header(url):\n",
    "    page=BeautifulSoup(requests.get(url).text,'html.parser')\n",
    "    header=page.find('h1').text\n",
    "    return header\n",
    "\"\"\""
   ]
  },
  {
   "cell_type": "markdown",
   "metadata": {},
   "source": [
    "Сбор нескольких элементов. Собираем все гиперссылки на странице"
   ]
  },
  {
   "cell_type": "code",
   "execution_count": null,
   "metadata": {},
   "outputs": [],
   "source": [
    "import requests # Импортируем библиотеку requests\n",
    "from bs4 import BeautifulSoup # Импортируем библиотеку BeautifulSoup\n",
    "\n",
    "url = 'https://en.wikipedia.org/wiki/List_of_programming_languages' # Задаём адрес ресурса\n",
    "response = requests.get(url) # Делаем GET-запрос к ресурсу\n",
    "page = BeautifulSoup(response.text, 'html.parser') # Создаём объект BeautifulSoup\n",
    "print(page.find('a')) # Ищем ссылку по тегу <a> и выводим её на экран\n",
    "links = page.find_all('a') # Ищем все ссылки на странице и сохраняем в переменной links в виде списка\n",
    "print('Всего гиперссылок на странце', len(links)) # Выводим количество найденных ссылок\n",
    "\n",
    "# просмотрим несколько ссылок срезом\n",
    "print([link.text for link in links[500:510]])\n"
   ]
  },
  {
   "cell_type": "markdown",
   "metadata": {},
   "source": [
    "### Запрос к API из кода"
   ]
  },
  {
   "cell_type": "code",
   "execution_count": null,
   "metadata": {},
   "outputs": [],
   "source": [
    "from pprint import pprint\n",
    "import requests # Импортируем модуль requests\n",
    "\n",
    "token = 'a008248da008248da008248d73a07468dfaa008a008248dc26b0705ad575fbcd613ee3d' # Указываем свой сервисный токен\n",
    "url = 'https://api.vk.com/method/users.get' # Указываем адрес страницы к которой делаем запрос\n",
    "params = {'user_id': 1, 'v': 5.95, 'fields': 'sex,bdate', 'access_token': token, 'lang': 'ru'} # Перечисляем параметры нашего запроса в словаре params\n",
    "response = requests.get(url, params=params) # Отправляем запрос\n",
    "#print(response.text) # Выводим текст ответа на экран\n",
    "\n",
    "pprint(response.json()) # Выводим содержимое словаря, содержащего ответ, на экран\n",
    "\n",
    "user = response.json()['response'][0] # Извлекаем из словаря по ключу response информацию о первом пользователе\n",
    "print(user['bdate']) # Выводим дату рождения первого пользователя на экран\n",
    "\n",
    "print(user['first_name'])"
   ]
  },
  {
   "cell_type": "code",
   "execution_count": null,
   "metadata": {},
   "outputs": [],
   "source": [
    "from pprint import pprint\n",
    "import requests # Импортируем модуль requests\n",
    "\n",
    "token = 'a008248da008248da008248d73a07468dfaa008a008248dc26b0705ad575fbcd613ee3d' # Указываем свой сервисный токен\n",
    "url = 'https://api.vk.com/method/users.get' # Указываем адрес страницы к которой делаем запрос\n",
    "\n",
    "ids = \",\".join(map(str, range(1, 4))) # Формируем строку, содержащую информацию о поле id первых трёх пользователей\n",
    "params = {'user_ids': ids, 'v': 5.95, 'fields': 'bday', 'access_token': token, 'lang': 'ru'} # Формируем строку параметров\n",
    "pprint(requests.get(url, params=params).json()) # Посылаем запрос, полученный ответ в формате JSON-строки преобразуем в словарь\n",
    "                                                # и выводим на экран его содержимое, используя функцию pprint()"
   ]
  },
  {
   "cell_type": "markdown",
   "metadata": {},
   "source": [
    "Задание 6.2\n",
    "<br>Используя API, определите долю женщин (sex=1) среди пользователей с id от 1 до 500.\n",
    "<br>Иногда будут попадаться пользователи, у которых пол не указан (sex=0), — таких пользователей не нужно учитывать в общем числе."
   ]
  },
  {
   "cell_type": "code",
   "execution_count": null,
   "metadata": {},
   "outputs": [],
   "source": [
    "from pprint import pprint\n",
    "import requests # Импортируем модуль requests\n",
    "\n",
    "token = 'a008248da008248da008248d73a07468dfaa008a008248dc26b0705ad575fbcd613ee3d' # Указываем свой сервисный токен\n",
    "url = 'https://api.vk.com/method/users.get' # Указываем адрес страницы к которой делаем запрос\n",
    "\n",
    "ids = \",\".join(map(str, range(1, 501))) # Формируем строку, содержащую информацию о поле id первых трёх пользователей\n",
    "params = {'user_ids': ids, 'v': 5.95, 'fields': 'bday,sex', 'access_token': token, 'lang': 'ru'} # Формируем строку параметров\n",
    "response = requests.get(url, params=params).json()['response']\n",
    "\n",
    "men = 0\n",
    "women = 0\n",
    "\n",
    "for elem in response:\n",
    "    if elem['sex'] == 2:\n",
    "        men += 1\n",
    "    elif elem['sex'] == 1:\n",
    "        women += 1\n",
    "    else:\n",
    "        continue\n",
    "print(round(women / (men + women),2))"
   ]
  },
  {
   "cell_type": "markdown",
   "metadata": {},
   "source": [
    "Сбор инфрмации из группы в VK\n",
    "<br>Изучаем метод <b>groups.getMembers</b>"
   ]
  },
  {
   "cell_type": "code",
   "execution_count": null,
   "metadata": {},
   "outputs": [],
   "source": [
    "import requests\n",
    "\n",
    "token = 'a008248da008248da008248d73a07468dfaa008a008248dc26b0705ad575fbcd613ee3d' # Указываем свой сервисный токен\n",
    "url = 'https://api.vk.com/method/groups.getMembers'\n",
    "params = {'group_id':'vk', 'v':5.95, 'access_token':token}\n",
    "\n",
    "response = requests.get(url, params=params) # направлем запрос\n",
    "data = response.json() # получаем результат в виде словаря через метод .json()\n",
    "\n",
    "print(data)\n",
    "print(data['response']['count']) # общее число членов группы\n",
    "print(len(data['response']['items'])) # число id участников, полученных за один запрос\n",
    "print(data['response']['items'][:20]) # выведем первые 20 участников через срез"
   ]
  },
  {
   "cell_type": "markdown",
   "metadata": {},
   "source": [
    "Загружаем список членов грцппы через сдвиг offset и зацикливаем"
   ]
  },
  {
   "cell_type": "code",
   "execution_count": null,
   "metadata": {},
   "outputs": [],
   "source": [
    "import requests\n",
    "\n",
    "token = 'a008248da008248da008248d73a07468dfaa008a008248dc26b0705ad575fbcd613ee3d' # Указываем свой сервисный токен\n",
    "url = 'https://api.vk.com/method/groups.getMembers'\n",
    "\n",
    "\n",
    "count = 5 # загружаем за один проход по 5 участников группы\n",
    "offset = 0 # переменная сдвига\n",
    "max_count = 20 # ставим границу - выгрузить всего 20 id. Кратное count. В дальнейшем можно задать максимальное кол-во членов группы\n",
    "user_ids = [] # создаем список, куда будем добавлять пользователей по 5 шт в соответствии с count\n",
    "\n",
    "while offset < max_count: # выставляем условия прекращения цикла\n",
    "    print('Выгружаю {} пользователей с offset = {}'.format(count, offset)) # небольшой декоратор\n",
    "    params = {'group_id':'vk', 'v':5.95, 'count':count, 'offset':offset, 'access_token':token}\n",
    "    response = requests.get(url, params = params)\n",
    "    data = response.json()\n",
    "    user_ids += data['response']['items']\n",
    "    offset += count\n",
    "\n",
    "print(user_ids)"
   ]
  },
  {
   "cell_type": "markdown",
   "metadata": {},
   "source": [
    "Сделаем задержку на полсекунды через time.sleep(0.5)"
   ]
  },
  {
   "cell_type": "code",
   "execution_count": null,
   "metadata": {},
   "outputs": [],
   "source": [
    "import requests\n",
    "import time # загрузим time\n",
    "\n",
    "token = 'a008248da008248da008248d73a07468dfaa008a008248dc26b0705ad575fbcd613ee3d' # Указываем свой сервисный токен\n",
    "url = 'https://api.vk.com/method/groups.getMembers'\n",
    "\n",
    "\n",
    "count = 1000 # загружаем за один проход по 1000 участников группы\n",
    "offset = 0 # переменная сдвига\n",
    "max_count = 5000 # ставим границу - выгрузить всего 5000 id. Кратное count. В дальнейшем можно задать максимальное кол-во членов группы\n",
    "user_ids = [] # создаем список, куда будем добавлять пользователей по 5 шт в соответствии с count\n",
    "\n",
    "while offset < max_count: # выставляем условия прекращения цикла\n",
    "    print('Выгружаю {} пользователей с offset = {}'.format(count, offset)) # небольшой декоратор\n",
    "    params = {'group_id':'vk', 'v':5.95, 'count':count, 'offset':offset, 'access_token':token}\n",
    "    response = requests.get(url, params = params)\n",
    "    data = response.json()\n",
    "    user_ids += data['response']['items']\n",
    "    offset += count\n",
    "    print('Ожидаю 0.5 секунды...')\n",
    "    time.sleep(0.5)\n",
    "print(\"Загрузка завершена\")\n",
    "print('Загрузилось', len(user_ids), 'id')\n",
    "# print(user_ids)"
   ]
  },
  {
   "cell_type": "markdown",
   "metadata": {},
   "source": [
    "Лайки, репосты, комментарии. Метод <b><i>well.get()</i></b>"
   ]
  },
  {
   "cell_type": "code",
   "execution_count": null,
   "metadata": {},
   "outputs": [],
   "source": [
    "import requests # Импортируем модуль requests\n",
    "from pprint import pprint # Импортируем функцию pprint()\n",
    "token = 'a008248da008248da008248d73a07468dfaa008a008248dc26b0705ad575fbcd613ee3d' # Указываем свой сервисный токен\n",
    "url = 'https://api.vk.com/method/wall.get' # Указываем адрес страницы, к которой делаем запрос\n",
    "\n",
    "params = {'domain': 'vk', 'filter': 'owner', 'count': 1000, 'offset': 0, 'access_token': token, 'v': 5.95}\n",
    "#params = {'domain': 'vk', 'filter': 'owner', 'count': 1000, 'offset': 0, 'access_token': token, 'v': 5.95} \n",
    "response = requests.get(url, params = params)\n",
    "\n",
    "#pprint(response.json())\n",
    "pprint(response.json()['response']['items'][0])"
   ]
  },
  {
   "cell_type": "code",
   "execution_count": null,
   "metadata": {},
   "outputs": [],
   "source": [
    "# запускать вместе с предыдущим кодом\n",
    "# итоговая статистика для последних десяти непустых сообщений в словарь\n",
    "stats = {} \n",
    "count_post = 0 # Счётчик «непустых» сообщений\n",
    "for record in response.json()['response']['items'][:]:\n",
    "    title = record['text'][:30] \n",
    "    if title: \n",
    "        stats[title] = [record['comments']['count'], record['likes']['count'], record['reposts']['count'], record['date']] \n",
    "        count_post += 1 \n",
    "    if count_post < 10: \n",
    "        continue \n",
    "    else: \n",
    "        break \n",
    "pprint(stats)"
   ]
  },
  {
   "cell_type": "markdown",
   "metadata": {},
   "source": [
    "### Постановка задачи и выполнение задачи по расписанию: <b><i>schedule, every(), run_pending()</i></b>"
   ]
  },
  {
   "cell_type": "code",
   "execution_count": null,
   "metadata": {},
   "outputs": [],
   "source": [
    "import schedule\n",
    "import time\n",
    "\n",
    "def task ():\n",
    "    print('Hello! I am your first TASK!')\n",
    "    return \n",
    "\n",
    "schedule.every(0.5).minutes.do(task)\n",
    "\n",
    "while True:\n",
    "    schedule.run_pending()\n",
    "    time.sleep(1)"
   ]
  },
  {
   "cell_type": "code",
   "execution_count": null,
   "metadata": {},
   "outputs": [],
   "source": [
    "a = [1,2,3]\n",
    "b = a\n",
    "c = [1,2,3]\n",
    "print(a == b, a == c, a is b, a is c)"
   ]
  }
 ],
 "metadata": {
  "kernelspec": {
   "display_name": "Python 3",
   "language": "python",
   "name": "python3"
  },
  "language_info": {
   "codemirror_mode": {
    "name": "ipython",
    "version": 3
   },
   "file_extension": ".py",
   "mimetype": "text/x-python",
   "name": "python",
   "nbconvert_exporter": "python",
   "pygments_lexer": "ipython3",
   "version": "3.9.7"
  },
  "orig_nbformat": 4,
  "vscode": {
   "interpreter": {
    "hash": "45a595cf5c94e2781375fdf6a45161a83e0998aa8e430991abe7be8276c0a0c4"
   }
  }
 },
 "nbformat": 4,
 "nbformat_minor": 2
}
