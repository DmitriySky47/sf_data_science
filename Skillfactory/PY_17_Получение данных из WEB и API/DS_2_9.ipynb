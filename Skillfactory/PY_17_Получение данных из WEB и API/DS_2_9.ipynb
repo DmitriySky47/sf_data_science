{
 "cells": [
  {
   "cell_type": "markdown",
   "metadata": {},
   "source": [
    "Аттестация"
   ]
  },
  {
   "cell_type": "code",
   "execution_count": null,
   "metadata": {},
   "outputs": [],
   "source": [
    "one = [1, \"2\", 3, \"4\"]\n",
    "two = (\"a\", \"b\", \"c\", \"d\")\n",
    "three = two + (\"f\", 'g')\n",
    "\n",
    "print (one)\n",
    "three = one + two\n",
    "print (three)\n",
    "print (two)"
   ]
  },
  {
   "cell_type": "code",
   "execution_count": null,
   "metadata": {},
   "outputs": [],
   "source": [
    "my_lst = [1, 2, 3, 4]\n",
    "\n",
    "\n",
    "my_lst = my_lst[:-1]\n",
    "\n",
    "print(my_lst)"
   ]
  },
  {
   "cell_type": "code",
   "execution_count": null,
   "metadata": {},
   "outputs": [],
   "source": [
    "#словари\n",
    "my_dict = {'d':4, 'b':2, 'c':1}\n",
    "\n",
    "x = sorted(my_dict.keys())\n",
    "\n",
    "print(x)\n",
    "\n",
    "for key, value in my_dict.items():\n",
    "    print(my_dict)"
   ]
  },
  {
   "cell_type": "code",
   "execution_count": null,
   "metadata": {},
   "outputs": [],
   "source": [
    "config = {\n",
    "    \"server\": {\n",
    "        \"host\": \"127.0.0.1\",\n",
    "        \"port\": \"22\"\n",
    "    },\n",
    "    \"configuration\": {\n",
    "        \"ssh\": {\n",
    "            \"access\": True,\n",
    "            \"login\": \"some\",\n",
    "            \"password\": \"some\"\n",
    "        },\n",
    "        \"name\": \"2491Oaaf1414\"\n",
    "    }\n",
    "}\n",
    "\n",
    "print(config['configuration']['ssh']['login'])"
   ]
  },
  {
   "cell_type": "code",
   "execution_count": null,
   "metadata": {},
   "outputs": [],
   "source": [
    "s = 'fgh ghj jkl kl;'\n",
    "\n",
    "\n",
    "#x = ''.join(s.split(' '))\n",
    "\n",
    "# x = s.replace(' ', '')\n",
    "print(x)"
   ]
  },
  {
   "cell_type": "code",
   "execution_count": null,
   "metadata": {},
   "outputs": [],
   "source": [
    "temperature = 30\n",
    "remaining_time = 40\n",
    "\n",
    "print(r'Температура: {temperature}, оставшееся время: {remaining_time}')"
   ]
  },
  {
   "cell_type": "code",
   "execution_count": null,
   "metadata": {},
   "outputs": [],
   "source": [
    "s = '12, 4'\n",
    "\n",
    "s.isnumeric()"
   ]
  },
  {
   "cell_type": "code",
   "execution_count": null,
   "metadata": {},
   "outputs": [],
   "source": []
  },
  {
   "cell_type": "code",
   "execution_count": null,
   "metadata": {},
   "outputs": [],
   "source": [
    "import numpy\n",
    "n = 5\n",
    "m = 6\n",
    "x = numpy.zeros((n, m))\n",
    "print(x)"
   ]
  },
  {
   "cell_type": "code",
   "execution_count": null,
   "metadata": {},
   "outputs": [],
   "source": [
    "import pandas as pd\n",
    "solar_data = pd.read_csv('data/solarpower.csv')\n",
    "display(solar_data.head())\n",
    "display(solar_data.info)\n",
    "\n",
    "brake = (solar_data['cum_power'] == -1).value_counts()\n",
    "display(brake)\n",
    "\n",
    "for i in range(solar_data.shape[0]):\n",
    "    if solar_data.loc[i, 'cum_power'] == -1:\n",
    "        solar_data.iloc[i, 1] = round((float(solar_data.iloc[i-1, 1]) + float(solar_data.iloc[i+1, 1])) / 2)\n",
    "        #df.loc['E','A'] = 111\n",
    "        display(solar_data.iloc[i, 1])\n",
    "\n",
    "display(round(solar_data['cum_power'].mean()))\n",
    "display(solar_data.iloc[45, 1])\n",
    "display(solar_data.iloc[647, 1])"
   ]
  },
  {
   "cell_type": "markdown",
   "metadata": {},
   "source": [
    "Задание 3.2\n",
    "<br>\n",
    "Теперь, когда таблица заполнена, создайте столбец day_power — ежедневная выработка солнечной энергии.\n",
    "<br>Далее создайте данные о средней ежедневной выработке энергии на каждый месяц-год.\n",
    "<br>Совет: для того чтобы выделить из даты год и месяц, проще всего будет воспользоваться методом аксессора dt.to_period('M'), который позволяет выделять периоды (в данном случае 'М' — месяц).\n",
    "<br>Затем сгруппируйте данные по периодам (год-месяц) и рассчитайте среднее в столбце day_power.\n",
    "<br>Сколько солнечной энергии в среднем в день выработали в марте 2017 года? Ответ округлите до целого."
   ]
  },
  {
   "cell_type": "code",
   "execution_count": null,
   "metadata": {},
   "outputs": [],
   "source": [
    "df_solar = solar_data.copy()\n",
    "#df_solar.info()\n",
    "df_solar['day_power'] = df_solar['cum_power'].diff()\n",
    "df_solar.iloc[0, 2] = 0\n",
    "df_solar.info\n",
    "\n",
    "df_solar['date'] = pd.to_datetime(df_solar['date'], dayfirst=True)\n",
    "df_solar['month'] = df_solar['date'].dt.month\n",
    "df_solar['year'] = df_solar['date'].dt.year\n",
    "\n"
   ]
  },
  {
   "cell_type": "code",
   "execution_count": null,
   "metadata": {},
   "outputs": [],
   "source": [
    "group['values'] = df_solar.groupby(['year', 'month'])['day_power'].mean()\n",
    "#display(round(group.loc[2017, 3]))\n",
    "#display(group.info())\n",
    "#melb_df.groupby(['Rooms', 'Type'])['Price'].mean()\n",
    "group_df = pd.DataFrame(group)\n",
    "#display(group.info)\n",
    "group_df.head()\n",
    "#type(group_df)\n"
   ]
  },
  {
   "cell_type": "code",
   "execution_count": null,
   "metadata": {},
   "outputs": [],
   "source": [
    "# Средняя ежедневная выработка солнечной энергии на каждый месяц год. Подписать оси.\n",
    "import matplotlib.pyplot as plt\n",
    "import seaborn as sns\n",
    "import pandas as pd\n",
    "\n",
    "group_df.plot(kind='line',xlabel='Дата', ylabel='Выработка', figsize=(20,10));\n",
    "plt.title(\"Выработка по месяцам\")\n",
    "plt.show()"
   ]
  },
  {
   "cell_type": "code",
   "execution_count": null,
   "metadata": {},
   "outputs": [],
   "source": [
    "df_solar"
   ]
  }
 ],
 "metadata": {
  "interpreter": {
   "hash": "af741f369a8dd187b80e5712a22afdb8733aeb51bfa419ddcaad81e3c7951da3"
  },
  "kernelspec": {
   "display_name": "Python 3.9.7 64-bit",
   "language": "python",
   "name": "python3"
  },
  "language_info": {
   "codemirror_mode": {
    "name": "ipython",
    "version": 3
   },
   "file_extension": ".py",
   "mimetype": "text/x-python",
   "name": "python",
   "nbconvert_exporter": "python",
   "pygments_lexer": "ipython3",
   "version": "3.9.7"
  },
  "orig_nbformat": 4
 },
 "nbformat": 4,
 "nbformat_minor": 2
}
