{
 "cells": [
  {
   "cell_type": "markdown",
   "metadata": {},
   "source": [
    "## Преобразование признаков"
   ]
  },
  {
   "cell_type": "markdown",
   "metadata": {},
   "source": [
    "### Нормализация признаков"
   ]
  },
  {
   "cell_type": "markdown",
   "metadata": {},
   "source": [
    "MINMAXSCALER"
   ]
  },
  {
   "cell_type": "code",
   "execution_count": null,
   "metadata": {},
   "outputs": [],
   "source": [
    "import numpy as np \n",
    "import pandas as pd\n",
    "\n",
    "np.random.seed(34)\n",
    "\n",
    "# для нормализации, стандартизации\n",
    "from sklearn import preprocessing\n",
    "\n",
    "# Для графиков\n",
    "import matplotlib\n",
    "import matplotlib.pyplot as plt\n",
    "import seaborn as sns\n",
    "\n",
    "%matplotlib inline\n",
    "matplotlib.style.use('ggplot')\n",
    "\n",
    "# сгенерируем датасет из случайных чисел\n",
    "df = pd.DataFrame({ \n",
    "    # Бета распределение, 5 – значение альфа, 1 – значение бета, 1000 – размер\n",
    "    'beta': np.random.beta(5, 1, 1000) * 60,\n",
    "    \n",
    "    # Экспоненциальное распределение, 10 – \"резкость\" экспоненты, 1000 – размер\n",
    "    'exponential': np.random.exponential(10, 1000),\n",
    "    \n",
    "    # Нормальное распределение, 10 – среднее значение р., 2 – стандартное отклонение, 1000 – количество сэмплов\n",
    "    'normal_p': np.random.normal(10, 2, 1000),\n",
    "    \n",
    "    # Нормальное распределение, 10 – среднее значение р., 10 – стандартное отклонение, 1000 – количество сэмплов\n",
    "    'normal_l': np.random.normal(10, 10, 1000),\n",
    "})\n",
    "\n",
    "# Копируем названия столбцов, которые теряются при использовании fit_transform()\n",
    "col_names = list(df.columns)"
   ]
  },
  {
   "cell_type": "code",
   "execution_count": null,
   "metadata": {},
   "outputs": [],
   "source": [
    "# зададим параметры холста, название и визуализируем кривые распределения:\n",
    "fig, (ax1) = plt.subplots(ncols=1, figsize=(10, 8))\n",
    "ax1.set_title('Исходные распределения')\n",
    "\n",
    "# kdeplot() (KDE – оценка плотности ядра) – специальный метод для графиков распределений\n",
    "sns.kdeplot(df['beta'], ax=ax1, label ='beta')\n",
    "sns.kdeplot(df['exponential'], ax=ax1, label ='exponential')\n",
    "sns.kdeplot(df['normal_p'], ax=ax1, label ='normal_p')\n",
    "sns.kdeplot(df['normal_l'], ax=ax1, label ='normal_l')\n",
    "plt.legend()"
   ]
  },
  {
   "cell_type": "code",
   "execution_count": null,
   "metadata": {},
   "outputs": [],
   "source": [
    "df.describe()"
   ]
  },
  {
   "cell_type": "code",
   "execution_count": null,
   "metadata": {},
   "outputs": [],
   "source": [
    "# инициализируем нормализатор MinMaxScaler\n",
    "mm_scaler = preprocessing.MinMaxScaler()\n",
    "\n",
    "# копируем исходный датасет\n",
    "df_mm = mm_scaler.fit_transform(df)\n",
    "\n",
    "# Преобразуем промежуточный датасет в полноценный датафрейм для визуализации\n",
    "df_mm = pd.DataFrame(df_mm, columns=col_names)\n",
    "\n",
    "fig, (ax1) = plt.subplots(ncols=1, figsize=(10, 8))\n",
    "ax1.set_title('После нормализации MinMaxScaler')\n",
    "\n",
    "sns.kdeplot(df_mm['beta'], ax=ax1, label='beta')\n",
    "sns.kdeplot(df_mm['exponential'], ax=ax1, label='exponential')\n",
    "sns.kdeplot(df_mm['normal_p'], ax=ax1, label='normal_p')\n",
    "sns.kdeplot(df_mm['normal_l'], ax=ax1, label='normal_l')\n",
    "plt.legend()"
   ]
  },
  {
   "cell_type": "code",
   "execution_count": null,
   "metadata": {},
   "outputs": [],
   "source": [
    "df_mm.describe()"
   ]
  },
  {
   "cell_type": "markdown",
   "metadata": {},
   "source": [
    "ROBUSTSCALER"
   ]
  },
  {
   "cell_type": "code",
   "execution_count": null,
   "metadata": {},
   "outputs": [],
   "source": [
    "# инициализируем нормализатор RobustScaler\n",
    "r_scaler = preprocessing.RobustScaler()\n",
    "\n",
    "# копируем исходный датасет\n",
    "df_r = r_scaler.fit_transform(df)\n",
    "\n",
    "# Преобразуем промежуточный датасет в полноценный датафрейм для визуализации\n",
    "df_r = pd.DataFrame(df_r, columns=col_names)\n",
    "\n",
    "fig, (ax1) = plt.subplots(ncols=1, figsize=(10, 8))\n",
    "ax1.set_title('Распределения после RobustScaler')\n",
    "\n",
    "sns.kdeplot(df_r['beta'], ax=ax1, label='beta')\n",
    "sns.kdeplot(df_r['exponential'], ax=ax1, label='exponential')\n",
    "sns.kdeplot(df_r['normal_p'], ax=ax1, label='normal_p')\n",
    "sns.kdeplot(df_r['normal_l'], ax=ax1, label='normal_l')\n",
    "plt.legend()"
   ]
  },
  {
   "cell_type": "code",
   "execution_count": null,
   "metadata": {},
   "outputs": [],
   "source": [
    "df_r.describe()"
   ]
  },
  {
   "cell_type": "markdown",
   "metadata": {},
   "source": [
    "### Стандартизация признака"
   ]
  },
  {
   "cell_type": "markdown",
   "metadata": {},
   "source": [
    "STANDARDSCALER"
   ]
  },
  {
   "cell_type": "code",
   "execution_count": null,
   "metadata": {},
   "outputs": [],
   "source": [
    "# инициализируем стандартизатор StandardScaler\n",
    "s_scaler = preprocessing.StandardScaler()\n",
    "\n",
    "# копируем исходный датасет\n",
    "df_st = s_scaler.fit_transform(df)\n",
    "\n",
    "# Преобразуем промежуточный датасет в полноценный датафрейм для визуализации\n",
    "df_st = pd.DataFrame(df_st, columns=col_names)\n",
    "\n",
    "fig, (ax1) = plt.subplots(ncols=1, figsize=(10, 8))\n",
    "ax1.set_title('Распределения после StandardScaler')\n",
    "\n",
    "sns.kdeplot(df_st['beta'], ax=ax1, label='beta')\n",
    "sns.kdeplot(df_st['exponential'], ax=ax1, label='exponential')\n",
    "sns.kdeplot(df_st['normal_p'], ax=ax1, label='normal_p')\n",
    "sns.kdeplot(df_st['normal_l'], ax=ax1, label='normal_l')\n",
    "plt.legend()"
   ]
  },
  {
   "cell_type": "code",
   "execution_count": null,
   "metadata": {},
   "outputs": [],
   "source": [
    "df_st.describe()"
   ]
  },
  {
   "cell_type": "markdown",
   "metadata": {},
   "source": [
    "Задание 6.4\n",
    "<br>\n",
    "Нормализуйте признак price. Используйте подходящий тип нормализации.\n",
    "<br>\n",
    "В ответе напишите результат выполнения кода <i>data['price'].sum()</i>, округлённый до целого."
   ]
  },
  {
   "cell_type": "code",
   "execution_count": null,
   "metadata": {},
   "outputs": [],
   "source": [
    "df_test = pd.read_csv('data/wine_cleared.csv') # Загрузка данных из файла в переменную, создание объекта DataFrame"
   ]
  },
  {
   "cell_type": "code",
   "execution_count": null,
   "metadata": {},
   "outputs": [],
   "source": [
    "# Из датасета винных обзоров создаем Series с колнкой price\n",
    "df_norm = df_test['price']\n",
    "\n",
    "# Преобразуем Series в DataFrame\n",
    "df_norm = pd.DataFrame(df_norm)\n",
    "\n",
    "# Копируем названия столбцов, которые теряются при использовании fit_transform()\n",
    "col_names = list(df_norm.columns)\n",
    "\n",
    "# инициализируем нормализатор RobustScaler\n",
    "r_scaler = preprocessing.RobustScaler()\n",
    "\n",
    "# копируем исходный датасет\n",
    "df_robust = r_scaler.fit_transform(df_norm)\n",
    "\n",
    "# Преобразуем промежуточный датасет в полноценный датафрейм для визуализации\n",
    "df_robust = pd.DataFrame(df_robust, columns=col_names)\n",
    "df_robust['price'].sum()\n",
    "fig, (ax1) = plt.subplots(ncols=1, figsize=(10, 8))\n",
    "ax1.set_title('Распределения после RobustScaler')\n",
    "\n",
    "sns.kdeplot(df_robust['price'], ax=ax1, label='price')\n",
    "plt.legend()"
   ]
  },
  {
   "cell_type": "code",
   "execution_count": null,
   "metadata": {},
   "outputs": [],
   "source": [
    "df_robust.describe()"
   ]
  },
  {
   "cell_type": "code",
   "execution_count": null,
   "metadata": {},
   "outputs": [],
   "source": [
    "round(df_robust['price'].sum())"
   ]
  },
  {
   "cell_type": "markdown",
   "metadata": {},
   "source": [
    "Задание 6.5\n",
    "<br>\n",
    "Стандартизируйте исходный признак price.\n",
    "<br>\n",
    "В ответе напишите результат выполнения кода <i><b>data['price'][129968]</b></i>. Ответ округлите до сотых."
   ]
  },
  {
   "cell_type": "code",
   "execution_count": null,
   "metadata": {},
   "outputs": [],
   "source": [
    "# Из датасета винных обзоров создаем Series с колнкой price\n",
    "df_stand = df_test['price']\n",
    "\n",
    "# Преобразуем Series в DataFrame\n",
    "df_stand = pd.DataFrame(df_stand)\n",
    "\n",
    "# Копируем названия столбцов, которые теряются при использовании fit_transform()\n",
    "col_names = list(df_stand.columns)\n",
    "\n",
    "# инициализируем стандартизатор StandardScaler\n",
    "s_scaler = preprocessing.StandardScaler()\n",
    "\n",
    "# копируем исходный датасет\n",
    "df_standard = s_scaler.fit_transform(df_stand)\n",
    "\n",
    "# Преобразуем промежуточный датасет в полноценный датафрейм для визуализации\n",
    "df_standard = pd.DataFrame(df_standard, columns=col_names)\n",
    "\n",
    "fig, (ax1) = plt.subplots(ncols=1, figsize=(10, 8))\n",
    "ax1.set_title('Распределения после StandardScaler')\n",
    "\n",
    "sns.kdeplot(df_standard['price'], ax=ax1, label='price')\n",
    "plt.legend()"
   ]
  },
  {
   "cell_type": "code",
   "execution_count": null,
   "metadata": {},
   "outputs": [],
   "source": [
    "round(df_standard['price'][129968], 2)"
   ]
  },
  {
   "cell_type": "markdown",
   "metadata": {},
   "source": [
    "Задание 7.4 (Самопроверка)\n",
    "<br>\n",
    "Проведите корреляционный анализ всего набора данных и отберите только необходимые признаки для предсказания рейтинга вина.\n",
    "<br>\n",
    "❗️ Удалять признак рейтинг — points нельзя!\n",
    "<br>\n",
    "❗️ Для простоты вычислений можете использовать только корреляцию Пирсона."
   ]
  },
  {
   "cell_type": "code",
   "execution_count": null,
   "metadata": {},
   "outputs": [],
   "source": [
    "import pandas as pd\n",
    "import seaborn as sns\n",
    "import matplotlib.pyplot as plt\n",
    "\n",
    "df_wine = pd.read_csv('data/wine_cleared.csv') # Загрузка данных из файла в переменную, создание объекта DataFrame\n",
    "\n",
    "sns.heatmap(df_wine.corr(), annot=True)\n",
    "\n",
    "fig, ax = plt.subplots(figsize=(15,10))\n",
    "sns.heatmap(data.corr(), annot=True, linewidths=.5, ax=ax)"
   ]
  },
  {
   "cell_type": "code",
   "execution_count": null,
   "metadata": {},
   "outputs": [],
   "source": [
    "df_wine.info()"
   ]
  }
 ],
 "metadata": {
  "kernelspec": {
   "display_name": "Python 3.9.7 64-bit",
   "language": "python",
   "name": "python3"
  },
  "language_info": {
   "codemirror_mode": {
    "name": "ipython",
    "version": 3
   },
   "file_extension": ".py",
   "mimetype": "text/x-python",
   "name": "python",
   "nbconvert_exporter": "python",
   "pygments_lexer": "ipython3",
   "version": "3.9.7"
  },
  "orig_nbformat": 4,
  "vscode": {
   "interpreter": {
    "hash": "45a595cf5c94e2781375fdf6a45161a83e0998aa8e430991abe7be8276c0a0c4"
   }
  }
 },
 "nbformat": 4,
 "nbformat_minor": 2
}
