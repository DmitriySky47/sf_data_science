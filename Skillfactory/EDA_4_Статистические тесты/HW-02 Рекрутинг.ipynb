{
 "cells": [
  {
   "cell_type": "markdown",
   "metadata": {},
   "source": [
    "## ИССЛЕДОВАНИЕ ДАННЫХ HR-АГЕНТСТВА\n",
    "### HR-агентство изучает тренды на рынке труда в IT. Компания хочет провести исследование на основе данных о зарплатах в сфере Data Science за 2020–2022 годы и получить некоторые выводы.\n",
    "\n",
    "<b>Задачи исследования:</b>\n",
    "\n",
    "Выяснить, какие факторы влияют на зарплату специалиста Data Scientist.\n",
    "А также ответить на ключевые вопросы HR-агентства:\n",
    "- <i>Наблюдается ли ежегодный рост зарплат у специалистов Data Scientist?</i>\n",
    "- <i>Как соотносятся зарплаты Data Scientist и Data Engineer в 2022 году?</i>\n",
    "- <i>Как соотносятся зарплаты специалистов Data Scientist в компаниях различных размеров?</i>\n",
    "- <i>Есть ли связь между наличием должностей Data Scientist и Data Engineer и размером компании?</i>\n",
    "\n",
    "Если вы найдёте в данных интересные закономерности, также отметьте их в своём анализе."
   ]
  },
  {
   "cell_type": "markdown",
   "metadata": {},
   "source": [
    "### Загрузка библиотек и данных"
   ]
  },
  {
   "cell_type": "code",
   "execution_count": 9,
   "metadata": {},
   "outputs": [],
   "source": [
    "# Загрузка библиотек\n",
    "import pandas as pd\n",
    "import numpy as np\n",
    "\n",
    "from scipy import stats\n",
    "import statsmodels.api as sm\n",
    "from statsmodels import stats as sms \n",
    "\n",
    "import matplotlib.pyplot as plt\n",
    "import seaborn as sns\n",
    "\n",
    "# визуальные настройки графиков\n",
    "sns.set_theme('notebook')\n",
    "sns.set_palette('Set2')"
   ]
  },
  {
   "cell_type": "code",
   "execution_count": 10,
   "metadata": {},
   "outputs": [
    {
     "data": {
      "text/html": [
       "<div>\n",
       "<style scoped>\n",
       "    .dataframe tbody tr th:only-of-type {\n",
       "        vertical-align: middle;\n",
       "    }\n",
       "\n",
       "    .dataframe tbody tr th {\n",
       "        vertical-align: top;\n",
       "    }\n",
       "\n",
       "    .dataframe thead th {\n",
       "        text-align: right;\n",
       "    }\n",
       "</style>\n",
       "<table border=\"1\" class=\"dataframe\">\n",
       "  <thead>\n",
       "    <tr style=\"text-align: right;\">\n",
       "      <th></th>\n",
       "      <th>Unnamed: 0</th>\n",
       "      <th>work_year</th>\n",
       "      <th>experience_level</th>\n",
       "      <th>employment_type</th>\n",
       "      <th>job_title</th>\n",
       "      <th>salary</th>\n",
       "      <th>salary_currency</th>\n",
       "      <th>salary_in_usd</th>\n",
       "      <th>employee_residence</th>\n",
       "      <th>remote_ratio</th>\n",
       "      <th>company_location</th>\n",
       "      <th>company_size</th>\n",
       "    </tr>\n",
       "  </thead>\n",
       "  <tbody>\n",
       "    <tr>\n",
       "      <th>0</th>\n",
       "      <td>0</td>\n",
       "      <td>2020</td>\n",
       "      <td>MI</td>\n",
       "      <td>FT</td>\n",
       "      <td>Data Scientist</td>\n",
       "      <td>70000</td>\n",
       "      <td>EUR</td>\n",
       "      <td>79833</td>\n",
       "      <td>DE</td>\n",
       "      <td>0</td>\n",
       "      <td>DE</td>\n",
       "      <td>L</td>\n",
       "    </tr>\n",
       "    <tr>\n",
       "      <th>1</th>\n",
       "      <td>1</td>\n",
       "      <td>2020</td>\n",
       "      <td>SE</td>\n",
       "      <td>FT</td>\n",
       "      <td>Machine Learning Scientist</td>\n",
       "      <td>260000</td>\n",
       "      <td>USD</td>\n",
       "      <td>260000</td>\n",
       "      <td>JP</td>\n",
       "      <td>0</td>\n",
       "      <td>JP</td>\n",
       "      <td>S</td>\n",
       "    </tr>\n",
       "  </tbody>\n",
       "</table>\n",
       "</div>"
      ],
      "text/plain": [
       "   Unnamed: 0  work_year experience_level employment_type  \\\n",
       "0           0       2020               MI              FT   \n",
       "1           1       2020               SE              FT   \n",
       "\n",
       "                    job_title  salary salary_currency  salary_in_usd  \\\n",
       "0              Data Scientist   70000             EUR          79833   \n",
       "1  Machine Learning Scientist  260000             USD         260000   \n",
       "\n",
       "  employee_residence  remote_ratio company_location company_size  \n",
       "0                 DE             0               DE            L  \n",
       "1                 JP             0               JP            S  "
      ]
     },
     "execution_count": 10,
     "metadata": {},
     "output_type": "execute_result"
    }
   ],
   "source": [
    "# Загрузка дата-сета\n",
    "data = pd.read_csv('data/ds_salaries.csv')\n",
    "\n",
    "# иследуем дата-сет\n",
    "data.head(2)"
   ]
  },
  {
   "cell_type": "markdown",
   "metadata": {},
   "source": [
    "### Описательный анализ данных"
   ]
  },
  {
   "cell_type": "code",
   "execution_count": 11,
   "metadata": {},
   "outputs": [
    {
     "name": "stdout",
     "output_type": "stream",
     "text": [
      "<class 'pandas.core.frame.DataFrame'>\n",
      "RangeIndex: 607 entries, 0 to 606\n",
      "Data columns (total 12 columns):\n",
      " #   Column              Non-Null Count  Dtype \n",
      "---  ------              --------------  ----- \n",
      " 0   Unnamed: 0          607 non-null    int64 \n",
      " 1   work_year           607 non-null    int64 \n",
      " 2   experience_level    607 non-null    object\n",
      " 3   employment_type     607 non-null    object\n",
      " 4   job_title           607 non-null    object\n",
      " 5   salary              607 non-null    int64 \n",
      " 6   salary_currency     607 non-null    object\n",
      " 7   salary_in_usd       607 non-null    int64 \n",
      " 8   employee_residence  607 non-null    object\n",
      " 9   remote_ratio        607 non-null    int64 \n",
      " 10  company_location    607 non-null    object\n",
      " 11  company_size        607 non-null    object\n",
      "dtypes: int64(5), object(7)\n",
      "memory usage: 57.0+ KB\n"
     ]
    }
   ],
   "source": [
    "# исследуем инормацию о файле: размер, пропуски, типы данных\n",
    "data.info()\n",
    "\n",
    "# Дата-сет: 12 столбцов 607 строк, пропущенные значения отсутствуют, 5 столбцов с цифровыми данными и 7 столбцов с категориальными данными"
   ]
  },
  {
   "cell_type": "markdown",
   "metadata": {},
   "source": [
    "### Очистка данных в дата-сете"
   ]
  },
  {
   "cell_type": "code",
   "execution_count": 12,
   "metadata": {},
   "outputs": [],
   "source": [
    "# Удаление столбца Unnamed по индексу столбца, т.к. он дублирует id строк в дата-сете и будет мешать поиску полных дубликатов в дата-сете\n",
    "data.drop(data.columns[[0]], axis=1, inplace=True)"
   ]
  },
  {
   "cell_type": "code",
   "execution_count": 13,
   "metadata": {},
   "outputs": [
    {
     "data": {
      "text/plain": [
       "42"
      ]
     },
     "execution_count": 13,
     "metadata": {},
     "output_type": "execute_result"
    }
   ],
   "source": [
    "# Проверка данных на наличие дубликатов\n",
    "data_dupl = data[data.duplicated()].shape[0]\n",
    "data_dupl\n",
    "\n",
    "# В дата-сете имеется 42 дубликата"
   ]
  },
  {
   "cell_type": "code",
   "execution_count": 14,
   "metadata": {},
   "outputs": [
    {
     "data": {
      "text/plain": [
       "'Размер дата-сета после удаления дубликатов (565, 11)'"
      ]
     },
     "metadata": {},
     "output_type": "display_data"
    }
   ],
   "source": [
    "# Удаляем дубликаты и выводим информацию об обновлённом дата-сете\n",
    "data = data.drop_duplicates()\n",
    "display(f\"Размер дата-сета после удаления дубликатов {data.shape}\")"
   ]
  },
  {
   "cell_type": "markdown",
   "metadata": {},
   "source": [
    "### Анализ распределения заработной платы по всем специальностям"
   ]
  },
  {
   "cell_type": "code",
   "execution_count": 15,
   "metadata": {},
   "outputs": [
    {
     "name": "stderr",
     "output_type": "stream",
     "text": [
      "c:\\Users\\dmitr\\AppData\\Local\\Programs\\Python\\Python39\\lib\\site-packages\\seaborn\\_decorators.py:36: FutureWarning: Pass the following variable as a keyword arg: x. From version 0.12, the only valid positional argument will be `data`, and passing other arguments without an explicit keyword will result in an error or misinterpretation.\n",
      "  warnings.warn(\n"
     ]
    },
    {
     "data": {
      "image/png": "[encoded data removed]",
      "text/plain": [
       "<Figure size 1800x360 with 2 Axes>"
      ]
     },
     "metadata": {},
     "output_type": "display_data"
    }
   ],
   "source": [
    "fig, axes = plt.subplots(1, 2, figsize=(25, 5))\n",
    "\n",
    "sns.histplot(data['salary_in_usd'], kde=True, ax=axes[0])\n",
    "axes[0].set(xlabel='Размер заработной платы', ylabel='Частота')\n",
    "axes[0].set_title('Распределение заработной платы по всем специальностям ($)')\n",
    "axes[0].axvline(data['salary'].mean(), color='red', linestyle='--', linewidth=0.8)\n",
    "\n",
    "sns.boxplot(data['salary_in_usd'], ax=axes[1], orient='h', medianprops={\"color\": \"red\", \"linestyle\": '--'})\n",
    "axes[1].set(ylabel='Размер заработной платы')\n",
    "axes[1].set_title('Распределение заработной платы по всем специальностям ($)')\n",
    "\n",
    "plt.show()"
   ]
  },
  {
   "cell_type": "code",
   "execution_count": 16,
   "metadata": {},
   "outputs": [
    {
     "data": {
      "text/plain": [
       "count       565.0\n",
       "mean     110610.0\n",
       "std       72281.0\n",
       "min        2859.0\n",
       "25%       60757.0\n",
       "50%      100000.0\n",
       "75%      150000.0\n",
       "max      600000.0\n",
       "Name: salary_in_usd, dtype: float64"
      ]
     },
     "execution_count": 16,
     "metadata": {},
     "output_type": "execute_result"
    }
   ],
   "source": [
    "# анализ данных по заработной плате \n",
    "data['salary_in_usd'].describe().round(0)"
   ]
  },
  {
   "cell_type": "code",
   "execution_count": 17,
   "metadata": {},
   "outputs": [
    {
     "data": {
      "text/plain": [
       "100000.0"
      ]
     },
     "execution_count": 17,
     "metadata": {},
     "output_type": "execute_result"
    }
   ],
   "source": [
    "# находим медиану по заработной плате\n",
    "data['salary_in_usd'].median()"
   ]
  },
  {
   "cell_type": "markdown",
   "metadata": {},
   "source": [
    "Распределение заработной платы по всем специальностям отлично от нормального\n",
    "- на гистограмме средняя смещена вправо и равна 110 610 $<br>\n",
    "- коробчатая диаграмма показывает, что медиана и средняя не совпадают.<br>\n",
    "Это подтверждает то, что распределение значений отлично от нормального.<br>\n",
    "Также видны выбросы."
   ]
  },
  {
   "cell_type": "markdown",
   "metadata": {},
   "source": [
    "### Анализ данных, которые могут влиять на заработную плату"
   ]
  },
  {
   "cell_type": "code",
   "execution_count": 18,
   "metadata": {},
   "outputs": [
    {
     "data": {
      "text/plain": [
       "<AxesSubplot:>"
      ]
     },
     "execution_count": 18,
     "metadata": {},
     "output_type": "execute_result"
    },
    {
     "data": {
      "image/png": "[encoded data removed]",
      "text/plain": [
       "<Figure size 432x288 with 2 Axes>"
      ]
     },
     "metadata": {},
     "output_type": "display_data"
    }
   ],
   "source": [
    "# проведем корреляцию данных по методу Кендалла, т.к. данные распределены ненормально.\n",
    "sns.heatmap(data.corr(method = 'kendall'), annot = True)"
   ]
  },
  {
   "cell_type": "markdown",
   "metadata": {},
   "source": [
    "Корреляция показывает, наблюдается слабая связь заработной платы в долларах с годом, когда она была выплачена и сильная связь между заработной платы в долларах и заработной платы общая выплаченная валовая сумма заработной платы."
   ]
  },
  {
   "cell_type": "markdown",
   "metadata": {},
   "source": [
    "Создадим функции по определению нормальности данных и верности гипотиз. <br> Зададим alpha = 5%"
   ]
  },
  {
   "cell_type": "code",
   "execution_count": 28,
   "metadata": {},
   "outputs": [],
   "source": [
    "# функция для принятия решения о нормальности данных\n",
    "def decision_normality(p):\n",
    "    print(f\"p-value = {p:.3f}\")\n",
    "    if p <= alpha:\n",
    "        print(f\"р-значение меньше, чем заданный уровень значимости {alpha:.2}. Распределение отлично от нормального.\")\n",
    "    else:\n",
    "        print(f\"р-значение больше, чем заданный уровень значимости {alpha:.2}. Распределение является нормальным.\")\n",
    "\n",
    "# функция для принятия решения об отклонении нулевй гипотизы\n",
    "def decision_gipothesis(p):\n",
    "    print(f\"p-value = {p:.3f}\")\n",
    "    if p <= alpha:\n",
    "        print(f\"р-значение меньше, чем заданный уровень значимости {alpha:.2}. Отвергаем нулевую гипотезу в пользу альтернативной.\")\n",
    "    else:\n",
    "        print(f\"р-значение больше, чем заданный уровень значимости {alpha:.2}. У нас нет оснований отвергнуть нулевую гипотезу.\")\n",
    "\n",
    "# задаем уровень значимости 5%\n",
    "alpha = 0.05"
   ]
  },
  {
   "cell_type": "markdown",
   "metadata": {},
   "source": [
    "### Наблюдается ли ежегодный рост зарплат специалистов Data Scientist?\n",
    "\n",
    "**Сформулируем нулевую и альтернативные гипотезы**\n",
    "\n",
    "*Нулевая гипотеза* ($H_0$): ежегодного роста зарплат специалистов Data Scientist не наблюдается.\n",
    "\n",
    "$$ H_0 : μ_1 = μ_2 = μ_3$$\n",
    "\n",
    "*Альтернативная гипотеза* ($H_1$): наблюдается статистический ежегодный рост зарплат специалистов Data Scientist.\n",
    "\n",
    "$$ H_1 : μ_1 > μ_2 > μ_3$$"
   ]
  },
  {
   "cell_type": "code",
   "execution_count": 20,
   "metadata": {},
   "outputs": [
    {
     "data": {
      "text/plain": [
       "2022    65\n",
       "2021    44\n",
       "2020    21\n",
       "Name: work_year, dtype: int64"
      ]
     },
     "execution_count": 20,
     "metadata": {},
     "output_type": "execute_result"
    }
   ],
   "source": [
    "# создаем дата-сет по должности Data Scientist\n",
    "data_DS = data[data.job_title == 'Data Scientist']\n",
    "data_DS['work_year'].value_counts()\n",
    "# в выборке представлены данны по заработной плате за три года: 2022, 2021, 2020"
   ]
  },
  {
   "cell_type": "code",
   "execution_count": 21,
   "metadata": {},
   "outputs": [
    {
     "data": {
      "image/png": "[encoded data removed]",
      "text/plain": [
       "<Figure size 1080x576 with 1 Axes>"
      ]
     },
     "metadata": {},
     "output_type": "display_data"
    }
   ],
   "source": [
    "# Строим коробчатые диаграммы распределения заработной платы в зависимости от года\n",
    "plt.figure(figsize=(15, 8))\n",
    "ax = sns.boxplot(data=data_DS, x=\"salary_in_usd\", y=\"work_year\", orient='h', medianprops={\"color\": \"red\", \"linestyle\": '--'})\n",
    "ax.set(xlabel='Размер заработной платы', ylabel='Год выплаты')\n",
    "plt.title('Распределение заработной платы в зависимости от года')\n",
    "plt.show()"
   ]
  },
  {
   "cell_type": "markdown",
   "metadata": {},
   "source": [
    "На диаграмме видно, что бокс \"2021\" незначительно сместилась ввлево относительно бокса \"2020\", а бокс \"2022\" значительно сместился вправо относительно боксов \"2020\" и \"2021\". Медианы боксов смещаются в каждом последующем боксе правее - это видно также в таблице ниже \"Заработная плата в зависимости от года выплаты\". <br> Имеется выброс, не будем обращать на него внимание."
   ]
  },
  {
   "cell_type": "code",
   "execution_count": 22,
   "metadata": {},
   "outputs": [
    {
     "name": "stdout",
     "output_type": "stream",
     "text": [
      "Медиана заработной платы в зависимости от года выплаты\n"
     ]
    },
    {
     "data": {
      "text/plain": [
       "work_year\n",
       "2020     62726.0\n",
       "2021     67233.5\n",
       "2022    135000.0\n",
       "Name: salary_in_usd, dtype: float64"
      ]
     },
     "execution_count": 22,
     "metadata": {},
     "output_type": "execute_result"
    }
   ],
   "source": [
    "data_DS_agg=data_DS.groupby('work_year')['salary_in_usd'].median().round(2)\n",
    "print('Медиана заработной платы в зависимости от года выплаты')\n",
    "data_DS_agg"
   ]
  },
  {
   "cell_type": "markdown",
   "metadata": {},
   "source": [
    "Предварительный вывод: у специалистов Data Scientist наблюдается ежегодный рост заработной платы. <br> Проверим это предположение с помощью статистических тестов."
   ]
  },
  {
   "cell_type": "markdown",
   "metadata": {},
   "source": [
    "**Проверка на нормальность**\n",
    "\n",
    "С помощью теста Шапиро-Уилка проверим, распределён ли признак нормально. Гипотезы теста Шапиро-Уилка:\n",
    "\n",
    "*Нулевая гипотеза* ($H_0$): распределение данные является нормальным.\n",
    "\n",
    "*Альтернативная гипотеза* ($H_1$): распределение данных отлично от нормального."
   ]
  },
  {
   "cell_type": "code",
   "execution_count": 44,
   "metadata": {},
   "outputs": [
    {
     "name": "stdout",
     "output_type": "stream",
     "text": [
      "\n",
      "Для заработной платы в 2020 году:\n",
      "p-value = 0.000\n",
      "р-значение меньше, чем заданный уровень значимости 0.05. Распределение отлично от нормального.\n",
      "\n",
      "Для заработной платы в 2021 году:\n",
      "p-value = 0.107\n",
      "р-значение больше, чем заданный уровень значимости 0.05. Распределение является нормальным.\n",
      "\n",
      "Для заработной платы в 2022 году:\n",
      "p-value = 0.676\n",
      "р-значение больше, чем заданный уровень значимости 0.05. Распределение является нормальным.\n"
     ]
    }
   ],
   "source": [
    "# значения заработной платы по годам\n",
    "salary_DS_2020 = data_DS.loc[data_DS['work_year']==2020, 'salary_in_usd']\n",
    "salary_DS_2021 = data_DS.loc[data_DS['work_year']==2021, 'salary_in_usd']\n",
    "salary_DS_2022 = data_DS.loc[data_DS['work_year']==2022, 'salary_in_usd']\n",
    "\n",
    "# проводим тест Шапиро-Уилка\n",
    "print('\\n' + 'Для заработной платы в 2020 году:')\n",
    "result = stats.shapiro(salary_DS_2020)\n",
    "decision_normality(result[1])\n",
    "\n",
    "print('\\n' + 'Для заработной платы в 2021 году:')\n",
    "result = stats.shapiro(salary_DS_2021)\n",
    "decision_normality(result[1])\n",
    "\n",
    "print('\\n' + 'Для заработной платы в 2022 году:')\n",
    "result = stats.shapiro(salary_DS_2022)\n",
    "decision_normality(result[1])"
   ]
  },
  {
   "cell_type": "code",
   "execution_count": 46,
   "metadata": {},
   "outputs": [
    {
     "data": {
      "text/plain": [
       "292    130000\n",
       "293     90000\n",
       "298    136620\n",
       "299     99360\n",
       "300    117789\n",
       "        ...  \n",
       "559    140400\n",
       "570    210000\n",
       "593    150000\n",
       "598    160000\n",
       "599    130000\n",
       "Name: salary_in_usd, Length: 65, dtype: int64"
      ]
     },
     "execution_count": 46,
     "metadata": {},
     "output_type": "execute_result"
    }
   ],
   "source": [
    "salary_DS_2022"
   ]
  },
  {
   "cell_type": "code",
   "execution_count": null,
   "metadata": {},
   "outputs": [],
   "source": [
    "# для дальнейшего анализа создаём три дата-сета по каждому году отдельно\n",
    "#data_DS_2020 = data_DS[data_DS.work_year == 2020]\n",
    "#data_DS_2021 = data_DS[data_DS.work_year == 2021]\n",
    "#data_DS_2022 = data_DS[data_DS.work_year == 2022]\n",
    "#data_DS_2022.info()"
   ]
  },
  {
   "cell_type": "markdown",
   "metadata": {},
   "source": [
    "### Анализ распределения заработной платы для Data Scientist & Data Engineer"
   ]
  },
  {
   "cell_type": "code",
   "execution_count": null,
   "metadata": {},
   "outputs": [
    {
     "data": {
      "text/plain": [
       "'Количество специальностей в дата-сете - 50'"
      ]
     },
     "metadata": {},
     "output_type": "display_data"
    },
    {
     "name": "stdout",
     "output_type": "stream",
     "text": [
      "<class 'pandas.core.frame.DataFrame'>\n",
      "RangeIndex: 251 entries, 0 to 250\n",
      "Data columns (total 11 columns):\n",
      " #   Column              Non-Null Count  Dtype \n",
      "---  ------              --------------  ----- \n",
      " 0   work_year           251 non-null    int64 \n",
      " 1   experience_level    251 non-null    object\n",
      " 2   employment_type     251 non-null    object\n",
      " 3   job_title           251 non-null    object\n",
      " 4   salary              251 non-null    int64 \n",
      " 5   salary_currency     251 non-null    object\n",
      " 6   salary_in_usd       251 non-null    int64 \n",
      " 7   employee_residence  251 non-null    object\n",
      " 8   remote_ratio        251 non-null    int64 \n",
      " 9   company_location    251 non-null    object\n",
      " 10  company_size        251 non-null    object\n",
      "dtypes: int64(4), object(7)\n",
      "memory usage: 21.7+ KB\n"
     ]
    }
   ],
   "source": [
    "# В дата-сете представлены данные по 50 специальностям. \n",
    "display(f\"Количество специальностей в дата-сете - {data['job_title'].nunique()}\")\n",
    "\n",
    "# Создадим выборку только для Data Scientist и Data Engineer\n",
    "data_DS_DE = data[(data.job_title == 'Data Scientist') | (data.job_title == 'Data Engineer')]\n",
    "data_DS_DE.reset_index(drop=True, inplace=True) # сброс идекса строк\n",
    "data_DS_DE.info() # В выборке 251 строка, 11 столбцов"
   ]
  },
  {
   "cell_type": "code",
   "execution_count": null,
   "metadata": {},
   "outputs": [],
   "source": []
  },
  {
   "cell_type": "code",
   "execution_count": null,
   "metadata": {},
   "outputs": [
    {
     "data": {
      "image/png": "[encoded data removed]",
      "text/plain": [
       "<Figure size 1080x576 with 1 Axes>"
      ]
     },
     "metadata": {},
     "output_type": "display_data"
    }
   ],
   "source": [
    "# Строим коробчатые диаграммы для DS & DE в зависимости от заработной платы\n",
    "plt.figure(figsize=(15, 8))\n",
    "ax = sns.boxplot(data=data_DS_DE, x=\"salary_in_usd\", y=\"job_title\", orient='h', medianprops={\"color\": \"red\", \"linestyle\": '--'})\n",
    "ax.set(xlabel='Размер заработной платы', ylabel='Специальность')\n",
    "plt.title('Распределение заработной платы по специальностям DS & DE')\n",
    "plt.show()"
   ]
  },
  {
   "cell_type": "markdown",
   "metadata": {},
   "source": [
    "На диаграмме видно, что коробка DE немного уже и смещена правее, чем коробка DS, однако медианы почти совпали - это видно ниже в таблице \"Заработная плата в зависимости от специальности\". <br> Имеются выбросы, удалим их."
   ]
  },
  {
   "cell_type": "code",
   "execution_count": null,
   "metadata": {},
   "outputs": [
    {
     "name": "stdout",
     "output_type": "stream",
     "text": [
      "Заработная плата в зависимости от специальности\n"
     ]
    },
    {
     "data": {
      "text/html": [
       "<div>\n",
       "<style scoped>\n",
       "    .dataframe tbody tr th:only-of-type {\n",
       "        vertical-align: middle;\n",
       "    }\n",
       "\n",
       "    .dataframe tbody tr th {\n",
       "        vertical-align: top;\n",
       "    }\n",
       "\n",
       "    .dataframe thead th {\n",
       "        text-align: right;\n",
       "    }\n",
       "</style>\n",
       "<table border=\"1\" class=\"dataframe\">\n",
       "  <thead>\n",
       "    <tr style=\"text-align: right;\">\n",
       "      <th></th>\n",
       "      <th>count</th>\n",
       "      <th>mean</th>\n",
       "      <th>std</th>\n",
       "      <th>min</th>\n",
       "      <th>25%</th>\n",
       "      <th>50%</th>\n",
       "      <th>75%</th>\n",
       "      <th>max</th>\n",
       "    </tr>\n",
       "    <tr>\n",
       "      <th>job_title</th>\n",
       "      <th></th>\n",
       "      <th></th>\n",
       "      <th></th>\n",
       "      <th></th>\n",
       "      <th></th>\n",
       "      <th></th>\n",
       "      <th></th>\n",
       "      <th></th>\n",
       "    </tr>\n",
       "  </thead>\n",
       "  <tbody>\n",
       "    <tr>\n",
       "      <th>Data Engineer</th>\n",
       "      <td>121.0</td>\n",
       "      <td>109750.03</td>\n",
       "      <td>58203.68</td>\n",
       "      <td>4000.0</td>\n",
       "      <td>66022.00</td>\n",
       "      <td>100800.0</td>\n",
       "      <td>150000.0</td>\n",
       "      <td>324000.0</td>\n",
       "    </tr>\n",
       "    <tr>\n",
       "      <th>Data Scientist</th>\n",
       "      <td>130.0</td>\n",
       "      <td>103336.35</td>\n",
       "      <td>63967.56</td>\n",
       "      <td>2859.0</td>\n",
       "      <td>50330.25</td>\n",
       "      <td>100000.0</td>\n",
       "      <td>140400.0</td>\n",
       "      <td>412000.0</td>\n",
       "    </tr>\n",
       "  </tbody>\n",
       "</table>\n",
       "</div>"
      ],
      "text/plain": [
       "                count       mean       std     min       25%       50%  \\\n",
       "job_title                                                                \n",
       "Data Engineer   121.0  109750.03  58203.68  4000.0  66022.00  100800.0   \n",
       "Data Scientist  130.0  103336.35  63967.56  2859.0  50330.25  100000.0   \n",
       "\n",
       "                     75%       max  \n",
       "job_title                           \n",
       "Data Engineer   150000.0  324000.0  \n",
       "Data Scientist  140400.0  412000.0  "
      ]
     },
     "execution_count": 18,
     "metadata": {},
     "output_type": "execute_result"
    }
   ],
   "source": [
    "data_DS_DE_agg=data_DS_DE.groupby('job_title')['salary_in_usd'].describe().round(2)\n",
    "print('Заработная плата в зависимости от специальности')\n",
    "data_DS_DE_agg"
   ]
  },
  {
   "cell_type": "markdown",
   "metadata": {},
   "source": [
    "Удаление выбросов"
   ]
  },
  {
   "cell_type": "code",
   "execution_count": null,
   "metadata": {},
   "outputs": [
    {
     "data": {
      "image/png": "[encoded data removed]",
      "text/plain": [
       "<Figure size 1080x576 with 1 Axes>"
      ]
     },
     "metadata": {},
     "output_type": "display_data"
    }
   ],
   "source": [
    "# удалим записи, где заработная плата в долларах больше 300 тыс.$\n",
    "data_DS_DE = data_DS_DE[data_DS_DE['salary_in_usd'] < 3e+05]\n",
    "\n",
    "# Строим коробчатые диаграммы для DS & DE в зависимости от\n",
    "plt.figure(figsize=(15, 8))\n",
    "ax = sns.boxplot(data=data_DS_DE, x=\"salary_in_usd\", y=\"job_title\", orient='h', medianprops={\"color\": \"red\", \"linestyle\": '--'})\n",
    "ax.set(xlabel='Размер заработной платы', ylabel='Специальность')\n",
    "plt.title('Распределение заработной платы по специальностям DS & DE')\n",
    "plt.show()"
   ]
  },
  {
   "cell_type": "markdown",
   "metadata": {},
   "source": [
    "Диаграммы не изменились, но выбросы удалены."
   ]
  },
  {
   "cell_type": "markdown",
   "metadata": {},
   "source": []
  },
  {
   "cell_type": "code",
   "execution_count": null,
   "metadata": {},
   "outputs": [
    {
     "data": {
      "text/html": [
       "<div>\n",
       "<style scoped>\n",
       "    .dataframe tbody tr th:only-of-type {\n",
       "        vertical-align: middle;\n",
       "    }\n",
       "\n",
       "    .dataframe tbody tr th {\n",
       "        vertical-align: top;\n",
       "    }\n",
       "\n",
       "    .dataframe thead th {\n",
       "        text-align: right;\n",
       "    }\n",
       "</style>\n",
       "<table border=\"1\" class=\"dataframe\">\n",
       "  <thead>\n",
       "    <tr style=\"text-align: right;\">\n",
       "      <th></th>\n",
       "      <th>work_year</th>\n",
       "      <th>experience_level</th>\n",
       "      <th>employment_type</th>\n",
       "      <th>job_title</th>\n",
       "      <th>salary</th>\n",
       "      <th>salary_currency</th>\n",
       "      <th>salary_in_usd</th>\n",
       "      <th>employee_residence</th>\n",
       "      <th>remote_ratio</th>\n",
       "      <th>company_location</th>\n",
       "      <th>company_size</th>\n",
       "    </tr>\n",
       "  </thead>\n",
       "  <tbody>\n",
       "    <tr>\n",
       "      <th>0</th>\n",
       "      <td>2020</td>\n",
       "      <td>MI</td>\n",
       "      <td>FT</td>\n",
       "      <td>Data Scientist</td>\n",
       "      <td>70000</td>\n",
       "      <td>EUR</td>\n",
       "      <td>79833</td>\n",
       "      <td>DE</td>\n",
       "      <td>0</td>\n",
       "      <td>DE</td>\n",
       "      <td>L</td>\n",
       "    </tr>\n",
       "    <tr>\n",
       "      <th>1</th>\n",
       "      <td>2020</td>\n",
       "      <td>MI</td>\n",
       "      <td>FT</td>\n",
       "      <td>Data Scientist</td>\n",
       "      <td>11000000</td>\n",
       "      <td>HUF</td>\n",
       "      <td>35735</td>\n",
       "      <td>HU</td>\n",
       "      <td>50</td>\n",
       "      <td>HU</td>\n",
       "      <td>L</td>\n",
       "    </tr>\n",
       "    <tr>\n",
       "      <th>2</th>\n",
       "      <td>2020</td>\n",
       "      <td>EN</td>\n",
       "      <td>FT</td>\n",
       "      <td>Data Scientist</td>\n",
       "      <td>45000</td>\n",
       "      <td>EUR</td>\n",
       "      <td>51321</td>\n",
       "      <td>FR</td>\n",
       "      <td>0</td>\n",
       "      <td>FR</td>\n",
       "      <td>S</td>\n",
       "    </tr>\n",
       "    <tr>\n",
       "      <th>3</th>\n",
       "      <td>2020</td>\n",
       "      <td>MI</td>\n",
       "      <td>FT</td>\n",
       "      <td>Data Scientist</td>\n",
       "      <td>3000000</td>\n",
       "      <td>INR</td>\n",
       "      <td>40481</td>\n",
       "      <td>IN</td>\n",
       "      <td>0</td>\n",
       "      <td>IN</td>\n",
       "      <td>L</td>\n",
       "    </tr>\n",
       "    <tr>\n",
       "      <th>4</th>\n",
       "      <td>2020</td>\n",
       "      <td>EN</td>\n",
       "      <td>FT</td>\n",
       "      <td>Data Scientist</td>\n",
       "      <td>35000</td>\n",
       "      <td>EUR</td>\n",
       "      <td>39916</td>\n",
       "      <td>FR</td>\n",
       "      <td>0</td>\n",
       "      <td>FR</td>\n",
       "      <td>M</td>\n",
       "    </tr>\n",
       "  </tbody>\n",
       "</table>\n",
       "</div>"
      ],
      "text/plain": [
       "   work_year experience_level employment_type       job_title    salary  \\\n",
       "0       2020               MI              FT  Data Scientist     70000   \n",
       "1       2020               MI              FT  Data Scientist  11000000   \n",
       "2       2020               EN              FT  Data Scientist     45000   \n",
       "3       2020               MI              FT  Data Scientist   3000000   \n",
       "4       2020               EN              FT  Data Scientist     35000   \n",
       "\n",
       "  salary_currency  salary_in_usd employee_residence  remote_ratio  \\\n",
       "0             EUR          79833                 DE             0   \n",
       "1             HUF          35735                 HU            50   \n",
       "2             EUR          51321                 FR             0   \n",
       "3             INR          40481                 IN             0   \n",
       "4             EUR          39916                 FR             0   \n",
       "\n",
       "  company_location company_size  \n",
       "0               DE            L  \n",
       "1               HU            L  \n",
       "2               FR            S  \n",
       "3               IN            L  \n",
       "4               FR            M  "
      ]
     },
     "execution_count": 20,
     "metadata": {},
     "output_type": "execute_result"
    }
   ],
   "source": [
    "data_DS_DE.head()"
   ]
  },
  {
   "cell_type": "code",
   "execution_count": null,
   "metadata": {},
   "outputs": [
    {
     "data": {
      "text/plain": [
       "MI    110\n",
       "SE    102\n",
       "EN     34\n",
       "EX      3\n",
       "Name: experience_level, dtype: int64"
      ]
     },
     "execution_count": 21,
     "metadata": {},
     "output_type": "execute_result"
    }
   ],
   "source": [
    "data_DS_DE[\"experience_level\"].value_counts()"
   ]
  },
  {
   "cell_type": "markdown",
   "metadata": {},
   "source": [
    "Тестирование"
   ]
  },
  {
   "cell_type": "code",
   "execution_count": null,
   "metadata": {},
   "outputs": [],
   "source": [
    "#df['col'] = df['col'].apply ( lambda x: ' value1 ' if x < 20 else ' value2')\n",
    "\n",
    "data_DS_DE['job_title'] = data_DS_DE['job_title'].apply (lambda x: 'DS' if x == 'Data Scientist' else 'DE')"
   ]
  },
  {
   "cell_type": "code",
   "execution_count": null,
   "metadata": {},
   "outputs": [
    {
     "data": {
      "text/plain": [
       "DS    129\n",
       "DE    120\n",
       "Name: job_title, dtype: int64"
      ]
     },
     "execution_count": 23,
     "metadata": {},
     "output_type": "execute_result"
    }
   ],
   "source": [
    "data_DS_DE[\"job_title\"].value_counts()"
   ]
  },
  {
   "cell_type": "code",
   "execution_count": null,
   "metadata": {},
   "outputs": [
    {
     "data": {
      "image/png": "[encoded data removed]",
      "text/plain": [
       "<Figure size 1080x576 with 1 Axes>"
      ]
     },
     "metadata": {},
     "output_type": "display_data"
    }
   ],
   "source": [
    "# Строим коробчатые диаграммы для DS & DE\n",
    "plt.figure(figsize=(15, 8))\n",
    "ax = sns.boxplot(data=data_DS_DE, x=\"salary_in_usd\", y=\"job_title\", orient='h', medianprops={\"color\": \"red\", \"linestyle\": '--'})\n",
    "ax.set(xlabel='Размер заработной платы', ylabel='Специальность')\n",
    "plt.title('Распределение заработной платы по специальностям DS & DE')\n",
    "plt.show()"
   ]
  },
  {
   "cell_type": "code",
   "execution_count": null,
   "metadata": {},
   "outputs": [
    {
     "data": {
      "text/plain": [
       "50"
      ]
     },
     "metadata": {},
     "output_type": "display_data"
    }
   ],
   "source": [
    "display(data['job_title'].nunique())"
   ]
  },
  {
   "cell_type": "code",
   "execution_count": null,
   "metadata": {},
   "outputs": [
    {
     "data": {
      "text/html": [
       "<div>\n",
       "<style scoped>\n",
       "    .dataframe tbody tr th:only-of-type {\n",
       "        vertical-align: middle;\n",
       "    }\n",
       "\n",
       "    .dataframe tbody tr th {\n",
       "        vertical-align: top;\n",
       "    }\n",
       "\n",
       "    .dataframe thead th {\n",
       "        text-align: right;\n",
       "    }\n",
       "</style>\n",
       "<table border=\"1\" class=\"dataframe\">\n",
       "  <thead>\n",
       "    <tr style=\"text-align: right;\">\n",
       "      <th></th>\n",
       "      <th>work_year</th>\n",
       "      <th>experience_level</th>\n",
       "      <th>employment_type</th>\n",
       "      <th>job_title</th>\n",
       "      <th>salary</th>\n",
       "      <th>salary_currency</th>\n",
       "      <th>salary_in_usd</th>\n",
       "      <th>employee_residence</th>\n",
       "      <th>remote_ratio</th>\n",
       "      <th>company_location</th>\n",
       "      <th>company_size</th>\n",
       "    </tr>\n",
       "  </thead>\n",
       "  <tbody>\n",
       "    <tr>\n",
       "      <th>16</th>\n",
       "      <td>2020</td>\n",
       "      <td>EN</td>\n",
       "      <td>FT</td>\n",
       "      <td>Data Engineer</td>\n",
       "      <td>4450000</td>\n",
       "      <td>JPY</td>\n",
       "      <td>41689</td>\n",
       "      <td>JP</td>\n",
       "      <td>100</td>\n",
       "      <td>JP</td>\n",
       "      <td>S</td>\n",
       "    </tr>\n",
       "    <tr>\n",
       "      <th>22</th>\n",
       "      <td>2020</td>\n",
       "      <td>SE</td>\n",
       "      <td>FT</td>\n",
       "      <td>Data Engineer</td>\n",
       "      <td>42000</td>\n",
       "      <td>EUR</td>\n",
       "      <td>47899</td>\n",
       "      <td>GR</td>\n",
       "      <td>50</td>\n",
       "      <td>GR</td>\n",
       "      <td>L</td>\n",
       "    </tr>\n",
       "    <tr>\n",
       "      <th>27</th>\n",
       "      <td>2020</td>\n",
       "      <td>SE</td>\n",
       "      <td>FT</td>\n",
       "      <td>Data Engineer</td>\n",
       "      <td>720000</td>\n",
       "      <td>MXN</td>\n",
       "      <td>33511</td>\n",
       "      <td>MX</td>\n",
       "      <td>0</td>\n",
       "      <td>MX</td>\n",
       "      <td>S</td>\n",
       "    </tr>\n",
       "    <tr>\n",
       "      <th>35</th>\n",
       "      <td>2020</td>\n",
       "      <td>MI</td>\n",
       "      <td>FT</td>\n",
       "      <td>Data Engineer</td>\n",
       "      <td>65000</td>\n",
       "      <td>EUR</td>\n",
       "      <td>74130</td>\n",
       "      <td>AT</td>\n",
       "      <td>50</td>\n",
       "      <td>AT</td>\n",
       "      <td>L</td>\n",
       "    </tr>\n",
       "    <tr>\n",
       "      <th>43</th>\n",
       "      <td>2020</td>\n",
       "      <td>MI</td>\n",
       "      <td>FT</td>\n",
       "      <td>Data Engineer</td>\n",
       "      <td>106000</td>\n",
       "      <td>USD</td>\n",
       "      <td>106000</td>\n",
       "      <td>US</td>\n",
       "      <td>100</td>\n",
       "      <td>US</td>\n",
       "      <td>L</td>\n",
       "    </tr>\n",
       "    <tr>\n",
       "      <th>...</th>\n",
       "      <td>...</td>\n",
       "      <td>...</td>\n",
       "      <td>...</td>\n",
       "      <td>...</td>\n",
       "      <td>...</td>\n",
       "      <td>...</td>\n",
       "      <td>...</td>\n",
       "      <td>...</td>\n",
       "      <td>...</td>\n",
       "      <td>...</td>\n",
       "      <td>...</td>\n",
       "    </tr>\n",
       "    <tr>\n",
       "      <th>579</th>\n",
       "      <td>2022</td>\n",
       "      <td>SE</td>\n",
       "      <td>FT</td>\n",
       "      <td>Data Engineer</td>\n",
       "      <td>25000</td>\n",
       "      <td>USD</td>\n",
       "      <td>25000</td>\n",
       "      <td>US</td>\n",
       "      <td>100</td>\n",
       "      <td>US</td>\n",
       "      <td>M</td>\n",
       "    </tr>\n",
       "    <tr>\n",
       "      <th>582</th>\n",
       "      <td>2022</td>\n",
       "      <td>SE</td>\n",
       "      <td>FT</td>\n",
       "      <td>Data Engineer</td>\n",
       "      <td>220110</td>\n",
       "      <td>USD</td>\n",
       "      <td>220110</td>\n",
       "      <td>US</td>\n",
       "      <td>100</td>\n",
       "      <td>US</td>\n",
       "      <td>M</td>\n",
       "    </tr>\n",
       "    <tr>\n",
       "      <th>583</th>\n",
       "      <td>2022</td>\n",
       "      <td>SE</td>\n",
       "      <td>FT</td>\n",
       "      <td>Data Engineer</td>\n",
       "      <td>160080</td>\n",
       "      <td>USD</td>\n",
       "      <td>160080</td>\n",
       "      <td>US</td>\n",
       "      <td>100</td>\n",
       "      <td>US</td>\n",
       "      <td>M</td>\n",
       "    </tr>\n",
       "    <tr>\n",
       "      <th>602</th>\n",
       "      <td>2022</td>\n",
       "      <td>SE</td>\n",
       "      <td>FT</td>\n",
       "      <td>Data Engineer</td>\n",
       "      <td>154000</td>\n",
       "      <td>USD</td>\n",
       "      <td>154000</td>\n",
       "      <td>US</td>\n",
       "      <td>100</td>\n",
       "      <td>US</td>\n",
       "      <td>M</td>\n",
       "    </tr>\n",
       "    <tr>\n",
       "      <th>603</th>\n",
       "      <td>2022</td>\n",
       "      <td>SE</td>\n",
       "      <td>FT</td>\n",
       "      <td>Data Engineer</td>\n",
       "      <td>126000</td>\n",
       "      <td>USD</td>\n",
       "      <td>126000</td>\n",
       "      <td>US</td>\n",
       "      <td>100</td>\n",
       "      <td>US</td>\n",
       "      <td>M</td>\n",
       "    </tr>\n",
       "  </tbody>\n",
       "</table>\n",
       "<p>121 rows × 11 columns</p>\n",
       "</div>"
      ],
      "text/plain": [
       "     work_year experience_level employment_type      job_title   salary  \\\n",
       "16        2020               EN              FT  Data Engineer  4450000   \n",
       "22        2020               SE              FT  Data Engineer    42000   \n",
       "27        2020               SE              FT  Data Engineer   720000   \n",
       "35        2020               MI              FT  Data Engineer    65000   \n",
       "43        2020               MI              FT  Data Engineer   106000   \n",
       "..         ...              ...             ...            ...      ...   \n",
       "579       2022               SE              FT  Data Engineer    25000   \n",
       "582       2022               SE              FT  Data Engineer   220110   \n",
       "583       2022               SE              FT  Data Engineer   160080   \n",
       "602       2022               SE              FT  Data Engineer   154000   \n",
       "603       2022               SE              FT  Data Engineer   126000   \n",
       "\n",
       "    salary_currency  salary_in_usd employee_residence  remote_ratio  \\\n",
       "16              JPY          41689                 JP           100   \n",
       "22              EUR          47899                 GR            50   \n",
       "27              MXN          33511                 MX             0   \n",
       "35              EUR          74130                 AT            50   \n",
       "43              USD         106000                 US           100   \n",
       "..              ...            ...                ...           ...   \n",
       "579             USD          25000                 US           100   \n",
       "582             USD         220110                 US           100   \n",
       "583             USD         160080                 US           100   \n",
       "602             USD         154000                 US           100   \n",
       "603             USD         126000                 US           100   \n",
       "\n",
       "    company_location company_size  \n",
       "16                JP            S  \n",
       "22                GR            L  \n",
       "27                MX            S  \n",
       "35                AT            L  \n",
       "43                US            L  \n",
       "..               ...          ...  \n",
       "579               US            M  \n",
       "582               US            M  \n",
       "583               US            M  \n",
       "602               US            M  \n",
       "603               US            M  \n",
       "\n",
       "[121 rows x 11 columns]"
      ]
     },
     "execution_count": 26,
     "metadata": {},
     "output_type": "execute_result"
    }
   ],
   "source": [
    "ds = data[data['job_title'] == 'Data Engineer']\n",
    "ds"
   ]
  }
 ],
 "metadata": {
  "kernelspec": {
   "display_name": "Python 3",
   "language": "python",
   "name": "python3"
  },
  "language_info": {
   "codemirror_mode": {
    "name": "ipython",
    "version": 3
   },
   "file_extension": ".py",
   "mimetype": "text/x-python",
   "name": "python",
   "nbconvert_exporter": "python",
   "pygments_lexer": "ipython3",
   "version": "3.9.7"
  }
 },
 "nbformat": 4,
 "nbformat_minor": 2
}
