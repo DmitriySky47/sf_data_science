{
 "cells": [
  {
   "cell_type": "markdown",
   "metadata": {},
   "source": [
    "## ИССЛЕДОВАНИЕ ДАННЫХ HR-АГЕНТСТВА\n",
    "### HR-агентство изучает тренды на рынке труда в IT. Компания хочет провести исследование на основе данных о зарплатах в сфере Data Science за 2020–2022 годы и получить некоторые выводы.\n",
    "\n",
    "<b>Задачи исследования:</b>\n",
    "\n",
    "Выяснить, какие факторы влияют на зарплату специалиста Data Scientist.\n",
    "А также ответить на ключевые вопросы HR-агентства:\n",
    "- <i>Наблюдается ли ежегодный рост зарплат у специалистов Data Scientist?</i>\n",
    "- <i>Как соотносятся зарплаты Data Scientist и Data Engineer в 2022 году?</i>\n",
    "- <i>Как соотносятся зарплаты специалистов Data Scientist в компаниях различных размеров?</i>\n",
    "- <i>Есть ли связь между наличием должностей Data Scientist и Data Engineer и размером компании?</i>\n",
    "\n",
    "Если вы найдёте в данных интересные закономерности, также отметьте их в своём анализе."
   ]
  },
  {
   "cell_type": "markdown",
   "metadata": {},
   "source": [
    "### Загрузка библиотек и данных"
   ]
  },
  {
   "cell_type": "code",
   "execution_count": 40,
   "metadata": {},
   "outputs": [],
   "source": [
    "# Загрузка библиотек\n",
    "import pandas as pd\n",
    "import numpy as np\n",
    "\n",
    "from scipy import stats\n",
    "import statsmodels.api as sm\n",
    "from statsmodels import stats as sms \n",
    "\n",
    "import matplotlib.pyplot as plt\n",
    "import seaborn as sns\n",
    "\n",
    "# визуальные настройки графиков\n",
    "sns.set_theme('notebook')\n",
    "sns.set_palette('Set2')"
   ]
  },
  {
   "cell_type": "code",
   "execution_count": 41,
   "metadata": {},
   "outputs": [
    {
     "data": {
      "text/html": [
       "<div>\n",
       "<style scoped>\n",
       "    .dataframe tbody tr th:only-of-type {\n",
       "        vertical-align: middle;\n",
       "    }\n",
       "\n",
       "    .dataframe tbody tr th {\n",
       "        vertical-align: top;\n",
       "    }\n",
       "\n",
       "    .dataframe thead th {\n",
       "        text-align: right;\n",
       "    }\n",
       "</style>\n",
       "<table border=\"1\" class=\"dataframe\">\n",
       "  <thead>\n",
       "    <tr style=\"text-align: right;\">\n",
       "      <th></th>\n",
       "      <th>Unnamed: 0</th>\n",
       "      <th>work_year</th>\n",
       "      <th>experience_level</th>\n",
       "      <th>employment_type</th>\n",
       "      <th>job_title</th>\n",
       "      <th>salary</th>\n",
       "      <th>salary_currency</th>\n",
       "      <th>salary_in_usd</th>\n",
       "      <th>employee_residence</th>\n",
       "      <th>remote_ratio</th>\n",
       "      <th>company_location</th>\n",
       "      <th>company_size</th>\n",
       "    </tr>\n",
       "  </thead>\n",
       "  <tbody>\n",
       "    <tr>\n",
       "      <th>0</th>\n",
       "      <td>0</td>\n",
       "      <td>2020</td>\n",
       "      <td>MI</td>\n",
       "      <td>FT</td>\n",
       "      <td>Data Scientist</td>\n",
       "      <td>70000</td>\n",
       "      <td>EUR</td>\n",
       "      <td>79833</td>\n",
       "      <td>DE</td>\n",
       "      <td>0</td>\n",
       "      <td>DE</td>\n",
       "      <td>L</td>\n",
       "    </tr>\n",
       "    <tr>\n",
       "      <th>1</th>\n",
       "      <td>1</td>\n",
       "      <td>2020</td>\n",
       "      <td>SE</td>\n",
       "      <td>FT</td>\n",
       "      <td>Machine Learning Scientist</td>\n",
       "      <td>260000</td>\n",
       "      <td>USD</td>\n",
       "      <td>260000</td>\n",
       "      <td>JP</td>\n",
       "      <td>0</td>\n",
       "      <td>JP</td>\n",
       "      <td>S</td>\n",
       "    </tr>\n",
       "  </tbody>\n",
       "</table>\n",
       "</div>"
      ],
      "text/plain": [
       "   Unnamed: 0  work_year experience_level employment_type  \\\n",
       "0           0       2020               MI              FT   \n",
       "1           1       2020               SE              FT   \n",
       "\n",
       "                    job_title  salary salary_currency  salary_in_usd  \\\n",
       "0              Data Scientist   70000             EUR          79833   \n",
       "1  Machine Learning Scientist  260000             USD         260000   \n",
       "\n",
       "  employee_residence  remote_ratio company_location company_size  \n",
       "0                 DE             0               DE            L  \n",
       "1                 JP             0               JP            S  "
      ]
     },
     "execution_count": 41,
     "metadata": {},
     "output_type": "execute_result"
    }
   ],
   "source": [
    "# Загрузка дата-сета\n",
    "data = pd.read_csv('data/ds_salaries.csv')\n",
    "\n",
    "# иследуем дата-сет\n",
    "data.head(2)"
   ]
  },
  {
   "cell_type": "markdown",
   "metadata": {},
   "source": [
    "### Описательный анализ данных"
   ]
  },
  {
   "cell_type": "code",
   "execution_count": 42,
   "metadata": {},
   "outputs": [
    {
     "name": "stdout",
     "output_type": "stream",
     "text": [
      "<class 'pandas.core.frame.DataFrame'>\n",
      "RangeIndex: 607 entries, 0 to 606\n",
      "Data columns (total 12 columns):\n",
      " #   Column              Non-Null Count  Dtype \n",
      "---  ------              --------------  ----- \n",
      " 0   Unnamed: 0          607 non-null    int64 \n",
      " 1   work_year           607 non-null    int64 \n",
      " 2   experience_level    607 non-null    object\n",
      " 3   employment_type     607 non-null    object\n",
      " 4   job_title           607 non-null    object\n",
      " 5   salary              607 non-null    int64 \n",
      " 6   salary_currency     607 non-null    object\n",
      " 7   salary_in_usd       607 non-null    int64 \n",
      " 8   employee_residence  607 non-null    object\n",
      " 9   remote_ratio        607 non-null    int64 \n",
      " 10  company_location    607 non-null    object\n",
      " 11  company_size        607 non-null    object\n",
      "dtypes: int64(5), object(7)\n",
      "memory usage: 57.0+ KB\n"
     ]
    }
   ],
   "source": [
    "# исследуем инормацию о файле: размер, пропуски, типы данных\n",
    "data.info()\n",
    "\n",
    "# Дата-сет: 12 столбцов 607 строк, пропущенные значения отсутствуют, 5 столбцов с цифровыми данными и 7 столбцов с категориальными данными"
   ]
  },
  {
   "cell_type": "markdown",
   "metadata": {},
   "source": [
    "### Очистка данных в дата-сете"
   ]
  },
  {
   "cell_type": "code",
   "execution_count": 43,
   "metadata": {},
   "outputs": [],
   "source": [
    "# Удаление столбца Unnamed по индексу столбца, т.к. он дублирует id строк в дата-сете и будет препятствовать поиску полных дубликатов в дата-сете\n",
    "data.drop(data.columns[[0]], axis=1, inplace=True)"
   ]
  },
  {
   "cell_type": "code",
   "execution_count": 44,
   "metadata": {},
   "outputs": [
    {
     "data": {
      "text/plain": [
       "42"
      ]
     },
     "execution_count": 44,
     "metadata": {},
     "output_type": "execute_result"
    }
   ],
   "source": [
    "# Проверка данных на наличие дубликатов\n",
    "data_dupl = data[data.duplicated()].shape[0]\n",
    "data_dupl\n",
    "\n",
    "# В дата-сете имеется 42 дубликата"
   ]
  },
  {
   "cell_type": "code",
   "execution_count": 45,
   "metadata": {},
   "outputs": [
    {
     "data": {
      "text/plain": [
       "'Размер дата-сета после удаления дубликатов (565, 11)'"
      ]
     },
     "metadata": {},
     "output_type": "display_data"
    }
   ],
   "source": [
    "# Удаляем дубликаты и выводим информацию об обновлённом дата-сете\n",
    "data = data.drop_duplicates()\n",
    "display(f\"Размер дата-сета после удаления дубликатов {data.shape}\")"
   ]
  },
  {
   "cell_type": "markdown",
   "metadata": {},
   "source": [
    "### Анализ распределения заработной платы по всем специальностям"
   ]
  },
  {
   "cell_type": "code",
   "execution_count": 46,
   "metadata": {},
   "outputs": [
    {
     "name": "stderr",
     "output_type": "stream",
     "text": [
      "c:\\Users\\dmitr\\AppData\\Local\\Programs\\Python\\Python39\\lib\\site-packages\\seaborn\\_decorators.py:36: FutureWarning: Pass the following variable as a keyword arg: x. From version 0.12, the only valid positional argument will be `data`, and passing other arguments without an explicit keyword will result in an error or misinterpretation.\n",
      "  warnings.warn(\n"
     ]
    },
    {
     "data": {
      "image/png": "[encoded data removed]",
      "text/plain": [
       "<Figure size 1800x360 with 2 Axes>"
      ]
     },
     "metadata": {},
     "output_type": "display_data"
    }
   ],
   "source": [
    "fig, axes = plt.subplots(1, 2, figsize=(25, 5))\n",
    "\n",
    "sns.histplot(data['salary_in_usd'], kde=True, ax=axes[0])\n",
    "axes[0].set(xlabel='Размер заработной платы', ylabel='Частота')\n",
    "axes[0].set_title('Распределение заработной платы по всем специальностям ($)')\n",
    "axes[0].axvline(data['salary'].mean(), color='red', linestyle='--', linewidth=0.8)\n",
    "\n",
    "sns.boxplot(data['salary_in_usd'], ax=axes[1], orient='h', medianprops={\"color\": \"red\", \"linestyle\": '--'})\n",
    "axes[1].set(ylabel='Размер заработной платы')\n",
    "axes[1].set_title('Распределение заработной платы по всем специальностям ($)')\n",
    "\n",
    "plt.show()\n",
    "\n"
   ]
  },
  {
   "cell_type": "code",
   "execution_count": 47,
   "metadata": {},
   "outputs": [
    {
     "data": {
      "text/plain": [
       "count       565.0\n",
       "mean     110610.0\n",
       "std       72281.0\n",
       "min        2859.0\n",
       "25%       60757.0\n",
       "50%      100000.0\n",
       "75%      150000.0\n",
       "max      600000.0\n",
       "Name: salary_in_usd, dtype: float64"
      ]
     },
     "execution_count": 47,
     "metadata": {},
     "output_type": "execute_result"
    }
   ],
   "source": [
    "# анализ данных по заработной плате \n",
    "data['salary_in_usd'].describe().round(0)"
   ]
  },
  {
   "cell_type": "code",
   "execution_count": 48,
   "metadata": {},
   "outputs": [
    {
     "data": {
      "text/plain": [
       "100000.0"
      ]
     },
     "execution_count": 48,
     "metadata": {},
     "output_type": "execute_result"
    }
   ],
   "source": [
    "# находим медиану по заработной плате\n",
    "data['salary_in_usd'].median()"
   ]
  },
  {
   "cell_type": "markdown",
   "metadata": {},
   "source": [
    "Распределение заработной платы по всем специальностям отлично от нормального\n",
    "- на гистограмме средняя смещена вправо и равна 110 610 $<br>\n",
    "- коробчатая диаграмма показывает, что медиана и средняя не совпадают.<br>\n",
    "Это подтверждает то, что распределение значений отлично от нормального.<br>\n",
    "Также видны выбросы."
   ]
  },
  {
   "cell_type": "markdown",
   "metadata": {},
   "source": [
    "### Анализ данных, которые могут влиять на заработную плату"
   ]
  },
  {
   "cell_type": "code",
   "execution_count": 49,
   "metadata": {},
   "outputs": [
    {
     "data": {
      "text/plain": [
       "<AxesSubplot:>"
      ]
     },
     "execution_count": 49,
     "metadata": {},
     "output_type": "execute_result"
    },
    {
     "data": {
      "image/png": "[encoded data removed]",
      "text/plain": [
       "<Figure size 432x288 with 2 Axes>"
      ]
     },
     "metadata": {},
     "output_type": "display_data"
    }
   ],
   "source": [
    "# проведем корреляцию данных по методу Кендалла, т.к. данные распределены ненормально.\n",
    "sns.heatmap(data.corr(method = 'kendall'), annot = True)"
   ]
  },
  {
   "cell_type": "markdown",
   "metadata": {},
   "source": [
    "Корреляция показывает, наблюдается слабая связь заработной платы в долларах с годом, когда она была выплачена и сильная связь между заработной платы в долларах и заработной платы общая выплаченная валовая сумма заработной платы."
   ]
  },
  {
   "cell_type": "markdown",
   "metadata": {},
   "source": [
    "Создадим функции по определению нормальности данных и верности гипотиз. <br> Зададим alpha = 5%"
   ]
  },
  {
   "cell_type": "code",
   "execution_count": 50,
   "metadata": {},
   "outputs": [],
   "source": [
    "# функция для принятия решения о нормальности данных\n",
    "def decision_normality(p):\n",
    "    print(f\"p-value = {p:.3f}\")\n",
    "    if p <= alpha:\n",
    "        print(f\"р-значение меньше, чем заданный уровень значимости {alpha:.2}. Распределение отлично от нормального.\")\n",
    "    else:\n",
    "        print(f\"р-значение больше, чем заданный уровень значимости {alpha:.2}. Распределение является нормальным.\")\n",
    "\n",
    "# функция для принятия решения об отклонении нулевй гипотизы\n",
    "def decision_gipothesis(p):\n",
    "    print(f\"p-value = {p:.3f}\")\n",
    "    if p <= alpha:\n",
    "        print(f\"р-значение меньше, чем заданный уровень значимости {alpha:.2}. Отвергаем нулевую гипотезу в пользу альтернативной.\")\n",
    "    else:\n",
    "        print(f\"р-значение больше, чем заданный уровень значимости {alpha:.2}. У нас нет оснований отвергнуть нулевую гипотезу.\")\n",
    "\n",
    "# задаем уровень значимости 5%\n",
    "alpha = 0.05"
   ]
  },
  {
   "cell_type": "markdown",
   "metadata": {},
   "source": [
    "### 1. Наблюдается ли ежегодный рост зарплат специалистов Data Scientist?\n",
    "\n",
    "**Сформулируем нулевую и альтернативные гипотезы**\n",
    "\n",
    "*Нулевая гипотеза* ($H_0$): ежегодного роста зарплат специалистов Data Scientist не наблюдается.\n",
    "\n",
    "$$ H_0 : μ_1 = μ_2 = μ_3$$\n",
    "\n",
    "*Альтернативная гипотеза* ($H_1$): наблюдается статистический ежегодный рост зарплат специалистов Data Scientist.\n",
    "\n",
    "$$ H_1 : μ_1 < μ_2 < μ_3$$"
   ]
  },
  {
   "cell_type": "code",
   "execution_count": 51,
   "metadata": {},
   "outputs": [
    {
     "data": {
      "text/plain": [
       "2022    65\n",
       "2021    44\n",
       "2020    21\n",
       "Name: work_year, dtype: int64"
      ]
     },
     "execution_count": 51,
     "metadata": {},
     "output_type": "execute_result"
    }
   ],
   "source": [
    "# создаем дата-сет по должности Data Scientist\n",
    "data_DS = data[data.job_title == 'Data Scientist']\n",
    "data_DS['work_year'].value_counts()\n",
    "# в выборке представлены данны по заработной плате за три года: 2022, 2021, 2020"
   ]
  },
  {
   "cell_type": "code",
   "execution_count": 52,
   "metadata": {},
   "outputs": [
    {
     "data": {
      "image/png": "[encoded data removed]",
      "text/plain": [
       "<Figure size 1080x576 with 1 Axes>"
      ]
     },
     "metadata": {},
     "output_type": "display_data"
    }
   ],
   "source": [
    "# Строим коробчатые диаграммы распределения заработной платы в зависимости от года\n",
    "plt.figure(figsize=(15, 8))\n",
    "ax = sns.boxplot(data=data_DS, x=\"salary_in_usd\", y=\"work_year\", orient='h', medianprops={\"color\": \"red\", \"linestyle\": '--'})\n",
    "ax.set(xlabel='Размер заработной платы', ylabel='Год выплаты')\n",
    "plt.title('Распределение заработной платы в зависимости от года')\n",
    "plt.show()"
   ]
  },
  {
   "cell_type": "markdown",
   "metadata": {},
   "source": [
    "На диаграмме видно, что бокс \"2021\" незначительно сместилась ввлево относительно бокса \"2020\", а бокс \"2022\" значительно сместился вправо относительно боксов \"2020\" и \"2021\". Медианы боксов смещаются в каждом последующем боксе правее - это видно также в таблице ниже \"Заработная плата в зависимости от года выплаты\". <br> Имеется выброс, не будем обращать на него внимание."
   ]
  },
  {
   "cell_type": "code",
   "execution_count": 53,
   "metadata": {},
   "outputs": [
    {
     "name": "stdout",
     "output_type": "stream",
     "text": [
      "Медиана заработной платы в зависимости от года выплаты\n"
     ]
    },
    {
     "data": {
      "text/plain": [
       "work_year\n",
       "2020     62726.0\n",
       "2021     67233.5\n",
       "2022    135000.0\n",
       "Name: salary_in_usd, dtype: float64"
      ]
     },
     "execution_count": 53,
     "metadata": {},
     "output_type": "execute_result"
    }
   ],
   "source": [
    "data_DS_agg=data_DS.groupby('work_year')['salary_in_usd'].median().round(2)\n",
    "print('Медиана заработной платы в зависимости от года выплаты')\n",
    "data_DS_agg"
   ]
  },
  {
   "cell_type": "markdown",
   "metadata": {},
   "source": [
    "Предварительный вывод: у специалистов Data Scientist наблюдается ежегодный рост заработной платы. <br> Проверим это предположение с помощью статистических тестов."
   ]
  },
  {
   "cell_type": "markdown",
   "metadata": {},
   "source": [
    "**Проверка на нормальность**\n",
    "\n",
    "С помощью теста Шапиро-Уилка проверим, распределён ли признак нормально. Гипотезы теста Шапиро-Уилка:\n",
    "\n",
    "*Нулевая гипотеза* ($H_0$): распределение данные является нормальным.\n",
    "\n",
    "*Альтернативная гипотеза* ($H_1$): распределение данных отлично от нормального."
   ]
  },
  {
   "cell_type": "code",
   "execution_count": 54,
   "metadata": {},
   "outputs": [
    {
     "name": "stdout",
     "output_type": "stream",
     "text": [
      "\n",
      "Для заработной платы в 2020 году:\n",
      "p-value = 0.000\n",
      "р-значение меньше, чем заданный уровень значимости 0.05. Распределение отлично от нормального.\n",
      "\n",
      "Для заработной платы в 2021 году:\n",
      "p-value = 0.107\n",
      "р-значение больше, чем заданный уровень значимости 0.05. Распределение является нормальным.\n",
      "\n",
      "Для заработной платы в 2022 году:\n",
      "p-value = 0.676\n",
      "р-значение больше, чем заданный уровень значимости 0.05. Распределение является нормальным.\n"
     ]
    }
   ],
   "source": [
    "# значения заработной платы по годам\n",
    "salary_DS_2020 = data_DS.loc[data_DS['work_year']==2020, 'salary_in_usd']\n",
    "salary_DS_2021 = data_DS.loc[data_DS['work_year']==2021, 'salary_in_usd']\n",
    "salary_DS_2022 = data_DS.loc[data_DS['work_year']==2022, 'salary_in_usd']\n",
    "\n",
    "# проводим тест Шапиро-Уилка\n",
    "print('\\n' + 'Для заработной платы в 2020 году:')\n",
    "result = stats.shapiro(salary_DS_2020)\n",
    "decision_normality(result[1])\n",
    "\n",
    "print('\\n' + 'Для заработной платы в 2021 году:')\n",
    "result = stats.shapiro(salary_DS_2021)\n",
    "decision_normality(result[1])\n",
    "\n",
    "print('\\n' + 'Для заработной платы в 2022 году:')\n",
    "result = stats.shapiro(salary_DS_2022)\n",
    "decision_normality(result[1])"
   ]
  },
  {
   "cell_type": "markdown",
   "metadata": {},
   "source": [
    "### Чтобы определить происходит ли ежегодный рост зарплат у специалистов Data Scientist проведем ряд статистический тестов.\n",
    "<br>1. Определим произошел ли рост зарплаты в 2021 году относительно 2020.\n",
    "<br>2. Определим произошел ли рост зарплаты в 2022 году относительно 2021.\n",
    "<br>3. Определим произошел ли рост зарплаты на протяжении 3-х лет с 2020 по 2022 года."
   ]
  },
  {
   "cell_type": "markdown",
   "metadata": {},
   "source": [
    "1. Определим произошел ли рост зарплаты в 2021 году относительно 2020 года<br>\n",
    "*Нулевая гипотеза* ($H_0$): рост зарплаты не наблюдается.\n",
    "\n",
    "$$ H_0 : μ_1 = μ_2$$\n",
    "\n",
    "<br>*Альтернативная гипотеза* ($H_1$): наблюдается рост зарплаты.\n",
    "\n",
    "$$ H_0 : μ_1 < μ_2$$"
   ]
  },
  {
   "cell_type": "code",
   "execution_count": 55,
   "metadata": {},
   "outputs": [
    {
     "name": "stdout",
     "output_type": "stream",
     "text": [
      "p-value = 0.226\n",
      "р-значение больше, чем заданный уровень значимости 0.05. У нас нет оснований отвергнуть нулевую гипотезу.\n",
      "Вывод: рост зарплаты в 2021 по отношению к 2020 году не наблюдается\n"
     ]
    }
   ],
   "source": [
    "# определим происходил ли рост зарплат в 2021 году относитель 2020 года.\n",
    "# Распределение значений зарплат в 2020 году отлично от нормального, а значения зарплат в 2021 году нормальное.\n",
    "# Тестировать будем две зависимые группы. Значит выбраем непараметрический критерий Уилкоксона.\n",
    "# Для проведения теста необходимо подать на вход два списка значений одинаковой длины.\n",
    "# Можно в меньший список добавить необходимое количество значений либо сделать выборку из большего списка, т.е. отсечь необходимое количество значений\n",
    "# В рамках данного задания сделаем выборку из большего списка.\n",
    "\n",
    "_, p = stats.wilcoxon(salary_DS_2020, salary_DS_2021[:len(salary_DS_2020)], alternative=\"greater\")\n",
    "decision_gipothesis(p)\n",
    "\n",
    "print(\"Вывод: рост зарплаты в 2021 по отношению к 2020 году не наблюдается\")"
   ]
  },
  {
   "cell_type": "markdown",
   "metadata": {},
   "source": [
    "2. Определим произошел ли рост зарплаты в 2022 году относительно 2021 года<br>\n",
    "*Нулевая гипотеза* ($H_0$): рост зарплаты не наблюдается.\n",
    "$$ H_0 : μ_1 = μ_2$$\n",
    "\n",
    "<br>*Альтернативная гипотеза* ($H_1$): наблюдается рост зарплаты.\n",
    "$$ H_0 : μ_1 < μ_2$$"
   ]
  },
  {
   "cell_type": "code",
   "execution_count": 56,
   "metadata": {},
   "outputs": [
    {
     "name": "stdout",
     "output_type": "stream",
     "text": [
      "Длина списка salary_DS_2021: 44 значений\n",
      "Длина списка salary_DS_2022: 65 значений\n"
     ]
    }
   ],
   "source": [
    "# определим происходил ли рост зарплат в 2022 году относитель 2021 года.\n",
    "# Распределение значений зарплат в 2021 и 2022 году нормальное.\n",
    "# Тестировать будем две зависимые группы. Значит выбраем параметрический Парный t-критерий.\n",
    "# Для проведения теста необходимо подать на вход два списка значений одинаковой длины.\n",
    "# Можно в меньший список добавить необходимое количество значений либо сделать выборку из большего списка,\n",
    "# т.е. отсечь необходимое количество значений\n",
    "# В рамках данного задания дополним список меньшей длины на 21 одно значение медианой.\n",
    "\n",
    "# длина списка salary_DS_2021 - 45 значений\n",
    "print('Длина списка salary_DS_2021:',len(salary_DS_2021), 'значений')\n",
    "\n",
    "#длина ссписка salary_DS_2021 - 65 значений\n",
    "print('Длина списка salary_DS_2022:',len(salary_DS_2022), 'значений')\n",
    "\n",
    "# разница длин в 21 значение, дополним список salary_DS_2021 на 21 значений и заполним их медианой"
   ]
  },
  {
   "cell_type": "code",
   "execution_count": 57,
   "metadata": {},
   "outputs": [
    {
     "name": "stderr",
     "output_type": "stream",
     "text": [
      "C:\\Users\\dmitr\\AppData\\Local\\Temp/ipykernel_8644/2251783235.py:2: DeprecationWarning: `np.int` is a deprecated alias for the builtin `int`. To silence this warning, use `int` by itself. Doing this will not modify any behavior and is safe. When replacing `np.int`, you may wish to use e.g. `np.int64` or `np.int32` to specify the precision. If you wish to review your current use, check the release note link for additional information.\n",
      "Deprecated in NumPy 1.20; for more details and guidance: https://numpy.org/devdocs/release/1.20.0-notes.html#deprecations\n",
      "  df_21 = np.full(shape = 21, fill_value = salary_DS_2021.median(), dtype = np.int)\n",
      "C:\\Users\\dmitr\\AppData\\Local\\Temp/ipykernel_8644/2251783235.py:8: FutureWarning: The series.append method is deprecated and will be removed from pandas in a future version. Use pandas.concat instead.\n",
      "  salary_DS_2021_ext = df.append(ser, ignore_index = True)\n"
     ]
    }
   ],
   "source": [
    "# создаем список дополнительный списко на 21 значение и заполняем его медианой\n",
    "df_21 = np.full(shape = 21, fill_value = salary_DS_2021.median(), dtype = np.int)\n",
    "\n",
    "# расширяем список на 21 значение\n",
    "df = salary_DS_2021\n",
    "df_np = pd.DataFrame(df_21)\n",
    "ser = df_np.iloc[:,0]\n",
    "salary_DS_2021_ext = df.append(ser, ignore_index = True)"
   ]
  },
  {
   "cell_type": "code",
   "execution_count": 58,
   "metadata": {},
   "outputs": [
    {
     "data": {
      "text/plain": [
       "60    67233\n",
       "61    67233\n",
       "62    67233\n",
       "63    67233\n",
       "64    67233\n",
       "dtype: int64"
      ]
     },
     "execution_count": 58,
     "metadata": {},
     "output_type": "execute_result"
    }
   ],
   "source": [
    "# список дополнен\n",
    "salary_DS_2021_ext.tail()"
   ]
  },
  {
   "cell_type": "code",
   "execution_count": 59,
   "metadata": {},
   "outputs": [
    {
     "name": "stdout",
     "output_type": "stream",
     "text": [
      "p-value = 1.000\n",
      "р-значение больше, чем заданный уровень значимости 0.05. У нас нет оснований отвергнуть нулевую гипотезу.\n",
      "Вывод: рост зарплаты в 2022 по отношению к 2021 году не наблюдается\n"
     ]
    }
   ],
   "source": [
    "# проводим тестирование\n",
    "_, p = stats.ttest_rel(salary_DS_2021_ext, salary_DS_2022, alternative=\"greater\")\n",
    "decision_gipothesis(p)\n",
    "\n",
    "print(\"Вывод: рост зарплаты в 2022 по отношению к 2021 году не наблюдается\")\n",
    "\n",
    "# в результате тестирования мы не можем отвергнуть нулевую гипотезу\n",
    "# но, глядя на коробчатую диагамму создалось впечатление, что будет верна альтернативная гипотеза\n",
    "# при alpha равной 10% мы отвергли бы нулевую гипотезу."
   ]
  },
  {
   "cell_type": "markdown",
   "metadata": {},
   "source": [
    "3.Определим произошел ли рост зарплаты на протяжении 3-х лет с 2020 по 2022 года.\n",
    "<br>*Нулевая гипотеза* ($H_0$): рост зарплаты не наблюдается.\n",
    "$$ H_0 : μ_1 = μ_2 = μ_3$$\n",
    "\n",
    "<br>*Альтернативная гипотеза* ($H_1$): наблюдается рост зарплаты.\n",
    "$$ H_1 : μ_1 < μ_2 < μ_3$$"
   ]
  },
  {
   "cell_type": "code",
   "execution_count": 60,
   "metadata": {},
   "outputs": [
    {
     "name": "stdout",
     "output_type": "stream",
     "text": [
      "p-value = 0.000\n",
      "р-значение меньше, чем заданный уровень значимости 0.05. Отвергаем нулевую гипотезу в пользу альтернативной.\n",
      "Вывод: на протяжении 3-х лет с 2020 по 2022 год наблюдается рост зарплаты\n"
     ]
    }
   ],
   "source": [
    "# определим происходил ли рост зарплат на протяжении 3-х лет с 2020 по 2021 год.\n",
    "# Распределение значений зарплат 2021 - не соответстует нормальному, в 2021 и 2022 году нормальное.\n",
    "# Тестировать будем три зависимые группы. Значит выбраем непараметрический Критерий Фридмана.\n",
    "# Для проведения теста необходимо подать на вход три списка значений одинаковой длины.\n",
    "# Можно в меньший список добавить необходимое количество значений либо сделать выборку из большего списка,\n",
    "# т.е. отсечь необходимое количество значений\n",
    "# В рамках данного задания не будем дополнять списки медианными значениями.\n",
    "\n",
    "_, p = stats.friedmanchisquare(salary_DS_2020, salary_DS_2021[:len(salary_DS_2020)], salary_DS_2022[:len(salary_DS_2020)])\n",
    "decision_gipothesis(p)\n",
    "\n",
    "print(\"Вывод: на протяжении 3-х лет с 2020 по 2022 год наблюдается рост зарплаты\")\n"
   ]
  },
  {
   "cell_type": "markdown",
   "metadata": {},
   "source": [
    "### 2. Определить соотношение зарплаты Data Scientist и Data Engineer (на примере 2022 года)\n",
    "Сформулируем гипотезы<br>\n",
    "*Нулевая гипотеза* ($H_0$): заработная плата у Data Scientist и Data Engineer не различается.\n",
    "<br>*Альтернативная гипотеза* ($H_1$): заработная плата у Data Scientists и Data Engineer различается.\n",
    "$$ H_0 : μ_1 = μ_2 = μ_3$$\n",
    "\n",
    "Анализ распределения заработной платы для Data Scientist & Data Engineer"
   ]
  },
  {
   "cell_type": "code",
   "execution_count": 61,
   "metadata": {},
   "outputs": [
    {
     "data": {
      "text/plain": [
       "'Количество специальностей в дата-сете - 50'"
      ]
     },
     "metadata": {},
     "output_type": "display_data"
    },
    {
     "name": "stdout",
     "output_type": "stream",
     "text": [
      "<class 'pandas.core.frame.DataFrame'>\n",
      "RangeIndex: 144 entries, 0 to 143\n",
      "Data columns (total 11 columns):\n",
      " #   Column              Non-Null Count  Dtype \n",
      "---  ------              --------------  ----- \n",
      " 0   work_year           144 non-null    int64 \n",
      " 1   experience_level    144 non-null    object\n",
      " 2   employment_type     144 non-null    object\n",
      " 3   job_title           144 non-null    object\n",
      " 4   salary              144 non-null    int64 \n",
      " 5   salary_currency     144 non-null    object\n",
      " 6   salary_in_usd       144 non-null    int64 \n",
      " 7   employee_residence  144 non-null    object\n",
      " 8   remote_ratio        144 non-null    int64 \n",
      " 9   company_location    144 non-null    object\n",
      " 10  company_size        144 non-null    object\n",
      "dtypes: int64(4), object(7)\n",
      "memory usage: 12.5+ KB\n"
     ]
    }
   ],
   "source": [
    "# В дата-сете представлены данные по 50 специальностям. \n",
    "display(f\"Количество специальностей в дата-сете - {data['job_title'].nunique()}\")\n",
    "\n",
    "# Создадим выборку по зарплате только для Data Scientist и Data Engineer за 2022 год\n",
    "data_DS_DE = data[((data.job_title == 'Data Scientist') | (data.job_title == 'Data Engineer')) & (data.work_year == 2022)]\n",
    "#data_DS_DE = data[(data.job_title == 'Data Scientist') | (data.job_title == 'Data Engineer')]\n",
    "data_DS_DE.reset_index(drop=True, inplace=True) # сброс идекса строк\n",
    "data_DS_DE.info() # В выборке 143 строки, 11 столбцов"
   ]
  },
  {
   "cell_type": "code",
   "execution_count": 62,
   "metadata": {},
   "outputs": [
    {
     "data": {
      "text/plain": [
       "Data Engineer     79\n",
       "Data Scientist    65\n",
       "Name: job_title, dtype: int64"
      ]
     },
     "execution_count": 62,
     "metadata": {},
     "output_type": "execute_result"
    }
   ],
   "source": [
    "data_DS_DE[\"job_title\"].value_counts() # проверяем, в выборке присутствуют данные только Data Scientist и Data Engineer"
   ]
  },
  {
   "cell_type": "code",
   "execution_count": 63,
   "metadata": {},
   "outputs": [
    {
     "data": {
      "image/png": "[encoded data removed]",
      "text/plain": [
       "<Figure size 1080x576 with 1 Axes>"
      ]
     },
     "metadata": {},
     "output_type": "display_data"
    }
   ],
   "source": [
    "# Строим коробчатые диаграммы для DS & DE в зависимости от заработной платы\n",
    "plt.figure(figsize=(15, 8))\n",
    "ax = sns.boxplot(data=data_DS_DE, x=\"salary_in_usd\", y=\"job_title\", orient='h', medianprops={\"color\": \"red\", \"linestyle\": '--'})\n",
    "ax.set(xlabel='Размер заработной платы', ylabel='Специальность')\n",
    "plt.title('Распределение заработной платы по специальностям DS & DE')\n",
    "plt.show()"
   ]
  },
  {
   "cell_type": "markdown",
   "metadata": {},
   "source": [
    "На диаграмме видно, что бокс DE немного сужен и смещен правее, относительно относительно DS <br> Имеются выбросы, удалим их."
   ]
  },
  {
   "cell_type": "code",
   "execution_count": 64,
   "metadata": {},
   "outputs": [
    {
     "name": "stdout",
     "output_type": "stream",
     "text": [
      "Заработная плата в зависимости от специальности\n"
     ]
    },
    {
     "data": {
      "text/html": [
       "<div>\n",
       "<style scoped>\n",
       "    .dataframe tbody tr th:only-of-type {\n",
       "        vertical-align: middle;\n",
       "    }\n",
       "\n",
       "    .dataframe tbody tr th {\n",
       "        vertical-align: top;\n",
       "    }\n",
       "\n",
       "    .dataframe thead th {\n",
       "        text-align: right;\n",
       "    }\n",
       "</style>\n",
       "<table border=\"1\" class=\"dataframe\">\n",
       "  <thead>\n",
       "    <tr style=\"text-align: right;\">\n",
       "      <th></th>\n",
       "      <th>count</th>\n",
       "      <th>mean</th>\n",
       "      <th>std</th>\n",
       "      <th>min</th>\n",
       "      <th>25%</th>\n",
       "      <th>50%</th>\n",
       "      <th>75%</th>\n",
       "      <th>max</th>\n",
       "    </tr>\n",
       "    <tr>\n",
       "      <th>job_title</th>\n",
       "      <th></th>\n",
       "      <th></th>\n",
       "      <th></th>\n",
       "      <th></th>\n",
       "      <th></th>\n",
       "      <th></th>\n",
       "      <th></th>\n",
       "      <th></th>\n",
       "    </tr>\n",
       "  </thead>\n",
       "  <tbody>\n",
       "    <tr>\n",
       "      <th>Data Engineer</th>\n",
       "      <td>79.0</td>\n",
       "      <td>124651.78</td>\n",
       "      <td>57846.84</td>\n",
       "      <td>25000.0</td>\n",
       "      <td>78526.0</td>\n",
       "      <td>115000.0</td>\n",
       "      <td>160040.0</td>\n",
       "      <td>324000.0</td>\n",
       "    </tr>\n",
       "    <tr>\n",
       "      <th>Data Scientist</th>\n",
       "      <td>65.0</td>\n",
       "      <td>131366.94</td>\n",
       "      <td>55785.24</td>\n",
       "      <td>18442.0</td>\n",
       "      <td>95550.0</td>\n",
       "      <td>135000.0</td>\n",
       "      <td>170000.0</td>\n",
       "      <td>260000.0</td>\n",
       "    </tr>\n",
       "  </tbody>\n",
       "</table>\n",
       "</div>"
      ],
      "text/plain": [
       "                count       mean       std      min      25%       50%  \\\n",
       "job_title                                                                \n",
       "Data Engineer    79.0  124651.78  57846.84  25000.0  78526.0  115000.0   \n",
       "Data Scientist   65.0  131366.94  55785.24  18442.0  95550.0  135000.0   \n",
       "\n",
       "                     75%       max  \n",
       "job_title                           \n",
       "Data Engineer   160040.0  324000.0  \n",
       "Data Scientist  170000.0  260000.0  "
      ]
     },
     "execution_count": 64,
     "metadata": {},
     "output_type": "execute_result"
    }
   ],
   "source": [
    "data_DS_DE_agg=data_DS_DE.groupby('job_title')['salary_in_usd'].describe().round(2)\n",
    "print('Заработная плата в зависимости от специальности')\n",
    "data_DS_DE_agg"
   ]
  },
  {
   "cell_type": "markdown",
   "metadata": {},
   "source": [
    "Удаление выбросов"
   ]
  },
  {
   "cell_type": "code",
   "execution_count": 65,
   "metadata": {},
   "outputs": [
    {
     "data": {
      "image/png": "[encoded data removed]",
      "text/plain": [
       "<Figure size 1080x576 with 1 Axes>"
      ]
     },
     "metadata": {},
     "output_type": "display_data"
    }
   ],
   "source": [
    "# удалим записи, где заработная плата в долларах больше 300 тыс.$\n",
    "data_DS_DE = data_DS_DE[data_DS_DE['salary_in_usd'] < 3e+05]\n",
    "\n",
    "# Строим коробчатые диаграммы для DS & DE в зависимости от\n",
    "plt.figure(figsize=(15, 8))\n",
    "ax = sns.boxplot(data=data_DS_DE, x=\"salary_in_usd\", y=\"job_title\", orient='h', medianprops={\"color\": \"red\", \"linestyle\": '--'})\n",
    "ax.set(xlabel='Размер заработной платы', ylabel='Специальность')\n",
    "plt.title('Распределение заработной платы по специальностям DS & DE')\n",
    "plt.show()"
   ]
  },
  {
   "cell_type": "markdown",
   "metadata": {},
   "source": [
    "Диаграммы не изменились, но выбросы удалены."
   ]
  },
  {
   "cell_type": "markdown",
   "metadata": {},
   "source": [
    "**Проверка на нормальность заработной платы у Data Scientist и Data Engineer**\n",
    "\n",
    "С помощью теста Шапиро-Уилка проверим, распределён ли признак нормально. Гипотезы теста Шапиро-Уилка:\n",
    "\n",
    "*Нулевая гипотеза* ($H_0$): распределение данных является нормальным.\n",
    "\n",
    "*Альтернативная гипотеза* ($H_1$): распределение данных отлично от нормального."
   ]
  },
  {
   "cell_type": "code",
   "execution_count": 66,
   "metadata": {},
   "outputs": [
    {
     "name": "stdout",
     "output_type": "stream",
     "text": [
      "\n",
      "Для заработной платы у Data Scientist в 2022 году:\n",
      "p-value = 0.676\n",
      "р-значение больше, чем заданный уровень значимости 0.05. Распределение является нормальным.\n",
      "\n",
      "Для заработной платы у Data Engineer в 2022 году:\n",
      "p-value = 0.021\n",
      "р-значение меньше, чем заданный уровень значимости 0.05. Распределение отлично от нормального.\n"
     ]
    }
   ],
   "source": [
    "# значения заработной платы по специальностям\n",
    "salary_DS_2022 = data_DS_DE.loc[data_DS_DE['job_title']=='Data Scientist', 'salary_in_usd']\n",
    "salary_DE_2022 = data_DS_DE.loc[data_DS_DE['job_title']=='Data Engineer', 'salary_in_usd']\n",
    "\n",
    "# проводим тест Шапиро-Уилка\n",
    "print('\\n' + 'Для заработной платы у Data Scientist в 2022 году:')\n",
    "result = stats.shapiro(salary_DS_2022)\n",
    "decision_normality(result[1])\n",
    "\n",
    "print('\\n' + 'Для заработной платы у Data Engineer в 2022 году:')\n",
    "result = stats.shapiro(salary_DE_2022)\n",
    "decision_normality(result[1])"
   ]
  },
  {
   "cell_type": "markdown",
   "metadata": {},
   "source": [
    "### Чтобы определить соотношение зарплаты Data Scientist и Data Engineer в 2022 году проведем статистическое тестирование.\n",
    "Сформулируем гипотезы<br>\n",
    "*Нулевая гипотеза* ($H_0$): заработная плата у Data Scientist и Data Engineer не различается.\n",
    "$$ H_1 : μ_1 = μ_2 $$\n",
    "\n",
    "<br>*Альтернативная гипотеза* ($H_1$): заработная плата у Data Scientists и Data Engineer различается.\n",
    "$$ H_1 : μ_1 \\neq μ_2 $$\n"
   ]
  },
  {
   "cell_type": "code",
   "execution_count": 67,
   "metadata": {},
   "outputs": [
    {
     "name": "stdout",
     "output_type": "stream",
     "text": [
      "p-value = 0.255\n",
      "р-значение больше, чем заданный уровень значимости 0.05. У нас нет оснований отвергнуть нулевую гипотезу.\n",
      "Вывод: заработная плата у Data Scientist и Data Engineer в 2022 году не различается.\n"
     ]
    }
   ],
   "source": [
    "# Распределение значений зарплат 2022 году у DS нормальное, у DE отлично от нормального.\n",
    "# Тестировать будем две независимые группы. Значит выбраем непараметрический тест U-критерий Манна-Уитни.\n",
    "\n",
    "_, p = stats.mannwhitneyu(salary_DS_2022, salary_DE_2022)\n",
    "decision_gipothesis(p)\n",
    "\n",
    "print(\"Вывод: заработная плата у Data Scientist и Data Engineer в 2022 году не различается.\")"
   ]
  },
  {
   "cell_type": "markdown",
   "metadata": {},
   "source": [
    "### 3. Анализ соотношений зарплат специалистов Data Scientist в компаниях различных размеров?"
   ]
  },
  {
   "cell_type": "code",
   "execution_count": 68,
   "metadata": {},
   "outputs": [
    {
     "data": {
      "text/plain": [
       "M    66\n",
       "L    43\n",
       "S    21\n",
       "Name: company_size, dtype: int64"
      ]
     },
     "execution_count": 68,
     "metadata": {},
     "output_type": "execute_result"
    }
   ],
   "source": [
    "# Подготовим выборку по job_title == Data Scientist\n",
    "data_DS_all_year = data.loc[data['job_title'] == 'Data Scientist']\n",
    "data_DS_all_year['company_size'].value_counts() # В выборке присутсвуют три типа размера компаний"
   ]
  },
  {
   "cell_type": "code",
   "execution_count": 69,
   "metadata": {},
   "outputs": [
    {
     "data": {
      "image/png": "[encoded data removed]",
      "text/plain": [
       "<Figure size 1080x576 with 1 Axes>"
      ]
     },
     "metadata": {},
     "output_type": "display_data"
    }
   ],
   "source": [
    "# Строим коробчатые диаграммы в зависимости заработной платы и размера компании\n",
    "plt.figure(figsize=(15, 8))\n",
    "ax = sns.boxplot(data=data_DS_all_year, x=\"salary_in_usd\", y=\"company_size\", orient='h', medianprops={\"color\": \"red\", \"linestyle\": '--'})\n",
    "ax.set(xlabel='Размер заработной платы', ylabel='Размер компании')\n",
    "plt.title('Размер заработной платы в зависимости от компании')\n",
    "plt.show()"
   ]
  },
  {
   "cell_type": "markdown",
   "metadata": {},
   "source": [
    "На корбчатой диаграмме видно, что в средних компания уровень заработной платы на ниже, чем у больших и малых.\n",
    "<br>Также имеется выброс по строке \"L\", удалим его."
   ]
  },
  {
   "cell_type": "code",
   "execution_count": 70,
   "metadata": {},
   "outputs": [
    {
     "data": {
      "text/plain": [
       "count       130.000000\n",
       "mean     103336.353846\n",
       "std       63967.562053\n",
       "min        2859.000000\n",
       "25%       50330.250000\n",
       "50%      100000.000000\n",
       "75%      140400.000000\n",
       "max      412000.000000\n",
       "Name: salary_in_usd, dtype: float64"
      ]
     },
     "execution_count": 70,
     "metadata": {},
     "output_type": "execute_result"
    }
   ],
   "source": [
    "# Исследуем дата-сет\n",
    "data_DS_all_year['salary_in_usd'].describe()\n",
    "# Максимальное значение по зарплате 412 тыс.$, удалим его"
   ]
  },
  {
   "cell_type": "code",
   "execution_count": 71,
   "metadata": {},
   "outputs": [
    {
     "data": {
      "text/plain": [
       "count       129.000000\n",
       "mean     100943.612403\n",
       "std       58083.770431\n",
       "min        2859.000000\n",
       "25%       50000.000000\n",
       "50%      100000.000000\n",
       "75%      140400.000000\n",
       "max      260000.000000\n",
       "Name: salary_in_usd, dtype: float64"
      ]
     },
     "execution_count": 71,
     "metadata": {},
     "output_type": "execute_result"
    }
   ],
   "source": [
    "# удалим записи, где заработная плата в долларах больше 412 тыс.$\n",
    "data_DS_all_year = data_DS_all_year[data_DS_all_year['salary_in_usd'] < 412e+03]\n",
    "data_DS_all_year['salary_in_usd'].describe()\n",
    "# Значение удалено."
   ]
  },
  {
   "cell_type": "code",
   "execution_count": 72,
   "metadata": {},
   "outputs": [
    {
     "data": {
      "image/png": "[encoded data removed]",
      "text/plain": [
       "<Figure size 1080x576 with 1 Axes>"
      ]
     },
     "metadata": {},
     "output_type": "display_data"
    }
   ],
   "source": [
    "# Повторно строим коробчатые диаграммы в зависимости заработной платы и размера компании без выброса\n",
    "plt.figure(figsize=(15, 8))\n",
    "ax = sns.boxplot(data=data_DS_all_year, x=\"salary_in_usd\", y=\"company_size\", orient='h', medianprops={\"color\": \"red\", \"linestyle\": '--'})\n",
    "ax.set(xlabel='Размер заработной платы', ylabel='Размер компании')\n",
    "plt.title('Размер заработной платы в зависимости от компании')\n",
    "plt.show()\n",
    "# После удаления выброса соотношение не изменилось, но диаграмма стала лучше просматриваться"
   ]
  },
  {
   "cell_type": "markdown",
   "metadata": {},
   "source": [
    "**Проверка на нормальность распределения значений заработной платы у Data Scietist в зависисмости от размера компании**\n",
    "\n",
    "С помощью теста Шапиро-Уилка проверим, распределён ли признак нормально. Гипотезы теста Шапиро-Уилка:\n",
    "\n",
    "*Нулевая гипотеза* ($H_0$): распределение данных является нормальным.\n",
    "\n",
    "*Альтернативная гипотеза* ($H_1$): распределение данных отлично от нормального."
   ]
  },
  {
   "cell_type": "code",
   "execution_count": 73,
   "metadata": {},
   "outputs": [],
   "source": [
    "# Зачение зарплат по типам размеров компаний\n",
    "salary_L = data_DS_all_year.loc[data_DS_all_year['company_size'] == 'L', 'salary_in_usd']\n",
    "salary_M = data_DS_all_year.loc[data_DS_all_year['company_size'] == 'M', 'salary_in_usd']\n",
    "salary_S = data_DS_all_year.loc[data_DS_all_year['company_size'] == 'S', 'salary_in_usd']"
   ]
  },
  {
   "cell_type": "code",
   "execution_count": 74,
   "metadata": {},
   "outputs": [
    {
     "name": "stdout",
     "output_type": "stream",
     "text": [
      "For company - \"L\"\n",
      "p-value = 0.030\n",
      "р-значение меньше, чем заданный уровень значимости 0.05. Распределение отлично от нормального.\n",
      "\n",
      "For company - \"M\"\n",
      "p-value = 0.897\n",
      "р-значение больше, чем заданный уровень значимости 0.05. Распределение является нормальным.\n",
      "\n",
      "For company - \"S\"\n",
      "p-value = 0.189\n",
      "р-значение больше, чем заданный уровень значимости 0.05. Распределение является нормальным.\n"
     ]
    }
   ],
   "source": [
    "# Проводим тест Шапиро-Уилка\n",
    "print('For company - \"L\"')\n",
    "result = stats.shapiro(salary_L)\n",
    "decision_normality(result[1])\n",
    "\n",
    "print('\\n' + 'For company - \"M\"')\n",
    "result = stats.shapiro(salary_M)\n",
    "decision_normality(result[1])\n",
    "\n",
    "print('\\n' + 'For company - \"S\"')\n",
    "result = stats.shapiro(salary_S)\n",
    "decision_normality(result[1])"
   ]
  },
  {
   "cell_type": "markdown",
   "metadata": {},
   "source": [
    "### Чтобы определить влияет ли на заработную плату Data Scientist размеры компании проведем статистическое тестирование.\n",
    "Сформулируем гипотезы<br>\n",
    "*Нулевая гипотеза* ($H_0$): заработная плата у Data Scientist и Data Engineer не различается в зависисмости от размера компании.<br>*Альтернативная гипотеза* ($H_1$): заработная плата у Data Scientist различается в зависисмости от размера компании."
   ]
  },
  {
   "cell_type": "code",
   "execution_count": 75,
   "metadata": {},
   "outputs": [
    {
     "name": "stdout",
     "output_type": "stream",
     "text": [
      "p-value = 0.000\n",
      "р-значение меньше, чем заданный уровень значимости 0.05. Отвергаем нулевую гипотезу в пользу альтернативной.\n",
      "\n",
      "Вывод: заработная плата Data Scientist различается в зависисмости от размера компании.\n"
     ]
    }
   ],
   "source": [
    "# Тестировать будем три независимые группы. Выбраем непараметрический тест Критерий Краскела-Уоллиса.\n",
    "\n",
    "_, p = stats.kruskal(salary_L, salary_M, salary_S)\n",
    "decision_gipothesis(p)\n",
    "\n",
    "print('\\n' + \"Вывод: заработная плата Data Scientist различается в зависисмости от размера компании.\")"
   ]
  },
  {
   "cell_type": "markdown",
   "metadata": {},
   "source": [
    "  ### 4. Анализ связи между наличием должностей Data Scientist & Data Engineer и размером компании?"
   ]
  },
  {
   "cell_type": "markdown",
   "metadata": {},
   "source": [
    "**Формулируем нулевую и альтернативную гипотизы**\n",
    "\n",
    "* Тип признака должность - категориальный\n",
    "* Количество сравниваемых групп - 2 гуппы\n",
    "* Проверяется зависимость групп - Да\n",
    "* Для проверки гипотезы будем использовать критерий ${\\chi}^2$ (хи - квадрат)\n",
    "\n",
    "*Нулевая гипотеза* ($H_0$): зависимости между наличием должностей Data Scientist & Data Engineer и размером компании нет.\n",
    "\n",
    "*Альтернативная гипотеза* ($H_1$): существует взаимосвязь между наличием должностей Data Scientist & Data Engineer и размером компании."
   ]
  },
  {
   "cell_type": "code",
   "execution_count": 76,
   "metadata": {},
   "outputs": [
    {
     "data": {
      "text/plain": [
       "Data Scientist    130\n",
       "Data Engineer     121\n",
       "Name: job_title, dtype: int64"
      ]
     },
     "execution_count": 76,
     "metadata": {},
     "output_type": "execute_result"
    }
   ],
   "source": [
    "# подгтовим выборку по специальностям Data Scientist & Data Engineer\n",
    "data_DS_DE_x2 = data[((data.job_title == 'Data Scientist') | (data.job_title == 'Data Engineer'))]\n",
    "data_DS_DE_x2['job_title'].value_counts() # проверка выборки"
   ]
  },
  {
   "cell_type": "code",
   "execution_count": 77,
   "metadata": {},
   "outputs": [
    {
     "data": {
      "text/html": [
       "<div>\n",
       "<style scoped>\n",
       "    .dataframe tbody tr th:only-of-type {\n",
       "        vertical-align: middle;\n",
       "    }\n",
       "\n",
       "    .dataframe tbody tr th {\n",
       "        vertical-align: top;\n",
       "    }\n",
       "\n",
       "    .dataframe thead th {\n",
       "        text-align: right;\n",
       "    }\n",
       "</style>\n",
       "<table border=\"1\" class=\"dataframe\">\n",
       "  <thead>\n",
       "    <tr style=\"text-align: right;\">\n",
       "      <th>company_size</th>\n",
       "      <th>L</th>\n",
       "      <th>M</th>\n",
       "      <th>S</th>\n",
       "    </tr>\n",
       "    <tr>\n",
       "      <th>job_title</th>\n",
       "      <th></th>\n",
       "      <th></th>\n",
       "      <th></th>\n",
       "    </tr>\n",
       "  </thead>\n",
       "  <tbody>\n",
       "    <tr>\n",
       "      <th>Data Engineer</th>\n",
       "      <td>34</td>\n",
       "      <td>81</td>\n",
       "      <td>6</td>\n",
       "    </tr>\n",
       "    <tr>\n",
       "      <th>Data Scientist</th>\n",
       "      <td>43</td>\n",
       "      <td>66</td>\n",
       "      <td>21</td>\n",
       "    </tr>\n",
       "  </tbody>\n",
       "</table>\n",
       "</div>"
      ],
      "text/plain": [
       "company_size     L   M   S\n",
       "job_title                 \n",
       "Data Engineer   34  81   6\n",
       "Data Scientist  43  66  21"
      ]
     },
     "execution_count": 77,
     "metadata": {},
     "output_type": "execute_result"
    }
   ],
   "source": [
    "# сосатвим таблицу сопряженности\n",
    "cross_table = pd.crosstab(data_DS_DE_x2['job_title'], data_DS_DE_x2['company_size'])\n",
    "cross_table"
   ]
  },
  {
   "cell_type": "code",
   "execution_count": 78,
   "metadata": {},
   "outputs": [
    {
     "name": "stdout",
     "output_type": "stream",
     "text": [
      "p-value = 0.005\n",
      "р-значение меньше, чем заданный уровень значимости 0.05. Отвергаем нулевую гипотезу в пользу альтернативной.\n",
      "\n",
      "Вывод: между наличием должностей Data Scientist & Data Engineer и размером компании существует зависимость.\n"
     ]
    }
   ],
   "source": [
    "# проводим тест\n",
    "_, p, _, _ = stats.chi2_contingency(cross_table)\n",
    "decision_gipothesis(p)\n",
    "\n",
    "print('\\n' + \"Вывод: между наличием должностей Data Scientist & Data Engineer и размером компании существует зависимость.\")"
   ]
  },
  {
   "cell_type": "markdown",
   "metadata": {},
   "source": [
    "## Итоговые результаты исследования\n",
    "\n",
    "- У специалистов Data Scientist наблюдается ежегодный рост зарплат (на протяжении трех лет).\n",
    "- Размер зарплаты Data Scientist и Data Engineer в 2022 году не различается.\n",
    "- Зарплаты специалистов Data Scientist различаются в зависимости от размеров копмании. \n",
    "- Между наличием должностей Data Scientist и Data Engineer и размером компании существует взаимосвязь.\n",
    "\n",
    "### Дополнительные результаты\n",
    "\n",
    "- Рост размера заработной платы у Data Scientist в 2021 году относительно 2020 не наблюдается (на протяжении одного года).\n",
    "- Рост размера заработной платы у Data Scientist в 2022 году относительно 2021 не наблюдается (на протяжении одного года)."
   ]
  }
 ],
 "metadata": {
  "kernelspec": {
   "display_name": "Python 3",
   "language": "python",
   "name": "python3"
  },
  "language_info": {
   "codemirror_mode": {
    "name": "ipython",
    "version": 3
   },
   "file_extension": ".py",
   "mimetype": "text/x-python",
   "name": "python",
   "nbconvert_exporter": "python",
   "pygments_lexer": "ipython3",
   "version": "3.9.7"
  }
 },
 "nbformat": 4,
 "nbformat_minor": 2
}
