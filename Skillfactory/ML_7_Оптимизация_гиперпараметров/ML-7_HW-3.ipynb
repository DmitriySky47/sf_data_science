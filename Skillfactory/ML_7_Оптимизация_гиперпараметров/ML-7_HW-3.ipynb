{
 "cells": [
  {
   "cell_type": "markdown",
   "metadata": {},
   "source": [
    "### <center> ML-7. Прогнозирование биологического ответа (HW-3)"
   ]
  },
  {
   "cell_type": "markdown",
   "metadata": {},
   "source": [
    "#### Необходимо обучить две модели: логистическую регрессию и случайный лес. Далее нужно сделать подбор гиперпараметров с помощью базовых и продвинутых методов оптимизации. Важно использовать все четыре метода (GridSeachCV, RandomizedSearchCV, Hyperopt, Optuna) хотя бы по разу, максимальное количество итераций не должно превышать 50.\n",
    "#### В качестве метрики будем использовать F1-score"
   ]
  },
  {
   "cell_type": "code",
   "execution_count": 58,
   "metadata": {},
   "outputs": [],
   "source": [
    "#импорт библиотек\n",
    "import numpy as np #для матричных вычислений\n",
    "import pandas as pd #для анализа и предобработки данных\n",
    "import matplotlib.pyplot as plt #для визуализации\n",
    "import seaborn as sns #для визуализации\n",
    "\n",
    "from sklearn import linear_model #линейные модели\n",
    "from sklearn.linear_model import LogisticRegression\n",
    "from sklearn.ensemble import RandomForestClassifier\n",
    "from sklearn import tree #деревья решений\n",
    "from sklearn import ensemble #ансамбли\n",
    "from sklearn import metrics #метрики\n",
    "from sklearn import preprocessing #предобработка\n",
    "from sklearn.model_selection import train_test_split #сплитование выборки\n",
    "from sklearn.model_selection import RandomizedSearchCV\n",
    "from sklearn.model_selection import GridSearchCV\n",
    "\n",
    "from sklearn.model_selection import cross_val_score\n",
    "import hyperopt\n",
    "from hyperopt import hp, fmin, tpe, Trials\n",
    "\n",
    "import optuna\n",
    "\n",
    "%matplotlib inline\n",
    "plt.style.use('seaborn-v0_8')"
   ]
  },
  {
   "cell_type": "code",
   "execution_count": 59,
   "metadata": {},
   "outputs": [],
   "source": [
    "# чтение дата-сета\n",
    "data = pd.read_csv('data/_train_sem09.csv')"
   ]
  },
  {
   "cell_type": "code",
   "execution_count": 60,
   "metadata": {},
   "outputs": [
    {
     "data": {
      "text/plain": [
       "(3751, 1777)"
      ]
     },
     "execution_count": 60,
     "metadata": {},
     "output_type": "execute_result"
    }
   ],
   "source": [
    "#  размер дата-сета\n",
    "data.shape"
   ]
  },
  {
   "cell_type": "code",
   "execution_count": 61,
   "metadata": {},
   "outputs": [
    {
     "name": "stdout",
     "output_type": "stream",
     "text": [
      "<class 'pandas.core.frame.DataFrame'>\n",
      "RangeIndex: 3751 entries, 0 to 3750\n",
      "Columns: 1777 entries, Activity to D1776\n",
      "dtypes: float64(942), int64(835)\n",
      "memory usage: 50.9 MB\n"
     ]
    }
   ],
   "source": [
    "data.info()"
   ]
  },
  {
   "cell_type": "code",
   "execution_count": 62,
   "metadata": {},
   "outputs": [
    {
     "data": {
      "text/html": [
       "<div>\n",
       "<style scoped>\n",
       "    .dataframe tbody tr th:only-of-type {\n",
       "        vertical-align: middle;\n",
       "    }\n",
       "\n",
       "    .dataframe tbody tr th {\n",
       "        vertical-align: top;\n",
       "    }\n",
       "\n",
       "    .dataframe thead th {\n",
       "        text-align: right;\n",
       "    }\n",
       "</style>\n",
       "<table border=\"1\" class=\"dataframe\">\n",
       "  <thead>\n",
       "    <tr style=\"text-align: right;\">\n",
       "      <th></th>\n",
       "      <th>Activity</th>\n",
       "      <th>D1</th>\n",
       "      <th>D2</th>\n",
       "      <th>D3</th>\n",
       "      <th>D4</th>\n",
       "      <th>D5</th>\n",
       "      <th>D6</th>\n",
       "      <th>D7</th>\n",
       "      <th>D8</th>\n",
       "      <th>D9</th>\n",
       "      <th>...</th>\n",
       "      <th>D1767</th>\n",
       "      <th>D1768</th>\n",
       "      <th>D1769</th>\n",
       "      <th>D1770</th>\n",
       "      <th>D1771</th>\n",
       "      <th>D1772</th>\n",
       "      <th>D1773</th>\n",
       "      <th>D1774</th>\n",
       "      <th>D1775</th>\n",
       "      <th>D1776</th>\n",
       "    </tr>\n",
       "  </thead>\n",
       "  <tbody>\n",
       "    <tr>\n",
       "      <th>0</th>\n",
       "      <td>1</td>\n",
       "      <td>0.000000</td>\n",
       "      <td>0.497009</td>\n",
       "      <td>0.10</td>\n",
       "      <td>0.0</td>\n",
       "      <td>0.132956</td>\n",
       "      <td>0.678031</td>\n",
       "      <td>0.273166</td>\n",
       "      <td>0.585445</td>\n",
       "      <td>0.743663</td>\n",
       "      <td>...</td>\n",
       "      <td>0</td>\n",
       "      <td>0</td>\n",
       "      <td>0</td>\n",
       "      <td>0</td>\n",
       "      <td>0</td>\n",
       "      <td>0</td>\n",
       "      <td>0</td>\n",
       "      <td>0</td>\n",
       "      <td>0</td>\n",
       "      <td>0</td>\n",
       "    </tr>\n",
       "    <tr>\n",
       "      <th>1</th>\n",
       "      <td>1</td>\n",
       "      <td>0.366667</td>\n",
       "      <td>0.606291</td>\n",
       "      <td>0.05</td>\n",
       "      <td>0.0</td>\n",
       "      <td>0.111209</td>\n",
       "      <td>0.803455</td>\n",
       "      <td>0.106105</td>\n",
       "      <td>0.411754</td>\n",
       "      <td>0.836582</td>\n",
       "      <td>...</td>\n",
       "      <td>1</td>\n",
       "      <td>1</td>\n",
       "      <td>1</td>\n",
       "      <td>1</td>\n",
       "      <td>0</td>\n",
       "      <td>1</td>\n",
       "      <td>0</td>\n",
       "      <td>0</td>\n",
       "      <td>1</td>\n",
       "      <td>0</td>\n",
       "    </tr>\n",
       "  </tbody>\n",
       "</table>\n",
       "<p>2 rows × 1777 columns</p>\n",
       "</div>"
      ],
      "text/plain": [
       "   Activity        D1        D2    D3   D4        D5        D6        D7  \\\n",
       "0         1  0.000000  0.497009  0.10  0.0  0.132956  0.678031  0.273166   \n",
       "1         1  0.366667  0.606291  0.05  0.0  0.111209  0.803455  0.106105   \n",
       "\n",
       "         D8        D9  ...  D1767  D1768  D1769  D1770  D1771  D1772  D1773  \\\n",
       "0  0.585445  0.743663  ...      0      0      0      0      0      0      0   \n",
       "1  0.411754  0.836582  ...      1      1      1      1      0      1      0   \n",
       "\n",
       "   D1774  D1775  D1776  \n",
       "0      0      0      0  \n",
       "1      0      1      0  \n",
       "\n",
       "[2 rows x 1777 columns]"
      ]
     },
     "execution_count": 62,
     "metadata": {},
     "output_type": "execute_result"
    }
   ],
   "source": [
    "data.head(2)"
   ]
  },
  {
   "cell_type": "code",
   "execution_count": 63,
   "metadata": {},
   "outputs": [
    {
     "name": "stdout",
     "output_type": "stream",
     "text": [
      "1    0.54\n",
      "0    0.46\n",
      "Name: Activity, dtype: float64\n",
      "Вывод: выборка относительно сбалансированная\n"
     ]
    },
    {
     "data": {
      "image/png": "[encoded data removed]",
      "text/plain": [
       "<Figure size 576x396 with 1 Axes>"
      ]
     },
     "metadata": {},
     "output_type": "display_data"
    }
   ],
   "source": [
    "# Проверка сбалансированности выборки\n",
    "sns.countplot(data=data, x='Activity'); # визуализируем бинарную классификацию\n",
    "print(round(data['Activity'].value_counts(normalize=True),2)) # выразим в процентном соотношении\n",
    "print('Вывод: выборка относительно сбалансированная')"
   ]
  },
  {
   "cell_type": "markdown",
   "metadata": {},
   "source": [
    "Разделяем выборку на тренировочную и тестовую в соотношении 80/20. Для сохранения соотношений целевого признака используем параметр stratify (стратифицированное разбиение). "
   ]
  },
  {
   "cell_type": "code",
   "execution_count": 64,
   "metadata": {},
   "outputs": [],
   "source": [
    "X = data.drop(['Activity'], axis=1)\n",
    "y = data['Activity']"
   ]
  },
  {
   "cell_type": "code",
   "execution_count": 65,
   "metadata": {},
   "outputs": [],
   "source": [
    "# разделим дата-сет на тренировочную и тестовую выборки со стратификацией\n",
    "X_train, X_test, y_train, y_test = train_test_split(X, y, stratify=y, random_state = 42, test_size = 0.2)"
   ]
  },
  {
   "cell_type": "markdown",
   "metadata": {},
   "source": [
    "#### <center> **Метод GridSearchCV**"
   ]
  },
  {
   "cell_type": "markdown",
   "metadata": {},
   "source": [
    "#### Модель логистической регрессии"
   ]
  },
  {
   "cell_type": "code",
   "execution_count": 66,
   "metadata": {},
   "outputs": [
    {
     "name": "stdout",
     "output_type": "stream",
     "text": [
      "Wall time: 1min 19s\n",
      "f1_score на тренировочном наборе: 0.82\n",
      "f1_score на тестовом наборе: 0.78\n",
      "Наилучшие значения гиперпараметров: {'C': 0.01, 'penalty': 'l2', 'solver': 'saga'}\n"
     ]
    },
    {
     "name": "stderr",
     "output_type": "stream",
     "text": [
      "c:\\Users\\dmitr\\AppData\\Local\\Programs\\Python\\Python39\\lib\\site-packages\\sklearn\\linear_model\\_sag.py:350: ConvergenceWarning: The max_iter was reached which means the coef_ did not converge\n",
      "  warnings.warn(\n"
     ]
    }
   ],
   "source": [
    "# создаем сетку параметров\n",
    "param_grid_lr1 = {'penalty': ['l2', 'none'] ,#тип регурялизации\n",
    "              'solver': ['lbfgs', 'saga'], #алгоритм оптимизации\n",
    "              'C': list(np.linspace(0.01, 1, 5, dtype=float))\n",
    "              }\n",
    "grid_search_lr1 = GridSearchCV(\n",
    "    estimator=linear_model.LogisticRegression(\n",
    "        random_state=42, #генератор случайных чисел\n",
    "        max_iter=30\n",
    "    ), \n",
    "    param_grid=param_grid_lr1, \n",
    "    cv=5, # применяем кросс-валидацию на 5 фолдах\n",
    "    n_jobs = -1\n",
    ")  \n",
    "%time grid_search_lr1.fit(X_train, y_train)\n",
    "y_train_pred_lr1 = grid_search_lr1.predict(X_train)\n",
    "y_test_pred_lr1 = grid_search_lr1.predict(X_test)\n",
    "print('f1_score на тренировочном наборе: {:.2f}'.format(metrics.f1_score(y_train, y_train_pred_lr1)))\n",
    "print('f1_score на тестовом наборе: {:.2f}'.format(metrics.f1_score(y_test, y_test_pred_lr1)))\n",
    "print(\"Наилучшие значения гиперпараметров: {}\".format(grid_search_lr1.best_params_))"
   ]
  },
  {
   "cell_type": "markdown",
   "metadata": {},
   "source": [
    "#### Модель случайный лес"
   ]
  },
  {
   "cell_type": "code",
   "execution_count": 67,
   "metadata": {},
   "outputs": [
    {
     "name": "stdout",
     "output_type": "stream",
     "text": [
      "Wall time: 1min 16s\n",
      "f1_score на тренировочном наборе: 0.97\n",
      "f1_score на тестовом наборе: 0.79\n",
      "Наилучшие значения гиперпараметров: {'criterion': 'gini', 'max_depth': 25, 'min_samples_leaf': 3}\n"
     ]
    }
   ],
   "source": [
    "# создаем сетку параметров\n",
    "# для ускорения процесса сетку делаем небольшой\n",
    "param_grid_rf1 = {'min_samples_leaf': [3, 4, 5, 7],\n",
    "                 'max_depth': [10, 15, 20, 25, 30],\n",
    "                 'criterion':['entropy','gini']\n",
    "              }\n",
    "            \n",
    "grid_rf1 = GridSearchCV(\n",
    "    estimator=ensemble.RandomForestClassifier(random_state=42, n_estimators=40), \n",
    "    param_grid=param_grid_rf1, \n",
    "    cv=5, # применяем кроссвалидацию\n",
    "    n_jobs = -1,\n",
    "    )  \n",
    "%time grid_rf1.fit(X_train, y_train) \n",
    "y_train_pred_rf1= grid_rf1.predict(X_train)\n",
    "y_test_pred_rf1 = grid_rf1.predict(X_test)\n",
    "print('f1_score на тренировочном наборе: {:.2f}'.format(metrics.f1_score(y_train, y_train_pred_rf1)))\n",
    "print('f1_score на тестовом наборе: {:.2f}'.format(metrics.f1_score(y_test, y_test_pred_rf1)))\n",
    "print(\"Наилучшие значения гиперпараметров: {}\".format(grid_rf1.best_params_))"
   ]
  },
  {
   "cell_type": "markdown",
   "metadata": {},
   "source": [
    "### <center> **RandomizedSearchCV**"
   ]
  },
  {
   "cell_type": "markdown",
   "metadata": {},
   "source": [
    "#### Модель логистической регрессии"
   ]
  },
  {
   "cell_type": "code",
   "execution_count": 68,
   "metadata": {},
   "outputs": [
    {
     "name": "stdout",
     "output_type": "stream",
     "text": [
      "Wall time: 30.5 s\n",
      "f1_score на тренировочном наборе: 0.82\n",
      "f1_score на тестовом наборе: 0.78\n",
      "Наилучшие значения гиперпараметров: {'solver': 'sag', 'penalty': 'l2', 'C': 0.01}\n"
     ]
    },
    {
     "name": "stderr",
     "output_type": "stream",
     "text": [
      "c:\\Users\\dmitr\\AppData\\Local\\Programs\\Python\\Python39\\lib\\site-packages\\sklearn\\linear_model\\_sag.py:350: ConvergenceWarning: The max_iter was reached which means the coef_ did not converge\n",
      "  warnings.warn(\n"
     ]
    }
   ],
   "source": [
    "param_distributions_lr2 = {'penalty': ['l2', 'none'] ,\n",
    "              'solver': ['lbfgs', 'sag'],\n",
    "               'C': list(np.linspace(0.01, 1, 5, dtype=float))}\n",
    "            \n",
    "random_search_lr2 = RandomizedSearchCV(\n",
    "    estimator=linear_model.LogisticRegression(random_state=42, max_iter=30), \n",
    "    param_distributions=param_distributions_lr2, \n",
    "    cv=5, # кроссвалидация\n",
    "    n_iter = 10, \n",
    "    n_jobs = -1\n",
    ")  \n",
    "%time random_search_lr2.fit(X_train, y_train)\n",
    "y_train_pred_lr2= random_search_lr2.predict(X_train) \n",
    "y_test_pred_lr2 = random_search_lr2.predict(X_test)\n",
    "print('f1_score на тренировочном наборе: {:.2f}'.format(metrics.f1_score(y_train, y_train_pred_lr2)))\n",
    "print('f1_score на тестовом наборе: {:.2f}'.format(metrics.f1_score(y_test, y_test_pred_lr2)))\n",
    "print(\"Наилучшие значения гиперпараметров: {}\".format(random_search_lr2.best_params_))"
   ]
  },
  {
   "cell_type": "markdown",
   "metadata": {},
   "source": [
    "#### Модель случайный лес"
   ]
  },
  {
   "cell_type": "code",
   "execution_count": 69,
   "metadata": {},
   "outputs": [
    {
     "name": "stdout",
     "output_type": "stream",
     "text": [
      "Wall time: 39.1 s\n",
      "f1_score на тренировочном наборе: 0.94\n",
      "f1_score на тестовом наборе: 0.80\n",
      "Наилучшие значения гиперпараметров: {'min_samples_leaf': 6, 'max_depth': 30, 'criterion': 'entropy'}\n"
     ]
    }
   ],
   "source": [
    "param_distributions_rf2 = {'min_samples_leaf': list(np.linspace(5, 100, 50, dtype=int)),\n",
    "              'max_depth': list(np.linspace(1, 30, 50, dtype=int)),\n",
    "              'criterion':['entropy','gini']\n",
    "              }\n",
    "            \n",
    "random_search_rf2 = RandomizedSearchCV(\n",
    "    estimator=ensemble.RandomForestClassifier(random_state=42, n_estimators=100), \n",
    "    param_distributions=param_distributions_rf2, \n",
    "    cv=5,\n",
    "    n_iter = 20, \n",
    "    n_jobs = -1\n",
    ")  \n",
    "%time random_search_rf2.fit(X_train, y_train) \n",
    "y_train_pred_rf2 = random_search_rf2.predict(X_train)\n",
    "y_test_pred_rf2 = random_search_rf2.predict(X_test)\n",
    "print('f1_score на тренировочном наборе: {:.2f}'.format(metrics.f1_score(y_train, y_train_pred_rf2)))\n",
    "print('f1_score на тестовом наборе: {:.2f}'.format(metrics.f1_score(y_test, y_test_pred_rf2)))\n",
    "print(\"Наилучшие значения гиперпараметров: {}\".format(random_search_rf2.best_params_))"
   ]
  },
  {
   "cell_type": "markdown",
   "metadata": {},
   "source": [
    "### <center> Hyperopt"
   ]
  },
  {
   "cell_type": "markdown",
   "metadata": {},
   "source": [
    "#### Модель логистической регрессии"
   ]
  },
  {
   "cell_type": "code",
   "execution_count": 70,
   "metadata": {},
   "outputs": [],
   "source": [
    "# зададим пространство поиска гиперпараметров\n",
    "penalties = ['l1', 'l2']\n",
    "solvers = ['liblinear', 'saga']\n",
    "\n",
    "space_lr3 = {\n",
    "                'penalty' : hp.choice('penalty', penalties),\n",
    "                'solver' : hp.choice('solver', solvers),\n",
    "                'C' : hp.uniform('C', 0.01, 1),\n",
    "                }"
   ]
  },
  {
   "cell_type": "code",
   "execution_count": 71,
   "metadata": {},
   "outputs": [],
   "source": [
    "# зафиксируем random_state\n",
    "random_state = 42\n",
    "def hyperopt_rf(params, cv=5, X=X_train, y=y_train, random_state=random_state):\n",
    "    # функция получает комбинацию гиперпараметров в \"params\"\n",
    "    params = {'penalty': (params['penalty']), \n",
    "              'solver': (params['solver']), \n",
    "             'C': float(params['C'])\n",
    "             }\n",
    "  \n",
    "    # используем эту комбинацию для построения модели\n",
    "    model = LogisticRegression(**params, random_state=random_state, max_iter=50)\n",
    "\n",
    "    # обучаем модель\n",
    "    model.fit(X, y)\n",
    "    score = metrics.f1_score(y, model.predict(X))\n",
    "    \n",
    "    # применим  cross validation с тем же количеством фолдов\n",
    "    score = cross_val_score(model, X, y, cv=cv, scoring=\"f1\", n_jobs=-1).mean()\n",
    "\n",
    "    # метрику необходимо минимизировать, поэтому ставим знак минус\n",
    "    return -score"
   ]
  },
  {
   "cell_type": "code",
   "execution_count": 72,
   "metadata": {},
   "outputs": [
    {
     "name": "stdout",
     "output_type": "stream",
     "text": [
      " 17%|█▋        | 1/6 [00:02<00:14,  2.95s/trial, best loss: -0.779494746167446]"
     ]
    },
    {
     "name": "stderr",
     "output_type": "stream",
     "text": [
      "c:\\Users\\dmitr\\AppData\\Local\\Programs\\Python\\Python39\\lib\\site-packages\\sklearn\\linear_model\\_sag.py:350: ConvergenceWarning: The max_iter was reached which means the coef_ did not converge\n",
      "  warnings.warn(\n",
      "\n"
     ]
    },
    {
     "name": "stdout",
     "output_type": "stream",
     "text": [
      " 50%|█████     | 3/6 [00:23<00:21,  7.25s/trial, best loss: -0.7841071594645037]"
     ]
    },
    {
     "name": "stderr",
     "output_type": "stream",
     "text": [
      "c:\\Users\\dmitr\\AppData\\Local\\Programs\\Python\\Python39\\lib\\site-packages\\sklearn\\linear_model\\_sag.py:350: ConvergenceWarning: The max_iter was reached which means the coef_ did not converge\n",
      "  warnings.warn(\n",
      "\n"
     ]
    },
    {
     "name": "stdout",
     "output_type": "stream",
     "text": [
      " 83%|████████▎ | 5/6 [00:41<00:07,  7.66s/trial, best loss: -0.7904516202991784]"
     ]
    },
    {
     "name": "stderr",
     "output_type": "stream",
     "text": [
      "c:\\Users\\dmitr\\AppData\\Local\\Programs\\Python\\Python39\\lib\\site-packages\\sklearn\\linear_model\\_sag.py:350: ConvergenceWarning: The max_iter was reached which means the coef_ did not converge\n",
      "  warnings.warn(\n",
      "\n"
     ]
    },
    {
     "name": "stdout",
     "output_type": "stream",
     "text": [
      "100%|██████████| 6/6 [00:56<00:00,  9.36s/trial, best loss: -0.7904516202991784]\n",
      "Наилучшие значения гиперпараметров {'C': 0.2200949458234019, 'penalty': 0, 'solver': 1}\n",
      "Wall time: 56.1 s\n"
     ]
    }
   ],
   "source": [
    "%%time\n",
    "# начинаем подбор гиперпараметров\n",
    "\n",
    "trials = Trials() # используется для логирования результатов\n",
    "\n",
    "best=fmin(hyperopt_rf, # наша функция \n",
    "          space=space_lr3, # пространство гиперпараметров\n",
    "          algo=tpe.suggest, # алгоритм оптимизации, установлен по умолчанию, задавать необязательно\n",
    "          max_evals=6, # максимальное количество итераций\n",
    "          trials=trials, # логирование результатов\n",
    "          rstate=np.random.default_rng(random_state)\n",
    "         )\n",
    "print(\"Наилучшие значения гиперпараметров {}\".format(best))"
   ]
  },
  {
   "cell_type": "code",
   "execution_count": 73,
   "metadata": {},
   "outputs": [
    {
     "name": "stdout",
     "output_type": "stream",
     "text": [
      "f1_score на обучающем наборе: 0.83\n",
      "f1_score на тестовом наборе: 0.78\n"
     ]
    },
    {
     "name": "stderr",
     "output_type": "stream",
     "text": [
      "c:\\Users\\dmitr\\AppData\\Local\\Programs\\Python\\Python39\\lib\\site-packages\\sklearn\\linear_model\\_sag.py:350: ConvergenceWarning: The max_iter was reached which means the coef_ did not converge\n",
      "  warnings.warn(\n"
     ]
    }
   ],
   "source": [
    "# рассчитаем точность для тестовой выборки\n",
    "model = LogisticRegression(\n",
    "    random_state=random_state, \n",
    "    C=float(best['C']),\n",
    "    penalty=penalties[best['penalty']],\n",
    "    solver=solvers[best['solver']]\n",
    "    \n",
    ")\n",
    "model.fit(X_train, y_train)\n",
    "\n",
    "y_train_pred_lr3 = model.predict(X_train)\n",
    "print('f1_score на обучающем наборе: {:.2f}'.format(metrics.f1_score(y_train, y_train_pred_lr3)))\n",
    "y_test_pred_lr3 = model.predict(X_test)\n",
    "print('f1_score на тестовом наборе: {:.2f}'.format(metrics.f1_score(y_test, y_test_pred_lr3)))"
   ]
  },
  {
   "cell_type": "markdown",
   "metadata": {},
   "source": [
    "#### Модель случайный лес"
   ]
  },
  {
   "cell_type": "code",
   "execution_count": 74,
   "metadata": {},
   "outputs": [],
   "source": [
    "# зададим пространство поиска гиперпараметров\n",
    "space_rf3 = {'n_estimators': hp.quniform('n_estimators', 100, 200, 1),\n",
    "       'max_depth' : hp.quniform('max_depth', 15, 26, 1),\n",
    "       'min_samples_leaf': hp.quniform('min_samples_leaf', 2, 10, 1)\n",
    "      }"
   ]
  },
  {
   "cell_type": "code",
   "execution_count": 75,
   "metadata": {},
   "outputs": [],
   "source": [
    "# зафиксируем random_state\n",
    "random_state = 42\n",
    "def hyperopt_rf(params, cv=5, X=X_train, y=y_train, random_state=random_state):\n",
    "    # функция получает комбинацию гиперпараметров в \"params\"\n",
    "    params = {'n_estimators': int(params['n_estimators']), \n",
    "              'max_depth': int(params['max_depth']), \n",
    "             'min_samples_leaf': int(params['min_samples_leaf'])\n",
    "              }\n",
    "  \n",
    "    # используем эту комбинацию для построения модели\n",
    "    model = ensemble.RandomForestClassifier(**params, random_state=random_state)\n",
    "\n",
    "    # обучаем модель\n",
    "    model.fit(X, y)\n",
    "    score = metrics.f1_score(y, model.predict(X))\n",
    "    \n",
    "        # применим  cross validation с тем же количеством фолдов\n",
    "    score = cross_val_score(model, X, y, cv=cv, scoring=\"f1\", n_jobs=-1).mean()\n",
    "\n",
    "    # метрику необходимо минимизировать, поэтому ставим знак минус\n",
    "    return -score"
   ]
  },
  {
   "cell_type": "code",
   "execution_count": 76,
   "metadata": {},
   "outputs": [
    {
     "name": "stdout",
     "output_type": "stream",
     "text": [
      "100%|██████████| 10/10 [01:27<00:00,  8.76s/trial, best loss: -0.8133136861401603]\n",
      "Наилучшие значения гиперпараметров {'max_depth': 20.0, 'min_samples_leaf': 3.0, 'n_estimators': 175.0}\n",
      "Wall time: 1min 27s\n"
     ]
    }
   ],
   "source": [
    "%%time\n",
    "# начинаем подбор гиперпараметров\n",
    "\n",
    "trials = Trials() # используется для логирования результатов\n",
    "\n",
    "best=fmin(hyperopt_rf, # наша функция \n",
    "          space=space_rf3, # пространство гиперпараметров\n",
    "          algo=tpe.suggest, # алгоритм оптимизации, установлен по умолчанию, задавать необязательно\n",
    "          max_evals=10, # максимальное количество итераций\n",
    "          trials=trials, # логирование результатов\n",
    "          rstate=np.random.default_rng(random_state)\n",
    "         )\n",
    "print(\"Наилучшие значения гиперпараметров {}\".format(best))"
   ]
  },
  {
   "cell_type": "code",
   "execution_count": 77,
   "metadata": {},
   "outputs": [
    {
     "name": "stdout",
     "output_type": "stream",
     "text": [
      "f1_score на обучающем наборе: 0.97\n",
      "f1_score на тестовом наборе: 0.81\n"
     ]
    }
   ],
   "source": [
    "# рассчитаем точность для тестовой выборки\n",
    "model = ensemble.RandomForestClassifier(\n",
    "    random_state=random_state, \n",
    "    n_estimators=int(best['n_estimators']),\n",
    "    max_depth=int(best['max_depth']),\n",
    "    min_samples_leaf=int(best['min_samples_leaf'])\n",
    ")\n",
    "model.fit(X_train, y_train)\n",
    "\n",
    "y_train_pred_rf3 = model.predict(X_train)\n",
    "print('f1_score на обучающем наборе: {:.2f}'.format(metrics.f1_score(y_train, y_train_pred_rf3)))\n",
    "y_test_pred_rf3 = model.predict(X_test)\n",
    "print('f1_score на тестовом наборе: {:.2f}'.format(metrics.f1_score(y_test, y_test_pred_rf3)))"
   ]
  },
  {
   "cell_type": "markdown",
   "metadata": {},
   "source": [
    "## <center> Optuna"
   ]
  },
  {
   "cell_type": "markdown",
   "metadata": {},
   "source": [
    "#### Модель логистической регрессии"
   ]
  },
  {
   "cell_type": "code",
   "execution_count": 78,
   "metadata": {},
   "outputs": [],
   "source": [
    "def optuna_rf(trial):\n",
    "  # задаем пространства поиска гиперпараметров\n",
    "  solver = trial.suggest_categorical('solver', ['liblinear', 'saga'])\n",
    "  penalty = trial.suggest_categorical('penalty', ['l1', 'l2'])\n",
    "  C = trial.suggest_float('C', 0.01, 1)\n",
    "  #max_iter = trial.suggest_int('max_iter', 50, 500)\n",
    "\n",
    "  # создаем модель\n",
    "  model = linear_model.LogisticRegression(solver=solver,\n",
    "                                          penalty=penalty,\n",
    "                                          C=C,\n",
    "                                          max_iter=50,\n",
    "                                          random_state=42)\n",
    "  # обучаем модель\n",
    "  model.fit(X_train, y_train)\n",
    "  \n",
    "  # используем кроссвалидацию\n",
    "  score = cross_val_score(model, X_train, y_train, cv=5, scoring=\"f1\", n_jobs=-1).mean()\n",
    "\n",
    "  return score"
   ]
  },
  {
   "cell_type": "code",
   "execution_count": 79,
   "metadata": {},
   "outputs": [
    {
     "name": "stderr",
     "output_type": "stream",
     "text": [
      "\u001b[32m[I 2025-02-06 10:15:42,951]\u001b[0m A new study created in memory with name: LogisticRegression\u001b[0m\n",
      "\u001b[32m[I 2025-02-06 10:15:49,029]\u001b[0m Trial 0 finished with value: 0.7814714345698269 and parameters: {'solver': 'liblinear', 'penalty': 'l1', 'C': 0.884507552834171}. Best is trial 0 with value: 0.7814714345698269.\u001b[0m\n",
      "\u001b[32m[I 2025-02-06 10:15:51,577]\u001b[0m Trial 1 finished with value: 0.7847336324034249 and parameters: {'solver': 'liblinear', 'penalty': 'l1', 'C': 0.7137876109960604}. Best is trial 1 with value: 0.7847336324034249.\u001b[0m\n",
      "c:\\Users\\dmitr\\AppData\\Local\\Programs\\Python\\Python39\\lib\\site-packages\\sklearn\\linear_model\\_sag.py:350: ConvergenceWarning: The max_iter was reached which means the coef_ did not converge\n",
      "  warnings.warn(\n",
      "\u001b[32m[I 2025-02-06 10:16:09,767]\u001b[0m Trial 2 finished with value: 0.7922607326469988 and parameters: {'solver': 'saga', 'penalty': 'l1', 'C': 0.2810986548580396}. Best is trial 2 with value: 0.7922607326469988.\u001b[0m\n",
      "\u001b[32m[I 2025-02-06 10:16:11,377]\u001b[0m Trial 3 finished with value: 0.7862536716404888 and parameters: {'solver': 'liblinear', 'penalty': 'l2', 'C': 0.011149263786664825}. Best is trial 2 with value: 0.7922607326469988.\u001b[0m\n",
      "c:\\Users\\dmitr\\AppData\\Local\\Programs\\Python\\Python39\\lib\\site-packages\\sklearn\\linear_model\\_sag.py:350: ConvergenceWarning: The max_iter was reached which means the coef_ did not converge\n",
      "  warnings.warn(\n",
      "\u001b[32m[I 2025-02-06 10:16:24,180]\u001b[0m Trial 4 finished with value: 0.7797957079286081 and parameters: {'solver': 'saga', 'penalty': 'l2', 'C': 0.4503907353570569}. Best is trial 2 with value: 0.7922607326469988.\u001b[0m\n"
     ]
    },
    {
     "name": "stdout",
     "output_type": "stream",
     "text": [
      "Wall time: 41.2 s\n"
     ]
    }
   ],
   "source": [
    "%%time\n",
    "# cоздаем объект исследования\n",
    "# можем напрямую указать, что нам необходимо максимизировать метрику direction=\"maximize\"\n",
    "study = optuna.create_study(study_name=\"LogisticRegression\", direction=\"maximize\")\n",
    "# ищем лучшую комбинацию гиперпараметров n_trials раз\n",
    "study.optimize(optuna_rf, n_trials=5)"
   ]
  },
  {
   "cell_type": "code",
   "execution_count": 80,
   "metadata": {},
   "outputs": [
    {
     "name": "stdout",
     "output_type": "stream",
     "text": [
      "Наилучшие значения гиперпараметров {'solver': 'saga', 'penalty': 'l1', 'C': 0.2810986548580396}\n",
      "f1_score на обучающем наборе: 0.79\n"
     ]
    }
   ],
   "source": [
    "# выводим результаты на обучающей выборке\n",
    "print(\"Наилучшие значения гиперпараметров {}\".format(study.best_params))\n",
    "print(\"f1_score на обучающем наборе: {:.2f}\".format(study.best_value))"
   ]
  },
  {
   "cell_type": "code",
   "execution_count": 81,
   "metadata": {},
   "outputs": [
    {
     "name": "stdout",
     "output_type": "stream",
     "text": [
      "f1_score на обучающем наборе: 0.83\n",
      "f1_score на тестовом наборе: 0.78\n"
     ]
    },
    {
     "name": "stderr",
     "output_type": "stream",
     "text": [
      "c:\\Users\\dmitr\\AppData\\Local\\Programs\\Python\\Python39\\lib\\site-packages\\sklearn\\linear_model\\_sag.py:350: ConvergenceWarning: The max_iter was reached which means the coef_ did not converge\n",
      "  warnings.warn(\n"
     ]
    }
   ],
   "source": [
    "# рассчитаем точность для тестовой выборки\n",
    "model = linear_model.LogisticRegression(**study.best_params, random_state=42, )\n",
    "model.fit(X_train, y_train)\n",
    "\n",
    "y_train_pred_lr4 = model.predict(X_train)\n",
    "print('f1_score на обучающем наборе: {:.2f}'.format(metrics.f1_score(y_train, y_train_pred_lr4)))\n",
    "y_test_pred_lr4 = model.predict(X_test)\n",
    "print('f1_score на тестовом наборе: {:.2f}'.format(metrics.f1_score(y_test, y_test_pred_lr4)))"
   ]
  },
  {
   "cell_type": "markdown",
   "metadata": {},
   "source": [
    "#### Модель случайный лес"
   ]
  },
  {
   "cell_type": "code",
   "execution_count": 82,
   "metadata": {},
   "outputs": [],
   "source": [
    "def optuna_rf(trial):\n",
    "  # задаем пространства поиска гиперпараметров\n",
    "  n_estimators = trial.suggest_int('n_estimators', 100, 300, 1)\n",
    "  max_depth = trial.suggest_int('max_depth', 15, 40, 1)\n",
    "  min_samples_leaf = trial.suggest_int('min_samples_leaf', 3, 7, 1)\n",
    "\n",
    "  # создаем модель\n",
    "  model = ensemble.RandomForestClassifier(n_estimators=n_estimators,\n",
    "                                          max_depth=max_depth,\n",
    "                                          min_samples_leaf=min_samples_leaf,\n",
    "                                          random_state=random_state)\n",
    "  # обучаем модель\n",
    "  model.fit(X_train, y_train)\n",
    "  \n",
    "  # используем кроссвалидацию\n",
    "  score = cross_val_score(model, X_train, y_train, cv=5, scoring=\"f1\", n_jobs=-1).mean()\n",
    "\n",
    "  return score"
   ]
  },
  {
   "cell_type": "code",
   "execution_count": 83,
   "metadata": {},
   "outputs": [
    {
     "name": "stderr",
     "output_type": "stream",
     "text": [
      "\u001b[32m[I 2025-02-06 10:16:34,420]\u001b[0m A new study created in memory with name: RandomForestClassifier\u001b[0m\n",
      "\u001b[32m[I 2025-02-06 10:16:45,451]\u001b[0m Trial 0 finished with value: 0.802832453588084 and parameters: {'n_estimators': 216, 'max_depth': 21, 'min_samples_leaf': 7}. Best is trial 0 with value: 0.802832453588084.\u001b[0m\n",
      "\u001b[32m[I 2025-02-06 10:16:54,004]\u001b[0m Trial 1 finished with value: 0.8078871682954251 and parameters: {'n_estimators': 155, 'max_depth': 26, 'min_samples_leaf': 5}. Best is trial 1 with value: 0.8078871682954251.\u001b[0m\n",
      "\u001b[32m[I 2025-02-06 10:17:02,106]\u001b[0m Trial 2 finished with value: 0.8113287414906528 and parameters: {'n_estimators': 151, 'max_depth': 35, 'min_samples_leaf': 6}. Best is trial 2 with value: 0.8113287414906528.\u001b[0m\n",
      "\u001b[32m[I 2025-02-06 10:17:18,632]\u001b[0m Trial 3 finished with value: 0.8120037765745035 and parameters: {'n_estimators': 293, 'max_depth': 24, 'min_samples_leaf': 4}. Best is trial 3 with value: 0.8120037765745035.\u001b[0m\n",
      "\u001b[32m[I 2025-02-06 10:17:33,842]\u001b[0m Trial 4 finished with value: 0.8103624987406184 and parameters: {'n_estimators': 296, 'max_depth': 15, 'min_samples_leaf': 6}. Best is trial 3 with value: 0.8120037765745035.\u001b[0m\n",
      "\u001b[32m[I 2025-02-06 10:17:49,568]\u001b[0m Trial 5 finished with value: 0.8127684190420892 and parameters: {'n_estimators': 278, 'max_depth': 37, 'min_samples_leaf': 4}. Best is trial 5 with value: 0.8127684190420892.\u001b[0m\n",
      "\u001b[32m[I 2025-02-06 10:17:57,517]\u001b[0m Trial 6 finished with value: 0.8056144823524406 and parameters: {'n_estimators': 140, 'max_depth': 38, 'min_samples_leaf': 5}. Best is trial 5 with value: 0.8127684190420892.\u001b[0m\n",
      "\u001b[32m[I 2025-02-06 10:18:08,940]\u001b[0m Trial 7 finished with value: 0.8140578392566653 and parameters: {'n_estimators': 195, 'max_depth': 29, 'min_samples_leaf': 4}. Best is trial 7 with value: 0.8140578392566653.\u001b[0m\n",
      "\u001b[32m[I 2025-02-06 10:18:19,495]\u001b[0m Trial 8 finished with value: 0.8085857901564764 and parameters: {'n_estimators': 193, 'max_depth': 35, 'min_samples_leaf': 5}. Best is trial 7 with value: 0.8140578392566653.\u001b[0m\n",
      "\u001b[32m[I 2025-02-06 10:18:29,262]\u001b[0m Trial 9 finished with value: 0.8110036594961458 and parameters: {'n_estimators': 169, 'max_depth': 39, 'min_samples_leaf': 4}. Best is trial 7 with value: 0.8140578392566653.\u001b[0m\n"
     ]
    },
    {
     "name": "stdout",
     "output_type": "stream",
     "text": [
      "Wall time: 1min 54s\n"
     ]
    }
   ],
   "source": [
    "%%time\n",
    "# cоздаем объект исследования\n",
    "# можем напрямую указать, что нам необходимо максимизировать метрику direction=\"maximize\"\n",
    "study = optuna.create_study(study_name=\"RandomForestClassifier\", direction=\"maximize\")\n",
    "# ищем лучшую комбинацию гиперпараметров n_trials раз\n",
    "study.optimize(optuna_rf, n_trials=10)"
   ]
  },
  {
   "cell_type": "code",
   "execution_count": 84,
   "metadata": {},
   "outputs": [
    {
     "name": "stdout",
     "output_type": "stream",
     "text": [
      "Наилучшие значения гиперпараметров {'n_estimators': 195, 'max_depth': 29, 'min_samples_leaf': 4}\n",
      "f1_score на обучающем наборе: 0.81\n"
     ]
    }
   ],
   "source": [
    "# выводим результаты на обучающей выборке\n",
    "print(\"Наилучшие значения гиперпараметров {}\".format(study.best_params))\n",
    "print(\"f1_score на обучающем наборе: {:.2f}\".format(study.best_value))"
   ]
  },
  {
   "cell_type": "code",
   "execution_count": 85,
   "metadata": {},
   "outputs": [
    {
     "name": "stdout",
     "output_type": "stream",
     "text": [
      "f1_score на обучающем наборе: 0.96\n",
      "f1_score на тестовом наборе: 0.80\n"
     ]
    }
   ],
   "source": [
    "# рассчитаем точность для тестовой выборки\n",
    "model = ensemble.RandomForestClassifier(**study.best_params,random_state=random_state, )\n",
    "model.fit(X_train, y_train)\n",
    "\n",
    "y_train_pred_rf4 = model.predict(X_train)\n",
    "print('f1_score на обучающем наборе: {:.2f}'.format(metrics.f1_score(y_train, y_train_pred_rf4)))\n",
    "y_test_pred_rf4 = model.predict(X_test)\n",
    "print('f1_score на тестовом наборе: {:.2f}'.format(metrics.f1_score(y_test, y_test_pred_rf4)))"
   ]
  },
  {
   "cell_type": "markdown",
   "metadata": {},
   "source": [
    "### Заключение"
   ]
  },
  {
   "cell_type": "markdown",
   "metadata": {},
   "source": [
    "В ходе работы было обучено две модели: LogisticRegression и RandomForestClassifier. Для моделей был осуществлён подбор гиперпараметров с помощью базовых и продвинутых методов оптимизации: GridSeachCV, RandomizedSearchCV, Hyperopt, Optuna. Также во всех методах возвращены наилучшие значения гиперпараметров и была использована кроссвалидация. Для оценки качества применения обучения моделей была использована метрика F1-score.\n",
    "Выборка была разделена на тренировочную и тестовую с применение стратификации и коэфф 0,2.\n",
    "Результаты значений метрики f1-score:\n",
    "<br><b>Метод GridSeachCV:</b>\n",
    "<br><b>Модель LogisticRegression:</b>\n",
    "<br>Время обучения модели: 1m. 19s\n",
    "<br>Тренировочная выборка: 0.82\n",
    "<br>Тестовая выборка: 0.78\n",
    "<br><b>Модель RandomForestClassifier:</b>\n",
    "<br>Время обучения модели: 1m. 16s\n",
    "<br>Тренировочная выборка: 0.97\n",
    "<br>Тестовая выборка: 0.79\n",
    "\n",
    "\n",
    "<br><b>Метод RandomizedSearchCV:</b>\n",
    "<br><b>Модель LogisticRegression:</b>\n",
    "<br>Тренировочная выборка: 0.82\n",
    "<br>Тестовая выборка: 0.78\n",
    "<br><b>Модель RandomForestClassifier:</b>\n",
    "<br>Время обучения модели: 30.5s\n",
    "<br>Тренировочная выборка: 0.94\n",
    "<br>Тестовая выборка: 0.80\n",
    "\n",
    "<br><b>Метод Hyperopt:</b>\n",
    "<br><b>Модель LogisticRegression:</b>\n",
    "<br>Время обучения модели: 56.1s\n",
    "<br>Тренировочная выборка: 0.83\n",
    "<br>Тестовая выборка: 0.78\n",
    "<b>Модель RandomForestClassifier:</b>\n",
    "<br>Время обучения модели: 1m. 27,6s\n",
    "<br>Тренировочная выборка: 0.97\n",
    "<br>Тестовая выборка: 0.81\n",
    "\n",
    "<br><b>Метод Optuna:</b>\n",
    "<br><b>Модель LogisticRegression:</b>\n",
    "<br>Время обучения модели: 42.1s\n",
    "<br>Тренировочная выборка: 0.83\n",
    "<br>Тестовая выборка: 0.78\n",
    "<br><b>Модель RandomForestClassifier:</b>\n",
    "<br>Время обучения модели: 1m. 54s\n",
    "<br>Тренировочная выборка: 0.96\n",
    "<br>Тестовая выборка: 0.81\n",
    "\n",
    "<br><b>Вывод:</b> все методы показали незначительную разницу в значениях метрик на тестовой выборке – от 0.78 до 0.81. Лучшая метрика достигнута на модели RandomForestClassifier методами Hyperopt и Optuna.\n",
    "На тренировочных выборках были замечены признаки переобучения модели RandomForestClassifier при применении методов Hyperopt и Optuna, метрики показали значения 0.96 и 0.97, значения метрик на тренировочной выборке заметно отличаются.\n",
    "<br>Более ровно обучалась модель LogisticRegression при применении всех методов.\n",
    "<br>Время обучения анализировать в данном обучении нецелесообразно, т.к. параметры методов подбирались таким образом, чтобы не затратить большого временного ресурса для демонстрации обучения моделей, указанными выше методами подбора гиперпараметров."
   ]
  }
 ],
 "metadata": {
  "kernelspec": {
   "display_name": "Python 3",
   "language": "python",
   "name": "python3"
  },
  "language_info": {
   "codemirror_mode": {
    "name": "ipython",
    "version": 3
   },
   "file_extension": ".py",
   "mimetype": "text/x-python",
   "name": "python",
   "nbconvert_exporter": "python",
   "pygments_lexer": "ipython3",
   "version": "3.9.7"
  }
 },
 "nbformat": 4,
 "nbformat_minor": 2
}
