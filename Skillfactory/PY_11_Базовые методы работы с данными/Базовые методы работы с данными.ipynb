{
 "cells": [
  {
   "cell_type": "markdown",
   "metadata": {},
   "source": [
    "Задание 2.3"
   ]
  },
  {
   "cell_type": "code",
   "execution_count": null,
   "metadata": {},
   "outputs": [],
   "source": [
    "import pandas as pd\n",
    "\n",
    "def delete_columns(df, col=[]):\n",
    "    \n",
    "    for i in col:\n",
    "        if i not in df:\n",
    "            return None\n",
    "    return df.drop(col, axis = 1)\n",
    "        \n",
    "    \n",
    "   \n",
    "        \n",
    "    \"\"\"\n",
    "    Напишите функцию delete_columns(df, col=[]), которая удаляет столбцы из DataFrame и возвращает новую таблицу. \n",
    "    Если одного из указанных столбцов в таблице не существует, то функция должна возвращать None.\n",
    "    \"\"\"\n",
    "\n",
    "\n",
    "if __name__ == '__main__':\n",
    "    customer_df = pd.DataFrame({\n",
    "        'number': [0, 1, 2, 3, 4],\n",
    "        'cust_id': [128, 1201, 9832, 4392, 7472],\n",
    "        'cust_age': [13, 21, 19, 21, 60],\n",
    "        'cust_sale': [0, 0, 0.2, 0.15, 0.3],\n",
    "        'cust_year_birth': [2008, 2000, 2002, 2000, 1961],\n",
    "        'cust_order': [1400, 14142, 900, 1240, 8430]\n",
    "    })\n",
    "    columns_for_delete= [] #выбранные вами столбцы\n",
    "    new_df = delete_columns(customer_df, columns_for_delete)\n",
    "    print(new_df)"
   ]
  },
  {
   "cell_type": "markdown",
   "metadata": {},
   "source": [
    "Задание 2.4"
   ]
  },
  {
   "cell_type": "code",
   "execution_count": null,
   "metadata": {},
   "outputs": [],
   "source": [
    "'''Задан DataFrame countries_df, содержащий следующие столбцы: название страны, население (population)\n",
    "в миллионах человек и площадь страны (square) в квадратных километрах.\n",
    "Рассчитайте среднюю плотность населения представленных стран (количество человек на квадратный километр).\n",
    "Ответ округлите до сотых.\n",
    "Плотность населения рассчитывается как количество человек, проживающих на территории отдельной страны,\n",
    "делённое на площадь этой страны. Обратите внимание, что население в таблице представлено в миллионах.'''\n",
    "\n",
    "import pandas as pd\n",
    "\n",
    "countries_df = pd.DataFrame({\n",
    "    'country': ['Англия', 'Канада', 'США', 'Россия', 'Украина', 'Беларусь', 'Казахстан'],\n",
    "    'population': [56.29, 38.05, 322.28, 146.24, 45.5, 9.5, 17.04],\n",
    "    'square': [133396, 9984670, 9826630, 17125191, 603628, 207600, 2724902]\n",
    "})\n",
    "#print(countries_df)\n",
    "#display(countries_df)\n",
    "den_df = countries_df.copy()\n",
    "#print(den_df)\n",
    "density = sum((den_df['population'] * 10**6) / den_df['square'])\n",
    "#print(density)\n",
    "count_index = countries_df.count()[0]\n",
    "#print(count_index)\n",
    "result = round(density / count_index, 2)\n",
    "print(result)"
   ]
  },
  {
   "cell_type": "markdown",
   "metadata": {},
   "source": [
    "Признаки даты и времени"
   ]
  },
  {
   "cell_type": "code",
   "execution_count": 2,
   "metadata": {},
   "outputs": [
    {
     "data": {
      "text/plain": [
       "0       2016-12-03\n",
       "1       2016-02-04\n",
       "2       2017-03-04\n",
       "3       2017-03-04\n",
       "4       2016-06-04\n",
       "           ...    \n",
       "13575   2017-08-26\n",
       "13576   2017-08-26\n",
       "13577   2017-08-26\n",
       "13578   2017-08-26\n",
       "13579   2017-08-26\n",
       "Name: Date, Length: 13580, dtype: datetime64[ns]"
      ]
     },
     "metadata": {},
     "output_type": "display_data"
    }
   ],
   "source": [
    "import pandas as pd\n",
    "\n",
    "melb_df = pd.read_csv('data/melb_data_ps.csv', sep=',')\n",
    "#display(melb_df['Date'])\n",
    "\n",
    "melb_df = pd.to_datetime(melb_df['Date'], dayfirst=True)\n",
    "display(melb_df)"
   ]
  },
  {
   "cell_type": "code",
   "execution_count": 4,
   "metadata": {},
   "outputs": [
    {
     "data": {
      "text/plain": [
       "0   2016-12-03\n",
       "1   2016-02-04\n",
       "2   2017-03-04\n",
       "3   2017-03-04\n",
       "4   2016-06-04\n",
       "Name: Date, dtype: datetime64[ns]"
      ]
     },
     "execution_count": 4,
     "metadata": {},
     "output_type": "execute_result"
    }
   ],
   "source": [
    "melb_df.head()"
   ]
  },
  {
   "cell_type": "code",
   "execution_count": null,
   "metadata": {},
   "outputs": [],
   "source": [
    "# импортируем Pandas и загружаем csv-файл\n",
    "import pandas as pd\n",
    "melb_df = pd.read_csv('data/melb_data_ps.csv', sep=',')\n",
    "#display(melb_df['Date'])\n",
    "\n",
    "# приводим дату к необходимому виде\n",
    "melb_df['Date'] = pd.to_datetime(melb_df['Date'], dayfirst=True)\n",
    "display(melb_df['Date'])\n",
    "\n",
    "# работаем по аксессору year\n",
    "years_sold = melb_df['Date'].dt.year\n",
    "print(years_sold)\n",
    "print('Min year sold:', years_sold.min())\n",
    "print('Max year sold:', years_sold.max())\n",
    "print('Mode year sold:', years_sold.mode()[0])"
   ]
  },
  {
   "cell_type": "code",
   "execution_count": null,
   "metadata": {},
   "outputs": [],
   "source": [
    "# импортируем Pandas и загружаем csv-файл\n",
    "import pandas as pd\n",
    "melb_df = pd.read_csv('data/melb_data_ps.csv', sep=',')\n",
    "#display(melb_df['Date'])\n",
    "\n",
    "# приводим дату к необходимому виде\n",
    "melb_df['Date'] = pd.to_datetime(melb_df['Date'], dayfirst=True)\n",
    "#display(melb_df['Date'])\n",
    "\n",
    "# Выявляем пиковые продажи по месяцам и относительную частоту продаж по месячно от общего кол-ва продаж\n",
    "melb_df['Month_Sale'] = melb_df['Date'].dt.month\n",
    "melb_df['Month_Sale'].value_counts(normalize=True)\n"
   ]
  },
  {
   "cell_type": "code",
   "execution_count": 5,
   "metadata": {},
   "outputs": [
    {
     "data": {
      "text/plain": [
       "0       2016-12-03\n",
       "1       2016-02-04\n",
       "2       2017-03-04\n",
       "3       2017-03-04\n",
       "4       2016-06-04\n",
       "           ...    \n",
       "13575   2017-08-26\n",
       "13576   2017-08-26\n",
       "13577   2017-08-26\n",
       "13578   2017-08-26\n",
       "13579   2017-08-26\n",
       "Name: Date, Length: 13580, dtype: datetime64[ns]"
      ]
     },
     "metadata": {},
     "output_type": "display_data"
    },
    {
     "data": {
      "text/plain": [
       "0       337 days\n",
       "1        34 days\n",
       "2       428 days\n",
       "3       428 days\n",
       "4       155 days\n",
       "          ...   \n",
       "13575   603 days\n",
       "13576   603 days\n",
       "13577   603 days\n",
       "13578   603 days\n",
       "13579   603 days\n",
       "Name: Date, Length: 13580, dtype: timedelta64[ns]"
      ]
     },
     "metadata": {},
     "output_type": "display_data"
    },
    {
     "data": {
      "text/plain": [
       "0        337\n",
       "1         34\n",
       "2        428\n",
       "3        428\n",
       "4        155\n",
       "        ... \n",
       "13575    603\n",
       "13576    603\n",
       "13577    603\n",
       "13578    603\n",
       "13579    603\n",
       "Name: Date, Length: 13580, dtype: int64"
      ]
     },
     "metadata": {},
     "output_type": "display_data"
    }
   ],
   "source": [
    "# импортируем Pandas и загружаем csv-файл\n",
    "import pandas as pd\n",
    "melb_df = pd.read_csv('data/melb_data_ps.csv', sep=',')\n",
    "#display(melb_df['Date'])\n",
    "\n",
    "# приводим дату к необходимому виде\n",
    "melb_df['Date'] = pd.to_datetime(melb_df['Date'], dayfirst=True)\n",
    "display(melb_df['Date'])\n",
    "\n",
    "#Вычисляем разницу от 2016-01-01 до дня продажи и результат переводим из формата timedelta в целое число\n",
    "delta_days = melb_df['Date'] - pd.to_datetime('2016-01-01')\n",
    "display(delta_days)\n",
    "\n",
    "#И перевод в целое число через аксессор dt\n",
    "display(delta_days.dt.days)"
   ]
  },
  {
   "cell_type": "code",
   "execution_count": null,
   "metadata": {},
   "outputs": [],
   "source": [
    "# импортируем Pandas и загружаем csv-файл\n",
    "import pandas as pd\n",
    "melb_df = pd.read_csv('data/melb_data_ps.csv', sep=',')\n",
    "#display(melb_df['Date'])\n",
    "\n",
    "# приводим дату к необходимому виде\n",
    "melb_df['Date'] = pd.to_datetime(melb_df['Date'], dayfirst=True)\n",
    "#display(melb_df['Date'])\n",
    "\n",
    "# создадим новый признак - возраст объекта AgeBuilding на момент продажи.\n",
    "# от столбца Date c аксессором dt.year отнимим год постройки YearBuilt\n",
    "melb_df['AgeBuilding'] = melb_df['Date'].dt.year - melb_df['YearBuilt']\n",
    "display(melb_df['AgeBuilding'])\n",
    "\n",
    "# можно удалить столбец с годом постройки т.к. он уже не информативен\n",
    "#melb_df = melb_df.drop('YearBuilt', axis=1)"
   ]
  },
  {
   "cell_type": "markdown",
   "metadata": {},
   "source": [
    "Задание 3.3"
   ]
  },
  {
   "cell_type": "code",
   "execution_count": 7,
   "metadata": {},
   "outputs": [
    {
     "name": "stdout",
     "output_type": "stream",
     "text": [
      "12822\n"
     ]
    },
    {
     "data": {
      "text/html": [
       "<div>\n",
       "<style scoped>\n",
       "    .dataframe tbody tr th:only-of-type {\n",
       "        vertical-align: middle;\n",
       "    }\n",
       "\n",
       "    .dataframe tbody tr th {\n",
       "        vertical-align: top;\n",
       "    }\n",
       "\n",
       "    .dataframe thead th {\n",
       "        text-align: right;\n",
       "    }\n",
       "</style>\n",
       "<table border=\"1\" class=\"dataframe\">\n",
       "  <thead>\n",
       "    <tr style=\"text-align: right;\">\n",
       "      <th></th>\n",
       "      <th>index</th>\n",
       "      <th>Suburb</th>\n",
       "      <th>Address</th>\n",
       "      <th>Rooms</th>\n",
       "      <th>Type</th>\n",
       "      <th>Price</th>\n",
       "      <th>Method</th>\n",
       "      <th>SellerG</th>\n",
       "      <th>Date</th>\n",
       "      <th>Distance</th>\n",
       "      <th>...</th>\n",
       "      <th>Landsize</th>\n",
       "      <th>BuildingArea</th>\n",
       "      <th>YearBuilt</th>\n",
       "      <th>CouncilArea</th>\n",
       "      <th>Lattitude</th>\n",
       "      <th>Longtitude</th>\n",
       "      <th>Regionname</th>\n",
       "      <th>Propertycount</th>\n",
       "      <th>Coordinates</th>\n",
       "      <th>WeekdaySale</th>\n",
       "    </tr>\n",
       "  </thead>\n",
       "  <tbody>\n",
       "    <tr>\n",
       "      <th>0</th>\n",
       "      <td>0</td>\n",
       "      <td>Abbotsford</td>\n",
       "      <td>85 Turner St</td>\n",
       "      <td>2</td>\n",
       "      <td>h</td>\n",
       "      <td>1480000.0</td>\n",
       "      <td>S</td>\n",
       "      <td>Biggin</td>\n",
       "      <td>2016-12-03</td>\n",
       "      <td>2.5</td>\n",
       "      <td>...</td>\n",
       "      <td>202.0</td>\n",
       "      <td>126.0</td>\n",
       "      <td>1970</td>\n",
       "      <td>Yarra</td>\n",
       "      <td>-37.7996</td>\n",
       "      <td>144.9984</td>\n",
       "      <td>Northern Metropolitan</td>\n",
       "      <td>4019</td>\n",
       "      <td>-37.7996, 144.9984</td>\n",
       "      <td>5</td>\n",
       "    </tr>\n",
       "    <tr>\n",
       "      <th>1</th>\n",
       "      <td>1</td>\n",
       "      <td>Abbotsford</td>\n",
       "      <td>25 Bloomburg St</td>\n",
       "      <td>2</td>\n",
       "      <td>h</td>\n",
       "      <td>1035000.0</td>\n",
       "      <td>S</td>\n",
       "      <td>Biggin</td>\n",
       "      <td>2016-02-04</td>\n",
       "      <td>2.5</td>\n",
       "      <td>...</td>\n",
       "      <td>156.0</td>\n",
       "      <td>79.0</td>\n",
       "      <td>1900</td>\n",
       "      <td>Yarra</td>\n",
       "      <td>-37.8079</td>\n",
       "      <td>144.9934</td>\n",
       "      <td>Northern Metropolitan</td>\n",
       "      <td>4019</td>\n",
       "      <td>-37.8079, 144.9934</td>\n",
       "      <td>3</td>\n",
       "    </tr>\n",
       "    <tr>\n",
       "      <th>2</th>\n",
       "      <td>2</td>\n",
       "      <td>Abbotsford</td>\n",
       "      <td>5 Charles St</td>\n",
       "      <td>3</td>\n",
       "      <td>h</td>\n",
       "      <td>1465000.0</td>\n",
       "      <td>SP</td>\n",
       "      <td>Biggin</td>\n",
       "      <td>2017-03-04</td>\n",
       "      <td>2.5</td>\n",
       "      <td>...</td>\n",
       "      <td>134.0</td>\n",
       "      <td>150.0</td>\n",
       "      <td>1900</td>\n",
       "      <td>Yarra</td>\n",
       "      <td>-37.8093</td>\n",
       "      <td>144.9944</td>\n",
       "      <td>Northern Metropolitan</td>\n",
       "      <td>4019</td>\n",
       "      <td>-37.8093, 144.9944</td>\n",
       "      <td>5</td>\n",
       "    </tr>\n",
       "    <tr>\n",
       "      <th>3</th>\n",
       "      <td>3</td>\n",
       "      <td>Abbotsford</td>\n",
       "      <td>40 Federation La</td>\n",
       "      <td>3</td>\n",
       "      <td>h</td>\n",
       "      <td>850000.0</td>\n",
       "      <td>PI</td>\n",
       "      <td>Biggin</td>\n",
       "      <td>2017-03-04</td>\n",
       "      <td>2.5</td>\n",
       "      <td>...</td>\n",
       "      <td>94.0</td>\n",
       "      <td>126.0</td>\n",
       "      <td>1970</td>\n",
       "      <td>Yarra</td>\n",
       "      <td>-37.7969</td>\n",
       "      <td>144.9969</td>\n",
       "      <td>Northern Metropolitan</td>\n",
       "      <td>4019</td>\n",
       "      <td>-37.7969, 144.9969</td>\n",
       "      <td>5</td>\n",
       "    </tr>\n",
       "    <tr>\n",
       "      <th>4</th>\n",
       "      <td>4</td>\n",
       "      <td>Abbotsford</td>\n",
       "      <td>55a Park St</td>\n",
       "      <td>4</td>\n",
       "      <td>h</td>\n",
       "      <td>1600000.0</td>\n",
       "      <td>VB</td>\n",
       "      <td>Nelson</td>\n",
       "      <td>2016-06-04</td>\n",
       "      <td>2.5</td>\n",
       "      <td>...</td>\n",
       "      <td>120.0</td>\n",
       "      <td>142.0</td>\n",
       "      <td>2014</td>\n",
       "      <td>Yarra</td>\n",
       "      <td>-37.8072</td>\n",
       "      <td>144.9941</td>\n",
       "      <td>Northern Metropolitan</td>\n",
       "      <td>4019</td>\n",
       "      <td>-37.8072, 144.9941</td>\n",
       "      <td>5</td>\n",
       "    </tr>\n",
       "  </tbody>\n",
       "</table>\n",
       "<p>5 rows × 24 columns</p>\n",
       "</div>"
      ],
      "text/plain": [
       "   index      Suburb           Address  Rooms Type      Price Method SellerG  \\\n",
       "0      0  Abbotsford      85 Turner St      2    h  1480000.0      S  Biggin   \n",
       "1      1  Abbotsford   25 Bloomburg St      2    h  1035000.0      S  Biggin   \n",
       "2      2  Abbotsford      5 Charles St      3    h  1465000.0     SP  Biggin   \n",
       "3      3  Abbotsford  40 Federation La      3    h   850000.0     PI  Biggin   \n",
       "4      4  Abbotsford       55a Park St      4    h  1600000.0     VB  Nelson   \n",
       "\n",
       "        Date  Distance  ...  Landsize  BuildingArea  YearBuilt  CouncilArea  \\\n",
       "0 2016-12-03       2.5  ...     202.0         126.0       1970        Yarra   \n",
       "1 2016-02-04       2.5  ...     156.0          79.0       1900        Yarra   \n",
       "2 2017-03-04       2.5  ...     134.0         150.0       1900        Yarra   \n",
       "3 2017-03-04       2.5  ...      94.0         126.0       1970        Yarra   \n",
       "4 2016-06-04       2.5  ...     120.0         142.0       2014        Yarra   \n",
       "\n",
       "   Lattitude  Longtitude             Regionname Propertycount  \\\n",
       "0   -37.7996    144.9984  Northern Metropolitan          4019   \n",
       "1   -37.8079    144.9934  Northern Metropolitan          4019   \n",
       "2   -37.8093    144.9944  Northern Metropolitan          4019   \n",
       "3   -37.7969    144.9969  Northern Metropolitan          4019   \n",
       "4   -37.8072    144.9941  Northern Metropolitan          4019   \n",
       "\n",
       "          Coordinates  WeekdaySale  \n",
       "0  -37.7996, 144.9984            5  \n",
       "1  -37.8079, 144.9934            3  \n",
       "2  -37.8093, 144.9944            5  \n",
       "3  -37.7969, 144.9969            5  \n",
       "4  -37.8072, 144.9941            5  \n",
       "\n",
       "[5 rows x 24 columns]"
      ]
     },
     "execution_count": 7,
     "metadata": {},
     "output_type": "execute_result"
    }
   ],
   "source": [
    "# импортируем Pandas и загружаем csv-файл\n",
    "import pandas as pd\n",
    "melb_df = pd.read_csv('data/melb_data_ps.csv', sep=',')\n",
    "#display(melb_df['Date'])\n",
    "\n",
    "# приводим дату к необходимому виде\n",
    "melb_df['Date'] = pd.to_datetime(melb_df['Date'], dayfirst=True)\n",
    "#display(melb_df['Date'])\n",
    "\n",
    "'''Создайте в таблице melb_df признак WeekdaySale (день недели).\n",
    "Найдите, сколько объектов недвижимости было продано в выходные (суббота и воскресенье), результат занесите в переменную weekend_count.\n",
    "В качестве ответа введите результат вывода переменной weekend_count.'''\n",
    "\n",
    "melb_df['WeekdaySale'] = melb_df['Date'].dt.dayofweek\n",
    "weekend_count = melb_df[(melb_df['WeekdaySale'] == 5) | (melb_df['WeekdaySale'] == 6)].shape[0]\n",
    "print(weekend_count)\n",
    "#display(melb_df['WeekdaySale'])\n",
    "\n",
    "melb_df.head()"
   ]
  },
  {
   "cell_type": "markdown",
   "metadata": {},
   "source": [
    "4.2 Напишите функцию get_weekend(weekday), которая принимает на вход элемент столбца WeekdaySale и возвращает 1, если день является выходным, и 0 — в противном случае, и создайте столбец Weekend в таблице melb_df с помощью неё.\n",
    "Примените эту функцию к столбцу и вычислите среднюю цену объекта недвижимости, проданного в выходные дни. Результат округлите до целых"
   ]
  },
  {
   "cell_type": "code",
   "execution_count": null,
   "metadata": {},
   "outputs": [],
   "source": [
    "def get_weekend(weekday):\n",
    "    if weekday == 6 or weekday == 5:\n",
    "        return 1\n",
    "    else:\n",
    "        return 0\n",
    "    \n",
    "melb_df['Weekend'] = melb_df['WeekdaySale'].apply(get_weekend)\n",
    "#print(round(melb_df[melb_df['Weekend'] == 1]['Price'].mean(), 2))\n",
    "        "
   ]
  },
  {
   "cell_type": "markdown",
   "metadata": {},
   "source": [
    "4.3 Преобразуйте столбец SellerG с наименованиями риелторских компаний в таблице melb_df следующим образом: оставьте в столбце только 49 самых популярных компаний, а остальные обозначьте как 'other'.\n",
    "Найдите, во сколько раз минимальная цена объектов недвижимости, проданных компанией 'Nelson', больше минимальной цены объектов, проданных компаниями, обозначенными как 'other'. Ответ округлите до десятых."
   ]
  },
  {
   "cell_type": "code",
   "execution_count": 60,
   "metadata": {},
   "outputs": [
    {
     "name": "stdout",
     "output_type": "stream",
     "text": [
      "170000.0\n",
      "131000.0\n",
      "1.3\n"
     ]
    }
   ],
   "source": [
    "#display(melb_df['SellerG'].value_counts())\n",
    "popular_co = melb_df['SellerG'].value_counts().nlargest(49).index\n",
    "#print(popular_co)\n",
    "\n",
    "melb_df['SellerG'] = melb_df['SellerG'].apply(lambda x: x if x in popular_co else 'other')\n",
    "#display(melb_df['SellerG'])\n",
    "min_Nelson = melb_df[melb_df['SellerG']=='Nelson']['Price'].min()\n",
    "print(min_Nelson)\n",
    "min_other = melb_df[melb_df['SellerG']=='other']['Price'].min()\n",
    "print(min_other)\n",
    "print(round(min_Nelson / min_other, 1))"
   ]
  },
  {
   "cell_type": "markdown",
   "metadata": {},
   "source": [
    "Задачи 3.4 и 3.5. про НЛО"
   ]
  },
  {
   "cell_type": "code",
   "execution_count": 58,
   "metadata": {},
   "outputs": [
    {
     "name": "stdout",
     "output_type": "stream",
     "text": [
      "68.72084805653711\n"
     ]
    }
   ],
   "source": [
    "# импортируем Pandas\n",
    "import pandas as pd\n",
    "\n",
    "# читаем таблицу_csv из сети\n",
    "#data_df = pd.read_csv('https://raw.githubusercontent.com/justmarkham/pandas-videos/master/data/ufo.csv', sep=',')\n",
    "#display(data_df)\n",
    "\n",
    "#создаем локальную версию файла_csv\n",
    "#data_df.to_csv('data/data_df_local.csv', index=False, sep=';')\n",
    "\n",
    "# читаем файл_csv с локального диска и создаем копию локальной версии для работы\n",
    "data_df_hw = pd.read_csv('data/data_df_local.csv', sep=';')\n",
    "#display(data_df_hw)\n",
    "data_test_hw = data_df_hw.copy()\n",
    "#display(data_test_hw)\n",
    "\n",
    "# Задача 3.4. В каком году отмечается наибольшее количество случаев наблюдения НЛО в США?\n",
    "\n",
    "# преобразуем дату к типу datatime\n",
    "data_test_hw['Time'] = pd.to_datetime(data_test_hw['Time'], dayfirst=True)\n",
    "#display(data_test_hw['Time'])\n",
    "\n",
    "# применяем аксессор year и находим моду mode\n",
    "#ufo_years = data_test_hw['Time'].dt.year\n",
    "#print('Max ufo', ufo_years.mode()[0])\n",
    "\n",
    "\n",
    "# Задача 3.5. Найдите средний интервал времени (в днях) между двумя последовательными случаями наблюдения НЛО в штате Невада (NV).\n",
    "# создадим дополнительный столбец с датой Date, выделив атрибут datetime dt.day\n",
    "# в отфильтрованных данных нужно вычислим разницу между двумя последовательными наблюдениями с помощью метода diff()\n",
    "# и посчитаем среднее количество дней между двумя наблюдениями\n",
    "# произведём фильтрацию и отберём из данных только штат Невада (NV)\n",
    "\n",
    "data_test_hw['Date'] = data_test_hw['Time'].dt.date\n",
    "print(data_test_hw[data_test_hw['State']=='NV']['Date'].diff().dt.days.mean())\n"
   ]
  },
  {
   "cell_type": "code",
   "execution_count": null,
   "metadata": {},
   "outputs": [],
   "source": [
    "import pandas as pd\n",
    "melb_df = pd.read_csv('data/melb_data.csv', sep=',')\n",
    "\n",
    "unique_list = []\n",
    "\n",
    "\n",
    "for col in melb_df.columns:\n",
    "    \n",
    "    item = (col, melb_df[col].nunique(), melb_df[col].dtype)\n",
    "    unique_list.append(item)\n",
    "    \n",
    "\n",
    "unique_counts = pd.DataFrame(\n",
    "    unique_list,\n",
    "    columns=['Column_Name', 'Num_Unique', 'Type']\n",
    ").sort_values(by='Num_Unique',  ignore_index=True)\n",
    "\n",
    "\n",
    "\n",
    "\n",
    "display(unique_counts)"
   ]
  },
  {
   "cell_type": "markdown",
   "metadata": {},
   "source": [
    "### Столбцы с кол-вом уникальных значений менее 150 переводим в тип Category\n",
    "\n",
    "1 Задаём список столбцов, которые мы не берём в рассмотрение (cols_to_exclude), а также условленный нами ранее порог уникальных значений столбца max_unique_count.\n",
    "\n",
    "2 В цикле перебираем имена столбцов, и, если число уникальных категорий меньше заданного порога и имён столбцов нет в списке cols_to_exclude, то с помощью метода astype() приводим столбец к типу данных category."
   ]
  },
  {
   "cell_type": "code",
   "execution_count": null,
   "metadata": {},
   "outputs": [],
   "source": [
    "import pandas as pd\n",
    "melb_df = pd.read_csv('data/melb_data.csv', sep=',')\n",
    "\n",
    "#display(melb_df.info())\n",
    "\n",
    "cols_to_exclude = ['Data', 'Rooms', 'Bedroom', 'Bathroom', 'Car']\n",
    "max_unique_count = 150\n",
    "\n",
    "for i in melb_df.columns:\n",
    "    if melb_df[i].nunique() < max_unique_count and i not in cols_to_exclude:\n",
    "        melb_df[i] = melb_df[i].astype('category')\n",
    "        \n",
    "#display(melb_df.info())\n",
    "\n",
    "#print(melb_df['Regionname'].cat.categories)\n",
    "\n",
    "#display(melb_df['Regionname'].cat.codes)\n",
    "display(melb_df['Type'])\n",
    "\n",
    "melb_df['Type'] = melb_df['Type'].cat.rename_categories({\n",
    "    'u': 'unit',\n",
    "    't': 'townhouse',\n",
    "    'h': 'house'\n",
    "})\n",
    "display(melb_df['Type'].loc[1000 : 1020])"
   ]
  },
  {
   "cell_type": "markdown",
   "metadata": {},
   "source": [
    "### Задание 4.4\n",
    "\n",
    "Представьте, что вы занимаетесь подготовкой данных о вакансиях с платформы hh.ru. В вашем распоряжении имеется таблица, в которой с помощью парсинга собраны резюме кандидатов. В этой таблице есть текстовый столбец «Опыт работы». Пример такого столбца представлен ниже в виде объекта Series. Структура текста в столбце фиксирована и не может измениться.\n",
    "\n",
    "Напишите функцию get_experience(arg), аргументом которой является строка столбца с опытом работы. Функция должна возвращать опыт работы в месяцах. Не забудьте привести результат к целому числу.\n",
    "\n",
    "Обратите внимание, что опыт работы может выражаться только в годах или только в месяцах. Учтите это при построении своей функции. Кроме того, учтите возможные вариации слов месяц (месяца, месяцев) и год (года, лет)."
   ]
  },
  {
   "cell_type": "code",
   "execution_count": null,
   "metadata": {},
   "outputs": [],
   "source": [
    "import pandas as pd\n",
    "\n",
    "def get_experience(arg):\n",
    "    \n",
    "    exper = arg.split()\n",
    "    MM = ['месяц', 'месяцев', 'месяца']\n",
    "    YY = ['лет', 'года', 'год']\n",
    "    months = 0\n",
    "    years = 0\n",
    "    \n",
    "    for i in range(len(exper)):\n",
    "        if exper[i] in MM:\n",
    "            months = exper[i-1]\n",
    "        if exper [i] in YY:\n",
    "            years = exper[i-1]\n",
    "            \n",
    "    return int(months) + int(years)*12\n",
    "\n",
    "if __name__ == '__main__':\n",
    "    experience_col = pd.Series([\n",
    "        'Опыт работы 8 лет 3 месяца',\n",
    "        'Опыт работы 3 года 5 месяцев',\n",
    "        'Опыт работы 1 год 9 месяцев',\n",
    "        'Опыт работы 3 месяца',\n",
    "        'Опыт работы 6 лет'\n",
    "        ])\n",
    "    experience_month = experience_col.apply(get_experience)\n",
    "    print(experience_month)"
   ]
  },
  {
   "cell_type": "markdown",
   "metadata": {},
   "source": [
    "### Задание 5.2\n",
    "При преобразовании столбцов таблицы о недвижимости к типу category мы оставили без внимания столбец Suburb (пригород). Давайте исправим это.\n",
    "1. С помощью метода info() узнайте, сколько памяти занимает таблица melb_df.\n",
    "2. Преобразуйте признак Suburb следующим образом: оставьте в столбце только 119 наиболее популярных пригородов, остальные замените на 'other'.\n",
    "3. Приведите данные в столбце Suburb к категориальному типу.\n",
    "\n",
    "В качестве ответа запишите разницу между объёмом занимаемой памяти до преобразования (который мы получили ранее в модуле) и после него в Мб. Ответ округлите до десятых."
   ]
  },
  {
   "cell_type": "code",
   "execution_count": null,
   "metadata": {},
   "outputs": [],
   "source": [
    "import pandas as pd\n",
    "melb_df = pd.read_csv('data/melb_data.csv', sep=',')\n",
    "\n",
    "#display(melb_df.info()) #2.4+ MB\n",
    "\n",
    "\n",
    "pop_sub = melb_df['Suburb'].value_counts().nlargest(119).index\n",
    "#print(pop_sub)\n",
    "\n",
    "melb_df['Suburb'] = melb_df['Suburb'].apply(lambda x: x if x in pop_sub else 'other')\n",
    "#display(melb_df['Suburb'])\n",
    "melb_df['Suburb'] = melb_df['Suburb'].astype('category')\n",
    "display(melb_df.info())\n",
    "print(round())\n",
    "#melb_df['SellerG'] = melb_df['SellerG'].apply(lambda x: x if x in popular_co else 'other')"
   ]
  }
 ],
 "metadata": {
  "interpreter": {
   "hash": "af741f369a8dd187b80e5712a22afdb8733aeb51bfa419ddcaad81e3c7951da3"
  },
  "kernelspec": {
   "display_name": "Python 3.9.7 64-bit",
   "language": "python",
   "name": "python3"
  },
  "language_info": {
   "codemirror_mode": {
    "name": "ipython",
    "version": 3
   },
   "file_extension": ".py",
   "mimetype": "text/x-python",
   "name": "python",
   "nbconvert_exporter": "python",
   "pygments_lexer": "ipython3",
   "version": "3.9.7"
  },
  "orig_nbformat": 4
 },
 "nbformat": 4,
 "nbformat_minor": 2
}
