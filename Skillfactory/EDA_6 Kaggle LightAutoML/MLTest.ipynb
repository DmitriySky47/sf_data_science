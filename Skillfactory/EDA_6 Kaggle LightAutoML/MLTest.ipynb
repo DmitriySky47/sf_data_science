{
 "cells": [
  {
   "attachments": {},
   "cell_type": "markdown",
   "metadata": {},
   "source": [
    "Блок 0.5."
   ]
  },
  {
   "attachments": {},
   "cell_type": "markdown",
   "metadata": {},
   "source": [
    "Загрузка библиотек"
   ]
  },
  {
   "cell_type": "code",
   "execution_count": null,
   "metadata": {},
   "outputs": [],
   "source": [
    "# Standard python libraries\n",
    "import os\n",
    "import time\n",
    "\n",
    "# Essential DS libraries\n",
    "import numpy as np\n",
    "import pandas as pd\n",
    "from sklearn.metrics import mean_absolute_error\n",
    "from sklearn.model_selection import train_test_split\n",
    "import torch\n",
    "import matplotlib.pyplot as plt\n",
    "import seaborn as sns\n",
    "#from pandas_profiling import ProfileReport\n",
    "\n",
    "\n",
    "# LightAutoML presets, task and report generation\n",
    "from lightautoml.automl.presets.tabular_presets import TabularAutoML\n",
    "from lightautoml.tasks import Task"
   ]
  },
  {
   "attachments": {},
   "cell_type": "markdown",
   "metadata": {},
   "source": [
    "Блок 0.5."
   ]
  },
  {
   "attachments": {},
   "cell_type": "markdown",
   "metadata": {},
   "source": [
    "0.5.1 Загрузка тернировочного сета"
   ]
  },
  {
   "cell_type": "code",
   "execution_count": 265,
   "metadata": {},
   "outputs": [],
   "source": [
    "# считываем тустовый и тренеровочный дата-сеты\n",
    "train_data = pd.read_csv('data/train_data.csv')\n",
    "test_data = pd.read_csv('data/test_data.csv')"
   ]
  },
  {
   "cell_type": "code",
   "execution_count": 270,
   "metadata": {},
   "outputs": [],
   "source": [
    "train_data['car_vin'] = np.nan"
   ]
  },
  {
   "cell_type": "code",
   "execution_count": 271,
   "metadata": {},
   "outputs": [
    {
     "data": {
      "text/html": [
       "<div>\n",
       "<style scoped>\n",
       "    .dataframe tbody tr th:only-of-type {\n",
       "        vertical-align: middle;\n",
       "    }\n",
       "\n",
       "    .dataframe tbody tr th {\n",
       "        vertical-align: top;\n",
       "    }\n",
       "\n",
       "    .dataframe thead th {\n",
       "        text-align: right;\n",
       "    }\n",
       "</style>\n",
       "<table border=\"1\" class=\"dataframe\">\n",
       "  <thead>\n",
       "    <tr style=\"text-align: right;\">\n",
       "      <th></th>\n",
       "      <th>row_ID</th>\n",
       "      <th>vehicle_manufacturer</th>\n",
       "      <th>vehicle_model</th>\n",
       "      <th>vehicle_category</th>\n",
       "      <th>current_mileage</th>\n",
       "      <th>vehicle_year</th>\n",
       "      <th>vehicle_gearbox_type</th>\n",
       "      <th>doors_cnt</th>\n",
       "      <th>wheels</th>\n",
       "      <th>vehicle_color</th>\n",
       "      <th>vehicle_interior_color</th>\n",
       "      <th>car_vin</th>\n",
       "      <th>car_leather_interior</th>\n",
       "      <th>deal_type</th>\n",
       "      <th>final_price</th>\n",
       "    </tr>\n",
       "  </thead>\n",
       "  <tbody>\n",
       "    <tr>\n",
       "      <th>0</th>\n",
       "      <td>0</td>\n",
       "      <td>TOYOTA</td>\n",
       "      <td>NaN</td>\n",
       "      <td>Sedan</td>\n",
       "      <td>133000</td>\n",
       "      <td>2014</td>\n",
       "      <td>Automatic</td>\n",
       "      <td>4/5</td>\n",
       "      <td>Right-hand drive</td>\n",
       "      <td>Silver</td>\n",
       "      <td>Black</td>\n",
       "      <td>NaN</td>\n",
       "      <td>0</td>\n",
       "      <td>For Sale</td>\n",
       "      <td>3650.0</td>\n",
       "    </tr>\n",
       "    <tr>\n",
       "      <th>1</th>\n",
       "      <td>1</td>\n",
       "      <td>MERCEDES-BENZ</td>\n",
       "      <td>NaN</td>\n",
       "      <td>Sedan</td>\n",
       "      <td>24500</td>\n",
       "      <td>2010</td>\n",
       "      <td>Manual</td>\n",
       "      <td>4/5</td>\n",
       "      <td>Left wheel</td>\n",
       "      <td>Silver</td>\n",
       "      <td>Black</td>\n",
       "      <td>NaN</td>\n",
       "      <td>0</td>\n",
       "      <td>For Sale</td>\n",
       "      <td>6800.0</td>\n",
       "    </tr>\n",
       "    <tr>\n",
       "      <th>2</th>\n",
       "      <td>2</td>\n",
       "      <td>HYUNDAI</td>\n",
       "      <td>NaN</td>\n",
       "      <td>Hatchback</td>\n",
       "      <td>31000</td>\n",
       "      <td>2016</td>\n",
       "      <td>Tiptronic</td>\n",
       "      <td>2/3</td>\n",
       "      <td>Left wheel</td>\n",
       "      <td>Silver</td>\n",
       "      <td>Black</td>\n",
       "      <td>NaN</td>\n",
       "      <td>1</td>\n",
       "      <td>For Sale</td>\n",
       "      <td>6300.0</td>\n",
       "    </tr>\n",
       "    <tr>\n",
       "      <th>3</th>\n",
       "      <td>3</td>\n",
       "      <td>HYUNDAI</td>\n",
       "      <td>NaN</td>\n",
       "      <td>Jeep</td>\n",
       "      <td>115459</td>\n",
       "      <td>2015</td>\n",
       "      <td>Automatic</td>\n",
       "      <td>4/5</td>\n",
       "      <td>Left wheel</td>\n",
       "      <td>Blue</td>\n",
       "      <td>Black</td>\n",
       "      <td>NaN</td>\n",
       "      <td>1</td>\n",
       "      <td>For Sale</td>\n",
       "      <td>14488.0</td>\n",
       "    </tr>\n",
       "    <tr>\n",
       "      <th>4</th>\n",
       "      <td>4</td>\n",
       "      <td>TOYOTA</td>\n",
       "      <td>NaN</td>\n",
       "      <td>Jeep</td>\n",
       "      <td>18950</td>\n",
       "      <td>2019</td>\n",
       "      <td>Automatic</td>\n",
       "      <td>4/5</td>\n",
       "      <td>Left wheel</td>\n",
       "      <td>Black</td>\n",
       "      <td>NaN</td>\n",
       "      <td>NaN</td>\n",
       "      <td>1</td>\n",
       "      <td>For Sale</td>\n",
       "      <td>5000.0</td>\n",
       "    </tr>\n",
       "  </tbody>\n",
       "</table>\n",
       "</div>"
      ],
      "text/plain": [
       "   row_ID vehicle_manufacturer  vehicle_model vehicle_category  \\\n",
       "0       0               TOYOTA            NaN            Sedan   \n",
       "1       1        MERCEDES-BENZ            NaN            Sedan   \n",
       "2       2              HYUNDAI            NaN        Hatchback   \n",
       "3       3              HYUNDAI            NaN             Jeep   \n",
       "4       4               TOYOTA            NaN             Jeep   \n",
       "\n",
       "   current_mileage  vehicle_year vehicle_gearbox_type doors_cnt  \\\n",
       "0           133000          2014            Automatic       4/5   \n",
       "1            24500          2010               Manual       4/5   \n",
       "2            31000          2016            Tiptronic       2/3   \n",
       "3           115459          2015            Automatic       4/5   \n",
       "4            18950          2019            Automatic       4/5   \n",
       "\n",
       "                  wheels vehicle_color vehicle_interior_color  car_vin  \\\n",
       "0    Right-hand drive          Silver                  Black       NaN   \n",
       "1           Left wheel         Silver                  Black       NaN   \n",
       "2           Left wheel         Silver                  Black       NaN   \n",
       "3           Left wheel           Blue                  Black       NaN   \n",
       "4           Left wheel          Black                     NaN      NaN   \n",
       "\n",
       "   car_leather_interior deal_type  final_price  \n",
       "0                     0  For Sale       3650.0  \n",
       "1                     0  For Sale       6800.0  \n",
       "2                     1  For Sale       6300.0  \n",
       "3                     1  For Sale      14488.0  \n",
       "4                     1  For Sale       5000.0  "
      ]
     },
     "execution_count": 271,
     "metadata": {},
     "output_type": "execute_result"
    }
   ],
   "source": [
    "train_data.head()"
   ]
  },
  {
   "cell_type": "code",
   "execution_count": null,
   "metadata": {},
   "outputs": [],
   "source": [
    "# просмотр информации о дата-сетах\n",
    "train_data.info()\n",
    "\n",
    "# видим два цифровых признака, которые необходимо посмотреть на искажения (выбросы): current_mileage и vehicle_year. Признаки проверим в обоих дата-сетах."
   ]
  },
  {
   "cell_type": "code",
   "execution_count": null,
   "metadata": {},
   "outputs": [],
   "source": [
    "# описание дата-сетов через describe\n",
    "test_data.describe()"
   ]
  },
  {
   "cell_type": "code",
   "execution_count": null,
   "metadata": {},
   "outputs": [],
   "source": [
    "train_data.describe()"
   ]
  },
  {
   "cell_type": "code",
   "execution_count": null,
   "metadata": {},
   "outputs": [],
   "source": [
    "# В признаке current_mileage имеются нулевые значения, удалим их в тренировочной выборке\n",
    "\n",
    "train_data = train_data[(train_data['current_mileage'] > 0)]"
   ]
  },
  {
   "cell_type": "code",
   "execution_count": null,
   "metadata": {},
   "outputs": [],
   "source": [
    "# проверяем сколько строк удалилось\n",
    "train_data.describe() # минус 1403 строки"
   ]
  },
  {
   "cell_type": "code",
   "execution_count": null,
   "metadata": {},
   "outputs": [],
   "source": [
    "#строим коробчатую диаграмму\n",
    "\n",
    "plt.figure(figsize=(20, 8))\n",
    "boxplot = sns.boxplot(data=train_data, x='current_mileage')\n",
    "boxplot.set_title('current_mileage')\n",
    "\n",
    "plt.show()\n",
    "\n",
    "# диаграмма показывает выбросы со значением более 2х млн км. В рамках знакомства с Kaggle не строим мажквартильный интервал по методу Тьюки.\n",
    "# удилим записи с пробегом более 500 тыс. "
   ]
  },
  {
   "cell_type": "code",
   "execution_count": null,
   "metadata": {},
   "outputs": [],
   "source": [
    "train_data = train_data[(train_data['current_mileage'] <= 500000)]"
   ]
  },
  {
   "cell_type": "code",
   "execution_count": null,
   "metadata": {},
   "outputs": [],
   "source": [
    "# проверяем сколько строк удалилось\n",
    "train_data.describe() # минус еще 414 строк"
   ]
  },
  {
   "cell_type": "code",
   "execution_count": null,
   "metadata": {},
   "outputs": [],
   "source": [
    "plt.figure(figsize=(20, 8))\n",
    "boxplot = sns.boxplot(data=train_data, x='current_mileage')\n",
    "boxplot.set_title('current_mileage')\n",
    "\n",
    "plt.show()\n",
    "\n",
    "# Диаграмма стали более информативной"
   ]
  },
  {
   "cell_type": "code",
   "execution_count": null,
   "metadata": {},
   "outputs": [],
   "source": [
    "# работаем с vehicle_year\n",
    "\n",
    "plt.figure(figsize=(20, 8))\n",
    "boxplot = sns.boxplot(data=train_data, x='vehicle_year')\n",
    "boxplot.set_title('vehicle_year')\n",
    "\n",
    "plt.show()\n",
    "\n",
    "# имеются выбросы в сторону старшинства автомобилей. Это обусловлено тем, что автомобили обновляются т.к. старый автомобиль требует больше бюджета для ремонта.\n",
    "# также автомобили страше 50 лет считаются ретро-авто \"антиквариат\" и расчет цены идет по иным правилам."
   ]
  },
  {
   "cell_type": "code",
   "execution_count": null,
   "metadata": {},
   "outputs": [],
   "source": [
    "#удалим строки, где возраст автомобиля старше 50 лет, т.е. выпуск машины произошел до 1970 года\n",
    "train_data = train_data[(train_data['vehicle_year'] >= 1970)] # минус 27 строк"
   ]
  },
  {
   "cell_type": "code",
   "execution_count": null,
   "metadata": {},
   "outputs": [],
   "source": [
    "# повторное построение диаграммы\n",
    "plt.figure(figsize=(20, 8))\n",
    "boxplot = sns.boxplot(data=train_data, x='vehicle_year')\n",
    "boxplot.set_title('vehicle_year')\n",
    "plt.show()\n",
    "\n",
    "# структура бокса сохранилась"
   ]
  },
  {
   "attachments": {},
   "cell_type": "markdown",
   "metadata": {},
   "source": [
    "0.5.2 Работаем с пропусками"
   ]
  },
  {
   "cell_type": "code",
   "execution_count": null,
   "metadata": {},
   "outputs": [],
   "source": [
    "#Выявление процента пропусков по столбцам\n",
    "cols_null_percent = train_data.isnull().mean() * 100\n",
    "cols_with_null = cols_null_percent[cols_null_percent>0].sort_values(ascending=False)\n",
    "display(cols_with_null)\n",
    "\n",
    "#через тепловую карту\n",
    "colors = ['blue', 'yellow'] \n",
    "fig = plt.figure(figsize=(20, 10))\n",
    "cols = cols_with_null.index\n",
    "ax = sns.heatmap(\n",
    "    train_data[cols].isnull(),\n",
    "    cmap=sns.color_palette(colors),\n",
    ")\n",
    "\n",
    "# Тепловая карта показала, что в четырех признаках имеются пропуски: car_vin, vehicle_interior_color, doors_cnt, vehicle_color."
   ]
  },
  {
   "cell_type": "code",
   "execution_count": null,
   "metadata": {},
   "outputs": [],
   "source": [
    "# vin содержит в себе закодированные сведения об автомобиле, для расшифровки его необходимо специально создавать алгоритм,\n",
    "# пробуем удалить этот признак, т.к. в нём имеется много пропусков, также из-за уникальности значений признак неинформативен.\n",
    "train_data.drop('car_vin', axis=1, inplace=True)\n",
    "\n",
    "# также признак удалим и в тренирововсном сете\n",
    "test_data.drop('car_vin', axis=1, inplace=True)"
   ]
  },
  {
   "cell_type": "code",
   "execution_count": null,
   "metadata": {},
   "outputs": [],
   "source": [
    "# проверка: признаки car_vin\n",
    "train_data.info()"
   ]
  },
  {
   "cell_type": "code",
   "execution_count": null,
   "metadata": {},
   "outputs": [],
   "source": [
    "test_data.info()"
   ]
  },
  {
   "attachments": {},
   "cell_type": "markdown",
   "metadata": {},
   "source": [
    "Признак doors_cnt представлен в виде дроби и имеет тип object. Т.к. не могу прогнозировать как признак будет преобразован, то отдадим модели уже преобразованный признак.\n",
    "В признаке указано количество дверей для пассажиров / количество дверей для пассажиров+дверь(крышка)багажника. У водителей можно встретить выражение: \"Пятидверный седан\", будем отталкиваться от этого и оставим количество дверей для пассажиров+дверь(крышка)багажника"
   ]
  },
  {
   "cell_type": "code",
   "execution_count": null,
   "metadata": {},
   "outputs": [],
   "source": [
    "# оставляем последний символ строки\n",
    "train_data['doors_cnt'] = train_data['doors_cnt'] = train_data.doors_cnt.str[-1]\n",
    "train_data.head()"
   ]
  },
  {
   "cell_type": "code",
   "execution_count": null,
   "metadata": {},
   "outputs": [],
   "source": [
    "# Также преобразуем и тестовый сет\n",
    "\n",
    "test_data['doors_cnt'] = test_data['doors_cnt'] = test_data.doors_cnt.str[-1]\n",
    "test_data.head()"
   ]
  },
  {
   "cell_type": "code",
   "execution_count": null,
   "metadata": {},
   "outputs": [],
   "source": [
    "#пропуски в признаке doors_cnt заполним модой\n",
    "mode_doors = train_data['doors_cnt'].mode() # mode = 5\n",
    "train_data['doors_cnt'].fillna('mode_doors', inplace=True)\n",
    "train_data.info()"
   ]
  },
  {
   "cell_type": "code",
   "execution_count": null,
   "metadata": {},
   "outputs": [],
   "source": [
    "#пропуски в признаке doors_cnt заполним модой и в тестовой выборке\n",
    "mode_doors = test_data['doors_cnt'].mode() # mode = 5\n",
    "test_data['doors_cnt'].fillna('mode_doors', inplace=True)\n",
    "test_data.info()"
   ]
  },
  {
   "attachments": {},
   "cell_type": "markdown",
   "metadata": {},
   "source": [
    "Также заполним модой нулевые значения в остальных признаках в тестовой и тренировочной выборках"
   ]
  },
  {
   "cell_type": "code",
   "execution_count": null,
   "metadata": {},
   "outputs": [],
   "source": [
    "#пропуски в остальных признаках в выборках заполним модой\n",
    "def fill_mode(df):\n",
    "    \"\"\"Функция DataFrame, где пропущенные значения заполнены модой соответствующего признака\n",
    "\n",
    "    Args:\n",
    "        df (DataFrame): таблицы csv содержащие данные для тренировки модели и предсказания цены на автомобили\n",
    "    \"\"\"\n",
    "    mode_color = df['vehicle_color'].mode() # mode = Black\n",
    "    df['vehicle_color'].fillna('mode_color', inplace=True)\n",
    "\n",
    "    #пропуски в признаке vehicle_interior_color заполним модой\n",
    "    mode_int_color = df['vehicle_interior_color'].mode() # mode = Black\n",
    "    df['vehicle_interior_color'].fillna('mode_int_color', inplace=True)\n",
    "\n",
    "    #пропуски в признаке vehicle_model заполним модой\n",
    "    mode_model = df['vehicle_model'].mode() # mode = Black\n",
    "    df['vehicle_model'].fillna('mode_model', inplace=True)\n",
    "\n",
    "    #пропуски в признаке vehicle_manufacturer заполним модой\n",
    "    mode_manufacture = df['vehicle_manufacturer'].mode() # mode = Black\n",
    "    df['vehicle_manufacturer'].fillna('mode_manufacture', inplace=True)\n",
    "\n",
    "    #пропуски в признаке vehicle_category заполним модой\n",
    "    mode_category = df['vehicle_category'].mode() # mode = Black\n",
    "    df['vehicle_category'].fillna('mode_category', inplace=True)\n",
    "\n",
    "    #пропуски в признаке vehicle_gearbox_type заполним модой\n",
    "    mode_gear = df['vehicle_gearbox_type'].mode() # mode = Black\n",
    "    df['vehicle_gearbox_type'].fillna('mode_gear', inplace=True)\n",
    "\n",
    "    #пропуски в признаке wheels заполним модой\n",
    "    mode_weels = df['wheels'].mode() # mode = Black\n",
    "    df['wheels'].fillna('mode_weels', inplace=True)\n",
    "    return df\n",
    "    \n",
    "   \n",
    "train_data = fill_mode(train_data)\n",
    "test_data = fill_mode(test_data)"
   ]
  },
  {
   "cell_type": "code",
   "execution_count": null,
   "metadata": {},
   "outputs": [],
   "source": [
    "train_data.info()"
   ]
  },
  {
   "cell_type": "code",
   "execution_count": null,
   "metadata": {},
   "outputs": [],
   "source": [
    "test_data.info()"
   ]
  },
  {
   "cell_type": "code",
   "execution_count": null,
   "metadata": {},
   "outputs": [],
   "source": [
    "def correlation(df):\n",
    "    \"\"\"функция визуализирует тепловые карты корреляции по методам : Спирмена, Пирсена и Кендалла\n",
    "\n",
    "    Args:\n",
    "        df (DataFrame): таблица csv содержащая данные для предсказания цены на автомобили\n",
    "    \"\"\"\n",
    "       \n",
    "    plt.figure(figsize=(30, 8))\n",
    "    plt.subplot(1, 3, 1)\n",
    "    sns.heatmap(df.corr(method='spearman'), annot=True, linewidths=.5, cmap='CMRmap')\n",
    "    plt.title ('Корреляция Spearman')\n",
    "\n",
    "    plt.subplot(1, 3, 2)\n",
    "    sns.heatmap(df.corr(method=('pearson')), annot=True, linewidths=.5, cmap='Blues')\n",
    "    plt.title ('Корреляция Pearson')\n",
    "\n",
    "    plt.subplot(1, 3, 3)\n",
    "    sns.heatmap(df.corr(method=('kendall')), annot=True, linewidths=.5, cmap='CMRmap')\n",
    "    plt.title ('Корреляция Kendall')\n",
    "    \n",
    "cor = correlation(train_data)"
   ]
  },
  {
   "attachments": {},
   "cell_type": "markdown",
   "metadata": {},
   "source": [
    "Из представленных тепловых карт видно, что корреляция признаков слабая. Из трех графов, первый -  корреляция Спирмена наиболее информативна. Почти все признаки слабо коррелируют между собой за исключением пар - car_leather_interior и current_mileage (возможно в определенные года выпускались только кожанные салоны), а также current_mileage и vehicle_year (это ожидаемо т.к. чем старше автомобиль, тем больше его пробег)<br>\n",
    "Цена на автомобиль слабо, но явно коррелирует с годом выпуска и пробегом автомобиля, что естественно."
   ]
  },
  {
   "cell_type": "code",
   "execution_count": null,
   "metadata": {},
   "outputs": [],
   "source": [
    "# поиск дубликатов\n",
    "def find_dupl(df):\n",
    "    \"\"\"Функция возвращает количество добликатов строк\n",
    "\n",
    "    Args:\n",
    "        df (DataFrame): таблица csv содержащая данные для предсказания цены на автомобили\n",
    "    \"\"\"\n",
    "    #создаем список наименование колонок и удаляем индекс\n",
    "    df_cols = list(df.columns)\n",
    "    #diabetes_cols.remove('id')\n",
    "\n",
    "    # создаем маску дубликатов и выводим количество повторяющихся строк\n",
    "    mask=df.duplicated(subset=df_cols)\n",
    "    df_dupl=df[mask]\n",
    "    display(f'Число повторяющихся строк: {df_dupl.shape[0]}')\n",
    "    \n",
    "    \n",
    "dupl = find_dupl(train_data)    "
   ]
  },
  {
   "attachments": {},
   "cell_type": "markdown",
   "metadata": {},
   "source": [
    "Функция показывает, что в датасете не имеется дубликатов строк. \n",
    "Но при удалении row_ID дубликаты появятся. Как скажется на модели удаление этого признака будет проверено опытным путем."
   ]
  },
  {
   "attachments": {},
   "cell_type": "markdown",
   "metadata": {},
   "source": [
    "Проверяем признаки на неинформативность"
   ]
  },
  {
   "cell_type": "code",
   "execution_count": null,
   "metadata": {},
   "outputs": [],
   "source": [
    "# выявим неинформатиные признаки в тренировочной выборке\n",
    "\n",
    "def low_informative_feature(data):\n",
    "    \"\"\"Функция возвращает список неинформативных признаков\n",
    "\n",
    "    Args:\n",
    "        train_data (DataFrame): таблица csv содержащая данные для предсказания цены на автомобили\n",
    "    \"\"\"\n",
    "    low_information_cols = []\n",
    "    for col in data.columns:\n",
    "        top_freq = data[col].value_counts(normalize=True).max()\n",
    "        nunique_ratio = data[col].nunique() / data[col].count()\n",
    "        if top_freq > 0.95:\n",
    "            low_information_cols.append(col)\n",
    "        if nunique_ratio > 0.95:\n",
    "            low_information_cols.append(col)\n",
    "    return low_information_cols\n",
    "low_information_cols = low_informative_feature(train_data)\n",
    "display(low_information_cols)"
   ]
  },
  {
   "attachments": {},
   "cell_type": "markdown",
   "metadata": {},
   "source": [
    "Пока пропустим признак row_ID, опытным путем выявим его вклад в обучение модели далее"
   ]
  },
  {
   "cell_type": "code",
   "execution_count": null,
   "metadata": {},
   "outputs": [],
   "source": [
    "# просматриваем неинформативный признак на варинаты значений - их всего два\n",
    "train_data['deal_type'].value_counts()"
   ]
  },
  {
   "cell_type": "code",
   "execution_count": null,
   "metadata": {},
   "outputs": [],
   "source": [
    "# проверяем на нулевые значения\n",
    "train_data['deal_type'].isnull().sum()"
   ]
  },
  {
   "cell_type": "code",
   "execution_count": null,
   "metadata": {},
   "outputs": [],
   "source": [
    "# После проверки допускаем, что признак неинформативен и удаляем его из обеих выборок\n",
    "train_data.drop('deal_type', axis=1, inplace=True)\n",
    "test_data.drop('deal_type', axis=1, inplace=True)"
   ]
  },
  {
   "cell_type": "code",
   "execution_count": null,
   "metadata": {},
   "outputs": [],
   "source": [
    "test_data.info()"
   ]
  },
  {
   "attachments": {},
   "cell_type": "markdown",
   "metadata": {},
   "source": [
    "Заключение:\n",
    "Выявлены неинформативные признаки, показана корреляция признаков, преобразован признак, заполнены нулевые значения, удален неинформативный признак.<br>\n",
    "Не применялись методы выявления выбросов, проверка на нормальность распределения признаков. Данные допущения позволены т.к. это превое знакомство с Kaggle и цель понять как работать в данном ресурсе."
   ]
  }
 ],
 "metadata": {
  "kernelspec": {
   "display_name": "Python 3",
   "language": "python",
   "name": "python3"
  },
  "language_info": {
   "codemirror_mode": {
    "name": "ipython",
    "version": 3
   },
   "file_extension": ".py",
   "mimetype": "text/x-python",
   "name": "python",
   "nbconvert_exporter": "python",
   "pygments_lexer": "ipython3",
   "version": "3.9.7"
  },
  "orig_nbformat": 4,
  "vscode": {
   "interpreter": {
    "hash": "45a595cf5c94e2781375fdf6a45161a83e0998aa8e430991abe7be8276c0a0c4"
   }
  }
 },
 "nbformat": 4,
 "nbformat_minor": 2
}
