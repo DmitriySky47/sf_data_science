{
 "cells": [
  {
   "cell_type": "markdown",
   "metadata": {},
   "source": [
    "# Создание признаков"
   ]
  },
  {
   "cell_type": "markdown",
   "metadata": {},
   "source": [
    "## Проектирование признаков"
   ]
  },
  {
   "cell_type": "code",
   "execution_count": null,
   "metadata": {},
   "outputs": [],
   "source": [
    "import pandas as pd\n",
    "df = pd.read_csv('data/wine_cleared.csv') # Загрузка данных из файла в переменную, создание объекта DataFrame\n",
    "#df.info()"
   ]
  },
  {
   "cell_type": "code",
   "execution_count": null,
   "metadata": {},
   "outputs": [],
   "source": [
    "df['price'][129968]"
   ]
  },
  {
   "cell_type": "markdown",
   "metadata": {},
   "source": [
    "Разбор числовых величин"
   ]
  },
  {
   "cell_type": "code",
   "execution_count": null,
   "metadata": {},
   "outputs": [],
   "source": [
    "df['price_round'] = df['price'].round().astype(int) # создание нового признака с ценой округленной до целого (int)\n",
    "#df.info()\n",
    "#df.head()"
   ]
  },
  {
   "cell_type": "markdown",
   "metadata": {},
   "source": [
    "Разбор текста. Регулярные выражения."
   ]
  },
  {
   "cell_type": "code",
   "execution_count": null,
   "metadata": {},
   "outputs": [],
   "source": [
    "regex = '\\d{4}' # класс символов - числа от 0 до 9\n",
    "df['year'] = df['title'].str.findall(regex).str.get(0) # извлечение \"года производства\" из описания и запись в отдельный признак\n",
    "df.info()\n",
    "#df.head()"
   ]
  },
  {
   "cell_type": "markdown",
   "metadata": {},
   "source": [
    "Разбор категорий. Кодирование признаков."
   ]
  },
  {
   "cell_type": "code",
   "execution_count": null,
   "metadata": {},
   "outputs": [],
   "source": [
    "# создаем новый признак, если страна производитель US, то ставится единица, если другая, ставится ноль\n",
    "df['is_usa'] = df['country'].apply(lambda x: 1 if x == 'US' else 0)\n",
    "#df.info()\n",
    "#df.head()"
   ]
  },
  {
   "cell_type": "markdown",
   "metadata": {},
   "source": [
    "Задание 2.1\n",
    "<br>\n",
    "Выберите из списка две самых популярных (помимо США) страны, производящих вино."
   ]
  },
  {
   "cell_type": "code",
   "execution_count": null,
   "metadata": {},
   "outputs": [],
   "source": [
    "df_count = df['country'].value_counts()\n",
    "display(df_count)"
   ]
  },
  {
   "cell_type": "markdown",
   "metadata": {},
   "source": [
    "Задание 2.2\n",
    "<br>Создайте бинарные признаки is_france, is_italy наподобие признака is_usa.\n",
    "<br>В ответ впишите результат выполнения кода data['is_france'].sum():\n",
    "<br>В ответ впишите результат выполнения кода data['is_italy'].sum():"
   ]
  },
  {
   "cell_type": "code",
   "execution_count": null,
   "metadata": {},
   "outputs": [],
   "source": [
    "# создаем новый признак, если страна производитель France, то ставится единица, если другая, ставится ноль\n",
    "df['is_france'] = df['country'].apply(lambda x: 1 if x=='France' else 0).astype(int)\n",
    "df_fr_sum = df['is_france'].sum() # сумма по столбцу is_france\n",
    "\n",
    "# создаем новый признак, если страна производитель Italy, то ставится единица, если другая, ставится ноль\n",
    "df['is_italy'] = df['country'].apply(lambda x: 1 if x=='Italy' else 0).astype(int)\n",
    "df_it_sum = df['is_italy'].sum() # сумма по столбцу is_italy\n",
    "\n",
    "display(f'Франция {df_fr_sum}, Италия {df_it_sum}')"
   ]
  },
  {
   "cell_type": "markdown",
   "metadata": {},
   "source": [
    "Задание 2.3\n",
    "<br>\n",
    "Создайте новый бинарный признак old_wine, где значение 1 будет обозначать, что вино старше 2010 года.\n",
    "<br>В ответ впишите результат выполнения кода data['old_wine'].sum():"
   ]
  },
  {
   "cell_type": "code",
   "execution_count": null,
   "metadata": {},
   "outputs": [],
   "source": [
    "# преобразуем признак год из объекта в дату\n",
    "df['year'] = pd.to_datetime(df['year'], errors='coerce')\n",
    "\n",
    "# создаем новый бинарный признак \"old_wine\", где вина старше 2010 года будут обозначены единицей\n",
    "df['old_wine'] = df['year'].apply(lambda x: 1 if x.year < 2010 else 0)\n",
    "df['old_wine'].sum()"
   ]
  },
  {
   "cell_type": "markdown",
   "metadata": {},
   "source": [
    "Задание 2.7 (Самопроверка)\n",
    "<br>Создайте новый признак locality из признака title, который будет обозначать название долины/местности производства вина.\n",
    "<br>\n",
    "Например, в названии вина Rainstorm 2013 Pinot Gris (Willamette Valley) locality будет Willamette Valley.<br> В названии Tandem 2011 Ars In Vitro Tempranillo-Merlot (Navarra) — Navarra."
   ]
  },
  {
   "cell_type": "code",
   "execution_count": null,
   "metadata": {},
   "outputs": [],
   "source": [
    "\n",
    "regex = '\\(([^)]+)\\)' # регулярные выражения - поиск слов в круглых скобках\n",
    "df['locality'] = df['title'].str.findall(regex).str.get(0) # извлечение \"наименования местности\" из описания и запись в отдельный признак\n",
    "#df.info()\n",
    "df.head()"
   ]
  },
  {
   "cell_type": "markdown",
   "metadata": {},
   "source": [
    "### Проектирование признаков. Внешние источники данных"
   ]
  },
  {
   "cell_type": "code",
   "execution_count": null,
   "metadata": {},
   "outputs": [],
   "source": [
    "# Импорт Pandas\n",
    "import pandas as pd\n",
    "\n",
    "# Загружаем дополнительную таблицу country_population\n",
    "country_population = pd.read_csv('data\\country_population.csv', sep=';')\n",
    "#country_population.info()\n",
    "country_population.head(25)"
   ]
  },
  {
   "attachments": {},
   "cell_type": "markdown",
   "metadata": {},
   "source": [
    "Задание 3.1\n",
    "<br>\n",
    "Каково население Италии согласно дата-сету country_population?"
   ]
  },
  {
   "cell_type": "code",
   "execution_count": null,
   "metadata": {},
   "outputs": [],
   "source": [
    "country_population.loc[country_population['country']=='Italy']\n",
    "#country_population.iloc[24, 1]\n",
    "#df_heart.iloc[300]['trestbps_mean']"
   ]
  },
  {
   "cell_type": "markdown",
   "metadata": {},
   "source": [
    "Объединяем таблицы df и country_population по country"
   ]
  },
  {
   "cell_type": "code",
   "execution_count": null,
   "metadata": {},
   "outputs": [],
   "source": [
    "df = df.join(country_population.set_index('country'), on=('country'))\n",
    "#df.head(2)"
   ]
  },
  {
   "cell_type": "markdown",
   "metadata": {},
   "source": [
    "Добавляем датасет со значением площадей стран"
   ]
  },
  {
   "cell_type": "code",
   "execution_count": null,
   "metadata": {},
   "outputs": [],
   "source": [
    "# Загружаем дополнительную таблицу country_area\n",
    "country_area = pd.read_csv('data\\country_area.csv', sep=';')\n",
    "country_area.info()\n",
    "#country_area.head()"
   ]
  },
  {
   "cell_type": "markdown",
   "metadata": {},
   "source": [
    "Задание 3.2\n",
    "<br>Создайте новый признак area_country — площадь страны, аналогичный признаку country_population.\n",
    "<br>Какая площадь страны у вина под названием 'Gård 2014 Grand Klasse Reserve Lawrence Vineyards Viognier (Columbia Valley (WA))'?"
   ]
  },
  {
   "cell_type": "code",
   "execution_count": null,
   "metadata": {},
   "outputs": [],
   "source": [
    "df = df.join(country_area.set_index('country'), on=('country'))\n",
    "df.info()"
   ]
  },
  {
   "cell_type": "code",
   "execution_count": null,
   "metadata": {},
   "outputs": [],
   "source": [
    "mask = df.loc[df['title']=='Gård 2014 Grand Klasse Reserve Lawrence Vineyards Viognier (Columbia Valley (WA))']\n",
    "mask['area']"
   ]
  },
  {
   "cell_type": "markdown",
   "metadata": {},
   "source": [
    "### Создание признаков. Работа с форматом «дата-время»"
   ]
  },
  {
   "cell_type": "code",
   "execution_count": null,
   "metadata": {},
   "outputs": [],
   "source": [
    "# Создаём тестовый датасет\n",
    "import pandas as pd \n",
    "\n",
    "# инициализируем информацию о звонках\n",
    "calls_list = [\n",
    "    [460, '2013-12-17 04:55:39', '2013-12-17 04:55:44', '2013-12-17 04:55:45'],\n",
    "    [12, '2013-12-16 20:03:20', '2013-12-16 20:03:22', '2013-12-16 20:07:13'],\n",
    "    [56, '2013-12-16 20:03:20', '2013-12-16 20:03:20', '2013-12-16 20:05:04'],\n",
    "    [980, '2013-12-16 20:03:20','2013-12-16 20:03:27', '2013-12-16 20:03:29'],\n",
    "    [396, '2013-12-16 20:08:27', '2013-12-16 20:08:28','2013-12-16 20:12:03'],\n",
    "    [449, '2013-12-16 20:03:20', '2013-12-16 20:03:25','2013-12-16 20:05:00'],\n",
    "    [397, '2013-12-16 20:08:25', '2013-12-16 20:08:27', '2013-12-16 20:09:59'],\n",
    "    [398, '2013-12-16 20:01:23', '2013-12-16 20:01:23', '2013-12-16 20:04:58'],\n",
    "    [452, '2013-12-16 20:03:20', '2013-12-16 20:03:21','2013-12-16 20:04:55'],\n",
    "    [440, '2013-12-16 20:03:20', '2013-12-16 20:04:26', '2013-12-16 20:04:32']\n",
    "]\n",
    "\n",
    "calls = pd.DataFrame(calls_list, columns=['client_id', 'agent_date', 'created_at', 'end_date'])\n",
    "\n",
    "# преобразовываем признаки в формат datetime для удобной работы\n",
    "calls['agent_date'] = pd.to_datetime(calls['agent_date'])\n",
    "calls['created_at'] = pd.to_datetime(calls['created_at'])\n",
    "calls['end_date'] = pd.to_datetime(calls['end_date'])\n",
    "\n",
    "# Мы можем посчитать, сколько примерно длилось время разговора клиента и сотрудника компании — длительность разговора. \n",
    "# Подсчитаем разницу между датой и временем начала разговора с клиентом и датой и временем окончания звонка через аксессор dt.seconds\n",
    "calls['duration_sec'] = (calls['end_date'] - calls['created_at']).dt.seconds\n",
    "calls"
   ]
  },
  {
   "cell_type": "markdown",
   "metadata": {},
   "source": [
    "Задание 4.1\n",
    "<br>\n",
    "Подсчитайте, сколько секунд тратят сотрудники компании на дозвон клиенту. Результат запишите в новый признак time_connection.\n",
    "<br>\n",
    "В ответ запишите результат выполнения следующего кода: <i>calls['time_connection'].sum()</i>"
   ]
  },
  {
   "cell_type": "code",
   "execution_count": null,
   "metadata": {},
   "outputs": [],
   "source": [
    "# Создаем новый признак 'time_connection'\n",
    "calls['time_connection'] = (calls['created_at'] - calls['agent_date']).dt.seconds\n",
    "calls['time_connection'].sum()"
   ]
  },
  {
   "cell_type": "code",
   "execution_count": null,
   "metadata": {},
   "outputs": [],
   "source": [
    "calls"
   ]
  },
  {
   "cell_type": "markdown",
   "metadata": {},
   "source": [
    "Задание 4.2\n",
    "<br>\n",
    "Создайте новый признак is_connection — факт соединения с клиентом.<br>Признак будет равен 1 в случае, если разговор состоялся и продлился больше 10 секунд, иначе — 0.\n",
    "<br>\n",
    "В ответ запишите результат выполнения следующего кода: <i>calls['is_connection'].sum()</i>"
   ]
  },
  {
   "cell_type": "code",
   "execution_count": null,
   "metadata": {},
   "outputs": [],
   "source": [
    "calls['is_connection'] = calls['duration_sec'].apply(lambda x: 1 if x > 10 else 0)\n",
    "calls['is_connection'].sum()"
   ]
  },
  {
   "cell_type": "code",
   "execution_count": null,
   "metadata": {},
   "outputs": [],
   "source": [
    "calls"
   ]
  },
  {
   "cell_type": "markdown",
   "metadata": {},
   "source": [
    "Задание 4.3\n",
    "<br>\n",
    "Создайте признак time_diff — разницу в секундах между началом звонка(не разговора) и его окончанием.\n",
    "<br>\n",
    "В ответ запишите результат выполнения следующего кода: <i>calls['time_diff'].sum()</i>"
   ]
  },
  {
   "cell_type": "code",
   "execution_count": null,
   "metadata": {},
   "outputs": [],
   "source": [
    "calls['time_diff'] = (calls['end_date'] - calls['agent_date']).dt.seconds\n",
    "calls\n",
    "calls['time_diff'].sum()"
   ]
  },
  {
   "cell_type": "markdown",
   "metadata": {},
   "source": [
    "Итак, мы получили четыре новых признака для нашего набора данных: <b><i>duration, time_connection, is_connection, time_diff</i></b>. После генерации признаков из дат исходные признаки <b>agent_date, created_at, end_date</b> нам больше не нужны — передать на вход модели мы им не сможем, так как большинство моделей машинного обучения умеют работать только с числами, даты и текст ей недоступны, поэтому удалим их:"
   ]
  },
  {
   "cell_type": "code",
   "execution_count": null,
   "metadata": {},
   "outputs": [],
   "source": [
    "calls = calls.drop(columns=['agent_date', 'created_at', 'end_date'], axis=1)\n",
    "calls"
   ]
  },
  {
   "cell_type": "markdown",
   "metadata": {},
   "source": [
    "Задание 4.5\n",
    "<br>\n",
    "Создайте признак количество дней с момента произведения вина — years_diff для датасета винных обзоров. За дату отсчёта возьмите 12 января 2022 года.<br>В ответ впишите максимальное количество дней с момента произведения вина. Ответ округлите до целого числа."
   ]
  },
  {
   "cell_type": "code",
   "execution_count": null,
   "metadata": {},
   "outputs": [],
   "source": [
    "df['years_diff'] = (pd.to_datetime('2022-01-12') - df['year']).dt.days\n",
    "df['years_diff'].max()"
   ]
  },
  {
   "cell_type": "markdown",
   "metadata": {},
   "source": [
    "### Кодирование признаков. Методы"
   ]
  },
  {
   "cell_type": "markdown",
   "metadata": {},
   "source": [
    "ПОРЯДКОВОЕ КОДИРОВАНИЕ. ORDINAL ENCODING"
   ]
  },
  {
   "cell_type": "code",
   "execution_count": null,
   "metadata": {},
   "outputs": [],
   "source": [
    "import pandas as pd\n",
    "# инициализируем информацию об одежде\n",
    "clothing_list = [\n",
    "    ['xxs', 'dress'],\n",
    "    ['xxs', 'skirt'],\n",
    "    ['xs', 'dress'],\n",
    "    ['s', 'skirt'],\n",
    "    ['m', 'dress'],\n",
    "    ['l', 'shirt'],\n",
    "    ['s', 'coat'],\n",
    "    ['m', 'coat'],\n",
    "    ['xxl', 'shirt'],\n",
    "    ['l', 'dress']\n",
    "]\n",
    "\n",
    "clothing = pd.DataFrame(clothing_list, columns = ['size',  'type'])\n",
    "clothing"
   ]
  },
  {
   "cell_type": "code",
   "execution_count": null,
   "metadata": {},
   "outputs": [],
   "source": [
    "# импорт необходимой библиотеки\n",
    "import category_encoders as ce\n",
    "\n",
    "# вызываем класс для порядкового кодирования\n",
    "ord_encoder = ce.OrdinalEncoder()\n",
    "\n",
    "# вызываем метод для установки соответствия кодирования (размер - вещь) и преобразования данных fit_transform\n",
    "data_bin = ord_encoder.fit_transform(clothing[['size', 'type']])\n",
    "\n",
    "# вызываем метод из Pandas - concat для добавления закодированных признаков в датафрейм\n",
    "clothing = pd.concat([clothing, data_bin], axis=1)\n",
    "clothing\n"
   ]
  },
  {
   "cell_type": "markdown",
   "metadata": {},
   "source": [
    "Задание 5.3 (Самопроверка)\n",
    "<br>\n",
    "Используйте ранее изученные методы кодирования и закодируйте признак year в датасете винных обзоров порядковым кодированием."
   ]
  },
  {
   "cell_type": "code",
   "execution_count": null,
   "metadata": {},
   "outputs": [],
   "source": [
    "# импорт необходимой библиотеки\n",
    "import category_encoders as ce\n",
    "\n",
    "# вызываем класс для порядкового кодирования\n",
    "ord_encoder = ce.OrdinalEncoder(cols=['year'])\n",
    "\n",
    "# вызываем метод для установки соответствия кодирования (year) и преобразования данных fit_transform\n",
    "data_bin = ord_encoder.fit_transform(df[['year']])\n",
    "\n",
    "# чтобы в датасете не было двух столбцов с одинаковым именем присваиваем другое имя 'year_encoder'\n",
    "data_bin.rename(columns={'year': 'year_encoder'}, inplace=True)\n",
    "\n",
    "# вызываем метод из Pandas - concat для добавления закодированных признаков в датафрейм\n",
    "df_1 = pd.concat([df, data_bin], axis=1)\n",
    "df_1.info()"
   ]
  },
  {
   "cell_type": "code",
   "execution_count": null,
   "metadata": {},
   "outputs": [],
   "source": [
    "type(data_bin)"
   ]
  },
  {
   "cell_type": "code",
   "execution_count": null,
   "metadata": {},
   "outputs": [],
   "source": [
    "df_1.columns.values[-1]='XX'"
   ]
  },
  {
   "cell_type": "code",
   "execution_count": null,
   "metadata": {},
   "outputs": [],
   "source": [
    "df_1['XX'].unique()"
   ]
  },
  {
   "cell_type": "markdown",
   "metadata": {},
   "source": [
    "### ОДНОКРАТНОЕ КОДИРОВАНИЕ. ONE-HOT ENCODING"
   ]
  },
  {
   "cell_type": "code",
   "execution_count": null,
   "metadata": {},
   "outputs": [],
   "source": [
    "import pandas as pd\n",
    "# инициализируем информацию об одежде\n",
    "clothing_list = [\n",
    "    ['xxs', 'dress'],\n",
    "    ['xxs', 'skirt'],\n",
    "    ['xs', 'dress'],\n",
    "    ['s', 'skirt'],\n",
    "    ['m', 'dress'],\n",
    "    ['l', 'shirt'],\n",
    "    ['s', 'coat'],\n",
    "    ['m', 'coat'],\n",
    "    ['xxl', 'shirt'],\n",
    "    ['l', 'dress']\n",
    "]\n",
    "\n",
    "clothing = pd.DataFrame(clothing_list, columns = ['size',  'type'])\n",
    "clothing"
   ]
  },
  {
   "cell_type": "code",
   "execution_count": null,
   "metadata": {},
   "outputs": [],
   "source": [
    "import category_encoders as ce # импорт для работы с кодировщиком\n",
    "\n",
    "encoder = ce.OneHotEncoder(cols=['type']) # указываем столбец для кодирования\n",
    "type_bin = encoder.fit_transform(clothing['type'])\n",
    "clothing = pd.concat([clothing, type_bin], axis=1)\n",
    "\n",
    "clothing"
   ]
  },
  {
   "cell_type": "code",
   "execution_count": null,
   "metadata": {},
   "outputs": [],
   "source": [
    "clothing_dummies = pd.get_dummies(clothing, columns=['type'])\n",
    "clothing_dummies"
   ]
  },
  {
   "cell_type": "markdown",
   "metadata": {},
   "source": [
    "Задание 5.4\n",
    "<br>\n",
    "В нашем наборе данных винных обзоров признак, обозначающий имя сомелье (taster_name), является номинальным. Закодируйте его, используя One-Hot Encoding.\n",
    "<br>В ответе напишите, сколько признаков добавилось после применения кодирования."
   ]
  },
  {
   "cell_type": "code",
   "execution_count": null,
   "metadata": {},
   "outputs": [],
   "source": [
    "df_one = pd.get_dummies(df, columns=['taster_name'])\n",
    "df_one.info()"
   ]
  },
  {
   "cell_type": "code",
   "execution_count": null,
   "metadata": {},
   "outputs": [],
   "source": [
    "import category_encoders as ce\n",
    "\n",
    "encoder = ce.OneHotEncoder(cols=['taster_name'])\n",
    "type_bin = encoder.fit_transform(df['taster_name'])\n",
    "data = pd.concat([df, type_bin], axis=1)\n",
    "\n",
    "data.info()"
   ]
  },
  {
   "cell_type": "markdown",
   "metadata": {},
   "source": [
    "### ДВОИЧНОЕ КОДИРОВАНИЕ Binary Encoder"
   ]
  },
  {
   "cell_type": "code",
   "execution_count": null,
   "metadata": {},
   "outputs": [],
   "source": [
    "import pandas as pd\n",
    "# инициализируем информацию об одежде\n",
    "clothing_list = [\n",
    "    ['xxs', 'dress'],\n",
    "    ['xxs', 'skirt'],\n",
    "    ['xs', 'dress'],\n",
    "    ['s', 'skirt'],\n",
    "    ['m', 'dress'],\n",
    "    ['l', 'shirt'],\n",
    "    ['s', 'coat'],\n",
    "    ['m', 'coat'],\n",
    "    ['xxl', 'shirt'],\n",
    "    ['l', 'dress']\n",
    "]\n",
    "\n",
    "clothing = pd.DataFrame(clothing_list, columns = ['size',  'type'])\n",
    "clothing"
   ]
  },
  {
   "cell_type": "code",
   "execution_count": null,
   "metadata": {},
   "outputs": [],
   "source": [
    "# импорт необходимой библиотеки\n",
    "import category_encoders as ce\n",
    "\n",
    "# вызываем класс для порядкового кодирования\n",
    "bin_encoder = ce.BinaryEncoder(cols=['type'])\n",
    "\n",
    "# вызываем метод для установки соответствия кодирования (тип - вещь) и преобразования данных fit_transform\n",
    "type_bin = bin_encoder.fit_transform(clothing['type'])\n",
    "\n",
    "# вызываем метод из Pandas - concat для добавления закодированных признаков в датафрейм\n",
    "clothing = pd.concat([clothing, type_bin], axis=1)\n",
    "clothing\n"
   ]
  },
  {
   "cell_type": "markdown",
   "metadata": {},
   "source": [
    "Задание 5.5\n",
    "<br>\n",
    "Закодируйте признак country двоичным способом.\n",
    "<br>Сколько новых признаков образовалось после кодирования признака country?"
   ]
  },
  {
   "cell_type": "code",
   "execution_count": null,
   "metadata": {},
   "outputs": [],
   "source": [
    "import pandas as pd\n",
    "import category_encoders as ce\n",
    "\n",
    "bin_encoder = ce.BinaryEncoder(cols=['country'])\n",
    "country_bin = bin_encoder.fit_transform(df['country'])\n",
    "df_bin = pd.concat([df, country_bin], axis=1)\n",
    "\n",
    "df_bin.info()"
   ]
  },
  {
   "cell_type": "markdown",
   "metadata": {},
   "source": [
    "Задание 5.8\n",
    "<br>На основе изученного материала определите подходящий способ кодирования признака taster_twitter_handle из датасета винных обзоров и закодируйте его.\n",
    "<br>В ответе напишите, сколько признаков добавилось после применения кодирования."
   ]
  },
  {
   "cell_type": "code",
   "execution_count": null,
   "metadata": {},
   "outputs": [],
   "source": [
    "df['taster_twitter_handle'].nunique()"
   ]
  },
  {
   "cell_type": "code",
   "execution_count": null,
   "metadata": {},
   "outputs": [],
   "source": [
    "#df['taster_twitter_handle'].unique()\n",
    "# Более 15 уникальных значений - используем бинарное кодирование\n",
    "# импорт необходимой библиотеки\n",
    "import category_encoders as ce\n",
    "\n",
    "# вызываем класс для порядкового кодирования\n",
    "df_bin_encoder = ce.BinaryEncoder(cols=['taster_twitter_handle'])\n",
    "\n",
    "# вызываем метод для установки соответствия кодирования и преобразования данных fit_transform\n",
    "df_type_bin = df_bin_encoder.fit_transform(df['taster_twitter_handle'])\n",
    "\n",
    "# вызываем метод из Pandas - concat для добавления закодированных признаков в датафрейм\n",
    "df_bin_enc = pd.concat([df, df_type_bin], axis=1)\n",
    "df_bin_enc.info()"
   ]
  },
  {
   "cell_type": "markdown",
   "metadata": {},
   "source": [
    "Задание 5.9 (Самопроверка)\n",
    "<br>Используйте следующий датафрейм для задания:"
   ]
  },
  {
   "cell_type": "code",
   "execution_count": null,
   "metadata": {},
   "outputs": [],
   "source": [
    "df.info()"
   ]
  },
  {
   "cell_type": "code",
   "execution_count": null,
   "metadata": {},
   "outputs": [],
   "source": [
    "list_of_dicts = [\n",
    " {'product': 'Product1', 'price': 1200, 'payment_type': 'Mastercard'},\n",
    " {'product': 'Product2', 'price': 3600, 'payment_type': 'Visa'},\n",
    " {'product': 'Product3', 'price': 7500, 'payment_type': 'Amex'}\n",
    "]\n",
    "df_59 = pd.DataFrame(list_of_dicts)\n",
    "df_59"
   ]
  },
  {
   "cell_type": "code",
   "execution_count": null,
   "metadata": {},
   "outputs": [],
   "source": [
    "# Однократное кодирование\n",
    "import category_encoders as ce # импорт для работы с кодировщиком\n",
    "\n",
    "encoder_59 = ce.OneHotEncoder(['product', 'payment_type']) # указываем столбец для кодирования\n",
    "type_one_59 = encoder_59.fit_transform(df_59[['product', 'payment_type']])\n",
    "df_59 = pd.concat([df_59, type_one_59], axis=1)\n",
    "\n",
    "df_59"
   ]
  },
  {
   "cell_type": "code",
   "execution_count": null,
   "metadata": {},
   "outputs": [],
   "source": [
    "df_59"
   ]
  },
  {
   "cell_type": "code",
   "execution_count": null,
   "metadata": {},
   "outputs": [],
   "source": [
    "df.info()"
   ]
  },
  {
   "cell_type": "markdown",
   "metadata": {},
   "source": [
    "Задание 7.4 (Самопроверка)\n",
    "<br>\n",
    "Проведите корреляционный анализ всего набора данных и отберите только необходимые признаки для предсказания рейтинга вина.\n",
    "<br>\n",
    "❗️ Удалять признак рейтинг — points нельзя!\n",
    "<br>\n",
    "❗️ Для простоты вычислений можете использовать только корреляцию Пирсона."
   ]
  },
  {
   "cell_type": "code",
   "execution_count": null,
   "metadata": {},
   "outputs": [],
   "source": [
    "import pandas as pd\n",
    "import seaborn as sns\n",
    "import matplotlib.pyplot as plt\n",
    "\n",
    "#df_wine = pd.read_csv('data/wine_cleared.csv') # Загрузка данных из файла в переменную, создание объекта DataFrame\n",
    "fig, ax = plt.subplots(figsize=(15,10))\n",
    "sns.heatmap(df.corr(), annot=True, linewidths=.5, ax=ax)\n",
    "\n"
   ]
  },
  {
   "cell_type": "code",
   "execution_count": null,
   "metadata": {},
   "outputs": [],
   "source": [
    "# Удалим самые сильно скоррелированные пары\n",
    "df_drop = df.drop(['is_usa', 'is_france', 'is_italy', 'price_round', 'area'], axis=1)\n",
    "\n",
    "# Проверяем, что сильно скоррелированных признаков не осталось\n",
    "fig, ax = plt.subplots(figsize=(15,10))\n",
    "sns.heatmap(df_drop.corr(), annot=True, linewidths=.5, ax=ax)"
   ]
  },
  {
   "cell_type": "markdown",
   "metadata": {},
   "source": [
    "## Проверка знаний"
   ]
  },
  {
   "cell_type": "code",
   "execution_count": null,
   "metadata": {},
   "outputs": [],
   "source": [
    "import pandas as pd\n",
    "\n",
    "df_heart = pd.read_csv('data/heart.csv', sep=',')\n",
    "df_heart.head()"
   ]
  },
  {
   "cell_type": "markdown",
   "metadata": {},
   "source": [
    "Задание 8.1\n",
    "<br>\n",
    "Создайте новый признак old, где 1 — при возрасте пациента более 60 лет.\n",
    "<br>\n",
    "В ответ введите результат выполнения кода heart['old'].sum()."
   ]
  },
  {
   "cell_type": "code",
   "execution_count": null,
   "metadata": {},
   "outputs": [],
   "source": [
    "df_heart['old'] = df_heart['age'].apply(lambda x: 1 if x > 60 else 0)\n",
    "\n",
    "df_heart['old'].sum()"
   ]
  },
  {
   "cell_type": "markdown",
   "metadata": {},
   "source": [
    "Задание 8.2\n",
    "<br>\n",
    "Создайте новый признак trestbps_mean, который будет обозначать норму давления в среднем для его возраста и пола. <br>trestbps — систолическое артериальное давление в состоянии покоя."
   ]
  },
  {
   "cell_type": "code",
   "execution_count": null,
   "metadata": {},
   "outputs": [],
   "source": [
    "def get_trestbps_mean(sex, age):\n",
    "    pressure = [\n",
    "        [116, 120, 127, 137, 144, 159],\n",
    "        [123, 126, 129, 135, 142, 142]\n",
    "    ]\n",
    "\n",
    "    if age < 21:\n",
    "        return pressure[int(sex)][0]\n",
    "    elif age >= 61:\n",
    "        return pressure[int(sex)][5]\n",
    "    else:\n",
    "        return pressure[int(sex)][int((age - 1) // 10 - 1)]\n",
    "\n",
    "\n",
    "df_heart['trestbps_mean'] = df_heart.apply(lambda row: get_trestbps_mean(row['sex'], row['age']), axis=1)\n",
    "#df_heart\n",
    "df_heart['trestbps_mean'].iloc[300]"
   ]
  },
  {
   "cell_type": "code",
   "execution_count": null,
   "metadata": {},
   "outputs": [],
   "source": [
    "df_heart.head(10)"
   ]
  },
  {
   "cell_type": "code",
   "execution_count": null,
   "metadata": {},
   "outputs": [],
   "source": [
    "df_heart.info()"
   ]
  },
  {
   "cell_type": "code",
   "execution_count": null,
   "metadata": {},
   "outputs": [],
   "source": [
    "df_heart['exang'].nunique()"
   ]
  },
  {
   "cell_type": "code",
   "execution_count": null,
   "metadata": {},
   "outputs": [],
   "source": [
    "df_heart.iloc[300]['trestbps_mean']"
   ]
  },
  {
   "cell_type": "markdown",
   "metadata": {},
   "source": [
    "Задание 8.5\n",
    "<br>\n",
    "Раскодируйте вышеперечисленные признаки методом OneHotEncoding без удаления исходных признаков.\n",
    "<br> Сколько получилось признаков?"
   ]
  },
  {
   "cell_type": "code",
   "execution_count": null,
   "metadata": {},
   "outputs": [],
   "source": [
    "import category_encoders as ce # импорт для работы с кодировщиком\n",
    "\n",
    "encoder_heart = ce.OneHotEncoder(cols=['cp', 'restecg', 'slope', 'ca', 'thal']) # указываем столбец для кодирования\n",
    "type_bin_heart = encoder_heart.fit_transform(df_heart[['cp', 'restecg', 'slope', 'ca', 'thal']])\n",
    "df_heart = pd.concat([df_heart, type_bin_heart], axis=1)"
   ]
  },
  {
   "cell_type": "code",
   "execution_count": null,
   "metadata": {},
   "outputs": [],
   "source": [
    "df_heart.info()"
   ]
  },
  {
   "cell_type": "markdown",
   "metadata": {},
   "source": [
    "Задание 8.6\n",
    "<br>\n",
    "Нормализуйте все числовые признаки подходящим способом.\n",
    "<br>\n",
    "В ответе напишите стандартное отклонение признака chol. Ответ округлите до шести знаков после запятой."
   ]
  },
  {
   "cell_type": "code",
   "execution_count": null,
   "metadata": {},
   "outputs": [],
   "source": [
    "#Подключение библиотек\n",
    "import pandas as pd\n",
    "\n",
    "# для нормализации, стандартизации\n",
    "from sklearn import preprocessing\n",
    "\n",
    "# инициализируем нормализатор RobustScaler\n",
    "r_scaler = preprocessing.RobustScaler()\n",
    "\n",
    "# Копируем названия столбцов, которые теряются при использовании fit_transform()\n",
    "col_names = list(df_heart.columns)\n",
    "\n",
    "# копируем исходный датасет\n",
    "df_heart_r = r_scaler.fit_transform(df_heart)\n",
    "\n",
    "# Преобразуем промежуточный датасет в полноценный датафрейм для визуализации\n",
    "df_heart_r = pd.DataFrame(df_heart_r, columns=col_names)"
   ]
  },
  {
   "cell_type": "code",
   "execution_count": null,
   "metadata": {},
   "outputs": [],
   "source": [
    "round(df_heart_r['chol'].describe(), 6)"
   ]
  },
  {
   "cell_type": "markdown",
   "metadata": {},
   "source": [
    "Задание 8.7\n",
    "<br>\n",
    "Проведите корреляционный анализ и отберите признаки для будущей модели. Выберите пары сильно скоррелированных признаков."
   ]
  },
  {
   "cell_type": "code",
   "execution_count": null,
   "metadata": {},
   "outputs": [],
   "source": [
    "import pandas as pd\n",
    "import numpy as np\n",
    "import seaborn as sns\n",
    "import matplotlib.pyplot as plt\n",
    "\n",
    "# Возвращаем верхний треугольник матрицы и далее будем его маскировать\n",
    "upp_mat = np.triu(df_heart.corr())\n",
    "\n",
    "fig, ax = plt.subplots(figsize=(30,10))\n",
    "sns.heatmap(df_heart.corr(), vmin = -1, vmax = +1, annot=True, cmap = 'coolwarm', linewidths=2, mask = upp_mat, ax=ax)\n",
    "\n",
    "#sns.heatmap(df.corr(), vmin = -1, vmax = +1, annot = True, cmap = 'coolwarm', mask = upp_mat)"
   ]
  }
 ],
 "metadata": {
  "interpreter": {
   "hash": "45a595cf5c94e2781375fdf6a45161a83e0998aa8e430991abe7be8276c0a0c4"
  },
  "kernelspec": {
   "display_name": "Python 3.9.7 64-bit",
   "language": "python",
   "name": "python3"
  },
  "language_info": {
   "codemirror_mode": {
    "name": "ipython",
    "version": 3
   },
   "file_extension": ".py",
   "mimetype": "text/x-python",
   "name": "python",
   "nbconvert_exporter": "python",
   "pygments_lexer": "ipython3",
   "version": "3.9.7"
  },
  "orig_nbformat": 4
 },
 "nbformat": 4,
 "nbformat_minor": 2
}
